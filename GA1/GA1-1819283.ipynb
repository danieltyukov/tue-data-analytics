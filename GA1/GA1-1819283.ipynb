{
 "cells": [
  {
   "cell_type": "markdown",
   "metadata": {},
   "source": [
    "# Graded Assignment 1 - Air Quality and Weather in the Netherlands"
   ]
  },
  {
   "cell_type": "markdown",
   "metadata": {},
   "source": [
    "\n",
    "# Introduction to This Template Notebook\n",
    "\n",
    "* This is a **personal** notebook.\n",
    "* Make sure you work in a **copy** of `...-template.ipynb`,\n",
    "**renamed** to `...-yourIDnr.ipynb`,\n",
    "where `yourIDnr` is your TU/e identification number.\n",
    "\n",
    "<div class=\"alert alert-danger\" role=\"danger\">\n",
    "<h3>Integrity</h3>\n",
    "<ul>\n",
    "    <li>In this course you must act according to the rules of the TU/e code of scientific conduct.</li>\n",
    "    <li>All the exercises and the graded assignments are to be executed individually and independently.</li>\n",
    "    <li>You must not copy from the Internet, your friends, books... If you represent other people's work as your own, then that constitutes fraud and will be reported to the Examination Committee.</li>\n",
    "    <li>Making your work available to others (complicity) also constitutes fraud.</li>\n",
    "</ul>\n",
    "</div>\n",
    "\n",
    "You are expected to work with Python code in this notebook.\n",
    "\n",
    "The locations where you should write your solutions can be recognized by\n",
    "**marker lines**,\n",
    "which look like this:\n",
    "\n",
    ">`#//`\n",
    ">    `BEGIN_TODO [Label]` `Description` `(n points)`\n",
    ">\n",
    ">`#//`\n",
    ">    `END_TODO [Label]`\n",
    "\n",
    "<div class=\"alert alert-warning\" role=\"alert\">Do NOT modify or delete these marker lines.  Keep them as they are.<br/>\n",
    "NEVER write code <i>outside</i> the marked blocks.\n",
    "Such code cannot be evaluated.\n",
    "</div>\n",
    "\n",
    "Proceed in this notebook as follows:\n",
    "* **Read** the text.\n",
    "* **Fill in** your solutions between `BEGIN_TODO` and `END_TODO` marker lines.\n",
    "* **Run** _all_ code cells (also the ones _without_ your code),\n",
    "    _in linear order_ from the first code cell.\n",
    "\n",
    "**Personalize your notebook**:\n",
    "1. Copy the following three lines of code:\n",
    "\n",
    "  ```python\n",
    "  AUTHOR_NAME = 'Your Full Name'\n",
    "  AUTHOR_ID_NR = '1234567'\n",
    "  AUTHOR_DATE = 'YYYY-MM-DD'\n",
    "  ```\n",
    "1. Paste them between the marker lines in the next code cell.\n",
    "1. Fill in your _full name_, _identification number_, and the current _date_ (i.e. when you first modified this notebook, e.g. '2022-02-06') as strings between the `Author` markers.\n",
    "1. Run the code cell by putting the cursor there and typing **Control-Enter**.\n"
   ]
  },
  {
   "cell_type": "markdown",
   "metadata": {},
   "source": [
    "<div class=\"alert-danger alert\" role=\"alert\">\n",
    "    <b>Important:</b> The use of external libraries, packages, or modules that have not been explicitly imported in the <a href=#Preparation>Preparation</a> part of this assignment is <b>forbidden</b>, except for the development of the bonus point task (cf. <a href=#Task-7.-Bonus:-Visualize-wind-impact-on-compound-concentrations>Task 7. Bonus: Visualize wind impact on compound concentrations</a>) <b>and</b> in the final poster task (cf. <a href=#Step-5.-Create-Your-Poster>Step 5. Create Your Poster</a>).\n",
    "</div>"
   ]
  },
  {
   "cell_type": "code",
   "execution_count": null,
   "metadata": {},
   "outputs": [],
   "source": [
    "#// BEGIN_TODO [Author]\n",
    "\n",
    "AUTHOR_NAME = 'Daniel Tyukov'\n",
    "AUTHOR_ID_NR = '1819283'\n",
    "AUTHOR_DATE = '2023-03-08'\n",
    "\n",
    "#// END_TODO [Author]"
   ]
  },
  {
   "cell_type": "markdown",
   "metadata": {},
   "source": [
    "---\n",
    "\n",
    "## Table of Contents\n",
    "\n",
    "- [Organizational Matters](#Organizational-Matters)\n",
    "- [Introduction](#Introduction)\n",
    "    - [Origin of the Data](#Origin-of-the-Data)\n",
    "    - [Problem Statement](#Problem-Statement)\n",
    "    - [Development of a Hypothesis](#Development-of-a-Hypothesis)\n",
    "    - [Personalization of the Assignment](#Personalization-of-the-Assignment)\n",
    "- [Dataset](#Dataset)\n",
    "    - [Air Compounds](#Air-Compounds)\n",
    "    - [The `df_data` Data Frame](#The-df_data-Data-Frame)\n",
    "- [Preparation](#Preparation)\n",
    "    - [Load the Libraries](#Load-the-Libraries)\n",
    "    - [Load the Data](#Load-the-Data)\n",
    "- [Part 1](#Part-1)\n",
    "    - [Step 1. Weather Factor and Measurement Periods](#Step-1.-Weather-Factor-and-Measurement-Periods)\n",
    "    - [Step 2. Exploration of Air Compounds and Weather Factors](#Step-2.-Exploration-of-Air-Compounds-and-Weather-Factors)\n",
    "- [Part 2](#Part-2)\n",
    "    - [Step 3. Predict the Air Quality](#Step-3.-Predict-the-Air-Quality)\n",
    "- [Part 3](#Part-3)\n",
    "    - [Step 4. Concluding Hypothesis](#Step-4.-Concluding-Hypothesis)\n",
    "    - [Step 5. Create Your Poster](#Step-5.-Create-Your-Poster)\n",
    "- [References](#References)"
   ]
  },
  {
   "cell_type": "markdown",
   "metadata": {},
   "source": [
    "---\n",
    "\n",
    "## Organizational Matters\n",
    "\n",
    "Welcome to the first graded assignment of the course Data Analytics\n",
    "for Engineers (2IAB0)! This assignment consists of three parts:\n",
    "\n",
    "- **Part 1.** The first part aims at *exploring the data* and coming up with an idea about which relationships to investigate. It consists of exploratory data analysis with visualizations, providing insights into the weather and air quality data and their relationship.\n",
    "\n",
    "- **Part 2.** In the second part of the assignment, you have a bit more freedom. In this part, you will investigate more closely the relationship between weather factors and the concentrations of air compounds. In particular, you will make *predictions* about the air quality based on weather data.\n",
    "\n",
    "- **Part 3.** In the last part of the assignment, you take the lessons that you have learned from *Part 1* and *Part 2* to:\n",
    "\n",
    "    * Formulate a hypothesis about the relationship between a subset of weather factors and the concentration of air compounds.\n",
    "    * Create a **poster** on which you report and discuss your findings.\n",
    "\n",
    "The deadline for the graded assignment, involving both the submission of this notebook and your poster, is **Friday March 10, 2023, at 21:00**.\n",
    "\n",
    "Your assignment will be graded on three components: \n",
    "1. the work in this notebook, graded by Momotor, \n",
    "1. your poster, and \n",
    "1. the peer review. \n",
    "\n",
    "For the precise assessment criteria, see the [study guide on Canvas](https://canvas.tue.nl/courses/21788/pages/study-guide-2iab0-data-analytics-for-engineers).\n",
    "\n",
    "<div class=\"alert alert-block alert-danger\">\n",
    "<b>Three very important remarks:</b> <br>\n",
    "    \n",
    "1. Ensure that the **visualizations that you include in your poster** are also produced by your notebook and that they follow suggested best practices. **Double-check** if the visualizations are produced correctly on Momotor under the **Running submitted notebook** tab, i.e., make sure that every visualization on your poster can also be seen under that tab.\n",
    "2. Submit your notebook already before the deadline and make sure **Momotor does not give any errors in any tab**.\n",
    "3. **Do not write anything _outside_ marker lines `BEGIN_TODO ... END_TODO`**.\n",
    "</div>"
   ]
  },
  {
   "cell_type": "markdown",
   "metadata": {
    "tags": []
   },
   "source": [
    "---\n",
    "\n",
    "## Introduction\n",
    "\n",
    "Problems with air quality and air polluting industries draw a lot of attention and lead to political debates. \n",
    "The weather can also have a significant impact on air quality (Czarnecka & Nidzgorska-Lencewicz, 2011). \n",
    "Researchers have shown that weather data should be taken into account when measuring air pollution and estimating the effects of air pollution prevention strategies (Grell & Baklanov 2011). \n",
    "\n",
    "**Air quality** is measured by measuring the concentration of different pollutants, with ground-level ozone ($O_3$), particle pollution (or particulate matter like $PM2.5$ and $PM10$), carbon monoxide ($CO$), sulfur dioxide ($SO_2$), and nitrogen dioxide ($NO_2$) being the five major ones as reported by the [U.S Air Quality Index (AQI)](https://www.airnow.gov/aqi/aqi-basics/).\n",
    "Low air quality has proven to pose a serious threat to health and the environment (Qin et al., 2017).\n",
    "\n",
    "**Weather** factors such as *sunshine*, *temperature*, *rain*, and *wind speed* can make pollutants undergo certain chemical reactions, speed up the reaction process, wash out dissolvable pollutants, or disperse pollutants in a given area. \n",
    "For example, ozon ($O_3$) forms when nitrogen oxides ($NO_x$) coming from different sources, like vehicle exhaust and industrial emissions, react with volatile organic compounds in the presence of heat and sunlight (NOAA's National Weather Service, 2017).\n",
    "There is also evidence that the increase of certain pollutants, such as $O_3$, together with high temperatures, results in an increase in mortality (NOAA's National Weather Service, 2017). \n",
    "\n",
    "### Origin of the Data\n",
    "For this assignment, we will use air quality data from the Dutch website [luchtmeetnet](https://www.luchtmeetnet.nl/), which is an initiative of the Ministry of Infrastructure and Water Management, the National Institute of Public Health and the Environment (RIVM), GGD Amsterdam, EPA for the greater Rotterdam area (DCMR), EPA South Limburg (RUDZL), EPA Middle and Western Brabant (OMWB), and EPA Region Arnhem (ODRA).\n",
    "The [dataset](https://data.rivm.nl/data/luchtmeetnet) is hosted by the National Institute for Public Health and the Environment—a.k.a. Rijksinstituut voor Volksgezondheid en Milieu (RIVM). \n",
    "The air quality dataset reports concentrations of various chemical compounds measured and recorded from 2012 until 2021 by 125 stations located all over the Netherlands. (The 2022 data is not included, as it is not yet validated at the time this assignment is published.)\n",
    "\n",
    "Furthermore, to contrast the air quality data against weather factor behavior, we will also analyze [climatologic data](https://www.knmi.nl/nederland-nu/klimatologie/uurgegevens) collected by the Royal Netherlands Meteorological Institute—a.k.a. Koninklijk Nederlands Meteorologisch Instituut (KNMI).\n",
    "The KNMI is the national weather service of the Netherlands.\n",
    "One of its main tasks consists of weather monitoring and forecasting. \n",
    "The original dataset reports weather information from 1951 until the present date.\n",
    "Since then, 50 stations have been set up to collect weather measurements.\n",
    "\n",
    "The current air quality (blue dots) and weather stations (orange dots) are shown in Figure 1.\n",
    "\n",
    "![stations_map](files/stations_map.png)\n",
    "<figcaption style=\"text-align: center;\"><b>Figure 1. Map of the Netherlands with the air quality and weather stations considered in the dataset.</b></figcaption>"
   ]
  },
  {
   "cell_type": "markdown",
   "metadata": {},
   "source": [
    "### Problem Statement\n",
    "\n",
    "How do certain weather factors impact air quality? \n",
    "Is there a correlation between weather factors and air compounds?\n",
    "These and other questions are to be answered by the analysis we will perform on the air quality and weather data sources.\n",
    "Deriving insightful conclusions from real data is the main goal of this assignment.\n",
    "\n",
    "**Problem:** How is the air quality in the Netherlands influenced by certain weather conditions?"
   ]
  },
  {
   "cell_type": "markdown",
   "metadata": {},
   "source": [
    "### Development of a Hypothesis\n",
    "\n",
    "The work in this assignment will be largely exploratory, and one of its aims is to develop a feeling on whether and how weather factors are related to compounds associated with air quality. Subquestions that will come by are:\n",
    "\n",
    "* Is there a relation between the concentration of air compounds and the day, week, or month of the year?\n",
    "* Is there a relation between the concentration of different air compounds?\n",
    "* Is there a relation between weather factors and the concentration of air compounds?\n",
    "\n",
    "At the end of the assignment, you will be asked to formulate your current hypothesis about the relationship between compounds measuring air quality and weather factors."
   ]
  },
  {
   "cell_type": "markdown",
   "metadata": {},
   "source": [
    "### Personalization of the Assignment\n",
    "\n",
    "This assignment is personalized. \n",
    "You will focus on the measurements of two air compounds measured by one particular air quality station, and on weather data from the nearest weather station (with sufficient data). \n",
    "You should have received an **e-mail** containing:\n",
    "\n",
    "- the **air quality station code**, which you should store in the variable `aq_station_code` (as a string), and;\n",
    "- the names of the **air compounds** measuring air quality, which you should store in the variables `compound1` and `compound2` respectively (as strings)."
   ]
  },
  {
   "cell_type": "code",
   "execution_count": 1,
   "metadata": {},
   "outputs": [],
   "source": [
    "#// BEGIN_TODO [Personalization]\n",
    "\n",
    "aq_station_code = 'NL49014'\n",
    "compound1 = 'no_2'\n",
    "compound2 = 'pm_10'\n",
    "\n",
    "#// END_TODO [Personalization]"
   ]
  },
  {
   "cell_type": "markdown",
   "metadata": {
    "tags": []
   },
   "source": [
    "---\n",
    "\n",
    "## Dataset \n",
    "This section presents the description of the air compounds considered in the air quality dataset, as well as the description of the `df_data` data frame used throughout the assignment.\n",
    "\n",
    "### Air Compounds \n",
    "The air compounds collected by the air quality stations are listed below.\n",
    "\n",
    "| Name | Description |\n",
    "|------|:------------|\n",
    "| bc   | Black carbon ($\\mathrm{C}$) concentration in $\\mu \\mathrm{g / m}^3$ |\n",
    "| co   | Carbon monoxide ($\\mathrm{CO}$) concentration in $\\mu \\mathrm{g / m}^3$ |\n",
    "| h_2s | Hydrogen sulfide ($\\mathrm{H_2S}$) concentration in $\\mu \\mathrm{g / m}^3$ |\n",
    "| nh_3 | Ammonia ($\\mathrm{NH_3}$) concentration in $\\mu \\mathrm{g / m}^3$ |\n",
    "| no   | Nitrogen monoxide ($\\mathrm{NO}$) concentration in $\\mu \\mathrm{g / m}^3$ |\n",
    "| no_2 | Nitrogen dioxide ($\\mathrm{NO_2}$) concentration in $\\mu \\mathrm{g / m}^3$ |\n",
    "| no_x | Nitrogen oxides ($\\mathrm{NO_x}$) concentration in $\\mu \\mathrm{g / m}^3$ |\n",
    "| o_3  | Ground-level ozone ($\\mathrm{O_3}$) concentration in $\\mu \\mathrm{g / m}^3$ |\n",
    "| pm10 | Particle matter 10, i.e., particles less than 10 µm in diameter ($\\mathrm{PM10}$) concentration in $\\mu \\mathrm{g / m}^3$ |\n",
    "| pm25 | Particle matter, i.e., particles less than 2.5 µm in diameter ($\\mathrm{PM2.5}$) concentration in $\\mu \\mathrm{g / m}^3$ |\n",
    "| so_2 | Sulfur dioxide ($\\mathrm{SO_2}$) concentration in $\\mu \\mathrm{g / m}^3$ |\n",
    "\n",
    "### The `df_data` Data Frame\n",
    "\n",
    "In this assignment, the main dataset will be read in for you. After reading in the data, there will be a dataframe `df_data` with the following description. It is indexed by the column `datetime`.\n",
    "\n",
    "|Column  | Type | Description | \n",
    "|:-------|:----|:----|\n",
    "| datetime | datetime | The local time (Europe/Amsterdam) when the measurement was collected |\n",
    "| `compound1` | float | The concentration of the first air compound expressed in $\\mu \\mathrm{g / m}^3$|\n",
    "| `compound2` | float | The concentration of the second air compound expressed in $\\mu \\mathrm{g / m}^3$|\n",
    "| wind_direction | int | Mean wind direction (in degrees) during the 10-minute period preceding the time of observation (360=north, 90=east, 180=south, 270=west, 0=calm 990=variable) |\n",
    "| wind_speed | float | Mean wind speed (in m/s) during the 10-minute period preceding the time of observation |\n",
    "| wind_gust | float | Maximum wind gust (in m/s) during the hourly division |\n",
    "| temperature | float | Temperature (in degrees Celsius) at 1.50 m above the ground at the time of observation | \n",
    "| sunshine_duration | float | Sunshine duration (in hour) during the hourly division, calculated from global radiation (-1 for <0.05 hour) |\n",
    "| global_radiation | float | Global radiation (in J/cm2) during the hourly division |\n",
    "| precipitation | float | Hourly precipitation amount (in mm) (-1 for <0.05 mm) |\n",
    "| air_pressure | float | Air pressure (in hPa) reduced to mean sea level, at the time of observation |\n",
    "| visibility | int | Horizontal visibility at the time of observation (0=less than 100m, 1=100-200m, 2=200-300m,..., 49=4900-5000m, 50=5-6km, 56=6-7km, 57=7-8km, ..., 79=29-30km, 80=30-35km, 81=35-40km,..., 89=more than 70km) |\n",
    "| cloud_cover | float | Cloud cover (in octants), at the time of observation (0=sky completely clear, ..., 4=sky half cloudy, ..., 8=sky completely cloudy, 9=sky invisible) |\n",
    "| humidity | float | Relative atmospheric humidity (in percents) at 1.50 m above the ground at the time of observation |\n",
    "| fog | int | Fog 0=no occurrence, 1=occurred during the preceding hour and/or at the time of observation |\n",
    "| rainfall | int | Rainfall 0=no occurrence, 1=occurred during the preceding hour and/or at the time of observation |\n",
    "| snow | int | Snow 0=no occurrence, 1=occurred during the preceding hour and/or at the time of observation |\n",
    "| thunder | int | Thunder  0=no occurrence, 1=occurred during the preceding hour and/or at the time of observation |\n",
    "| ice_formation | int | Ice formation 0=no occurrence, 1=occurred during the preceding hour and/or at the time of observation |\n",
    "| year | int | The year in which the measurement occurred |\n",
    "| month | int | The month in which the measurement occurred |\n",
    "| week | int | The week number according to the ISO 8601 standard in which the measurement occurred |\n",
    "| day_of_year | int | The day of the year counting from the $1^\\text{st}$ of January in the range from 1 to 365 or 366 (in case of a leap year) in which the measurement occurred |\n",
    "| hour | int | The hour of the day in which the measurement occurred |"
   ]
  },
  {
   "cell_type": "markdown",
   "metadata": {},
   "source": [
    "---\n",
    "\n",
    "## Preparation\n",
    "\n",
    "This section introduces the steps and tasks that you need to perform for the assignment.\n",
    "It also includes introductory code to set up your development and data environments.\n",
    "\n",
    "### Load the Libraries\n",
    "\n",
    "We first load the necessary libraries."
   ]
  },
  {
   "cell_type": "code",
   "execution_count": null,
   "metadata": {},
   "outputs": [],
   "source": [
    "import numpy as np\n",
    "import pandas as pd\n",
    "\n",
    "import sqlite3                                     # to interact with the database\n",
    "\n",
    "from sklearn.linear_model import LinearRegression  # for linear regression\n",
    "from sklearn.tree import DecisionTreeClassifier    # for decision tree mining\n",
    "from sklearn.metrics import accuracy_score, confusion_matrix, mean_squared_error, mean_absolute_error\n",
    "from files.treeviz import tree_print                     # to print decision tree\n",
    "from math import radians, sin, cos                 # to convert polar coordinates into Cartesian coordinates\n",
    "\n",
    "%matplotlib inline                                 \n",
    "import matplotlib as mpl\n",
    "import matplotlib.pyplot as plt\n",
    "import seaborn as sns                              # also improves the look of plots\n",
    "sns.set()\n",
    "plt.rcParams['figure.figsize'] = 10, 5             # default hor./vert. size of plots, in inches\n",
    "plt.rcParams['lines.markeredgewidth'] = 1          # to fix issue with seaborn box plots; needed after import seaborn\n",
    "\n",
    "from IPython.display import HTML\n",
    "HTML(\"<style>.h,.c{display:none}.t{color:#296eaa}.t:active+.h{display:block;}</style>\")"
   ]
  },
  {
   "cell_type": "markdown",
   "metadata": {},
   "source": [
    "### Load the Data\n",
    "\n",
    "We now read in the data, parsing the relevant columns as dates, and converting the times from UTC to Amsterdam time. \n",
    "Note that at this stage, you do not need to understand the code below, but it might be useful for you to look at it when you start working on GA2."
   ]
  },
  {
   "cell_type": "markdown",
   "metadata": {},
   "source": [
    "#### Closest Weather Station\n",
    "\n",
    "We get the closest weather station to your assigned air quality station."
   ]
  },
  {
   "cell_type": "code",
   "execution_count": null,
   "metadata": {},
   "outputs": [],
   "source": [
    "# Path to the database\n",
    "db_path = 'files/aqw.db'\n",
    "\n",
    "# Connect to database\n",
    "cnx = sqlite3.connect(db_path)\n",
    "\n",
    "QUERY_WEATHER_STATION = f\"\"\"\n",
    "    SELECT aq_station_code, weather_station_code, distance \n",
    "    FROM close_stations \n",
    "    WHERE aq_station_code='{aq_station_code}' \n",
    "    GROUP BY aq_station_code\n",
    "\"\"\"\n",
    "\n",
    "# Get the closest weather station info\n",
    "closest_weather_info = pd.read_sql_query(QUERY_WEATHER_STATION, cnx).squeeze()\n",
    "\n",
    "# Extract weather code from the SQL result\n",
    "weather_station_code = int(closest_weather_info['weather_station_code'])\n",
    "\n",
    "# Extract weather station distance from the SQL result\n",
    "aq_weather_distance = closest_weather_info['distance']\n",
    "\n",
    "print(f'The closest weather station to your air quality station is station '\n",
    "      f'{weather_station_code}, with a distance of {aq_weather_distance} kilometers.')"
   ]
  },
  {
   "cell_type": "markdown",
   "metadata": {},
   "source": [
    "> **Note:** Keep in mind the *distance between your weather and the air quality stations* (cf. [Closest Weather Station](#Closest-Weather-Station)). \n",
    "You might want to take it into account when reflecting on the validity of your results. \n",
    "For instance, when considering how far certain weather phenomena extend."
   ]
  },
  {
   "cell_type": "markdown",
   "metadata": {},
   "source": [
    "#### Extract Air Quality Data\n",
    "\n",
    "We extract information reported by your air quality station of the two assigned compounds."
   ]
  },
  {
   "cell_type": "code",
   "execution_count": null,
   "metadata": {},
   "outputs": [],
   "source": [
    "QUERY_AQ = f\"\"\"\n",
    "    SELECT datetime, {', '.join((compound1, compound2))} \n",
    "    FROM air_quality_data \n",
    "    WHERE station_code='{aq_station_code}'\n",
    "\"\"\"\n",
    "\n",
    "# Get compound1 and compound2 info of the air quality station\n",
    "df_aq = pd.read_sql_query(QUERY_AQ, cnx, \n",
    "                          index_col='datetime', \n",
    "                          parse_dates={'datetime': {'utc': True}})\n",
    "\n",
    "# Convert date to Europe/Amsterdam timezone\n",
    "df_aq.index = df_aq.index.tz_convert('Europe/Amsterdam')"
   ]
  },
  {
   "cell_type": "markdown",
   "metadata": {},
   "source": [
    "#### Extract Weather Data\n",
    "\n",
    "We extract the weather data based on the closest weather station to your air quality station."
   ]
  },
  {
   "cell_type": "code",
   "execution_count": null,
   "metadata": {},
   "outputs": [],
   "source": [
    "WEATHER_FACTORS = ['wind_direction', 'wind_speed', 'wind_gust', 'temperature', \n",
    "                  'sunshine_duration', 'global_radiation', 'precipitation', \n",
    "                  'air_pressure', 'visibility', 'cloud_cover', 'humidity', \n",
    "                  'fog', 'rainfall', 'snow', 'thunder', 'ice_formation']\n",
    "\n",
    "QUERY_WEATHER = f\"\"\"\n",
    "    SELECT datetime, {', '.join(WEATHER_FACTORS)} \n",
    "    FROM weather_data \n",
    "    WHERE station_code={weather_station_code}\n",
    "\"\"\"\n",
    "\n",
    "# Get weather data of the closest weather station\n",
    "df_weather = pd.read_sql_query(QUERY_WEATHER, cnx, \n",
    "                               index_col='datetime', \n",
    "                               parse_dates={'datetime': {'utc': True}})\n",
    "\n",
    "# Convert date to Europe/Amsterdam timezone\n",
    "df_weather.index = df_weather.index.tz_convert('Europe/Amsterdam')\n",
    "\n",
    "# Close database connection\n",
    "cnx.close()"
   ]
  },
  {
   "cell_type": "markdown",
   "metadata": {},
   "source": [
    "#### Combine Data\n",
    "\n",
    "For convenience, we now combine the air quality and weather data into one data frame (`df_data`) indexed by datetime."
   ]
  },
  {
   "cell_type": "code",
   "execution_count": null,
   "metadata": {},
   "outputs": [],
   "source": [
    "df_data = df_aq.join(df_weather, how='outer')\n",
    "\n",
    "# Show first rows of the database\n",
    "df_data.head()"
   ]
  },
  {
   "cell_type": "markdown",
   "metadata": {},
   "source": [
    "Now, we add some time features that will be useful in the exploration later."
   ]
  },
  {
   "cell_type": "code",
   "execution_count": null,
   "metadata": {},
   "outputs": [],
   "source": [
    "# Create time-related columns\n",
    "df_data['year'] = df_data.index.year\n",
    "df_data['month'] = df_data.index.month\n",
    "df_data['day_of_year'] = df_data.index.dayofyear\n",
    "df_data['week'] = df_data['day_of_year'] // 7 + 1\n",
    "df_data['hour'] = df_data.index.hour\n",
    "\n",
    "# Show first rows of the database\n",
    "df_data.head()"
   ]
  },
  {
   "cell_type": "markdown",
   "metadata": {},
   "source": [
    "---\n",
    "\n",
    "## Part 1"
   ]
  },
  {
   "cell_type": "markdown",
   "metadata": {
    "tags": []
   },
   "source": [
    "### Step 1. Weather Factor and Measurement Periods\n",
    "\n",
    "#### Task 1. Choose a weather factor\n",
    "To start the assignment, choose one of the weather factors that you think might have an influence on one or both of your compounds.\n",
    "To make this decision, you might want to consider academic and journalistic sources available online.\n",
    "Assign the name of this weather factor as a string to the variable `chosen_weather_factor` (the name should be one of the values of the `WEATHER_FACTORS` list, typed in **exactly the same way as it is in the list**).\n",
    "You can explore different options and keep the weather factor that is more interesting to you.\n",
    "Lastly, include the rationale behind your decision as a string assigned to the variable `considerations_weather_factor`."
   ]
  },
  {
   "cell_type": "code",
   "execution_count": null,
   "metadata": {},
   "outputs": [],
   "source": [
    "#// BEGIN_TODO [EDA_weather_factor] (1 point)\n",
    "\n",
    "# ===== =====> Replace this line by your code. <===== ===== #\n"
   ]
  },
  {
   "cell_type": "code",
   "execution_count": null,
   "metadata": {},
   "outputs": [],
   "source": [
    "#// END_TODO [EDA_weather_factor]"
   ]
  },
  {
   "cell_type": "markdown",
   "metadata": {},
   "source": [
    "To compare the two air compounds that you have been assigned and the weather factor that you have chosen, it makes sense to consider a time period during which all variables were measured. \n",
    "The code cell below computes when your assigned air quality and weather stations started and stopped measuring your two air compounds and the weather factor, respectively.\n",
    "Start and end datetimes are reported for you.\n",
    "**Do not modify the following code.**"
   ]
  },
  {
   "cell_type": "code",
   "execution_count": null,
   "metadata": {},
   "outputs": [],
   "source": [
    "# Get starting mesurement dates\n",
    "start_compound1 = df_data[df_data[compound1].notna()].index.min()\n",
    "start_compound2 = df_data[df_data[compound2].notna()].index.min()\n",
    "start_weather_factor = df_data[df_data[chosen_weather_factor].notna()].index.min()\n",
    "\n",
    "# Get ending measurement dates\n",
    "end_compound1 = df_data[df_data[compound1].notna()].index.max()\n",
    "end_compound2 = df_data[df_data[compound2].notna()].index.max()\n",
    "end_weather_factor = df_data[df_data[chosen_weather_factor].notna()].index.max()\n",
    "\n",
    "# Print the measurement date information\n",
    "print(f'Measurements of {compound1} started on {start_compound1} and ended on {end_compound1}.')\n",
    "print(f'Measurements of {compound2} started on {start_compound2} and ended on {end_compound2}.')\n",
    "print(f'Measurements of {chosen_weather_factor} started on {start_weather_factor} and ended on {end_weather_factor}.')"
   ]
  },
  {
   "cell_type": "markdown",
   "metadata": {},
   "source": [
    "#### Task 2. Find the common measurement date \n",
    "\n",
    "The start and end datetimes might be different among your two air compounds and chosen weather factor. \n",
    "Find the common starting and ending datetimes, which enclose the period for which measurements of each of these three fields are available (the overlap).\n",
    "Save these datetimes in the `start_measurement` and `end_measurement` variables, respectively.\n",
    "\n",
    "> **Note:** The data might change in the future, so make sure your code works in that situation. \n",
    "That is, write an expression that compares the `start_compound1`, the `start_compound2`, and the `start_weather_factor` variables, and assign the result to the `start_measurement` variable.\n",
    "Do the same with `end_compound1`, `end_compound2`, and `end_weather_factor`, and assign the value to the `end_measurement` varibale."
   ]
  },
  {
   "cell_type": "code",
   "execution_count": null,
   "metadata": {},
   "outputs": [],
   "source": [
    "#// BEGIN_TODO [EDA_periods] (3 points)\n",
    "\n",
    "# ===== =====> Replace this line by your code. <===== ===== #\n"
   ]
  },
  {
   "cell_type": "code",
   "execution_count": null,
   "metadata": {},
   "outputs": [],
   "source": [
    "#// END_TODO [EDA_periods]"
   ]
  },
  {
   "cell_type": "markdown",
   "metadata": {},
   "source": [
    "Now, we use these start and end dates to truncate the dataframe, ensuring that we are working within the overlap of the measuring periods of the two compounds and the weather factor."
   ]
  },
  {
   "cell_type": "code",
   "execution_count": null,
   "metadata": {},
   "outputs": [],
   "source": [
    "# Truncate the data frame\n",
    "df_data = df_data.loc[start_measurement:end_measurement]\n",
    "df_data.head()"
   ]
  },
  {
   "cell_type": "markdown",
   "metadata": {},
   "source": [
    "### Step 2. Exploration of Air Compounds and Weather Factors"
   ]
  },
  {
   "cell_type": "markdown",
   "metadata": {
    "tags": []
   },
   "source": [
    "#### Task 1. Compute summary statistics\n",
    "Compute the descriptive statistics for both of your compounds.\n",
    "In particular, find a way to compute the **mean**, **median**, **standard deviation**, **minimum**, **maximum**, and the **25% and 75% quantiles**.\n",
    "Print this information in your notebook.\n",
    "\n",
    "For each compound, look at the computed values and write down whether you expect the distribution of the concentration of this compound to be (almost) symmetric, left-skewed, or right-skewed and why so. \n",
    "Store your answer to this question as a string in the variable `observations_descriptive_statistics`.\n",
    "\n",
    "To verify your observations (cf. `observations_descriptive_statistics`), create two kernel density plots, each for one of your air compounds.\n",
    "After analyzing the plots, create the string variables `compound1_shape` and `compound2_shape` and assign any of the following values based on your observations: `\"symmetric\"`, `\"left-skewed\"`, or `\"right-skewed\"`.\n",
    "\n",
    "> **Note:** Do not forget to follow the best practices for visualizations. **This applies to all coming tasks requiring visualizations.** You must:\n",
    "> - Include a descriptive **title**.\n",
    "> - Add **labels** to the **axes** and include the **units** of the quantities on the axes if applicable.\n",
    "> - Ensure that the plot is **readable** and **understandable** (also for somebody who is color-blind).\n",
    "> - Choose appropriate **ranges** for the plot **axes**.\n",
    "> - Include a **legend**, in particular when combining several plots."
   ]
  },
  {
   "cell_type": "code",
   "execution_count": null,
   "metadata": {},
   "outputs": [],
   "source": [
    "#// BEGIN_TODO [EDA_summary_stats] (5 points)\n",
    "\n",
    "# ===== =====> Replace this line by your code. <===== ===== #\n"
   ]
  },
  {
   "cell_type": "code",
   "execution_count": null,
   "metadata": {},
   "outputs": [],
   "source": [
    "#// END_TODO [EDA_summary_stats]"
   ]
  },
  {
   "cell_type": "markdown",
   "metadata": {},
   "source": [
    "#### Task 2. Create line plots\n",
    "\n",
    "To get an idea how the concentration of each of the two compounds changes over time, create a line plot for each of them with time on the $x$-axis and the concentration on the $y$-axis. \n",
    "Additionally, create a line plot for your chosen weather factor, again with the time on the $x$-axis and its corresponding unit on the $y$-axis. \n",
    "Display the whole time period for the two air compounds and the weather factor.\n",
    "\n",
    "Take some time to analyze the resulting figure.\n",
    "Do you think the air compound concentrations are following **seasonal patterns** based on the plots?\n",
    "Or could these fluctuations perhaps be related to **daily patterns**?\n",
    "Store your observations as a string in the variable `observations_patterns`."
   ]
  },
  {
   "cell_type": "code",
   "execution_count": null,
   "metadata": {},
   "outputs": [],
   "source": [
    "#// BEGIN_TODO [EDA_seasonal_patterns] (4 points)\n",
    "\n",
    "# ===== =====> Replace this line by your code. <===== ===== #\n"
   ]
  },
  {
   "cell_type": "code",
   "execution_count": null,
   "metadata": {},
   "outputs": [],
   "source": [
    "#// END_TODO [EDA_seasonal_patterns]"
   ]
  },
  {
   "cell_type": "markdown",
   "metadata": {},
   "source": [
    "#### Task 3. Compute and compare z-scores\n",
    "\n",
    "The plots created in the previous task are not well-readable because of frequently fluctuating data values.\n",
    "We now want to restrict the $x$-axis to January 2019 to be able to see more clearly how the values change. \n",
    "In order to compare the trends, we will plot the lines together in one figure. \n",
    "Plotting the values as they are might not be helpful because of the scale difference. \n",
    "We will use z-scores to unify the scales and keep the plots interpretable. \n",
    "To achieve this, proceed as follows:\n",
    "\n",
    "1. Add the columns `compound1_z_score`, `compound2_z_score` and `weather_factor_z_score` to `df_data`. These columns should contain the **z-scores** of the measurements for your two compounds and your chosen weather factor, respectively.\n",
    "\n",
    "1. Create a line plot with three lines representing the z-scores (two coming from the compounds and one from the weather factor) over January 2019 (plot the data for the whole month). Make sure to add an appropriate legend to the plot. What do you think about the readability of the plot?\n",
    "\n",
    "1. Now, create a new figure that has three subplots for January 2019 with a pairwise comparison of the z-scores of the two compounds and the weather factor. Each subplot should be a line plot with two lines representing the z-scores of a pair, with one subplot for each pair of variables (i.e., `compound1_z_score` with `compound2_z_score`, `compound1_z_score` with `weather_factor_z_score` and `compound2_z_score` with `weather_factor_z_score`).\n",
    "\n",
    "What do you observe when comparing the z-scores? Assign your observations as a string to the variable `observations_z_score`."
   ]
  },
  {
   "cell_type": "code",
   "execution_count": null,
   "metadata": {},
   "outputs": [],
   "source": [
    "#// BEGIN_TODO [EDA_z_scores] (5 points)\n",
    "\n",
    "# ===== =====> Replace this line by your code. <===== ===== #\n"
   ]
  },
  {
   "cell_type": "code",
   "execution_count": null,
   "metadata": {},
   "outputs": [],
   "source": [
    "#// END_TODO [EDA_z_scores]"
   ]
  },
  {
   "cell_type": "markdown",
   "metadata": {
    "tags": []
   },
   "source": [
    "#### Lesson on Aggregation\n",
    "While the restriction of the time interval increased the legibility of the plots above, it reduced their scope to just one month. \n",
    "Throughout the next few tasks, you will use daily, weekly, or monthly averages to explore the air quality and weather data over a longer time interval while keeping the plots readable. \n",
    "Choosing which time period is more relevant for answering the coming questions is up to you, with the choice restricted to `day_of_year`, `week`, or `month`. \n",
    "Note that there are already time-based columns in `df_data` corresponding to each of these time periods."
   ]
  },
  {
   "cell_type": "markdown",
   "metadata": {},
   "source": [
    "#### Task 4. Create aggregated data frames\n",
    "\n",
    "To prepare for the next few tasks, create the data frames `df_data_daily`, `df_data_weekly`, and `df_data_monthly`. These new data frames should contain averages of the entries `df_data` over `day_of_year`, `week`, and `month`, respectively. Furthermore:\n",
    "* These data frames should have a MultiIndex with two levels: `year` on the outer level and the column corresponding to the aggregation level (i.e., `day_of_year`, `week`, or `month`) as the inner level.\n",
    "* These data frames should have the same column names as `df_data` (except for the columns that are used in the MultiIndex), but now the entries of these columns are mean values."
   ]
  },
  {
   "cell_type": "code",
   "execution_count": null,
   "metadata": {},
   "outputs": [],
   "source": [
    "#// BEGIN_TODO [EDA_aggregation] (4 points)\n",
    "\n",
    "# ===== =====> Replace this line by your code. <===== ===== #\n"
   ]
  },
  {
   "cell_type": "code",
   "execution_count": null,
   "metadata": {},
   "outputs": [],
   "source": [
    "#// END_TODO [EDA_aggregation]"
   ]
  },
  {
   "cell_type": "markdown",
   "metadata": {},
   "source": [
    "#### Task 5. Identify data variation per year\n",
    "\n",
    "We are interested whether the data varies significantly between the years, or whether it follows a repeating pattern. \n",
    "\n",
    "1. For each compound and your chosen weather factor separately, superimpose five line plots. \n",
    "Each line plot should show the averaged values **(not z-scores)** over one `year`. \n",
    "These five years should be the last five years for which data is available. \n",
    "You should choose which aggregation level to use from `day`, `week`, or `month`.\n",
    "\n",
    "1. For another perspective on possible seasonal patterns, also create three separate visualizations for each compound and the weather factor using boxplots. \n",
    "The boxplots should show the distribution of the original **non-averaged** values grouped by `month` over all available data (so use `df_data` for this).\n",
    "\n",
    "What is the message that each of the visualizations conveys? What insights can you get? \n",
    "Do you find the visualization with superimposed lines from subtask 1 or the separate visualizations from subtask 2 more useful, and why so?\n",
    "Assign your observations as a string to the variable `observations_seasonal_plots`."
   ]
  },
  {
   "cell_type": "code",
   "execution_count": null,
   "metadata": {},
   "outputs": [],
   "source": [
    "#// BEGIN_TODO [EDA_variation] (6 points)\n",
    "\n",
    "# ===== =====> Replace this line by your code. <===== ===== #\n"
   ]
  },
  {
   "cell_type": "code",
   "execution_count": null,
   "metadata": {},
   "outputs": [],
   "source": [
    "#// END_TODO [EDA_variation]"
   ]
  },
  {
   "cell_type": "markdown",
   "metadata": {},
   "source": [
    "#### Task 6. Visualize the relationship between air compounds and the weather factor\n",
    "To compare the concentrations of the compounds to the measurements of the weather factor without taking into account the time dimension, create a scatterplot and a heatmap for each compound separately with the weather factor on the horizontal axis (so 2 scatterplots and 2 heatmaps in total). \n",
    "For the heatmap, you should create appropriate bins for the data for which this is necessary (using for instance the `pd.cut` method).\n",
    "\n",
    "\n",
    "Discuss which visualization, the scatter plot or the heatmap, is better suited for this comparison in the variable `observations_scatterplot_vs_heatmap`."
   ]
  },
  {
   "cell_type": "code",
   "execution_count": null,
   "metadata": {},
   "outputs": [],
   "source": [
    "#// BEGIN_TODO [EDA_relationship] (5 points)\n",
    "\n",
    "# ===== =====> Replace this line by your code. <===== ===== #\n"
   ]
  },
  {
   "cell_type": "code",
   "execution_count": null,
   "metadata": {},
   "outputs": [],
   "source": [
    "#// END_TODO [EDA_relationship]"
   ]
  },
  {
   "cell_type": "markdown",
   "metadata": {
    "tags": []
   },
   "source": [
    "#### Task 7. Bonus: Visualize wind impact on compound concentrations\n",
    "\n",
    "> **Disclaimer:** If you solve this task correctly, you can earn at most 5 bonus points on the programming part of the graded assignment (out of 100 points total for the entire graded assignment, including the poster).\n",
    "\n",
    "Certain kinds of air pollution originate from specific sources, such as factories or traffic. \n",
    "As air compounds are carried by the wind, it is possible that the direction and speed of the wind influences the concentration of either of your two compounds at your measurement station. \n",
    "We want to investigate whether such a relation exists.\n",
    "To do so, we ask you to create two scatterplots (one for each compound) that show the mean concentration of the compound per wind vector. \n",
    "Here a wind vector is a combination of a wind speed and wind direction, represented as vector length and vector direction respectively.\n",
    "\n",
    "To implement such a visualization, consider the following:\n",
    "1. The wind data in `df_data` can be interpreted as a vector, with the `wind_speed` being the length and the `wind_direction` the angle from the northern direction. Such a vector can be represented as a line going from the origin point in a Cartesian coordinate system to a point $(x, y)$. To get the values of $x$ and $y$ based on the `wind_speed` and the `wind_direction`, use the following formulas, where $\\theta$ is the equivalent of the `wind_direction` in radians ($\\theta = wind\\_direction \\times \\frac{\\pi}{180}$):  \n",
    "\n",
    "    $x = wind\\_speed \\times \\cos(\\theta)$  \n",
    "    $y = wind\\_speed \\times \\sin(\\theta)$  \n",
    "\n",
    "1. Create two new columns in your dataframe, namely `x_wind` and `y_wind`, and assign them the values of $x$ and $y$ for each wind vector.\n",
    "\n",
    "1. Compute the mean concentration of each compound for every (`wind_speed`, `wind_direction`) pair.\n",
    "\n",
    "1. Create a visualization with two subplots, each containing a scatterplot that shows, using a colormap, the mean compound concentration for a given wind vector in the Cartesian plane. The location of the dots should be determined by the wind vector, and the color by the mean compound concentration for that wind vector (using a colormap). Figure 2 shows such a visualization for two air compounds for one of the air quality stations to give you a better idea what your result could look like.\n",
    "\n",
    "![wind_visualization](files/wind_visualization.png)\n",
    "<figcaption style=\"text-align: center;\"><b>Figure 2. Concentration means per wind vector of the air compounds o_3 and no_2 measured by the air quality station NL10644 in 2015.</b></figcaption>\n",
    "\n",
    "<br/>\n",
    "\n",
    "> **Note:** Set a sensible limit for the x- and the y-axis to improve readability.\n",
    "\n",
    "> **Note:** You are allowed to import additional libraries for this task, but make sure they do not cause errors in Momotor."
   ]
  },
  {
   "cell_type": "code",
   "execution_count": null,
   "metadata": {},
   "outputs": [],
   "source": [
    "#// BEGIN_TODO [EDA_wind_impact] (5 points)\n",
    "\n",
    "# ===== =====> Replace this line by your code. <===== ===== #\n"
   ]
  },
  {
   "cell_type": "code",
   "execution_count": null,
   "metadata": {},
   "outputs": [],
   "source": [
    "#// END_TODO [EDA_wind_impact]"
   ]
  },
  {
   "cell_type": "markdown",
   "metadata": {},
   "source": [
    "---\n",
    "\n",
    "## Part 2"
   ]
  },
  {
   "cell_type": "markdown",
   "metadata": {},
   "source": [
    "### Step 3. Predict the Air Quality\n",
    "\n",
    "In this second part of the assignment, you are going to investigate to what extent the daily average of the air quality **at your personal air quality measurement station** can be predicted using weather data. How good of a model can you make?\n",
    "\n",
    "However, before you create your prediction model, we need to get rid of the missing values of the air compounds and the weather factors extracted from the database. \n",
    "The code cell below gets rid of `NaN` (\"Not a Number\") values by using the `interpolate` method (see the [official documentation](https://pandas.pydata.org/docs/reference/api/pandas.DataFrame.interpolate.html)).\n",
    "The method uses, by default, a *linear* method that ignores the index and treats all values as equally spaced.\n",
    "The `limit_direction` parameter specifies in which direction the linear method must be applied.\n",
    "When set to `'both'` the interpolation will be applied both forward and backward.\n",
    "Additionally, the `inplace` parameter states that values must be modified directly in the original data frame.\n",
    "**Do not modify the following code.**"
   ]
  },
  {
   "cell_type": "code",
   "execution_count": null,
   "metadata": {},
   "outputs": [],
   "source": [
    "COLUMNS_INTERPOLATE = [compound1, compound2] + WEATHER_FACTORS\n",
    "\n",
    "for column in COLUMNS_INTERPOLATE:\n",
    "    if column in df_data_daily.columns.values:\n",
    "        df_data_daily[column].interpolate(limit_direction='both', inplace=True)"
   ]
  },
  {
   "cell_type": "markdown",
   "metadata": {
    "tags": []
   },
   "source": [
    "#### Task 1. Choose the model variables\n",
    "The first stepping stone in creating a prediction model consists of choosing the variables involved in the prediction model.\n",
    "To make this choice, use the results of the exploratory data analysis performed in Step 2. It could be useful to rerun Part 1 with different choices of `chosen_weather_factor`. Perform the following steps:\n",
    "\n",
    "1. Choose one of your two air compounds to predict and assign its name to `chosen_compound`. This compound will be the dependent variable of your model.\n",
    "1. Choose **at least two** weather factors that you think can be used to (effectively) predict the concentration of your chosen air compound. These weather factors will be the independent variables of your model.\n",
    "\n",
    "    Store the names of your chosen weather factors in a list variable named `independent_vars`. Each name should be one of the values of the `WEATHER_FACTORS` list, typed in **exactly the same way as it is in this list**. Note that you are not required to include `chosen_weather_factor` in this list."
   ]
  },
  {
   "cell_type": "code",
   "execution_count": null,
   "metadata": {},
   "outputs": [],
   "source": [
    "#// BEGIN_TODO [Predict_vars] (1 point)\n",
    "\n",
    "# ===== =====> Replace this line by your code. <===== ===== #\n"
   ]
  },
  {
   "cell_type": "code",
   "execution_count": null,
   "metadata": {},
   "outputs": [],
   "source": [
    "#// END_TODO [Predict_vars]"
   ]
  },
  {
   "cell_type": "markdown",
   "metadata": {},
   "source": [
    "#### Task 2. Split into training and test data\n",
    "To create your prediction model you need to split the data into consecutive training and test data. This means that the test data should be measured entirely **after** the training data, which resembles how the model would be used in practice to predict the future. You should use the daily averages of the data, so `df_data_daily`.\n",
    "\n",
    "1. First, split the entire data frame into two data frames: assign the **training data** to the `df_train` data frame and the **test data** to the `df_test` data frame. For example, the training data could contain all data from 2018 and backwards, and the test data all data from 2019. Note that you do not have to use all of the data from the entire date range; however, both samples should be **sufficiently large**.\n",
    "\n",
    "1. From these two data frames, extract the training and the test data of your independent and dependent variables, selecting only the relevant columns. The **data frames** for your **independent variables** must be stored in the variables `X_train` and `X_test`, while the **series** for your **dependent variable** must be stored in the variables `y_train` and `y_test`. (The capitalization of the `X` indicates that it is a matrix (2-dimensional), whereas the lowercase `y` indicates that it is a vector (1-dimensional).)\n",
    "\n",
    "In both steps, it is good practice to make copies of the data frame excerpts you create. This prevents unintended modifications of the original data frame.\n",
    "\n",
    ">**Note:** The COVID-19 pandemic might have had an impact on the data you are interacting with. That is, the data measured in the years before 2020 might not be representative of the data reported in 2020 and later years. Choose your training and test data wisely."
   ]
  },
  {
   "cell_type": "code",
   "execution_count": null,
   "metadata": {},
   "outputs": [],
   "source": [
    "#// BEGIN_TODO [Predict_train_test] (5 points)\n",
    "\n",
    "# ===== =====> Replace this line by your code. <===== ===== #\n"
   ]
  },
  {
   "cell_type": "code",
   "execution_count": null,
   "metadata": {},
   "outputs": [],
   "source": [
    "#// END_TODO [Predict_train_test]"
   ]
  },
  {
   "cell_type": "markdown",
   "metadata": {},
   "source": [
    "#### Task 3. Create your prediction model\n",
    "Now that the model variables have been chosen and the data has been divided, it is time to create the model itself. You can opt for creating a model that predicts the concentration of your chosen compound (cf. Actual value prediction), or a model that predicts whether this concentration is larger than some threshold value (cf. Threshold prediction).\n",
    "Define the variable `prediction_type` that stores the string `\"actual value\"` if you choose the former option, or stores the string `\"threshold\"` if you opt for the latter option. \n",
    "Based on your choice, follow **only one of the task paths** described below.\n",
    "\n",
    "**Actual value prediction**\n",
    "\n",
    "1. Create a **linear regression** model that predicts the daily average concentration of `chosen_compound` using `independent_vars`. Store the *linear regression* object in a variable called `model`.\n",
    "\n",
    "1. Create two **residual plots** to visualize your model's performance on the training and on the test data.\n",
    "\n",
    "1. To evaluate the performance of your model quantitatively, compute the **mean absolute error** of its predictions on the **test data**, and store the result in the variable `evaluation`.\n",
    "\n",
    "1. What do you observe? Write a summary of your observations and store it as a string in the variable `observations_predictions`.\n",
    "\n",
    "\n",
    "**Threshold prediction**\n",
    "\n",
    "1. Choose an appropriate threshold for the daily average concentration of `chosen_compound`. Your model will predict whether or not this threshold is exceeded on a given day. It may be useful to consult the summary statistics and/or the kernel density plots you created in Step 2, Task 1. (But keep in mind that those were computed with the unaveraged data.) Assign this threshold to the variable `chosen_compound_threshold`.\n",
    "\n",
    "1. As you are predicting whether this threshold is exceeded, your dependent variable should be boolean. Create boolean series `y_train_mask` and `y_test_mask` that indicate, for every day, whether or not `chosen_compound_threshold` is **strictly** exceeded in `y_train` and `y_test` respectively.\n",
    "\n",
    "1. Create a **decision tree** model that predicts whether the daily average concentration of `chosen_compound` is larger than your threshold value. Store the *decision tree object* in a variable called `model`. Set an appropriate maximum depth for the tree.\n",
    "\n",
    "1. Compute and print the two **confusion matrices**, one for the training and one for the test data.\n",
    "\n",
    "1. To evaluate the performance of your model quantitatively, store the **accuracy** of its predictions (the fraction of correct predictions) on the **test data** in the variable `evaluation`.\n",
    "\n",
    "1. What do you observe? Write a summary of your observations and store it as a string in the variable `observations_predictions`."
   ]
  },
  {
   "cell_type": "code",
   "execution_count": null,
   "metadata": {},
   "outputs": [],
   "source": [
    "#// BEGIN_TODO [Predict_model] (10 points)\n",
    "\n",
    "# ===== =====> Replace this line by your code. <===== ===== #\n"
   ]
  },
  {
   "cell_type": "code",
   "execution_count": null,
   "metadata": {},
   "outputs": [],
   "source": [
    "#// END_TODO [Predict_model]"
   ]
  },
  {
   "cell_type": "markdown",
   "metadata": {},
   "source": [
    "---\n",
    "\n",
    "## Part 3"
   ]
  },
  {
   "cell_type": "markdown",
   "metadata": {},
   "source": [
    "### Step 4. Concluding Hypothesis\n",
    "\n",
    "What is the most important takeaway message concerning the relationship between air compounds and weather factors based on the analysis in the notebook? \n",
    "The purpose of this assignment was to explore the data at hand.\n",
    "Based on your discoveries, you can now formulate a hypothesis that indicates a direction for further investigation. \n",
    "Formulate your hypothesis in one sentence, and store it as a string in a variable named `hypothesis`.\n",
    "\n",
    "Use this hypothesis as the basis for the conclusion of your poster. \n",
    "Moreover, make sure that you include supporting empirical evidence for your hypothesis in your poster. \n",
    "This evidence could come from both the first and the second part of this assignment, i.e., both from the EDA part and the part in which you predicted the chosen air compound based on weather data.\n",
    "\n",
    "Note that the hypothesis may be negative, for instance, that there is no relationship between the chosen air compound and the analyzed weather factor(s)."
   ]
  },
  {
   "cell_type": "code",
   "execution_count": null,
   "metadata": {},
   "outputs": [],
   "source": [
    "#// BEGIN_TODO [Hypothesis] (1 point)\n",
    "\n",
    "# ===== =====> Replace this line by your code. <===== ===== #\n"
   ]
  },
  {
   "cell_type": "code",
   "execution_count": null,
   "metadata": {},
   "outputs": [],
   "source": [
    "#// END_TODO [Hypothesis]"
   ]
  },
  {
   "cell_type": "markdown",
   "metadata": {},
   "source": [
    "### Step 5. Create Your Poster\n",
    "\n",
    "Finally, create a poster on which you present and discuss your results. \n",
    "To this aim, you **must use the template of the poster available on Canvas**.\n",
    "There, you can also find more information on how to create your poster.\n",
    "We encourage you to use the space below to create extra visualizations and possibly perform extra computations for your poster.\n",
    "For example, you can:\n",
    "- Compare the concentrations of your two compounds against the chosen factor using z-scores for a **different month and year** (see Step 2 - Task 3).\n",
    "- Use a **different aggregation level or visualization** to identify **seasonal patterns** (see Step 2 - Task 5).\n",
    "- Identify the correlation between the concentration of the air compounds and a **different weather factor** (see Step 2 - Task 6).\n",
    "- Come up with a **new analysis** that you find relevant and interesting!\n",
    "\n",
    "\n",
    "<div class=\"alert alert-block alert-danger\">\n",
    "Also, ensure:\n",
    "    <ol>\n",
    "        <li>You include supporting empirical evidence for choosing your hypothesis in your poster.</li>\n",
    "        <li><b>The visualizations that you include in your poster, are also produced by your notebook.</b></li>\n",
    "        <li>Double-check if the visualizations are produced correctly on Momotor under the <b>Running submitted notebook</b> tab.</li>\n",
    "    </ol>\n",
    "</div>\n",
    "\n",
    "> **Note:** You are allowed to import additional libraries for this task, but make sure they do not cause errors in Momotor."
   ]
  },
  {
   "cell_type": "code",
   "execution_count": null,
   "metadata": {},
   "outputs": [],
   "source": [
    "#// BEGIN_TODO [Poster]\n",
    "\n",
    "# ===== =====> Replace this line by your code. <===== ===== #\n"
   ]
  },
  {
   "cell_type": "code",
   "execution_count": null,
   "metadata": {},
   "outputs": [],
   "source": [
    "#// END_TODO [Poster]"
   ]
  },
  {
   "cell_type": "markdown",
   "metadata": {},
   "source": [
    "---\n",
    "\n",
    "## References\n",
    "\n",
    "- AirNow. (n.d.). Air Quality Index (AQI) Basics. AQI Basics | AirNow.gov. Retrieved September 11, 2022, from https://www.airnow.gov/aqi/aqi-basics.\n",
    "- Czarnecka, M., & Nidzgorska-Lencewicz, J. (2011). Impact of Weather Conditions on Winter and Summer Air Quality. International Agrophysics, 25(1).\n",
    "- Grell, G., & Baklanov, A. (2011). Integrated Modeling for Forecasting Weather and Air Quality: A Call for Fully Coupled Approaches. Atmospheric Environment, 45(38), 6845-6851.\n",
    "- NOAA's National Weather Service. (2017, April 6). Weather-Ready Nation  National Program Clearing the Air on Weather and Air Quality. National Weather Service. Retrieved September 11, 2022, from https://www.weather.gov/wrn/summer-article-clearing-the-air.\n",
    "- Qin, Y., Wagner, F., Scovronick, N., Peng, W., Yang, J., Zhu, T., Smith, K. R., & Mauzerall, D. M. (2017). Air Quality, Health, and Climate Implications of China’s Synthetic Natural Gas Development. PNAS, 114(19)."
   ]
  },
  {
   "cell_type": "markdown",
   "metadata": {},
   "source": [
    "# Feedback\n",
    "\n",
    "Please fill in this questionaire to help us improve this course for the next year. Your feedback will be anonymized and will not affect your grade in any way!"
   ]
  },
  {
   "cell_type": "markdown",
   "metadata": {},
   "source": [
    "### How many hours did you spend on these Exercises?\n",
    "\n",
    "Assign a number to `feedback_time`."
   ]
  },
  {
   "cell_type": "code",
   "execution_count": null,
   "metadata": {},
   "outputs": [],
   "source": [
    "#// BEGIN_FEEDBACK [Feedback_1] (0 point)\n",
    "\n",
    "#// END_FEEDBACK [Feedback_1] (0 point)\n",
    "\n",
    "import numbers\n",
    "assert isinstance(feedback_time, numbers.Number), \"Please assign a number to feedback_time\"\n",
    "feedback_time"
   ]
  },
  {
   "cell_type": "markdown",
   "metadata": {},
   "source": [
    "### How difficult did you find these Exercises?\n",
    "\n",
    "Assign an integer to `feedback_difficulty`, on a scale 0 - 10, with 0 being very easy, 5 being just right, and 10 being very difficult."
   ]
  },
  {
   "cell_type": "code",
   "execution_count": null,
   "metadata": {},
   "outputs": [],
   "source": [
    "#// BEGIN_FEEDBACK [Feedback_2] (0 point)\n",
    "\n",
    "#// END_FEEDBACK [Feedback_2] (0 point)\n",
    "\n",
    "import numbers\n",
    "assert isinstance(feedback_difficulty, numbers.Number), \"Please assign a number to feedback_difficulty\"\n",
    "feedback_difficulty"
   ]
  },
  {
   "cell_type": "markdown",
   "metadata": {},
   "source": [
    "### (Optional) What did you like?\n",
    "\n",
    "Assign a string to `feedback_like`."
   ]
  },
  {
   "cell_type": "code",
   "execution_count": null,
   "metadata": {},
   "outputs": [],
   "source": [
    "#// BEGIN_FEEDBACK [Feedback_3] (0 point)\n",
    "\n",
    "#// END_FEEDBACK [Feedback_3] (0 point)"
   ]
  },
  {
   "cell_type": "markdown",
   "metadata": {},
   "source": [
    "### (Optional) What can be improved?\n",
    "\n",
    "Assign a string to `feedback_improve`. Please be specific, so that we can act on your feedback. For example, mention the specific exercises and what was unclear."
   ]
  },
  {
   "cell_type": "code",
   "execution_count": null,
   "metadata": {},
   "outputs": [],
   "source": [
    "#// BEGIN_FEEDBACK [Feedback_4] (0 point)\n",
    "\n",
    "#// END_FEEDBACK [Feedback_4] (0 point)"
   ]
  },
  {
   "cell_type": "markdown",
   "metadata": {},
   "source": [
    "\n",
    "\n",
    "\n",
    "## How to Submit Your Work\n",
    "\n",
    "1. **Before submitting**, you must run your notebook by doing **Kernel > Restart & Run All**.  \n",
    "   Make sure that your notebook runs without errors **in linear order**.\n",
    "1. Remember to rename the notebook, replacing `...-template.ipynb` with `...-yourIDnr.ipynb`, where `yourIDnr` is your TU/e identification number.\n",
    "1. Submit the executed notebook with your work\n",
    "   for the appropriate assignment in **Canvas**.\n",
    "1. In the **Momotor** tab in Canvas,\n",
    "  you can select that assignment again to find some feedback on your submitted work.\n",
    "  If there are any problems reported by _Momotor_,\n",
    "  then you need to fix those,\n",
    "  and **resubmit the fixed notebook**.\n",
    "\n",
    "In case of a high workload on our server\n",
    "(because many students submit close to the deadline),\n",
    "it may take longer to receive the feedback.\n",
    "\n",
    "\n"
   ]
  },
  {
   "cell_type": "markdown",
   "metadata": {},
   "source": [
    "---"
   ]
  },
  {
   "cell_type": "code",
   "execution_count": null,
   "metadata": {},
   "outputs": [],
   "source": [
    "# List all defined names\n",
    "%whos"
   ]
  },
  {
   "cell_type": "markdown",
   "metadata": {},
   "source": [
    "---\n",
    "\n",
    "# (End of Notebook) <span class=\"tocSkip\"></span>\n",
    "\n",
    "&copy; 2017-2023 - **TU/e** - Eindhoven University of Technology"
   ]
  }
 ],
 "metadata": {
  "anaconda-cloud": {},
  "hide_input": false,
  "kernelspec": {
   "display_name": "Python 3",
   "language": "python",
   "name": "python3"
  },
  "language_info": {
   "codemirror_mode": {
    "name": "ipython",
    "version": 3
   },
   "file_extension": ".py",
   "mimetype": "text/x-python",
   "name": "python",
   "nbconvert_exporter": "python",
   "pygments_lexer": "ipython3",
   "version": "3.8.8"
  },
  "toc": {
   "base_numbering": 1,
   "nav_menu": {
    "height": "264px",
    "width": "252px"
   },
   "number_sections": false,
   "sideBar": true,
   "skip_h1_title": false,
   "title_cell": "Table of Contents",
   "title_sidebar": "Contents",
   "toc_cell": true,
   "toc_position": {
    "height": "calc(100% - 180px)",
    "left": "10px",
    "top": "150px",
    "width": "234px"
   },
   "toc_section_display": "block",
   "toc_window_display": true
  },
  "vscode": {
   "interpreter": {
    "hash": "60e5673dee0b20898bfa4f3c497959fb0c8d0d39a7f6ea9d7f166a7012267d3f"
   }
  }
 },
 "nbformat": 4,
 "nbformat_minor": 4
}
