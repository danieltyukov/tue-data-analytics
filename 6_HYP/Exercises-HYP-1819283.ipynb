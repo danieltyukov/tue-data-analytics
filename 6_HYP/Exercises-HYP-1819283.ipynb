{
 "cells": [
  {
   "cell_type": "code",
   "execution_count": 1,
   "metadata": {},
   "outputs": [
    {
     "data": {
      "text/plain": [
       "('Daniel Tyukov', '1819283', '2023-03-24')"
      ]
     },
     "execution_count": 1,
     "metadata": {},
     "output_type": "execute_result"
    }
   ],
   "source": [
    "#// BEGIN_TODO [Author] Name, Id.nr., Date, as strings (1 point)\n",
    "\n",
    "AUTHOR_NAME = 'Daniel Tyukov'\n",
    "AUTHOR_ID_NR = '1819283'\n",
    "AUTHOR_DATE = '2023-03-24'\n",
    "\n",
    "#// END_TODO [Author]\n",
    "\n",
    "AUTHOR_NAME, AUTHOR_ID_NR, AUTHOR_DATE"
   ]
  },
  {
   "cell_type": "markdown",
   "metadata": {},
   "source": [
    "## Loading the Libraries\n",
    "\n",
    "To show examples, we load some Data Analytics libraries first:"
   ]
  },
  {
   "cell_type": "code",
   "execution_count": 1,
   "metadata": {},
   "outputs": [
    {
     "data": {
      "text/html": [
       "<style>.h,.c{display:none}.t{color:#296eaa}.t:active+.h{display:block;}</style>"
      ],
      "text/plain": [
       "<IPython.core.display.HTML object>"
      ]
     },
     "execution_count": 1,
     "metadata": {},
     "output_type": "execute_result"
    }
   ],
   "source": [
    "import numpy as np  # import auxiliary library, typical idiom\n",
    "import pandas as pd  # import the Pandas library, typical idiom\n",
    "\n",
    "# next command ensures that plots appear inside the notebook\n",
    "%matplotlib inline\n",
    "import math\n",
    "import matplotlib.pyplot as plt\n",
    "plt.rcParams['figure.figsize'] = 10, 5  # default hor./vert. size of plots, in inches\n",
    "plt.rcParams['lines.markeredgewidth'] = 1  # to fix issue with seaborn box plots; needed after import seaborn\n",
    "\n",
    "import seaborn as sns\n",
    "sns.set()  # set Seaborn defaults\n",
    "\n",
    "from sklearn.linear_model import LinearRegression  # for linear regression\n",
    "\n",
    "# reveal a hint only while holding the mouse down\n",
    "from IPython.display import HTML\n",
    "HTML(\"<style>.h,.c{display:none}.t{color:#296eaa}.t:active+.h{display:block;}</style>\")"
   ]
  },
  {
   "cell_type": "markdown",
   "metadata": {},
   "source": [
    "Next we load the _StatsModels_ library for doing statistics in Python (ignore the `FutureWarning`.)"
   ]
  },
  {
   "cell_type": "code",
   "execution_count": 2,
   "metadata": {},
   "outputs": [],
   "source": [
    "import statsmodels.api as sm\n",
    "import statsmodels"
   ]
  },
  {
   "cell_type": "markdown",
   "metadata": {},
   "source": [
    "---\n",
    "\n",
    "## 1. Hypothesis Testing for Equality of Means"
   ]
  },
  {
   "cell_type": "markdown",
   "metadata": {},
   "source": [
    "### Learning Objectives of This Section\n",
    "\n",
    "After this section, you should\n",
    "\n",
    "* know how to do _one-sided_ and _two-sided_ tests for **equality of the means**\n",
    "    of _one-sample_ and _two-sample_ data\n",
    "* know how to test whether data follows a normal distribution using\n",
    "\n",
    "  * a density plot\n",
    "  * a Q-Q plot\n",
    "  * the Anderson-Darling test statistic\n",
    "* know how to draw conclusions about acceptance or rejection of the null hypothesis based on:\n",
    "  * p-value resulting from the t-test\n",
    "  * Confidence intervals\n",
    "    "
   ]
  },
  {
   "cell_type": "markdown",
   "metadata": {},
   "source": [
    "### Example: Speed of Light\n",
    "\n",
    "In the 19th century,\n",
    "French physicists Fizeau and Foucault independently invented ways to measure the speed of light in vacuum.\n",
    "Foucault's method turned out to be the most accurate one.\n",
    "The Foucault method is based on fast rotation mirrors.\n",
    "The American physicists Michelson and Newcomb improved Foucault's method. \n",
    "The data set `datasets/light_michelson.csv` contains measurements by Michelson from 1880 and `datasets/light_newcomb.csv` contains measurements by Newcomb from 1882."
   ]
  },
  {
   "cell_type": "code",
   "execution_count": 3,
   "metadata": {},
   "outputs": [
    {
     "data": {
      "text/html": [
       "<div>\n",
       "<style scoped>\n",
       "    .dataframe tbody tr th:only-of-type {\n",
       "        vertical-align: middle;\n",
       "    }\n",
       "\n",
       "    .dataframe tbody tr th {\n",
       "        vertical-align: top;\n",
       "    }\n",
       "\n",
       "    .dataframe thead th {\n",
       "        text-align: right;\n",
       "    }\n",
       "</style>\n",
       "<table border=\"1\" class=\"dataframe\">\n",
       "  <thead>\n",
       "    <tr style=\"text-align: right;\">\n",
       "      <th></th>\n",
       "      <th>Speed [km/s]</th>\n",
       "    </tr>\n",
       "  </thead>\n",
       "  <tbody>\n",
       "    <tr>\n",
       "      <th>0</th>\n",
       "      <td>299942</td>\n",
       "    </tr>\n",
       "    <tr>\n",
       "      <th>1</th>\n",
       "      <td>299832</td>\n",
       "    </tr>\n",
       "    <tr>\n",
       "      <th>2</th>\n",
       "      <td>299992</td>\n",
       "    </tr>\n",
       "    <tr>\n",
       "      <th>3</th>\n",
       "      <td>300162</td>\n",
       "    </tr>\n",
       "    <tr>\n",
       "      <th>4</th>\n",
       "      <td>300022</td>\n",
       "    </tr>\n",
       "  </tbody>\n",
       "</table>\n",
       "</div>"
      ],
      "text/plain": [
       "   Speed [km/s]\n",
       "0        299942\n",
       "1        299832\n",
       "2        299992\n",
       "3        300162\n",
       "4        300022"
      ]
     },
     "execution_count": 3,
     "metadata": {},
     "output_type": "execute_result"
    }
   ],
   "source": [
    "df_michelson = pd.read_csv(\"datasets/light_michelson.csv\")\n",
    "df_michelson.head()"
   ]
  },
  {
   "cell_type": "code",
   "execution_count": 4,
   "metadata": {},
   "outputs": [
    {
     "data": {
      "text/html": [
       "<div>\n",
       "<style scoped>\n",
       "    .dataframe tbody tr th:only-of-type {\n",
       "        vertical-align: middle;\n",
       "    }\n",
       "\n",
       "    .dataframe tbody tr th {\n",
       "        vertical-align: top;\n",
       "    }\n",
       "\n",
       "    .dataframe thead th {\n",
       "        text-align: right;\n",
       "    }\n",
       "</style>\n",
       "<table border=\"1\" class=\"dataframe\">\n",
       "  <thead>\n",
       "    <tr style=\"text-align: right;\">\n",
       "      <th></th>\n",
       "      <th>Speed [km/s]</th>\n",
       "    </tr>\n",
       "  </thead>\n",
       "  <tbody>\n",
       "    <tr>\n",
       "      <th>0</th>\n",
       "      <td>299730.154255</td>\n",
       "    </tr>\n",
       "    <tr>\n",
       "      <th>1</th>\n",
       "      <td>299814.680525</td>\n",
       "    </tr>\n",
       "    <tr>\n",
       "      <th>2</th>\n",
       "      <td>299790.525298</td>\n",
       "    </tr>\n",
       "    <tr>\n",
       "      <th>3</th>\n",
       "      <td>299826.759599</td>\n",
       "    </tr>\n",
       "    <tr>\n",
       "      <th>4</th>\n",
       "      <td>299778.449144</td>\n",
       "    </tr>\n",
       "  </tbody>\n",
       "</table>\n",
       "</div>"
      ],
      "text/plain": [
       "    Speed [km/s]\n",
       "0  299730.154255\n",
       "1  299814.680525\n",
       "2  299790.525298\n",
       "3  299826.759599\n",
       "4  299778.449144"
      ]
     },
     "execution_count": 4,
     "metadata": {},
     "output_type": "execute_result"
    }
   ],
   "source": [
    "df_newcomb = pd.read_csv(\"datasets/light_newcomb.csv\")\n",
    "df_newcomb.head()"
   ]
  },
  {
   "cell_type": "markdown",
   "metadata": {},
   "source": [
    "### Step 1 (Speed of Light): Define Quantitative Question\n",
    "\n",
    "We wish to test whether Newcombs measurements where accurate. The speed of light in vacuum is defined to be 299 792.458 km/s. We can define a quantitative question as follows:\n",
    "\n",
    "> Is Newcomb's estimate of the speed of light significantly different from 299 792.458 km/s?"
   ]
  },
  {
   "cell_type": "markdown",
   "metadata": {},
   "source": [
    "### Step 2 (Speed of Light): Formulate Hypothesis\n",
    "\n",
    "As we have seen in the lectures, there are two different types of hypotheses which then define which hypothesis test to choose. We are either interested in the equality of means or in the equality of proportions. It is important to consciously choose between the two.\n",
    "\n",
    "In our case we are interested in the speed of light measured by Newcomb. We want to compare the experimental data mean with the currently known value. Hence we are interested in the **equality of means** on **one-sample** data.\n",
    "\n",
    "As defined in step 1, we are interested in equality. We do not hypothesize Newcombs measurement to be greater or smaller. Therefore we should formulate a **two-sided** alternative hypothesis. \n",
    "\n",
    "In short, we will define a **two-sided** hypothesis for **equality of means** on **one-sample** data.\n",
    "\n",
    "The corresponding hypotheses are\n",
    "\n",
    "$$H_0:\\mu_{newcomb}=299792.458$$\n",
    "\n",
    "$$H_a:\\mu_{newcomb}\\neq299792.458$$ \n",
    "\n",
    "The appropriate test you were taught for this situation is:\n",
    "* **t-test for equality of means**"
   ]
  },
  {
   "cell_type": "markdown",
   "metadata": {},
   "source": [
    "### Step 3 (Speed of Light): Check Assumptions\n",
    "\n",
    "As explained in the lecture a **t-test for equality of means** is appropriate under the assumption that the data comes from a normal distribution *or* the dataset is large. If the dataset is small *and* not normally distributed, the test would not be valid. Therefore, before doing the test we should verify that this assumption holds.\n",
    "\n",
    "As a rule of thumb in these exercises, a dataset is considered small if it contains fewer than 50 samples. In general, deciding if a dataset should be considered small is complicated and outside the scope of this course.\n",
    "\n",
    "We present three techniques to test for normality:\n",
    "\n",
    "* A **kernel density plot** (which we already encountered in the EDA exercises)\n",
    "* A **Q-Q plot** (which was mentioned in the EDA Lecture, but not yet practiced)\n",
    "* The **Anderson-Darling normality test**\n",
    "\n",
    "Note that when the dataset is large, normality is not needed for the t-test for equality of means to be valid.\n",
    "\n",
    "In the examples below we will test the `df_newcomb` data for normality. Let's see how large it is:"
   ]
  },
  {
   "cell_type": "code",
   "execution_count": 5,
   "metadata": {},
   "outputs": [
    {
     "data": {
      "text/plain": [
       "56"
      ]
     },
     "execution_count": 5,
     "metadata": {},
     "output_type": "execute_result"
    }
   ],
   "source": [
    "len(df_newcomb)"
   ]
  },
  {
   "cell_type": "markdown",
   "metadata": {},
   "source": [
    "Since it contains more than 50 samples, strictly speaking we would not need to test for normality before performing the t-test for equality of means. However, we will use it to illustrate the methods."
   ]
  },
  {
   "cell_type": "markdown",
   "metadata": {},
   "source": [
    "#### Kernel Density Plot\n",
    "\n",
    "This is a visual check, where you compare the kernel density plot of the actual data to the\n",
    "'ideal' bell curve of the normal (or Gaussian) distribution.\n",
    "\n",
    "Let's first set the default figure size to a square aspect ratio."
   ]
  },
  {
   "cell_type": "code",
   "execution_count": 6,
   "metadata": {},
   "outputs": [],
   "source": [
    "plt.rcParams['figure.figsize'] = 8, 8  # square plots"
   ]
  },
  {
   "cell_type": "markdown",
   "metadata": {},
   "source": [
    "Here is the kernel density plot for Newcomb's measurements:"
   ]
  },
  {
   "cell_type": "code",
   "execution_count": 7,
   "metadata": {},
   "outputs": [
    {
     "data": {
      "image/png": "[encoded data removed]",
      "text/plain": [
       "<Figure size 576x576 with 1 Axes>"
      ]
     },
     "metadata": {},
     "output_type": "display_data"
    }
   ],
   "source": [
    "df_newcomb.plot(kind='density');"
   ]
  },
  {
   "cell_type": "markdown",
   "metadata": {},
   "source": [
    "Despite a small wobble, the distribution looks close to a normal distribution.\n",
    "\n",
    "#### Q-Q Plot\n",
    "\n",
    "While a kernel density plot gives a global overview and can easily indicate patterns in the data like two groups or asymmetry, you cannot see whether the normal distribution really fits (e.g., you cannot judge from it whether tails decay sufficiently fast). This is where a Q-Q plot can be used.\n",
    "\n",
    "In a Q-Q plot, the data are transformed such that a normal distribution would follow a straight line at 45 degrees. The straight line is convenient since it is easy to check visually whether points are on a straight line.\n",
    "\n",
    "You can create Q-Q plots using **`sm.qqplot()`**\n",
    "([documentation](https://www.statsmodels.org/stable/generated/statsmodels.graphics.gofplots.qqplot.html)).\n",
    "\n",
    "> **Note:** Unlike the other plotting methods we used in this course, `sm.qqplot()` does not return an `axes` object. Therefore, to assign a title using `.set_title()` we create a 1x1 subplot.\n",
    "\n",
    "Let us we create a Q-Q plot for the speed of light data:"
   ]
  },
  {
   "cell_type": "code",
   "execution_count": 8,
   "metadata": {},
   "outputs": [
    {
     "data": {
      "image/png": "[encoded data removed]",
      "text/plain": [
       "<Figure size 576x576 with 1 Axes>"
      ]
     },
     "metadata": {},
     "output_type": "display_data"
    }
   ],
   "source": [
    "fig, ax = plt.subplots(nrows=1, ncols=1, sharex=True, sharey=True, squeeze=False)\n",
    "sm.qqplot(df_newcomb['Speed [km/s]'], fit=True, line='45', ax=ax[0,0])\n",
    "ax[0,0].set_title('Q-Q plot for Newcombs measurements');"
   ]
  },
  {
   "cell_type": "markdown",
   "metadata": {},
   "source": [
    "In a Q-Q plot, the closer the data points stay to the diagonal (45-degree line in red),\n",
    "the more the data follows a normal distribution.\n",
    "\n",
    "Here, the data again seems to be reasonably normally distributed.\n",
    "\n",
    "#### Anderson-Darling Normality Test\n",
    "\n",
    "We can also compute a (numerical) test statistic that tests for normality,\n",
    "using **`sm.stats.normal_ad()`**\n",
    "([documentation](https://www.statsmodels.org/stable/generated/statsmodels.stats.diagnostic.normal_ad.html)).\n",
    "It returns a pair: the **Anderson-Darling test statistic** (a floating-point number) and\n",
    "its **p-value**.\n",
    "\n",
    "When applying an Anderson Darling test, we assume that the data is normally distributed. This is our null hypothesis. The first number is the test statistic. The second number is the p-value. This p-value expresses the likelihood that the test statistic has this value under the null hypothesis. If this p-value is lower than 0.05, there is a less than 5% chance that this data would occur when drawn from a normal distribution. In that case we reject the null hypothesis and thus normality of our data.\n",
    "\n",
    "We compute the Anderson-Darling test statistic and the p-value for the data:"
   ]
  },
  {
   "cell_type": "code",
   "execution_count": 8,
   "metadata": {},
   "outputs": [
    {
     "data": {
      "text/plain": [
       "(0.16635374494890343, 0.8327921522120103)"
      ]
     },
     "execution_count": 8,
     "metadata": {},
     "output_type": "execute_result"
    }
   ],
   "source": [
    "sm.stats.normal_ad(df_newcomb['Speed [km/s]'])\n",
    "sm.stats.normal_ad(np.array([0.430, 0.712, 0.885, 1.08]))"
   ]
  },
  {
   "cell_type": "markdown",
   "metadata": {},
   "source": [
    "In our case,\n",
    "the p-value is much larger than 0.05,\n",
    "indicating that this data set is **not** unlikely under the assumption\n",
    "that it is from a normal distribution.\n",
    "\n",
    "Hence from all three methods we see no evidence which indicates that the normality assumption has been violated and we can thus safely apply the **t-test for equality of means**."
   ]
  },
  {
   "cell_type": "markdown",
   "metadata": {},
   "source": [
    "### Step 4 (Speed of Light): Apply Appropriate Test\n",
    "\n",
    "We defined a **two-sided** hypothesis for **equality of means** on **one-sample** data and verified that the assumption of normality does not appear to be violated. Now we can apply the appropriate test. In our case this is:\n",
    "* **t-test for equality of means**\n",
    "\n",
    "We wish to test whether the mean of the sample is equal to the currently known value for the speed of light or there is a significant difference.\n"
   ]
  },
  {
   "cell_type": "markdown",
   "metadata": {},
   "source": [
    "#### t-test for Equality of Means (One-sample)"
   ]
  },
  {
   "cell_type": "markdown",
   "metadata": {},
   "source": [
    "For convenience, we repeat our hypothesis\n",
    "\n",
    "$$H_0:\\mu_{newcomb}=299792.458$$\n",
    "\n",
    "$$H_a:\\mu_{newcomb}\\neq 299792.458$$"
   ]
  },
  {
   "cell_type": "markdown",
   "metadata": {},
   "source": [
    "Carrying out this kind of test in Python with _StatsModels_ involves three steps:\n",
    "\n",
    "1. **Preprocess the data** using **ds = `sm.stats.DescrStatsW()`**.\n",
    "1. **Extract test parameters** using\n",
    "\n",
    "    * **`ds.ttest_mean(value, alternative='...')`** for **t-test statistic**, **p-value**, and\n",
    "        **degrees of freedom**,\n",
    "    * **`ds.tconfint_mean(alpha=..., alternative='...')`** for the **confidence interval**\n",
    "    \n",
    "    where\n",
    "    \n",
    "        * `value` is the value we are comparing the sample mean to,\n",
    "        * `alternative=` argument is one of \n",
    "\n",
    "            - `'two-sided'` (meaning the alternative hypothesis is $\\mu \\neq \\mu_0$),\n",
    "            - `'larger'` (meaning the alternative hypothesis is $\\mu > \\mu_0$),\n",
    "            - `'smaller'` (meaning the alternative hypothesis is $\\mu < \\mu_0$),\n",
    "\n",
    "        * `alpha=` argument is the significance level, e.g. `alpha=0.05` corresponding to the 95% confidence interval."
   ]
  },
  {
   "cell_type": "markdown",
   "metadata": {},
   "source": [
    "**Preprocess the data (one-sample)**\n",
    "\n",
    "First, we preprocess the data sample and its expected mean separately.\n",
    "The resulting objects will be inputs to the actual comparison test."
   ]
  },
  {
   "cell_type": "code",
   "execution_count": 9,
   "metadata": {},
   "outputs": [],
   "source": [
    "d_newcomb = sm.stats.DescrStatsW(df_newcomb['Speed [km/s]'])"
   ]
  },
  {
   "cell_type": "markdown",
   "metadata": {},
   "source": [
    "**Extract t-test statistic and p-value (one-sample)**\n",
    "\n",
    "The function `ds.ttest_mean(alternative='...')`\n",
    "returns the value of the t-test statistic and its p-value.\n",
    "It also returns as third value the *degrees of freedom*,\n",
    "but this value can be ignored, since we will not use it.\n",
    "\n",
    "Here are these values for the two-sided test, as we are considering the following alternative hypothesis:\n",
    "$𝐻_𝑎:\\mu_{newcomb}\\neq 299792.458$"
   ]
  },
  {
   "cell_type": "code",
   "execution_count": 10,
   "metadata": {},
   "outputs": [
    {
     "data": {
      "text/plain": [
       "(-5.957593962870322, 1.8835359208278103e-07, 55.0)"
      ]
     },
     "execution_count": 10,
     "metadata": {},
     "output_type": "execute_result"
    }
   ],
   "source": [
    "d_newcomb.ttest_mean(299792.458, alternative='two-sided')"
   ]
  },
  {
   "cell_type": "markdown",
   "metadata": {},
   "source": [
    "The **p-value** is the one in the middle."
   ]
  },
  {
   "cell_type": "markdown",
   "metadata": {},
   "source": [
    "**Extract confidence interval (one-sample)**"
   ]
  },
  {
   "cell_type": "markdown",
   "metadata": {},
   "source": [
    "The function `ds.tconfint_mean(alpha=..., alternative='...')` returns the\n",
    "confidence interval for the mean of the sample, with a confidence level of $1 - \\alpha$.\n",
    "For $\\alpha=0.05$ the interval gives a range where the mean is in with a probability of 0.95. Note that a one-sided interval with $\\alpha=0.025$ has one boundary similar to the two-sided interval with $\\alpha=0.05$."
   ]
  },
  {
   "cell_type": "code",
   "execution_count": 11,
   "metadata": {},
   "outputs": [
    {
     "data": {
      "text/plain": [
       "(299731.10613570415, 299761.9922101517)"
      ]
     },
     "execution_count": 11,
     "metadata": {},
     "output_type": "execute_result"
    }
   ],
   "source": [
    "d_newcomb.tconfint_mean(alpha=0.05, alternative='two-sided')"
   ]
  },
  {
   "cell_type": "markdown",
   "metadata": {},
   "source": [
    "#### t-test for Equality of Means (Two-sample)"
   ]
  },
  {
   "cell_type": "markdown",
   "metadata": {},
   "source": [
    "Let us now compare the measurements by Newcomb to those by Michelson to see if their speed of light estimates were actually that different.\n",
    "\n",
    "Our hypothesis becomes\n",
    "\n",
    "$$H_0:\\mu_{newcomb} = \\mu_{michelson}$$\n",
    "\n",
    "$$H_a:\\mu_{newcomb} \\neq \\mu_{michelson}$$\n",
    "\n",
    "This is an example of a **two-sided** hypothesis for **equality of means** on **two-sample** data.\n",
    "\n",
    "> **Note:** Before we apply the test we must check that all the assumptions are met, i.e. that both samples (Newcomb's and Michelson's) come from a normal distribution or that they are large. We did the check for Newcomb data already. If you do the check for Michelson data you will see that it is also met."
   ]
  },
  {
   "cell_type": "markdown",
   "metadata": {},
   "source": [
    "Carrying out this kind of test in Python with _StatsModels_ involves two steps:\n",
    "\n",
    "1. **Preprocess the data** using **`sm.stats.DescrStatsW()`**, creating *descriptive statistics objects* **`d1`** and **`d2`** for the two samples we want to compare,\n",
    "1. **Extract test parameters** using\n",
    "    * **`cm = sm.stats.CompareMeans(d1, d2)`** to create a *test object* **`cm`**, comparing **`d1`** to **`d2`**,\n",
    "    * **`cm.ttest_ind(alternative='...')`** for **t-test statistic**, **p-value**, and\n",
    "        **degrees of freedom**,\n",
    "    * **`cm.tconfint_diff(alpha=..., alternative='...')`** for the **confidence interval**,\n",
    "    \n",
    "    where\n",
    "        * `alternative=` is one of\n",
    "            - `'two-sided'` (meaning the alternative hypothesis is $\\mu_1 \\neq \\mu_2$),\n",
    "            - `'larger'` (meaning the alternative hypothesis is $\\mu_1 > \\mu_2$),\n",
    "            - `'smaller'` (meaning the alternative hypothesis is $\\mu_1 < \\mu_2$),\n",
    "        * `alpha=` argument is the significance level, e.g. `alpha=0.05` corresponding to the 95% confidence interval."
   ]
  },
  {
   "cell_type": "markdown",
   "metadata": {},
   "source": [
    "**Preprocess the data (two-sample)**\n",
    "\n",
    "First, we preprocess the data sample and its expected mean separately.\n",
    "The resulting objects will be inputs to the actual comparison test."
   ]
  },
  {
   "cell_type": "code",
   "execution_count": 12,
   "metadata": {},
   "outputs": [],
   "source": [
    "d_newcomb = sm.stats.DescrStatsW(df_newcomb['Speed [km/s]'])\n",
    "d_michelson = sm.stats.DescrStatsW(df_michelson['Speed [km/s]'])"
   ]
  },
  {
   "cell_type": "markdown",
   "metadata": {},
   "source": [
    "Next, we create the test object using the preprocessed data:"
   ]
  },
  {
   "cell_type": "code",
   "execution_count": 13,
   "metadata": {},
   "outputs": [],
   "source": [
    "cm = sm.stats.CompareMeans(d_newcomb, d_michelson)"
   ]
  },
  {
   "cell_type": "markdown",
   "metadata": {},
   "source": [
    "**Extract t-test statistic and p-value (two-sample)**\n",
    "\n",
    "The function `cm.ttest_ind(alternative='...')`\n",
    "returns the value of the t-test statistic and its p-value.\n",
    "It also returns as third value the *degrees of freedom*,\n",
    "but this value can be ignored, since we will not use it.\n",
    "\n",
    "Here are these values for the two-sided test, as we are considering the following alternative hypothesis:\n",
    "$𝐻_𝑎:\\mu_{newcomb} \\neq \\mu_{michelson}$"
   ]
  },
  {
   "cell_type": "code",
   "execution_count": 14,
   "metadata": {},
   "outputs": [
    {
     "data": {
      "text/plain": [
       "(-16.437497750224615, 1.0487810072421076e-35, 154.0)"
      ]
     },
     "execution_count": 14,
     "metadata": {},
     "output_type": "execute_result"
    }
   ],
   "source": [
    "cm.ttest_ind(alternative='two-sided')"
   ]
  },
  {
   "cell_type": "markdown",
   "metadata": {},
   "source": [
    "The **p-value** is the one in the middle."
   ]
  },
  {
   "cell_type": "markdown",
   "metadata": {},
   "source": [
    "**Extract confidence interval (two-sample)**"
   ]
  },
  {
   "cell_type": "markdown",
   "metadata": {},
   "source": [
    "The function `cm.tconfint_diff(alpha=..., alternative='...')` returns the\n",
    "confidence interval for the _difference between the means_ of the two samples (first minus second),\n",
    "with a confidence level of $1 - \\alpha$.\n",
    "For $\\alpha=0.05$ the interval gives a range where the difference is in with a probability of 0.95."
   ]
  },
  {
   "cell_type": "code",
   "execution_count": 15,
   "metadata": {},
   "outputs": [
    {
     "data": {
      "text/plain": [
       "(-221.6288954940909, -174.07275865012264)"
      ]
     },
     "execution_count": 15,
     "metadata": {},
     "output_type": "execute_result"
    }
   ],
   "source": [
    "cm.tconfint_diff(alpha=0.05, alternative='two-sided')"
   ]
  },
  {
   "cell_type": "markdown",
   "metadata": {},
   "source": [
    "### Step 5 (Speed of Light): Decision\n",
    "\n",
    "The **p-value** and the **confidence interval** both express the same information in a different form. \n",
    "\n",
    "#### p-value\n",
    "\n",
    "The **p-value** is the easiest to interpret. When it is lower than a chosen $\\alpha$ (typically $0.05$) we reject the null hypothesis.\n",
    "\n",
    "From the p-value calculated in step 4 for the *one-sample* case, \n",
    "we see that in the case of a two-sided test with $\\alpha=0.05$,\n",
    "the *null hypothesis is rejected* (p-value is smaller than $\\alpha$).\n",
    "\n",
    "From the p-value calculated in step 4 for the *two-sample* case, \n",
    "we see that in the case of a two-sided test with $\\alpha=0.05$,\n",
    "the *null hypothesis is also rejected*.\n",
    "\n",
    "#### Confidence Interval\n",
    "\n",
    "For the *one-sample* case, the **confidence interval** can be interpreted in the following way. The confidence interval expresses the values between which the *mean* lies with 95% confidence. If the confidence interval contains the reference value (no difference in means) we cannot reject the null hypothesis. Otherwise, we reject the null hypothesis.\n",
    "\n",
    "From the confidence interval calculated in step 4 for the *one-sample* case, we can see that the *null hypothesis is rejected*, because it does not contain the reference value for speed of light 299792.458.\n",
    "\n",
    "For the *two-sample* case, the **confidence interval** can be interpreted in the following way. The confidence interval expresses the values between which the *difference between means* lies with 95% confidence. If the confidence interval contains 0 (no difference in means) we cannot reject the null hypothesis. Otherwise, we reject the null hypothesis.\n",
    "\n",
    "From the confidence interval calculated in step 4 for the *two-sample* case, we can see that the *null hypothesis is rejected*, because it does not contain the value 0, meaning that means are different."
   ]
  },
  {
   "cell_type": "markdown",
   "metadata": {},
   "source": [
    "## Exercise: Cloud Seeding\n",
    "\n",
    "You are now going to repeat the preceding tests for equality of the mean for a different dataset on _cloud seeding_.\n",
    "\n",
    "To improve rain fall in dry areas, an experiment was carried out with 52 clouds.\n",
    "Scientists investigated whether the addition of _silver nitrate_ __increases__ the rainfall.\n",
    "They chose 26 out of a sample of 52 clouds and seeded it with silver nitrate.\n",
    "The remaining 26 clouds were not treated with silver nitrate.\n",
    "\n",
    "The data set `./datasets/clouds.csv` records the rainfall in _feet per acre_.\n",
    "The dataset was constructed to test whether the addition of silver nitrate on clouds causes more rainfall.\n",
    "There are two samples: one column _with_ the silver nitrate treatment and one column _without_ the treatment."
   ]
  },
  {
   "cell_type": "code",
   "execution_count": 16,
   "metadata": {},
   "outputs": [
    {
     "data": {
      "text/html": [
       "<div>\n",
       "<style scoped>\n",
       "    .dataframe tbody tr th:only-of-type {\n",
       "        vertical-align: middle;\n",
       "    }\n",
       "\n",
       "    .dataframe tbody tr th {\n",
       "        vertical-align: top;\n",
       "    }\n",
       "\n",
       "    .dataframe thead th {\n",
       "        text-align: right;\n",
       "    }\n",
       "</style>\n",
       "<table border=\"1\" class=\"dataframe\">\n",
       "  <thead>\n",
       "    <tr style=\"text-align: right;\">\n",
       "      <th></th>\n",
       "      <th>without</th>\n",
       "      <th>with</th>\n",
       "    </tr>\n",
       "  </thead>\n",
       "  <tbody>\n",
       "    <tr>\n",
       "      <th>0</th>\n",
       "      <td>1202.6</td>\n",
       "      <td>2745.6</td>\n",
       "    </tr>\n",
       "    <tr>\n",
       "      <th>1</th>\n",
       "      <td>830.1</td>\n",
       "      <td>1697.8</td>\n",
       "    </tr>\n",
       "    <tr>\n",
       "      <th>2</th>\n",
       "      <td>372.4</td>\n",
       "      <td>1656.0</td>\n",
       "    </tr>\n",
       "    <tr>\n",
       "      <th>3</th>\n",
       "      <td>345.5</td>\n",
       "      <td>978.0</td>\n",
       "    </tr>\n",
       "    <tr>\n",
       "      <th>4</th>\n",
       "      <td>321.2</td>\n",
       "      <td>703.4</td>\n",
       "    </tr>\n",
       "    <tr>\n",
       "      <th>5</th>\n",
       "      <td>244.3</td>\n",
       "      <td>489.1</td>\n",
       "    </tr>\n",
       "    <tr>\n",
       "      <th>6</th>\n",
       "      <td>163.0</td>\n",
       "      <td>430.0</td>\n",
       "    </tr>\n",
       "    <tr>\n",
       "      <th>7</th>\n",
       "      <td>147.8</td>\n",
       "      <td>334.1</td>\n",
       "    </tr>\n",
       "    <tr>\n",
       "      <th>8</th>\n",
       "      <td>95.0</td>\n",
       "      <td>302.8</td>\n",
       "    </tr>\n",
       "    <tr>\n",
       "      <th>9</th>\n",
       "      <td>87.0</td>\n",
       "      <td>274.7</td>\n",
       "    </tr>\n",
       "    <tr>\n",
       "      <th>10</th>\n",
       "      <td>81.2</td>\n",
       "      <td>274.7</td>\n",
       "    </tr>\n",
       "    <tr>\n",
       "      <th>11</th>\n",
       "      <td>68.5</td>\n",
       "      <td>255.0</td>\n",
       "    </tr>\n",
       "    <tr>\n",
       "      <th>12</th>\n",
       "      <td>47.3</td>\n",
       "      <td>242.5</td>\n",
       "    </tr>\n",
       "    <tr>\n",
       "      <th>13</th>\n",
       "      <td>41.1</td>\n",
       "      <td>200.7</td>\n",
       "    </tr>\n",
       "    <tr>\n",
       "      <th>14</th>\n",
       "      <td>36.6</td>\n",
       "      <td>198.6</td>\n",
       "    </tr>\n",
       "    <tr>\n",
       "      <th>15</th>\n",
       "      <td>29.0</td>\n",
       "      <td>129.6</td>\n",
       "    </tr>\n",
       "    <tr>\n",
       "      <th>16</th>\n",
       "      <td>28.6</td>\n",
       "      <td>119.0</td>\n",
       "    </tr>\n",
       "    <tr>\n",
       "      <th>17</th>\n",
       "      <td>26.3</td>\n",
       "      <td>118.3</td>\n",
       "    </tr>\n",
       "    <tr>\n",
       "      <th>18</th>\n",
       "      <td>26.1</td>\n",
       "      <td>115.3</td>\n",
       "    </tr>\n",
       "    <tr>\n",
       "      <th>19</th>\n",
       "      <td>24.4</td>\n",
       "      <td>92.4</td>\n",
       "    </tr>\n",
       "    <tr>\n",
       "      <th>20</th>\n",
       "      <td>21.7</td>\n",
       "      <td>40.6</td>\n",
       "    </tr>\n",
       "    <tr>\n",
       "      <th>21</th>\n",
       "      <td>17.3</td>\n",
       "      <td>32.7</td>\n",
       "    </tr>\n",
       "    <tr>\n",
       "      <th>22</th>\n",
       "      <td>11.5</td>\n",
       "      <td>31.4</td>\n",
       "    </tr>\n",
       "    <tr>\n",
       "      <th>23</th>\n",
       "      <td>4.9</td>\n",
       "      <td>17.5</td>\n",
       "    </tr>\n",
       "    <tr>\n",
       "      <th>24</th>\n",
       "      <td>4.9</td>\n",
       "      <td>7.7</td>\n",
       "    </tr>\n",
       "    <tr>\n",
       "      <th>25</th>\n",
       "      <td>1.0</td>\n",
       "      <td>4.1</td>\n",
       "    </tr>\n",
       "  </tbody>\n",
       "</table>\n",
       "</div>"
      ],
      "text/plain": [
       "    without    with\n",
       "0    1202.6  2745.6\n",
       "1     830.1  1697.8\n",
       "2     372.4  1656.0\n",
       "3     345.5   978.0\n",
       "4     321.2   703.4\n",
       "5     244.3   489.1\n",
       "6     163.0   430.0\n",
       "7     147.8   334.1\n",
       "8      95.0   302.8\n",
       "9      87.0   274.7\n",
       "10     81.2   274.7\n",
       "11     68.5   255.0\n",
       "12     47.3   242.5\n",
       "13     41.1   200.7\n",
       "14     36.6   198.6\n",
       "15     29.0   129.6\n",
       "16     28.6   119.0\n",
       "17     26.3   118.3\n",
       "18     26.1   115.3\n",
       "19     24.4    92.4\n",
       "20     21.7    40.6\n",
       "21     17.3    32.7\n",
       "22     11.5    31.4\n",
       "23      4.9    17.5\n",
       "24      4.9     7.7\n",
       "25      1.0     4.1"
      ]
     },
     "execution_count": 16,
     "metadata": {},
     "output_type": "execute_result"
    }
   ],
   "source": [
    "df_clouds = pd.read_csv(\"./datasets/clouds.csv\")\n",
    "df_clouds"
   ]
  },
  {
   "cell_type": "markdown",
   "metadata": {},
   "source": [
    "Your task in this exercise is to perform the correct statistical test corresponding to the question whether cloud seeding has effect."
   ]
  },
  {
   "cell_type": "markdown",
   "metadata": {},
   "source": [
    "### Step 1 (Cloud Seeding): Define Quantitative Question\n",
    "\n",
    "#### Exercise 1.a\n",
    "Choose the option that matches our situation best and assign either `'a'`, `'b'`, `'c'` or `'d'` to the variable `question_cloud`.\n",
    "\n",
    "> a. Does cloud seeding work? <br>\n",
    "> b. Is there a difference in average rainfall when cloud seeding has been applied? <br>\n",
    "> c. Does application of cloud seeding increase average rainfall?<br>\n",
    "> d. Does application of cloud seeding increase proportion of rainfall?"
   ]
  },
  {
   "cell_type": "code",
   "execution_count": 17,
   "metadata": {},
   "outputs": [],
   "source": [
    "#// BEGIN_TODO [HYP_1a] Define quantitative question (1 point)\n",
    "\n",
    "question_cloud = 'c'\n",
    "\n",
    "#// END_TODO [HYP_1a]"
   ]
  },
  {
   "cell_type": "markdown",
   "metadata": {},
   "source": [
    "### Step 2 (Cloud Seeding): Formulate Hypothesis\n",
    "\n",
    "#### Exercise 1.b\n",
    "Formulate the question you chose above as statistical hypotheses. Encode them as strings in the following way:\n",
    "\n",
    "- For the null hypothesis use `'mu_with=mu_without'`, using `mu` for comparing means.\n",
    "- For the alternative hypothesis use `!=`, `>` or `<`, e.g. `'mu_with<mu_without'`.\n",
    "\n",
    "Assign the null and alternative hypotheses encoded as strings to variables `H_0_cloud` and `H_a_cloud`, respectively."
   ]
  },
  {
   "cell_type": "code",
   "execution_count": 18,
   "metadata": {},
   "outputs": [
    {
     "data": {
      "text/plain": [
       "('mu_with=mu_without', 'mu_with>mu_without')"
      ]
     },
     "execution_count": 18,
     "metadata": {},
     "output_type": "execute_result"
    }
   ],
   "source": [
    "#// BEGIN_TODO [HYP_1b] Formulate hypothesis(1 point)\n",
    "\n",
    "H_0_cloud = 'mu_with=mu_without'\n",
    "H_a_cloud = 'mu_with>mu_without'\n",
    "\n",
    "#// END_TODO [HYP_1b]\n",
    "H_0_cloud, H_a_cloud"
   ]
  },
  {
   "cell_type": "markdown",
   "metadata": {},
   "source": [
    "### Step 3 (Cloud Seeding): Check Assumptions\n",
    "\n",
    "The t-test is valid for large datasets, or for small datasets that follow the normal distribution. Our rule of thumb in these exercises says that a dataset is considered small when it contains fewer than 50 samples. If we look at the number of samples in the `df_clouds` dataframe"
   ]
  },
  {
   "cell_type": "code",
   "execution_count": 19,
   "metadata": {},
   "outputs": [
    {
     "data": {
      "text/plain": [
       "26"
      ]
     },
     "execution_count": 19,
     "metadata": {},
     "output_type": "execute_result"
    }
   ],
   "source": [
    "len(df_clouds)"
   ]
  },
  {
   "cell_type": "markdown",
   "metadata": {},
   "source": [
    "we can see that there are relatively few samples, so we should check for normality. We will use the three techniques to test for normality:\n",
    "\n",
    "* A **kernel density plot**\n",
    "* A **Q-Q plot** \n",
    "* The **Anderson-Darling normality test**\n",
    "\n",
    "Note that if the dataset is large, we do not need to check for normality before applying the t-test for equality of means."
   ]
  },
  {
   "cell_type": "markdown",
   "metadata": {},
   "source": [
    "#### Exercise 1.c\n",
    "\n",
    "Create, in one figure, density plots of the data _with_ and _without_ seeding.\n",
    "\n",
    "<span class=\"t\">Hint<span class=\"c\">:</span></span>\n",
    "<span class=\"h\">\n",
    "Select both columns separately, and apply a density plot on each.\n",
    "</span>"
   ]
  },
  {
   "cell_type": "code",
   "execution_count": 20,
   "metadata": {},
   "outputs": [
    {
     "data": {
      "image/png": "[encoded data removed]",
      "text/plain": [
       "<Figure size 576x576 with 1 Axes>"
      ]
     },
     "metadata": {},
     "output_type": "display_data"
    }
   ],
   "source": [
    "#// BEGIN_TODO [HYP_1c] Density plots of data (1 point)\n",
    "\n",
    "ax1c = df_clouds['with'].plot(kind='density')\n",
    "df_clouds['without'].plot(kind='density', ax=ax1c);\n",
    "\n",
    "ax1c.set_title('Density plots of the data with and without seeding');\n",
    "ax1c.legend();\n",
    "\n",
    "#// END_TODO [HYP_1c]"
   ]
  },
  {
   "cell_type": "markdown",
   "metadata": {},
   "source": [
    "#### Exercise 1.d\n",
    "\n",
    "Create two Q-Q plots for the data _with_ and _without_ seeding. Place the plots next to each other and do not forget to add titles."
   ]
  },
  {
   "cell_type": "code",
   "execution_count": 21,
   "metadata": {},
   "outputs": [
    {
     "data": {
      "image/png": "[encoded data removed]",
      "text/plain": [
       "<Figure size 1152x576 with 2 Axes>"
      ]
     },
     "metadata": {},
     "output_type": "display_data"
    }
   ],
   "source": [
    "#// BEGIN_TODO [HYP_1d] Q-Q plot for data with and without seeding (1 point)\n",
    "\n",
    "fig, ax1d = plt.subplots(ncols=2, sharex=True, squeeze=False, figsize=(16, 8))\n",
    "sm.qqplot(df_clouds['with'], fit=True, line='45', ax=ax1d[0,0])\n",
    "sm.qqplot(df_clouds['without'], fit=True, line='45', ax=ax1d[0,1])\n",
    "\n",
    "ax1d[0,0].set_title('With Seeding');\n",
    "ax1d[0,1].set_title('Without Seeding');\n",
    "\n",
    "#// END_TODO [HYP_1d]"
   ]
  },
  {
   "cell_type": "markdown",
   "metadata": {},
   "source": [
    "#### Exercise 1.e\n",
    "\n",
    "Apply Anderson-Darling normality test to the data _with_ and _without_ seeding, and assign the resulting objects to `anderson_darling_with` and `anderson_darling_without` variables, respectively."
   ]
  },
  {
   "cell_type": "code",
   "execution_count": 24,
   "metadata": {},
   "outputs": [
    {
     "data": {
      "text/plain": [
       "((3.391069805893679, 9.605483420175515e-09),\n",
       " (3.801896473412558, 9.048556290228121e-10))"
      ]
     },
     "execution_count": 24,
     "metadata": {},
     "output_type": "execute_result"
    }
   ],
   "source": [
    "#// BEGIN_TODO [HYP_1e] Anderson-Darling normality test for data with and without seeding (1 point)\n",
    "\n",
    "anderson_darling_with = sm.stats.normal_ad(df_clouds['with'])\n",
    "anderson_darling_without = sm.stats.normal_ad(df_clouds['without'])\n",
    "\n",
    "#// END_TODO [HYP_1e]\n",
    "\n",
    "anderson_darling_with, anderson_darling_without"
   ]
  },
  {
   "cell_type": "markdown",
   "metadata": {},
   "source": [
    "From above results you should notice the following things:\n",
    " * The long wobbly tails on the right in the kernel density plot indicate that this is not really a normal distribution. \n",
    " * In the Q-Q plots, the points stray far from the line\n",
    " * In the Anderson-Darling test in both cases, the p-values are extremely small, indicating that these data sets are very unlikely under the assumption that they are from a normal distribution."
   ]
  },
  {
   "cell_type": "markdown",
   "metadata": {},
   "source": [
    "This indicates a problem: since the dataset is relatively small and the assumption of normality appears to be violated, we should **not** apply a t-test."
   ]
  },
  {
   "cell_type": "markdown",
   "metadata": {},
   "source": [
    "A distribution skewed to the right can in some cases be transformed into in a normal distribution by taking the log of the data.\n",
    "We add two columns to the data frame:"
   ]
  },
  {
   "cell_type": "code",
   "execution_count": 22,
   "metadata": {},
   "outputs": [
    {
     "data": {
      "text/html": [
       "<div>\n",
       "<style scoped>\n",
       "    .dataframe tbody tr th:only-of-type {\n",
       "        vertical-align: middle;\n",
       "    }\n",
       "\n",
       "    .dataframe tbody tr th {\n",
       "        vertical-align: top;\n",
       "    }\n",
       "\n",
       "    .dataframe thead th {\n",
       "        text-align: right;\n",
       "    }\n",
       "</style>\n",
       "<table border=\"1\" class=\"dataframe\">\n",
       "  <thead>\n",
       "    <tr style=\"text-align: right;\">\n",
       "      <th></th>\n",
       "      <th>without</th>\n",
       "      <th>with</th>\n",
       "      <th>with_log</th>\n",
       "      <th>without_log</th>\n",
       "    </tr>\n",
       "  </thead>\n",
       "  <tbody>\n",
       "    <tr>\n",
       "      <th>count</th>\n",
       "      <td>26.000000</td>\n",
       "      <td>26.000000</td>\n",
       "      <td>26.000000</td>\n",
       "      <td>26.000000</td>\n",
       "    </tr>\n",
       "    <tr>\n",
       "      <th>mean</th>\n",
       "      <td>164.588462</td>\n",
       "      <td>441.984615</td>\n",
       "      <td>5.134187</td>\n",
       "      <td>3.990406</td>\n",
       "    </tr>\n",
       "    <tr>\n",
       "      <th>std</th>\n",
       "      <td>278.426404</td>\n",
       "      <td>650.787171</td>\n",
       "      <td>1.599514</td>\n",
       "      <td>1.641847</td>\n",
       "    </tr>\n",
       "    <tr>\n",
       "      <th>min</th>\n",
       "      <td>1.000000</td>\n",
       "      <td>4.100000</td>\n",
       "      <td>1.410987</td>\n",
       "      <td>0.000000</td>\n",
       "    </tr>\n",
       "    <tr>\n",
       "      <th>25%</th>\n",
       "      <td>24.825000</td>\n",
       "      <td>98.125000</td>\n",
       "      <td>4.581480</td>\n",
       "      <td>3.211421</td>\n",
       "    </tr>\n",
       "    <tr>\n",
       "      <th>50%</th>\n",
       "      <td>44.200000</td>\n",
       "      <td>221.600000</td>\n",
       "      <td>5.396406</td>\n",
       "      <td>3.786259</td>\n",
       "    </tr>\n",
       "    <tr>\n",
       "      <th>75%</th>\n",
       "      <td>159.200000</td>\n",
       "      <td>406.025000</td>\n",
       "      <td>6.000699</td>\n",
       "      <td>5.069278</td>\n",
       "    </tr>\n",
       "    <tr>\n",
       "      <th>max</th>\n",
       "      <td>1202.600000</td>\n",
       "      <td>2745.600000</td>\n",
       "      <td>7.917755</td>\n",
       "      <td>7.092241</td>\n",
       "    </tr>\n",
       "  </tbody>\n",
       "</table>\n",
       "</div>"
      ],
      "text/plain": [
       "           without         with   with_log  without_log\n",
       "count    26.000000    26.000000  26.000000    26.000000\n",
       "mean    164.588462   441.984615   5.134187     3.990406\n",
       "std     278.426404   650.787171   1.599514     1.641847\n",
       "min       1.000000     4.100000   1.410987     0.000000\n",
       "25%      24.825000    98.125000   4.581480     3.211421\n",
       "50%      44.200000   221.600000   5.396406     3.786259\n",
       "75%     159.200000   406.025000   6.000699     5.069278\n",
       "max    1202.600000  2745.600000   7.917755     7.092241"
      ]
     },
     "execution_count": 22,
     "metadata": {},
     "output_type": "execute_result"
    }
   ],
   "source": [
    "df_clouds['with_log'] = np.log(df_clouds['with'])\n",
    "df_clouds['without_log'] = np.log(df_clouds['without'])\n",
    "df_clouds.describe()"
   ]
  },
  {
   "cell_type": "markdown",
   "metadata": {},
   "source": [
    "You are now going to repeat the preceding normality tests on the transformed data to see if the data now indeed resembles a normal distribution."
   ]
  },
  {
   "cell_type": "markdown",
   "metadata": {},
   "source": [
    "#### Exercise 1.f\n",
    "Create density plots of the  log-transformed data\n",
    "\n",
    "<span class=\"t\">Hint<span class=\"c\">:</span></span>\n",
    "<span class=\"h\">\n",
    "Select both columns separately, and apply a density plot. Add a legend to keep both density plots apart.\n",
    "</span>"
   ]
  },
  {
   "cell_type": "code",
   "execution_count": 23,
   "metadata": {},
   "outputs": [
    {
     "data": {
      "image/png": "[encoded data removed]",
      "text/plain": [
       "<Figure size 576x576 with 1 Axes>"
      ]
     },
     "metadata": {},
     "output_type": "display_data"
    }
   ],
   "source": [
    "#// BEGIN_TODO [HYP_1f] Density plots of  log-transformed data (1 point)\n",
    "\n",
    "ax1 = df_clouds['with_log'].plot(kind='density')\n",
    "df_clouds['without_log'].plot(kind='density', ax=ax1);\n",
    "\n",
    "ax1.set_title('Density plots of the data With and Without Seeding in Log-Scale');\n",
    "ax1.legend();\n",
    "\n",
    "#// END_TODO [HYP_1f]"
   ]
  },
  {
   "cell_type": "markdown",
   "metadata": {},
   "source": [
    "#### Exercise 1.g\n",
    "\n",
    "Create two Q-Q plots for the log-transformed data _with_ and _without_ seeding. Place the plots next to each other and do not forget to add titles."
   ]
  },
  {
   "cell_type": "code",
   "execution_count": 24,
   "metadata": {},
   "outputs": [
    {
     "data": {
      "image/png": "[encoded data removed]",
      "text/plain": [
       "<Figure size 1152x576 with 2 Axes>"
      ]
     },
     "metadata": {},
     "output_type": "display_data"
    }
   ],
   "source": [
    "#// BEGIN_TODO [HYP_1g] Q-Q plot for log-transformed data with and without seeding (1 point)\n",
    "\n",
    "fig, ax1g = plt.subplots(ncols=2, sharex=True, squeeze=False, figsize=(16, 8))\n",
    "sm.qqplot(df_clouds['with_log'], fit=True, line='45', ax=ax1g[0,0])\n",
    "sm.qqplot(df_clouds['without_log'], fit=True, line='45', ax=ax1g[0,1])\n",
    "\n",
    "ax1g[0,0].set_title('With Seeding In Log-Scale');\n",
    "ax1g[0,1].set_title('Without Seeding In Log-Scale');\n",
    "\n",
    "#// END_TODO [HYP_1g]"
   ]
  },
  {
   "cell_type": "markdown",
   "metadata": {},
   "source": [
    "#### Exercise 1.h\n",
    "Apply the Anderson-Darling normality test to the log-transformed data with and without cloud seeding. Assign the resulting objects to `anderson_darling_with_log` and `anderson_darling_without_log`."
   ]
  },
  {
   "cell_type": "code",
   "execution_count": 25,
   "metadata": {},
   "outputs": [
    {
     "data": {
      "text/plain": [
       "((0.37033204575403644, 0.3986895582917981),\n",
       " (0.23405725120319332, 0.771739527759551))"
      ]
     },
     "execution_count": 25,
     "metadata": {},
     "output_type": "execute_result"
    }
   ],
   "source": [
    "#// BEGIN_TODO [HYP_1h] Anderson-Darling normality tests for log-transformed data (1 point)\n",
    "\n",
    "anderson_darling_with_log = sm.stats.normal_ad(df_clouds['with_log'])\n",
    "anderson_darling_without_log = sm.stats.normal_ad(df_clouds['without_log'])\n",
    "\n",
    "#// END_TODO [HYP_1h]\n",
    "\n",
    "anderson_darling_with_log, anderson_darling_without_log"
   ]
  },
  {
   "cell_type": "markdown",
   "metadata": {},
   "source": [
    "#### Exercise 1.i\n",
    "\n",
    "Does the log-scaled data seem to follow a normal distribution? Assign your (boolean) answers to the variables `normal_cloud_with` and `normal_cloud_without`."
   ]
  },
  {
   "cell_type": "code",
   "execution_count": 26,
   "metadata": {},
   "outputs": [],
   "source": [
    "#// BEGIN_TODO [HYP_1i] Does the log-scaled data follow a normal distribution (1 point)\n",
    "\n",
    "normal_cloud_with = True\n",
    "normal_cloud_without = True\n",
    "\n",
    "#// END_TODO [HYP_1i]"
   ]
  },
  {
   "cell_type": "markdown",
   "metadata": {},
   "source": [
    "### Step 4 (Cloud Seeding): Apply Appropriate Test\n",
    "\n",
    "#### Exercise 1.j\n",
    "Preprocess each of the two data samples separately. \n",
    "Use the **log-transformed** data! Assign the results to `d_with_log` and `d_without_log`"
   ]
  },
  {
   "cell_type": "code",
   "execution_count": 27,
   "metadata": {},
   "outputs": [],
   "source": [
    "#// BEGIN_TODO [HYP_1j]  Preprocess the log-transformed data (1 point)\n",
    "\n",
    "d_with_log = sm.stats.DescrStatsW(df_clouds['with_log'])\n",
    "d_without_log = sm.stats.DescrStatsW(df_clouds['without_log'])\n",
    "\n",
    "#// END_TODO [HYP_1j]"
   ]
  },
  {
   "cell_type": "markdown",
   "metadata": {},
   "source": [
    "#### Exercise 1.k\n",
    "Create the test object using the preprocessed data:\n",
    "Assign the test object to `cm_cloud_log`"
   ]
  },
  {
   "cell_type": "code",
   "execution_count": 28,
   "metadata": {},
   "outputs": [],
   "source": [
    "#// BEGIN_TODO [HYP_1k] Create test object (1 point)\n",
    "\n",
    "cm_cloud_log = sm.stats.CompareMeans(d_with_log, d_without_log)\n",
    "\n",
    "#// END_TODO [HYP_1k]"
   ]
  },
  {
   "cell_type": "markdown",
   "metadata": {},
   "source": [
    "#### Exercise 1.l\n",
    "\n",
    "Perform the appropriate test for the hypothesis you chose. Assign the resulting p-value to `p_cloud_log`.\n",
    "\n",
    "Make sure you only save the p-value in the mentioned variables."
   ]
  },
  {
   "cell_type": "code",
   "execution_count": 29,
   "metadata": {},
   "outputs": [
    {
     "data": {
      "text/plain": [
       "0.007041329483603202"
      ]
     },
     "execution_count": 29,
     "metadata": {},
     "output_type": "execute_result"
    }
   ],
   "source": [
    "#// BEGIN_TODO [HYP_1l] apply test on (1 point)\n",
    "\n",
    "p_cloud_log = cm_cloud_log.ttest_ind(alternative='larger')[1]\n",
    "\n",
    "#// END_TODO [HYP_1l]\n",
    "\n",
    "p_cloud_log"
   ]
  },
  {
   "cell_type": "markdown",
   "metadata": {},
   "source": [
    "### Step 5 (Cloud Seeding): Decision\n",
    "\n",
    "#### Exercise 1.m\n",
    "\n",
    "What is your conclusion? Is there sufficient evidence to reject the null hypothesis (at significance level $\\alpha=0.05$) based on the log-transformed data? Assign your (boolean) answer to the variables `reject_null_cloud_log`."
   ]
  },
  {
   "cell_type": "code",
   "execution_count": 30,
   "metadata": {},
   "outputs": [],
   "source": [
    "#// BEGIN_TODO [HYP_1m] Decision for confidence limits (1 point)\n",
    "\n",
    "reject_null_cloud_log = True\n",
    "\n",
    "#// END_TODO [HYP_1m]"
   ]
  },
  {
   "cell_type": "markdown",
   "metadata": {},
   "source": [
    "---\n",
    "\n",
    "## 2. Hypothesis Testing on Proportions"
   ]
  },
  {
   "cell_type": "markdown",
   "metadata": {},
   "source": [
    "### Learning Objectives of This Section\n",
    "\n",
    "After this section, you should\n",
    "\n",
    "* know how to do _one-sided_ and _two-sided_ tests for **equality of proportions**\n",
    "    of _one-sample_ and _two-sample_ data\n",
    "* know how to draw conclusions about acceptance or rejection of the null hypothesis based on:\n",
    "  * p-value resulting from the z-test\n",
    "  * confidence intervals"
   ]
  },
  {
   "cell_type": "markdown",
   "metadata": {},
   "source": [
    "### Example: Exams\n",
    "\n",
    "We now visit hypothesis testing on proportions.\n",
    "For these tests we only need the number of observations and the number of successes.\n",
    "\n",
    "Let us look at a class of students following a course.\n",
    "The class has 100 students, and 88 pass their exam.\n",
    "The previous year, there were 89 students and 70 passed the exam.\n",
    "The teacher has made large improvements to her course according to the feedback she has gotten from student reviews. The expectation is therefore that the passing rate has gone up.\n",
    "\n",
    "We set up the data in these variables:\n",
    "\n",
    "* `students` for the total number of students\n",
    "* `passes` for the number of students who passed on the exam\n",
    "* `students_previous` for the total number of students in the previous year\n",
    "* `passes_previous` for the number of students that passed in the previous year"
   ]
  },
  {
   "cell_type": "code",
   "execution_count": 31,
   "metadata": {},
   "outputs": [
    {
     "data": {
      "text/plain": [
       "(0.88, 0.7865168539325843)"
      ]
     },
     "execution_count": 31,
     "metadata": {},
     "output_type": "execute_result"
    }
   ],
   "source": [
    "students = 100\n",
    "passes = 88\n",
    "\n",
    "rate = passes/students\n",
    "\n",
    "students_previous = 89\n",
    "passes_previous = 70\n",
    "\n",
    "rate_previous = passes_previous / students_previous\n",
    "\n",
    "rate, rate_previous"
   ]
  },
  {
   "cell_type": "markdown",
   "metadata": {},
   "source": [
    "Again we will follow the four steps as explained above."
   ]
  },
  {
   "cell_type": "markdown",
   "metadata": {},
   "source": [
    "### Step 1 (Exams): Define Quantitative Question\n",
    "\n",
    "From the introduction above we can conclude that we want to investigate whether or not the passing rate has improved. We can define the following quantitative question.\n",
    "\n",
    "> Is the proportion of students which passed the exam this year significantly larger than the proportion of students that passed last year?"
   ]
  },
  {
   "cell_type": "markdown",
   "metadata": {},
   "source": [
    "### Step 2 (Exams): Formulate Hypothesis\n",
    "\n",
    "Again we should pay attention to the following: do we want to test for the equality of means or the equality of proportions. \n",
    "\n",
    "In this case we are interested in the **fraction** of the students that have failed. Hence we are interested in the **equality of proportions**\n",
    "\n",
    "As defined in step 1, we want to investigate whether or not the passing rate has improved. From the context we have a clear indication of a direction in which we expect the proportion to change. Therefore we should formulate a **one-sided** alternative hypothesis. \n",
    "\n",
    "In short, we will define a **one-sided** hypothesis for **equality of proportion** on **two-sample** data\n",
    "\n",
    "The corresponding hypotheses are\n",
    "\n",
    "$$H_0: p_{new} = p_{old}$$\n",
    "\n",
    "$$H_a: p_{new} > p_{old}$$"
   ]
  },
  {
   "cell_type": "markdown",
   "metadata": {},
   "source": [
    "### Step 3 (Exams): Check Assumptions\n",
    "\n",
    "In the case of testing for equality of proportion we do not assume our data to come from a normal distribution. Therefore we do not have to check for normality and can thus ignore this step. There are other assumptions when testing proportions and ways to check these assumptions, but they are outside the scope of this course."
   ]
  },
  {
   "cell_type": "markdown",
   "metadata": {},
   "source": [
    "### Step 4 (Exams): Apply Appropriate Test\n",
    "\n",
    "We defined a **one-sided** hypothesis for **equality of proportions** on **two-sample data**. Now we can apply the appropriate test. In our case this is the\n",
    "\n",
    "* **z-test for equality of proportions**\n",
    "\n",
    "We can extract the z-test statistic and p-value using\n",
    "\n",
    "**`sm.stats.proportions_ztest(count, number_observations, value=..., alternative=...)`**\n",
    "\n",
    "The `proportions_ztest()` function returns a pair: the z-test statistic and the corresponding **p-value**.\n",
    "\n",
    "#### z-test for Equality of Proportions (One-sample)\n",
    "\n",
    "In case of a **one-sample** test, the `proportions_ztest()` function takes the following arguments:\n",
    "- **`count`**: the number of positive observations\n",
    "- **`number_observations`**: the total number of observations\n",
    "- **`value=`**: the reference proportion you want to compare with\n",
    "- **`alternative=`**: one of `'two-sided'`, `'larger'`, or `'smaller'`\n",
    "\n",
    "#### z-test for Equality of Proportions (Two-sample)\n",
    "\n",
    "In case of a **two-sample** test, the `proportions_ztest()` function takes the following arguments:\n",
    "    \n",
    "- **`count`**: a list `[num_new_positive_observations, num_old_positive_observations]` containing the number of positive observations in the new and old samples\n",
    "- **`number_observations`**: a list `[num_new_observations, num_old_observations]` containing the total number of observations in the new and old samples\n",
    "- **`alternative=`**: one of `'two-sided'`, `'larger'`, or `'smaller'`"
   ]
  },
  {
   "cell_type": "markdown",
   "metadata": {},
   "source": [
    "We wish to test whether the proportion of students that passed the last exam is larger than the proportion of students that passed in the past (i.e. a two-sample test).\n",
    "\n",
    "For convenience, we repeat our hypothesis:\n",
    "\n",
    "$$H_0: p_{new}=p_{old}$$\n",
    "\n",
    "$$H_a: p_{new}> p_{old}$$\n",
    "\n",
    "We can compute the p-value for a z-test in the following way:"
   ]
  },
  {
   "cell_type": "code",
   "execution_count": 32,
   "metadata": {},
   "outputs": [
    {
     "data": {
      "text/plain": [
       "(1.7324066201653368, 0.041600595056627936)"
      ]
     },
     "execution_count": 32,
     "metadata": {},
     "output_type": "execute_result"
    }
   ],
   "source": [
    "ztest_exam = sm.stats.proportions_ztest([passes, passes_previous], [students, students_previous], alternative='larger')\n",
    "ztest_exam"
   ]
  },
  {
   "cell_type": "markdown",
   "metadata": {},
   "source": [
    "#### Extract the p-value\n",
    "\n",
    "The **p-value** is the second number:"
   ]
  },
  {
   "cell_type": "code",
   "execution_count": 33,
   "metadata": {},
   "outputs": [
    {
     "data": {
      "text/plain": [
       "0.041600595056627936"
      ]
     },
     "execution_count": 33,
     "metadata": {},
     "output_type": "execute_result"
    }
   ],
   "source": [
    "ztest_exam[1]"
   ]
  },
  {
   "cell_type": "markdown",
   "metadata": {},
   "source": [
    "####  Extract the Confidence Interval (One-sample)\n",
    "\n",
    "We can compute a 95%-confidence interval `CI_exam` for the proportion of passing students,\n",
    "using function **`sm.stats.proportion_confint(count, number_observations, alpha=...)`**.\n"
   ]
  },
  {
   "cell_type": "code",
   "execution_count": 34,
   "metadata": {},
   "outputs": [
    {
     "data": {
      "text/plain": [
       "(0.8163087092715731, 0.943691290728427)"
      ]
     },
     "execution_count": 34,
     "metadata": {},
     "output_type": "execute_result"
    }
   ],
   "source": [
    "CI_exam = sm.stats.proportion_confint(passes, students, alpha=0.05)\n",
    "CI_exam"
   ]
  },
  {
   "cell_type": "markdown",
   "metadata": {},
   "source": [
    "####  Extract the Confidence Interval (Two-sample)\n",
    "\n",
    "The function **`statsmodels.stats.proportion.confint_proportions_2indep(count1, n1, count2, n2, alpha=...)`** returns the confidence interval for the difference between the proportions `count1/n1` and `count2/n2` of the two samples (first minus second), with a confidence level of  1−𝛼 . For  𝛼=0.05  the interval gives a range where the difference is in with a probability of 0.95."
   ]
  },
  {
   "cell_type": "code",
   "execution_count": 35,
   "metadata": {},
   "outputs": [
    {
     "data": {
      "text/plain": [
       "(-0.01298407030544961, 0.20176657139343457)"
      ]
     },
     "execution_count": 35,
     "metadata": {},
     "output_type": "execute_result"
    }
   ],
   "source": [
    "statsmodels.stats.proportion.confint_proportions_2indep(passes, students, passes_previous, students_previous, alpha=0.05)"
   ]
  },
  {
   "cell_type": "markdown",
   "metadata": {},
   "source": [
    "### Step 5 (Exams): Decision\n",
    "\n",
    "The **p-value** and the **confidence interval** both express the same information in a different form. \n",
    "\n",
    "#### p-value\n",
    "\n",
    "The **p-value** is the easiest to interpret. When it is lower than a chosen $\\alpha$ (typically $0.05$) we reject the null hypothesis.\n",
    "\n",
    "For the p-value calculated in step 4, we can see that in the case of $\\alpha=0.05$ the *null hypothesis is rejected*, because the p-value is below 0.05.\n",
    "\n",
    "#### Confidence Interval\n",
    "\n",
    "For the *one-sample* case, the **confidence interval** can be interpreted in the following way. The confidence interval expresses the values between which the *proportion* lies with 95% confidence. If the confidence interval contains the reference value we cannot reject the null hypothesis. Otherwise, we reject the null hypothesis.\n",
    "\n",
    "For the *two-sample* case, the **confidence interval** can be interpreted in the following way. The confidence interval expresses the values between which the *difference between proportions* lies with 95% confidence. If the confidence interval contains 0 (no difference in means) we cannot reject the null hypothesis. Otherwise, we reject the null hypothesis.\n",
    "\n",
    "From the confidence interval calculated in step 4 for the *two-sample* case, we can see that the *null hypothesis is rejected*, because it does not contain the value 0, meaning that means are different."
   ]
  },
  {
   "cell_type": "markdown",
   "metadata": {},
   "source": [
    "---\n",
    "\n",
    "## Exercise: Silicon Wafers\n",
    "\n",
    "An important quality characteristic in integrated-circuit manufacturing is\n",
    "the thickness of the wafer\n",
    "(a wafer is a slice of silicon from which chips are made\n",
    "for use as integrated circuits in devices like smart phones).\n",
    "As a routine, the thickness is measured in a gage, only giving two results: good, or bad.\n",
    "\n",
    "It is known from previous years that $15\\%$ of the wafers are bad.\n",
    "A new batch arrives and a sample of $50$ wafers is taken from this new batch.\n",
    "The number of bad wafers in this sample equals $13$.\n",
    "We would like to know whether or not there is a difference in the fraction of bad wafers."
   ]
  },
  {
   "cell_type": "markdown",
   "metadata": {},
   "source": [
    "#### Exercise 2.a\n",
    "\n",
    "Compute the fraction of bad wafers in the new sample. Assign the number of wafers and number of bad wafers to the variables `num_wafers` and `num_bad_wafers`,\n",
    "and the old and the new proportion to the variables\n",
    "`prop_bad_wafers_old` and `prop_bad_wafers_new`."
   ]
  },
  {
   "cell_type": "code",
   "execution_count": 36,
   "metadata": {},
   "outputs": [
    {
     "data": {
      "text/plain": [
       "(50, 13, 0.15, 0.26)"
      ]
     },
     "execution_count": 36,
     "metadata": {},
     "output_type": "execute_result"
    }
   ],
   "source": [
    "#// BEGIN_TODO [HYP_2a] Wafers, bad wafers, old and new proportion (1 point)\n",
    "\n",
    "num_wafers = 50\n",
    "num_bad_wafers = 13\n",
    "prop_bad_wafers_new = num_bad_wafers / num_wafers\n",
    "prop_bad_wafers_old = 0.15\n",
    "\n",
    "#// END_TODO [HYP_2a]\n",
    "\n",
    "num_wafers, num_bad_wafers, prop_bad_wafers_old, prop_bad_wafers_new"
   ]
  },
  {
   "cell_type": "markdown",
   "metadata": {},
   "source": [
    "### Step 1 (Silicon Wafers): Define a Quantitative Question"
   ]
  },
  {
   "cell_type": "markdown",
   "metadata": {},
   "source": [
    "#### Exercise 2.b\n",
    "Choose the most appropriate quantitative question for our example.\n",
    "\n",
    "Assign `'a'`, `'b'` or `'c'` to the variable `question_wafers`\n",
    "\n",
    "> a. Has the proportion of bad wafers in the new batch changed compared to previous years?<br>\n",
    "> b. Has the average of bad wafers in the new batch changed compared to previous years?<br>\n",
    "> c. Is the proportion of bad wafers in the new batch greater than previous years?"
   ]
  },
  {
   "cell_type": "code",
   "execution_count": 37,
   "metadata": {},
   "outputs": [],
   "source": [
    "#// BEGIN_TODO [HYP_2b] Choose quantitative question (1 point)\n",
    "\n",
    "question_wafers = 'a'\n",
    "\n",
    "#// END_TODO [HYP_2b]"
   ]
  },
  {
   "cell_type": "markdown",
   "metadata": {},
   "source": [
    "### Step 2 (Silicon Wafers): Formulate Hypothesis\n",
    "\n",
    "#### Exercise 2.c\n",
    "\n",
    "Formulate the question you chose above as statistical hypotheses. Encode them as strings in the following way:\n",
    "\n",
    "- For the null hypothesis use `'mu_old=mu_new'` or `'p_old=p_new'`, using `mu` for comparing means and `p` for comparing proportions.\n",
    "- For the alternative hypothesis use `!=`, `>` or `<`, e.g. `'mu_old<mu_new'`.\n",
    "\n",
    "Assign the null and alternative hypotheses encoded as strings to variables `H_0_wafers` and `H_a_wafers`, respectively."
   ]
  },
  {
   "cell_type": "code",
   "execution_count": 38,
   "metadata": {},
   "outputs": [],
   "source": [
    "#// BEGIN_TODO [HYP_2c] Formulate Hypothesis (1 point)\n",
    "\n",
    "H_0_wafers = 'p_old=p_new'\n",
    "H_a_wafers = 'p_old!=p_new'\n",
    "\n",
    "#// END_TODO [HYP_2c]"
   ]
  },
  {
   "cell_type": "markdown",
   "metadata": {},
   "source": [
    "### Step 3 (Silicon Wafers): Check Assumptions\n",
    "#### Exercise 2.d\n",
    "If there are assumptions you can check please do so.\n",
    "\n",
    "Assign **True** to the variable `check_assump_wafers` if assumptions need to be checked, **False** if not.\n"
   ]
  },
  {
   "cell_type": "code",
   "execution_count": 39,
   "metadata": {},
   "outputs": [],
   "source": [
    "#// BEGIN_TODO [HYP_2d] Check Assumptions (1 point)\n",
    "\n",
    "check_assump_wafers = False\n",
    "\n",
    "#// END_TODO [HYP_2d]"
   ]
  },
  {
   "cell_type": "markdown",
   "metadata": {},
   "source": [
    "### Step 4 (Silicon Wafers): Apply Correct Test\n",
    "\n",
    "#### Exercise 2.e\n",
    "\n",
    "Choose and apply the correct test. Assign the resulting p-value to `p_wafers`."
   ]
  },
  {
   "cell_type": "code",
   "execution_count": 40,
   "metadata": {},
   "outputs": [
    {
     "data": {
      "text/plain": [
       "0.07618378378160437"
      ]
     },
     "execution_count": 40,
     "metadata": {},
     "output_type": "execute_result"
    }
   ],
   "source": [
    "#// BEGIN_TODO [HYP_2e] Apply test (1 point)\n",
    "\n",
    "ztest_wafers = sm.stats.proportions_ztest(num_bad_wafers, num_wafers, value=prop_bad_wafers_old, alternative='two-sided')\n",
    "p_wafers = ztest_wafers[1]\n",
    "\n",
    "#// END_TODO [HYP_2e]\n",
    "p_wafers"
   ]
  },
  {
   "cell_type": "markdown",
   "metadata": {},
   "source": [
    "#### Exercise 2.f\n",
    "\n",
    "Is there sufficient evidence to reject the null hypothesis (at significance level $\\alpha=0.05$)? Assign your (boolean) answer to the variable `reject_null_wafers`."
   ]
  },
  {
   "cell_type": "code",
   "execution_count": 41,
   "metadata": {},
   "outputs": [],
   "source": [
    "#// BEGIN_TODO [HYP_2f] Has the fraction of bad wafers changed? (1 point)\n",
    "\n",
    "reject_null_wafers = False\n",
    "\n",
    "#// END_TODO [HYP_2f]"
   ]
  },
  {
   "cell_type": "markdown",
   "metadata": {},
   "source": [
    "---\n",
    "## 3. Performing Diagnostics on Regression Results"
   ]
  },
  {
   "cell_type": "markdown",
   "metadata": {},
   "source": [
    "### Learning Objectives of This Section\n",
    "\n",
    "After this section, you should\n",
    "\n",
    "* know how to inspect normalized residuals of a linear model\n",
    "* know how to interpret normalized residual values to indicate wrong model assumption or suspected outliers"
   ]
  },
  {
   "cell_type": "markdown",
   "metadata": {},
   "source": [
    "### Example: Boiling Point of Water\n",
    "\n",
    "In this exercise we use the data set `./datasets/water.csv`. This data set describes an experiment conducted by James David Forbes in 1844 in the Alps to use the boiling point of water to estimate the altitude (through the pressure). The idea is that it is easy to measure the boiling point of water. The boiling point is available in the column `'bp'` (in degrees Celsius) and the pressure (in inches of mercury) is available in the column `'pres'`.\n"
   ]
  },
  {
   "cell_type": "code",
   "execution_count": 42,
   "metadata": {},
   "outputs": [
    {
     "data": {
      "text/html": [
       "<div>\n",
       "<style scoped>\n",
       "    .dataframe tbody tr th:only-of-type {\n",
       "        vertical-align: middle;\n",
       "    }\n",
       "\n",
       "    .dataframe tbody tr th {\n",
       "        vertical-align: top;\n",
       "    }\n",
       "\n",
       "    .dataframe thead th {\n",
       "        text-align: right;\n",
       "    }\n",
       "</style>\n",
       "<table border=\"1\" class=\"dataframe\">\n",
       "  <thead>\n",
       "    <tr style=\"text-align: right;\">\n",
       "      <th></th>\n",
       "      <th>bp</th>\n",
       "      <th>pres</th>\n",
       "    </tr>\n",
       "  </thead>\n",
       "  <tbody>\n",
       "    <tr>\n",
       "      <th>0</th>\n",
       "      <td>90.277778</td>\n",
       "      <td>20.79</td>\n",
       "    </tr>\n",
       "    <tr>\n",
       "      <th>1</th>\n",
       "      <td>90.166667</td>\n",
       "      <td>20.79</td>\n",
       "    </tr>\n",
       "    <tr>\n",
       "      <th>2</th>\n",
       "      <td>92.166667</td>\n",
       "      <td>22.40</td>\n",
       "    </tr>\n",
       "    <tr>\n",
       "      <th>3</th>\n",
       "      <td>92.444444</td>\n",
       "      <td>22.67</td>\n",
       "    </tr>\n",
       "    <tr>\n",
       "      <th>4</th>\n",
       "      <td>93.000000</td>\n",
       "      <td>23.15</td>\n",
       "    </tr>\n",
       "    <tr>\n",
       "      <th>5</th>\n",
       "      <td>93.277778</td>\n",
       "      <td>23.35</td>\n",
       "    </tr>\n",
       "    <tr>\n",
       "      <th>6</th>\n",
       "      <td>93.833333</td>\n",
       "      <td>23.89</td>\n",
       "    </tr>\n",
       "    <tr>\n",
       "      <th>7</th>\n",
       "      <td>93.944444</td>\n",
       "      <td>23.99</td>\n",
       "    </tr>\n",
       "    <tr>\n",
       "      <th>8</th>\n",
       "      <td>94.111111</td>\n",
       "      <td>24.02</td>\n",
       "    </tr>\n",
       "    <tr>\n",
       "      <th>9</th>\n",
       "      <td>94.055556</td>\n",
       "      <td>24.01</td>\n",
       "    </tr>\n",
       "    <tr>\n",
       "      <th>10</th>\n",
       "      <td>95.333333</td>\n",
       "      <td>25.14</td>\n",
       "    </tr>\n",
       "    <tr>\n",
       "      <th>11</th>\n",
       "      <td>96.400000</td>\n",
       "      <td>26.57</td>\n",
       "    </tr>\n",
       "    <tr>\n",
       "      <th>12</th>\n",
       "      <td>98.611111</td>\n",
       "      <td>28.49</td>\n",
       "    </tr>\n",
       "    <tr>\n",
       "      <th>13</th>\n",
       "      <td>98.111111</td>\n",
       "      <td>27.76</td>\n",
       "    </tr>\n",
       "    <tr>\n",
       "      <th>14</th>\n",
       "      <td>99.277778</td>\n",
       "      <td>29.04</td>\n",
       "    </tr>\n",
       "    <tr>\n",
       "      <th>15</th>\n",
       "      <td>99.944444</td>\n",
       "      <td>29.88</td>\n",
       "    </tr>\n",
       "    <tr>\n",
       "      <th>16</th>\n",
       "      <td>100.111111</td>\n",
       "      <td>30.06</td>\n",
       "    </tr>\n",
       "  </tbody>\n",
       "</table>\n",
       "</div>"
      ],
      "text/plain": [
       "            bp   pres\n",
       "0    90.277778  20.79\n",
       "1    90.166667  20.79\n",
       "2    92.166667  22.40\n",
       "3    92.444444  22.67\n",
       "4    93.000000  23.15\n",
       "5    93.277778  23.35\n",
       "6    93.833333  23.89\n",
       "7    93.944444  23.99\n",
       "8    94.111111  24.02\n",
       "9    94.055556  24.01\n",
       "10   95.333333  25.14\n",
       "11   96.400000  26.57\n",
       "12   98.611111  28.49\n",
       "13   98.111111  27.76\n",
       "14   99.277778  29.04\n",
       "15   99.944444  29.88\n",
       "16  100.111111  30.06"
      ]
     },
     "execution_count": 42,
     "metadata": {},
     "output_type": "execute_result"
    }
   ],
   "source": [
    "df_forbes= pd.read_csv(\"./datasets/water.csv\")\n",
    "df_forbes"
   ]
  },
  {
   "cell_type": "markdown",
   "metadata": {},
   "source": [
    "First we inspect our data using a scatter plot. In this way we can get an idea of what order polynomial we should fit."
   ]
  },
  {
   "cell_type": "code",
   "execution_count": 43,
   "metadata": {},
   "outputs": [
    {
     "data": {
      "image/png": "[encoded data removed]",
      "text/plain": [
       "<Figure size 576x576 with 1 Axes>"
      ]
     },
     "metadata": {},
     "output_type": "display_data"
    }
   ],
   "source": [
    "ax = df_forbes.plot(kind='scatter', x='bp', y='pres', c='b')\n",
    "ax.set_xlabel('Boiling point (in degrees Celcius)')\n",
    "ax.set_ylabel('Pressure (in inches of mercury)')\n",
    "ax.set_title(\"Pressure vs boiling point of water\", fontsize=16);"
   ]
  },
  {
   "cell_type": "markdown",
   "metadata": {},
   "source": [
    "The scatter plot suggests that a first order polynomial might be a good fit. Let's fit a regression model and investigate these observations.\n",
    "\n",
    "We estimate a linear regression model with the pressure as dependent variable and the boiling point as independent variable. \n",
    "\n",
    "Remember that a simple linear regression model tries to find the best fit for $a$ and $b$ in $$dependent\\_var = a * independent\\_var + b $$\n",
    "\n",
    "For this we use the **Ordinary Least Squares** (OLS) method from the SciKit Learn library that we used in the DMM exercises."
   ]
  },
  {
   "cell_type": "code",
   "execution_count": 44,
   "metadata": {},
   "outputs": [],
   "source": [
    "X = df_forbes[['bp']]\n",
    "y = df_forbes['pres']\n",
    "linear_model = LinearRegression()\n",
    "linear_model.fit(X, y);"
   ]
  },
  {
   "cell_type": "markdown",
   "metadata": {},
   "source": [
    "> **Note:** `X` is a `DataFrame` and `y` is a `Series`.\n",
    "\n",
    "We can visualize the regression model with the _Seaborn_ library."
   ]
  },
  {
   "cell_type": "code",
   "execution_count": 45,
   "metadata": {},
   "outputs": [
    {
     "name": "stderr",
     "output_type": "stream",
     "text": [
      "c:\\Users\\mail\\anaconda3\\lib\\site-packages\\seaborn\\_decorators.py:36: FutureWarning: Pass the following variables as keyword args: x, y. From version 0.12, the only valid positional argument will be `data`, and passing other arguments without an explicit keyword will result in an error or misinterpretation.\n",
      "  warnings.warn(\n"
     ]
    },
    {
     "data": {
      "image/png": "[encoded data removed]",
      "text/plain": [
       "<Figure size 576x576 with 1 Axes>"
      ]
     },
     "metadata": {},
     "output_type": "display_data"
    }
   ],
   "source": [
    "ax = sns.regplot(df_forbes['bp'], df_forbes['pres'])\n",
    "ax.set_xlabel('Boiling point (in degrees Celcius)')\n",
    "ax.set_ylabel('Pressure (in inches of mercury)')\n",
    "ax.set_title(\"Pressure vs boiling point of water\", fontsize=16);"
   ]
  },
  {
   "cell_type": "markdown",
   "metadata": {},
   "source": [
    "#### Model Evaluation\n",
    "\n",
    "Let us check how well we fit our training data by computing the $R^2$ score:"
   ]
  },
  {
   "cell_type": "code",
   "execution_count": 46,
   "metadata": {},
   "outputs": [
    {
     "data": {
      "text/plain": [
       "0.9972253366738393"
      ]
     },
     "execution_count": 46,
     "metadata": {},
     "output_type": "execute_result"
    }
   ],
   "source": [
    "linear_model.score(X, y)"
   ]
  },
  {
   "cell_type": "markdown",
   "metadata": {},
   "source": [
    "$R^2$ is almost 1. Does this mean we fitted the correct linear model?\n",
    "\n",
    "To evaluate the quality of our linear model, we plot the normalized residuals. Let us compute the residuals:"
   ]
  },
  {
   "cell_type": "code",
   "execution_count": 47,
   "metadata": {},
   "outputs": [],
   "source": [
    "y_pred = linear_model.predict(X)\n",
    "residuals = (y - y_pred)"
   ]
  },
  {
   "cell_type": "markdown",
   "metadata": {},
   "source": [
    "and normalize them using the `scale()` method from the SciKit Learn library:"
   ]
  },
  {
   "cell_type": "code",
   "execution_count": 48,
   "metadata": {},
   "outputs": [],
   "source": [
    "from sklearn.preprocessing import scale\n",
    "\n",
    "residuals_norm = scale(residuals)"
   ]
  },
  {
   "cell_type": "markdown",
   "metadata": {},
   "source": [
    "Now we can plot the normalized residuals against the independent variable (i.e. the boiling point)."
   ]
  },
  {
   "cell_type": "code",
   "execution_count": 49,
   "metadata": {},
   "outputs": [
    {
     "data": {
      "image/png": "[encoded data removed]",
      "text/plain": [
       "<Figure size 576x576 with 1 Axes>"
      ]
     },
     "metadata": {},
     "output_type": "display_data"
    }
   ],
   "source": [
    "df_forbes_vis = df_forbes.copy()\n",
    "df_forbes_vis['residuals'] = residuals_norm\n",
    "\n",
    "ax = df_forbes_vis.plot(kind='scatter', x='bp', y='residuals', c='b')\n",
    "ax.set_xlabel('Boiling point (in degrees Celcius)')\n",
    "ax.set_ylabel('Normalized residuals')\n",
    "ax.set_title('Normalized residuals for pressure', fontsize=16);"
   ]
  },
  {
   "cell_type": "markdown",
   "metadata": {},
   "source": [
    "Two things we should note from the above plot. First, the residuals do not seem unstructured. There might be a parabolic shape. This is not completely clear from the plot but a doubt like this indicates that we should at least investigate other regression models.\n",
    "\n",
    "Secondly, if we assume this parabolic shape, there might be an outlier: the point at around 96.5. This is an interesting find, as it was not visible from the visual inspection of the data.\n",
    "\n",
    "The first thing we should do here is investigating if there is a better fitting model. Theory around the phenomenon you are studying is usually a good place to start. Theory tells us that there is a linear relation between the temperature and the _log_ of the pressure."
   ]
  },
  {
   "cell_type": "markdown",
   "metadata": {},
   "source": [
    "Let us first fit a linear model on the logarithm of the pressure:"
   ]
  },
  {
   "cell_type": "code",
   "execution_count": 50,
   "metadata": {},
   "outputs": [],
   "source": [
    "y_log = np.log(df_forbes['pres'])\n",
    "linear_model_log = LinearRegression()\n",
    "linear_model_log.fit(X, y_log);"
   ]
  },
  {
   "cell_type": "markdown",
   "metadata": {},
   "source": [
    "And then draw a scatter plot of the normalized residuals"
   ]
  },
  {
   "cell_type": "code",
   "execution_count": 51,
   "metadata": {},
   "outputs": [
    {
     "data": {
      "image/png": "[encoded data removed]",
      "text/plain": [
       "<Figure size 576x576 with 1 Axes>"
      ]
     },
     "metadata": {},
     "output_type": "display_data"
    }
   ],
   "source": [
    "y_log_pred = linear_model_log.predict(X)\n",
    "residual_log = scale(y_log - y_log_pred)\n",
    "\n",
    "df_forbes_log_vis = df_forbes.copy()\n",
    "df_forbes_log_vis['residuals'] = residual_log\n",
    "\n",
    "ax = df_forbes_log_vis.plot(kind='scatter', x='bp', y='residuals', c='b')\n",
    "ax.set_xlabel('Boiling point')\n",
    "ax.set_ylabel('Normalized residuals')\n",
    "ax.set_title('Normalized residuals for logarithm of pressure', fontsize=16);"
   ]
  },
  {
   "cell_type": "markdown",
   "metadata": {},
   "source": [
    "The residuals seem less structured, which indicates that the new model fits the data better.\n",
    "\n",
    "As indicated in the lecture a normalized residual value higher than 2.5 might indicate an outlier (rule of thumb). Since the normalized residual for the point with pressure 96.4 (log pressure 4.57) is larger than 2.5, this point should be investigated further.\n",
    "\n",
    "Ideally we would check with the data collector, if there is a reason to exclude this point. Perhaps equipment malfunctioned. Since we can no longer ask Dr. Forbes, rules of scientific integrity dictate that we just have to accept this data point, as we have no solid arguments for removing it."
   ]
  },
  {
   "cell_type": "markdown",
   "metadata": {},
   "source": [
    "### Exercise: Timber"
   ]
  },
  {
   "cell_type": "markdown",
   "metadata": {},
   "source": [
    "The value of a timber tree is determined by the volume of it, but this can only be determined after the tree is cut down and sawn up. We somehow would like to predict the volume of the tree from the girth (the circumference) of the tree, and its height, which are easy to measure when the tree is still standing. We will use the dataset in `./datasets/trees.csv` which contains a table with three columns:\n",
    "\n",
    "- **`girth`**: the girth of a tree at breast height, in inches (1 foot = 12 inches)\n",
    "- **`height`**: the height of a tree, in feet\n",
    "- **`volume`**: the volume of timber produced from the tree, in cubic feet\n",
    "\n",
    "We will fit a regression model with girth and height as independent variables. \n",
    "\n",
    "(This exercise was adapted from Bingham and Fry (2010))."
   ]
  },
  {
   "cell_type": "code",
   "execution_count": 52,
   "metadata": {},
   "outputs": [
    {
     "data": {
      "text/html": [
       "<div>\n",
       "<style scoped>\n",
       "    .dataframe tbody tr th:only-of-type {\n",
       "        vertical-align: middle;\n",
       "    }\n",
       "\n",
       "    .dataframe tbody tr th {\n",
       "        vertical-align: top;\n",
       "    }\n",
       "\n",
       "    .dataframe thead th {\n",
       "        text-align: right;\n",
       "    }\n",
       "</style>\n",
       "<table border=\"1\" class=\"dataframe\">\n",
       "  <thead>\n",
       "    <tr style=\"text-align: right;\">\n",
       "      <th></th>\n",
       "      <th>girth</th>\n",
       "      <th>height</th>\n",
       "      <th>volume</th>\n",
       "    </tr>\n",
       "  </thead>\n",
       "  <tbody>\n",
       "    <tr>\n",
       "      <th>1</th>\n",
       "      <td>8.3</td>\n",
       "      <td>70</td>\n",
       "      <td>10.3</td>\n",
       "    </tr>\n",
       "    <tr>\n",
       "      <th>2</th>\n",
       "      <td>8.6</td>\n",
       "      <td>65</td>\n",
       "      <td>10.3</td>\n",
       "    </tr>\n",
       "    <tr>\n",
       "      <th>3</th>\n",
       "      <td>8.8</td>\n",
       "      <td>63</td>\n",
       "      <td>10.2</td>\n",
       "    </tr>\n",
       "    <tr>\n",
       "      <th>4</th>\n",
       "      <td>10.5</td>\n",
       "      <td>72</td>\n",
       "      <td>16.4</td>\n",
       "    </tr>\n",
       "    <tr>\n",
       "      <th>5</th>\n",
       "      <td>10.7</td>\n",
       "      <td>81</td>\n",
       "      <td>18.8</td>\n",
       "    </tr>\n",
       "    <tr>\n",
       "      <th>6</th>\n",
       "      <td>10.8</td>\n",
       "      <td>83</td>\n",
       "      <td>19.7</td>\n",
       "    </tr>\n",
       "    <tr>\n",
       "      <th>7</th>\n",
       "      <td>11.0</td>\n",
       "      <td>66</td>\n",
       "      <td>15.6</td>\n",
       "    </tr>\n",
       "    <tr>\n",
       "      <th>8</th>\n",
       "      <td>11.0</td>\n",
       "      <td>75</td>\n",
       "      <td>18.2</td>\n",
       "    </tr>\n",
       "    <tr>\n",
       "      <th>9</th>\n",
       "      <td>11.1</td>\n",
       "      <td>80</td>\n",
       "      <td>22.6</td>\n",
       "    </tr>\n",
       "    <tr>\n",
       "      <th>10</th>\n",
       "      <td>11.2</td>\n",
       "      <td>75</td>\n",
       "      <td>19.9</td>\n",
       "    </tr>\n",
       "    <tr>\n",
       "      <th>11</th>\n",
       "      <td>11.3</td>\n",
       "      <td>79</td>\n",
       "      <td>24.2</td>\n",
       "    </tr>\n",
       "    <tr>\n",
       "      <th>12</th>\n",
       "      <td>11.4</td>\n",
       "      <td>76</td>\n",
       "      <td>21.0</td>\n",
       "    </tr>\n",
       "    <tr>\n",
       "      <th>13</th>\n",
       "      <td>11.4</td>\n",
       "      <td>76</td>\n",
       "      <td>21.4</td>\n",
       "    </tr>\n",
       "    <tr>\n",
       "      <th>14</th>\n",
       "      <td>11.7</td>\n",
       "      <td>69</td>\n",
       "      <td>21.3</td>\n",
       "    </tr>\n",
       "    <tr>\n",
       "      <th>15</th>\n",
       "      <td>12.0</td>\n",
       "      <td>75</td>\n",
       "      <td>19.1</td>\n",
       "    </tr>\n",
       "    <tr>\n",
       "      <th>16</th>\n",
       "      <td>12.9</td>\n",
       "      <td>74</td>\n",
       "      <td>22.2</td>\n",
       "    </tr>\n",
       "    <tr>\n",
       "      <th>17</th>\n",
       "      <td>12.9</td>\n",
       "      <td>85</td>\n",
       "      <td>33.8</td>\n",
       "    </tr>\n",
       "    <tr>\n",
       "      <th>18</th>\n",
       "      <td>13.3</td>\n",
       "      <td>86</td>\n",
       "      <td>27.4</td>\n",
       "    </tr>\n",
       "    <tr>\n",
       "      <th>19</th>\n",
       "      <td>13.7</td>\n",
       "      <td>71</td>\n",
       "      <td>25.7</td>\n",
       "    </tr>\n",
       "    <tr>\n",
       "      <th>20</th>\n",
       "      <td>13.8</td>\n",
       "      <td>64</td>\n",
       "      <td>24.9</td>\n",
       "    </tr>\n",
       "    <tr>\n",
       "      <th>21</th>\n",
       "      <td>14.0</td>\n",
       "      <td>78</td>\n",
       "      <td>34.5</td>\n",
       "    </tr>\n",
       "    <tr>\n",
       "      <th>22</th>\n",
       "      <td>14.2</td>\n",
       "      <td>80</td>\n",
       "      <td>31.7</td>\n",
       "    </tr>\n",
       "    <tr>\n",
       "      <th>23</th>\n",
       "      <td>14.5</td>\n",
       "      <td>74</td>\n",
       "      <td>36.3</td>\n",
       "    </tr>\n",
       "    <tr>\n",
       "      <th>24</th>\n",
       "      <td>16.0</td>\n",
       "      <td>72</td>\n",
       "      <td>38.3</td>\n",
       "    </tr>\n",
       "    <tr>\n",
       "      <th>25</th>\n",
       "      <td>16.3</td>\n",
       "      <td>77</td>\n",
       "      <td>42.6</td>\n",
       "    </tr>\n",
       "    <tr>\n",
       "      <th>26</th>\n",
       "      <td>17.3</td>\n",
       "      <td>81</td>\n",
       "      <td>55.4</td>\n",
       "    </tr>\n",
       "    <tr>\n",
       "      <th>27</th>\n",
       "      <td>17.5</td>\n",
       "      <td>82</td>\n",
       "      <td>55.7</td>\n",
       "    </tr>\n",
       "    <tr>\n",
       "      <th>28</th>\n",
       "      <td>17.9</td>\n",
       "      <td>80</td>\n",
       "      <td>58.3</td>\n",
       "    </tr>\n",
       "    <tr>\n",
       "      <th>29</th>\n",
       "      <td>18.0</td>\n",
       "      <td>80</td>\n",
       "      <td>51.5</td>\n",
       "    </tr>\n",
       "    <tr>\n",
       "      <th>30</th>\n",
       "      <td>18.0</td>\n",
       "      <td>80</td>\n",
       "      <td>51.0</td>\n",
       "    </tr>\n",
       "    <tr>\n",
       "      <th>31</th>\n",
       "      <td>20.6</td>\n",
       "      <td>87</td>\n",
       "      <td>77.0</td>\n",
       "    </tr>\n",
       "  </tbody>\n",
       "</table>\n",
       "</div>"
      ],
      "text/plain": [
       "    girth  height  volume\n",
       "1     8.3      70    10.3\n",
       "2     8.6      65    10.3\n",
       "3     8.8      63    10.2\n",
       "4    10.5      72    16.4\n",
       "5    10.7      81    18.8\n",
       "6    10.8      83    19.7\n",
       "7    11.0      66    15.6\n",
       "8    11.0      75    18.2\n",
       "9    11.1      80    22.6\n",
       "10   11.2      75    19.9\n",
       "11   11.3      79    24.2\n",
       "12   11.4      76    21.0\n",
       "13   11.4      76    21.4\n",
       "14   11.7      69    21.3\n",
       "15   12.0      75    19.1\n",
       "16   12.9      74    22.2\n",
       "17   12.9      85    33.8\n",
       "18   13.3      86    27.4\n",
       "19   13.7      71    25.7\n",
       "20   13.8      64    24.9\n",
       "21   14.0      78    34.5\n",
       "22   14.2      80    31.7\n",
       "23   14.5      74    36.3\n",
       "24   16.0      72    38.3\n",
       "25   16.3      77    42.6\n",
       "26   17.3      81    55.4\n",
       "27   17.5      82    55.7\n",
       "28   17.9      80    58.3\n",
       "29   18.0      80    51.5\n",
       "30   18.0      80    51.0\n",
       "31   20.6      87    77.0"
      ]
     },
     "execution_count": 52,
     "metadata": {},
     "output_type": "execute_result"
    }
   ],
   "source": [
    "df_timber = pd.read_csv('./datasets/trees.csv', index_col=0)\n",
    "df_timber"
   ]
  },
  {
   "cell_type": "markdown",
   "metadata": {},
   "source": [
    "#### Exercise 3.a\n",
    "Plot a scatter diagram of volume vs. height. "
   ]
  },
  {
   "cell_type": "code",
   "execution_count": 53,
   "metadata": {},
   "outputs": [
    {
     "data": {
      "image/png": "[encoded data removed]",
      "text/plain": [
       "<Figure size 576x576 with 1 Axes>"
      ]
     },
     "metadata": {},
     "output_type": "display_data"
    }
   ],
   "source": [
    "#// BEGIN_TODO [HYP_3a] Height vs volume (1 point)\n",
    "\n",
    "ax3a = df_timber.plot(kind='scatter', x='height', y='volume', c='m')\n",
    "\n",
    "#// END_TODO [HYP_3a]"
   ]
  },
  {
   "cell_type": "markdown",
   "metadata": {},
   "source": [
    "#### Exercise 3.b\n",
    "Plot a scatter diagram of volume vs. girth. "
   ]
  },
  {
   "cell_type": "code",
   "execution_count": 54,
   "metadata": {},
   "outputs": [
    {
     "data": {
      "image/png": "[encoded data removed]",
      "text/plain": [
       "<Figure size 576x576 with 1 Axes>"
      ]
     },
     "metadata": {},
     "output_type": "display_data"
    }
   ],
   "source": [
    "#// BEGIN_TODO [HYP_3b] Girth vs. volume (1 point)\n",
    "\n",
    "ax3b = df_timber.plot(kind='scatter', x='girth', y='volume', c='k')\n",
    "\n",
    "#// END_TODO [HYP_3b]"
   ]
  },
  {
   "cell_type": "markdown",
   "metadata": {},
   "source": [
    "#### Exercise 3.c\n",
    "\n",
    "What order polynomial appears to be a good fit for a regression model with volume as dependent variable, and height and girth as independent variables?\n",
    "\n",
    "> a. A first order polynomial<br>\n",
    "> b. A second order polynomial<br>\n",
    "> c. A third order polynomial\n",
    "\n",
    "Assign your answer (`'a'`, `'b'`, or `'c'`) to `poly_order_timber`"
   ]
  },
  {
   "cell_type": "code",
   "execution_count": 55,
   "metadata": {},
   "outputs": [],
   "source": [
    "#// BEGIN_TODO [HYP_3c] Polynomial order (1 point)\n",
    "\n",
    "poly_order_timber = 'a'\n",
    "\n",
    "#// END_TODO [HYP_3c]"
   ]
  },
  {
   "cell_type": "markdown",
   "metadata": {},
   "source": [
    "### First Order Polynomial Model\n",
    "\n",
    "Regardless of your answer to the previous question, we will now fit a first order polynomial model and plot the normalized residuals."
   ]
  },
  {
   "cell_type": "markdown",
   "metadata": {},
   "source": [
    "#### Exercise 3.d\n",
    "\n",
    "Construct the training set that will be used for fitting the first order polynomial model, with volume as the dependent variable and both girth and height as independent variables. Assign the data for the independent variables to the dataframe `X_timber` and the data for the dependent variable to the series `y_timber`."
   ]
  },
  {
   "cell_type": "code",
   "execution_count": 56,
   "metadata": {},
   "outputs": [],
   "source": [
    "#// BEGIN_TODO [HYP_3d] Define the training dataset (1 point)\n",
    "\n",
    "X_timber = df_timber[['height', 'girth']]\n",
    "y_timber = df_timber['volume']\n",
    "\n",
    "#// END_TODO [HYP_3d]"
   ]
  },
  {
   "cell_type": "markdown",
   "metadata": {},
   "source": [
    "#### Exercise 3.e\n",
    "\n",
    "Fit the first order model, with volume as the dependent variable and both girth and height as independent variables. Assign the model to variable `lm_timber`."
   ]
  },
  {
   "cell_type": "code",
   "execution_count": 57,
   "metadata": {},
   "outputs": [],
   "source": [
    "#// BEGIN_TODO [HYP_3e] Fit the first order polynomial model (1 point)\n",
    "\n",
    "lm_timber = LinearRegression()\n",
    "lm_timber.fit(X_timber, y_timber);\n",
    "\n",
    "#// END_TODO [HYP_3e]"
   ]
  },
  {
   "cell_type": "markdown",
   "metadata": {},
   "source": [
    "#### Exercise 3.f\n",
    "\n",
    "Compute the $R^2$ score of the `lm_timber` model on the training data. Assign the score to variable `r_timber`"
   ]
  },
  {
   "cell_type": "code",
   "execution_count": 58,
   "metadata": {},
   "outputs": [
    {
     "data": {
      "text/plain": [
       "0.9479500377816745"
      ]
     },
     "execution_count": 58,
     "metadata": {},
     "output_type": "execute_result"
    }
   ],
   "source": [
    "#// BEGIN_TODO [HYP_3f] Compute R2 score (1 point)\n",
    "\n",
    "r_timber = lm_timber.score(X_timber, y_timber)\n",
    "\n",
    "#// END_TODO [HYP_3f]\n",
    "\n",
    "r_timber"
   ]
  },
  {
   "cell_type": "markdown",
   "metadata": {},
   "source": [
    "#### Exercise 3.g\n",
    "\n",
    "Compute the normalized residuals for the training data. Assign them to the variable `residuals_timber`."
   ]
  },
  {
   "cell_type": "code",
   "execution_count": 59,
   "metadata": {},
   "outputs": [],
   "source": [
    "#// BEGIN_TODO [HYP_3g] Model summary (1 point)\n",
    "\n",
    "residuals_timber = scale(y_timber - lm_timber.predict(X_timber))\n",
    "\n",
    "#// END_TODO [HYP_3g]"
   ]
  },
  {
   "cell_type": "markdown",
   "metadata": {},
   "source": [
    "#### Exercise 3.h\n",
    "\n",
    "Plot the normalized residuals, with `'girth'` on the x-axis."
   ]
  },
  {
   "cell_type": "code",
   "execution_count": 60,
   "metadata": {},
   "outputs": [
    {
     "data": {
      "image/png": "[encoded data removed]",
      "text/plain": [
       "<Figure size 576x576 with 1 Axes>"
      ]
     },
     "metadata": {},
     "output_type": "display_data"
    }
   ],
   "source": [
    "#// BEGIN_TODO [HYP_3h] Residual plot (1 point)\n",
    "\n",
    "df_3h = df_timber.copy()\n",
    "df_3h['residuals'] = residuals_timber\n",
    "ax3h = df_3h.plot(kind='scatter', x='girth', y='residuals', c='k')\n",
    "\n",
    "#// END_TODO [HYP_3h]"
   ]
  },
  {
   "cell_type": "markdown",
   "metadata": {},
   "source": [
    "Looking at the residual plot, how well does this first order polynomial model perform?"
   ]
  },
  {
   "cell_type": "markdown",
   "metadata": {},
   "source": [
    "### Better Model\n",
    "\n",
    "To help define a better fitting model we should look at the following:\n",
    "\n",
    "The tree girth can be viewed as its circumference. The radius $r$ of the tree can then be computed by \n",
    "\n",
    "$$r = \\mathsf{girth} / 2\\pi$$\n",
    "\n",
    "The volume of a cylinder of radius $r$ and height $h$ is equal to\n",
    "\n",
    "$$\\pi * r^2 * h$$\n",
    "\n",
    "Assuming the tree trunk extends to the top of the tree, we can use this formula to estimate the volume of the tree trunk.\n",
    "\n",
    "#### Exercise 3.i\n",
    "\n",
    "Add a column called `'volume_est'` to the dataframe `df_timber` with a volume estimate (in cubic feet) for the tree trunk based on the above statements. Use `math.pi` as approximation of $\\pi$.\n",
    "\n",
    "<span class=\"t\">Hint<span class=\"c\">:</span></span>\n",
    "<span class=\"h\">\n",
    "Remember that `df_timber['girth']` is in inches.\n",
    "</span>"
   ]
  },
  {
   "cell_type": "code",
   "execution_count": 61,
   "metadata": {},
   "outputs": [],
   "source": [
    "#// BEGIN_TODO [HYP_3i] Add volume estimates (1 point)\n",
    "\n",
    "df_timber['volume_est'] = math.pi * ((1/12) * (df_timber['girth']) / (2*math.pi)) ** 2 * df_timber['height']\n",
    "\n",
    "#// END_TODO [HYP_3i]"
   ]
  },
  {
   "cell_type": "markdown",
   "metadata": {},
   "source": [
    "#### Exercise 3.j\n",
    "Fit a regression model with `volume` as the dependent and `volume_est` as the independent variable. Assign the data for the independent variables to dataframe `X_timber_est` and the model to `lm_timber_est`.\n",
    "\n",
    "<span class=\"t\">Hint<span class=\"c\">:</span></span>\n",
    "<span class=\"h\">\n",
    "Reuse the dependent variable `y_timber`.\n",
    "</span>"
   ]
  },
  {
   "cell_type": "code",
   "execution_count": 62,
   "metadata": {},
   "outputs": [],
   "source": [
    "#// BEGIN_TODO [HYP_3j] Fit the better model (1 point)\n",
    "\n",
    "X_timber_est = df_timber[['volume_est']]\n",
    "lm_timber_est = LinearRegression()\n",
    "lm_timber_est.fit(X_timber_est, y_timber);\n",
    "\n",
    "#// END_TODO [HYP_3j]"
   ]
  },
  {
   "cell_type": "markdown",
   "metadata": {},
   "source": [
    "#### Exercise 3.k\n",
    "\n",
    "Compute the normalized residuals for the training data in the previous exercise. Assign them to the variable `residuals_timber_est`."
   ]
  },
  {
   "cell_type": "code",
   "execution_count": 63,
   "metadata": {},
   "outputs": [],
   "source": [
    "#// BEGIN_TODO [HYP_3k] Residuals for the better model (1 point)\n",
    "\n",
    "residuals_timber_est = scale(y_timber - lm_timber_est.predict(X_timber_est))\n",
    "\n",
    "#// END_TODO [HYP_3k]"
   ]
  },
  {
   "cell_type": "markdown",
   "metadata": {},
   "source": [
    "#### Exercise 3.l\n",
    "Plot the normalized residuals in `residuals_timber_est`, with `'volume_est'` on the x-axis."
   ]
  },
  {
   "cell_type": "code",
   "execution_count": 64,
   "metadata": {},
   "outputs": [
    {
     "data": {
      "image/png": "[encoded data removed]",
      "text/plain": [
       "<Figure size 576x576 with 1 Axes>"
      ]
     },
     "metadata": {},
     "output_type": "display_data"
    }
   ],
   "source": [
    "#// BEGIN_TODO [HYP_3l] Normalized residuals vs volume estimate (1 point)\n",
    "\n",
    "df_3l = df_timber.copy()\n",
    "df_3l['residuals'] = residuals_timber_est\n",
    "\n",
    "ax3l = df_3l.plot(kind='scatter', x='volume_est', y='volume', c='k')\n",
    "\n",
    "#// END_TODO [HYP_3l]"
   ]
  },
  {
   "cell_type": "markdown",
   "metadata": {},
   "source": [
    "#### Exercise 3.m\n",
    "Are there potential outliers?\n",
    "Assign your (boolean) answer to `outliers`."
   ]
  },
  {
   "cell_type": "code",
   "execution_count": 66,
   "metadata": {},
   "outputs": [],
   "source": [
    "#// BEGIN_TODO [HYP_3m] Potential outliers (1 point)\n",
    "\n",
    "outliers = False\n",
    "\n",
    "#// END_TODO [HYP_3m]"
   ]
  },
  {
   "cell_type": "markdown",
   "metadata": {},
   "source": [
    "---\n",
    "## 4. Exercise: Hypothesis Testing\n",
    "\n",
    "Last week we applied data aggregation and sampling to extract features from the data you all collected in the mouse experiment. Now we will use that same data to verify Fitts's law and draw conclusions about perceived differences in this data.\n",
    "\n",
    "The Fitts's law describes the relation between the distance from a cursor to an object, the size of the object and the time it takes for a user to click the object. We have asked you all to record data in this experiment using two different input devices: trackpad and mouse. We use this recorded data to compare the two input methods. \n",
    "\n",
    "One can imagine that the use of an interface feels intuitive as long as finding and clicking specific buttons does not take too long. More specifically, it does not matter how long it takes to click a button as long as it does not take longer than 1 second. We would like to investigate if, for either of the input methods (trackpad vs. mouse), this limit is often exceeded.\n",
    "\n",
    "Let us first read the data into `df_fitts`, containing data from individual trials"
   ]
  },
  {
   "cell_type": "code",
   "execution_count": 67,
   "metadata": {},
   "outputs": [
    {
     "data": {
      "text/html": [
       "<div>\n",
       "<style scoped>\n",
       "    .dataframe tbody tr th:only-of-type {\n",
       "        vertical-align: middle;\n",
       "    }\n",
       "\n",
       "    .dataframe tbody tr th {\n",
       "        vertical-align: top;\n",
       "    }\n",
       "\n",
       "    .dataframe thead th {\n",
       "        text-align: right;\n",
       "    }\n",
       "</style>\n",
       "<table border=\"1\" class=\"dataframe\">\n",
       "  <thead>\n",
       "    <tr style=\"text-align: right;\">\n",
       "      <th></th>\n",
       "      <th>user</th>\n",
       "      <th>trial</th>\n",
       "      <th>delay</th>\n",
       "      <th>input_method</th>\n",
       "      <th>target_radius</th>\n",
       "      <th>target_x</th>\n",
       "      <th>target_y</th>\n",
       "      <th>total_time</th>\n",
       "    </tr>\n",
       "  </thead>\n",
       "  <tbody>\n",
       "    <tr>\n",
       "      <th>0</th>\n",
       "      <td>1226</td>\n",
       "      <td>5</td>\n",
       "      <td>2.136719</td>\n",
       "      <td>0</td>\n",
       "      <td>6</td>\n",
       "      <td>-84</td>\n",
       "      <td>-84</td>\n",
       "      <td>3.607323</td>\n",
       "    </tr>\n",
       "    <tr>\n",
       "      <th>1</th>\n",
       "      <td>1226</td>\n",
       "      <td>6</td>\n",
       "      <td>3.540913</td>\n",
       "      <td>0</td>\n",
       "      <td>6</td>\n",
       "      <td>0</td>\n",
       "      <td>190</td>\n",
       "      <td>1.867664</td>\n",
       "    </tr>\n",
       "    <tr>\n",
       "      <th>2</th>\n",
       "      <td>1226</td>\n",
       "      <td>7</td>\n",
       "      <td>3.688381</td>\n",
       "      <td>0</td>\n",
       "      <td>6</td>\n",
       "      <td>-158</td>\n",
       "      <td>-158</td>\n",
       "      <td>1.645011</td>\n",
       "    </tr>\n",
       "  </tbody>\n",
       "</table>\n",
       "</div>"
      ],
      "text/plain": [
       "   user  trial     delay  input_method  target_radius  target_x  target_y  \\\n",
       "0  1226      5  2.136719             0              6       -84       -84   \n",
       "1  1226      6  3.540913             0              6         0       190   \n",
       "2  1226      7  3.688381             0              6      -158      -158   \n",
       "\n",
       "   total_time  \n",
       "0    3.607323  \n",
       "1    1.867664  \n",
       "2    1.645011  "
      ]
     },
     "execution_count": 67,
     "metadata": {},
     "output_type": "execute_result"
    }
   ],
   "source": [
    "df_fitts = pd.read_csv(\"./datasets/user_trial_props.csv\")\n",
    "df_fitts.head(3)"
   ]
  },
  {
   "cell_type": "markdown",
   "metadata": {},
   "source": [
    "and visualize the total time of a trial (in seconds) vs. the input method (0 for trackpad and 1 for mouse) using a strip plot:"
   ]
  },
  {
   "cell_type": "code",
   "execution_count": 68,
   "metadata": {},
   "outputs": [
    {
     "name": "stderr",
     "output_type": "stream",
     "text": [
      "c:\\Users\\mail\\anaconda3\\lib\\site-packages\\seaborn\\_decorators.py:36: FutureWarning: Pass the following variables as keyword args: x, y. From version 0.12, the only valid positional argument will be `data`, and passing other arguments without an explicit keyword will result in an error or misinterpretation.\n",
      "  warnings.warn(\n"
     ]
    },
    {
     "data": {
      "image/png": "[encoded data removed]",
      "text/plain": [
       "<Figure size 576x576 with 1 Axes>"
      ]
     },
     "metadata": {},
     "output_type": "display_data"
    }
   ],
   "source": [
    "ax = sns.stripplot('input_method', 'total_time', data=df_fitts, jitter=True, s=1)\n",
    "ax.set_xlabel('Input method')\n",
    "ax.set_ylabel('Total time (s)')\n",
    "ax.set_ylim(0, 5);"
   ]
  },
  {
   "cell_type": "markdown",
   "metadata": {},
   "source": [
    "Let us extract the total time for the trials recorded using the mouse and trackpad into series `mouse` and `trackpad`, respectively:"
   ]
  },
  {
   "cell_type": "code",
   "execution_count": 69,
   "metadata": {},
   "outputs": [],
   "source": [
    "mouse = df_fitts[df_fitts['input_method'] == 1]['total_time']\n",
    "trackpad = df_fitts[df_fitts['input_method'] == 0]['total_time']"
   ]
  },
  {
   "cell_type": "markdown",
   "metadata": {},
   "source": [
    "### Exercise 4.a\n",
    "\n",
    "Using the goal described above, define a quantitative question, with which you define what you plan to investigate. Use this question to guide your thinking in the next exercises."
   ]
  },
  {
   "cell_type": "markdown",
   "metadata": {},
   "source": [
    "Assign `'a'`, `'b'` or `'c'` to the variable `question_fitts`\n",
    "\n",
    ">a. Is the proportion of trackpad trajectories that take longer than a second significantly larger than the proportion of  mouse trajectories that take longer than a second?<br>\n",
    "b. Is the proportion of trackpad trajectories that take longer than a second significantly different from the proportion of mouse trajectories that take longer than a second?<br>\n",
    "c. Is the proportion of trackpad trajectories that take longer than a second significantly smaller than the proportion of mouse trajectories that take longer than a second?"
   ]
  },
  {
   "cell_type": "code",
   "execution_count": 70,
   "metadata": {},
   "outputs": [],
   "source": [
    "#// BEGIN_TODO [HYP_4a] Formulate quantitative question (1 point)\n",
    "\n",
    "question_fitts = 'b'\n",
    "\n",
    "#// END_TODO [HYP_4a]"
   ]
  },
  {
   "cell_type": "markdown",
   "metadata": {},
   "source": [
    "###  Exercise <span class=\"exercise\">4.b</span>  \n",
    "Using the goal described above and the quantitative question you defined formulate the best fitting hypothesis. Think of the following:\n",
    "\n",
    "* one- or two-sample data\n",
    "* one- or two-sided test\n",
    "* equality of means or equality of proportions hypothesis\n",
    "\n",
    "Assign to the variable `data_fitts` the string `'one-sample'` if we are dealing with one-sample data and `'two-sample'` if we are dealing with two-sample data.\n",
    "\n",
    "Assign to the variable `test_fitts` the string `'one-sided'` if a one-sided test should be used and `'two-sided'` if a two-sided test should be used.\n",
    "\n",
    "Assign the hypotheses as string to variables `H_0_fitts` and `H_a_fitts`. Construct the strings in the following way: `'mu_mouse=mu_trackpad'` or `'p_mouse=p_trackpad'`. Use `mu` when comparing means and `p` when comparing proportions. Use `!=`, `>` or `<` for the alternative hypothesis."
   ]
  },
  {
   "cell_type": "code",
   "execution_count": 71,
   "metadata": {},
   "outputs": [],
   "source": [
    "#// BEGIN_TODO [HYP_4b] Formulate Hypothesis (1 point)\n",
    "\n",
    "\n",
    "data_fitts = 'two-sample'\n",
    "test_fitts = 'two-sided'\n",
    "H_0_fitts = 'p_mouse=p_trackpad'\n",
    "H_a_fitts = 'p_mouse!=p_trackpad'\n",
    "\n",
    "#// END_TODO [HYP_4b]"
   ]
  },
  {
   "cell_type": "markdown",
   "metadata": {},
   "source": [
    "###  Exercise <span class=\"exercise\">4.c</span> "
   ]
  },
  {
   "cell_type": "markdown",
   "metadata": {},
   "source": [
    "Does the choice of hypothesis and the appropriate test for this hypothesis require you to test the normality assumptions? Assign boolean answer to `check_normal_fitts`."
   ]
  },
  {
   "cell_type": "code",
   "execution_count": 72,
   "metadata": {},
   "outputs": [],
   "source": [
    "#// BEGIN_TODO [HYP_4c] Is there a need to check assumptions? (1 point)\n",
    "\n",
    "check_normal_fitts = False\n",
    "\n",
    "#// END_TODO [HYP_4c]"
   ]
  },
  {
   "cell_type": "markdown",
   "metadata": {},
   "source": [
    "###  Exercise <span class=\"exercise\">4.d</span> "
   ]
  },
  {
   "cell_type": "markdown",
   "metadata": {},
   "source": [
    "If you indicated the need to check normality assumptions in the previous question, please do so below. Assign boolean answer to `normal_fitts`: \n",
    "\n",
    "- `True` if the assumptions are met,\n",
    "- `False` if there is enough evidence to reject normality, or the intended test does not require you to test for normality."
   ]
  },
  {
   "cell_type": "code",
   "execution_count": 73,
   "metadata": {},
   "outputs": [],
   "source": [
    "#// BEGIN_TODO [HYP_4d] Check Assumptions (1 point)\n",
    "\n",
    "normal_fitts = False\n",
    "\n",
    "#// END_TODO [HYP_4d]"
   ]
  },
  {
   "cell_type": "markdown",
   "metadata": {},
   "source": [
    "###  Exercise <span class=\"exercise\" >4.e</span>\n",
    "Apply the correct test, regardless of the results you found in the previous question.\n",
    "It is possible that more preprocessing is required. Add more code cells between the markers if you need them. Assign the p-value you found to `p_fitts`."
   ]
  },
  {
   "cell_type": "code",
   "execution_count": 75,
   "metadata": {},
   "outputs": [],
   "source": [
    "#// BEGIN_TODO [HYP_4e] Apply test (1 point)\n",
    "\n",
    "over1_mouse=mouse[mouse>1].count()\n",
    "over1_trackpad = trackpad[trackpad>1].count()\n",
    "\n",
    "m_count = mouse.count()\n",
    "\n",
    "t_count = trackpad.count()\n",
    "p_fitts = sm.stats.proportions_ztest([over1_mouse, over1_trackpad], [m_count, t_count], alternative='two-sided')[1]\n"
   ]
  },
  {
   "cell_type": "code",
   "execution_count": 76,
   "metadata": {},
   "outputs": [
    {
     "data": {
      "text/plain": [
       "0.0"
      ]
     },
     "execution_count": 76,
     "metadata": {},
     "output_type": "execute_result"
    }
   ],
   "source": [
    "#// END_TODO [HYP_4e]\n",
    "\n",
    "p_fitts"
   ]
  },
  {
   "cell_type": "markdown",
   "metadata": {},
   "source": [
    "###  Exercise <span class=\"exercise\">4.f</span> \n",
    "Is there sufficient evidence to reject the null hypothesis (at significance level $\\alpha=0.05$)? Assign your (boolean) answer to `reject_null_fitts`."
   ]
  },
  {
   "cell_type": "code",
   "execution_count": 77,
   "metadata": {},
   "outputs": [],
   "source": [
    "#// BEGIN_TODO [HYP_4f] Decision (1 point)\n",
    "\n",
    "reject_null_fitts = True\n",
    "\n",
    "#// END_TODO [HYP_4f]"
   ]
  },
  {
   "cell_type": "markdown",
   "metadata": {},
   "source": [
    "---\n",
    "## 5. Exercise: Regression Analysis"
   ]
  },
  {
   "cell_type": "markdown",
   "metadata": {},
   "source": [
    "Fitts's law describes the relation between the distance between a cursor and an object, the size of the object and the time it takes for a user to click the object. In particular, Fitts's law says that there is a linear relationship between trajectory's *total time* $T$ and its *Index of Difficulty* $I$:\n",
    "\n",
    "$$T = a * I + b$$\n",
    "\n",
    "where $I$ is given by\n",
    "\n",
    "$$I = \\log_2 \\left( \\frac{2D}{R} \\right)$$\n",
    "\n",
    "where $D$ is the *target distance* and $R$ is the *target radius*.\n",
    "\n",
    "In this exercise we will try to fit the Fitt's model to the trackpad data from the mouse experiment."
   ]
  },
  {
   "cell_type": "markdown",
   "metadata": {},
   "source": [
    "###  Exercise 5.a\n",
    "\n",
    "Select the trackpad trajectories from `df_fitts`. Create a new dataframe `df_regression` with all the trackpad trajectories.\n",
    "\n",
    "<span class=\"t\">Hint<span class=\"c\">:</span></span>\n",
    "<span class=\"h\">\n",
    "Trackpad trajectories have an `input_method` equal to 0.\n",
    "</span>"
   ]
  },
  {
   "cell_type": "code",
   "execution_count": 78,
   "metadata": {},
   "outputs": [
    {
     "data": {
      "text/html": [
       "<div>\n",
       "<style scoped>\n",
       "    .dataframe tbody tr th:only-of-type {\n",
       "        vertical-align: middle;\n",
       "    }\n",
       "\n",
       "    .dataframe tbody tr th {\n",
       "        vertical-align: top;\n",
       "    }\n",
       "\n",
       "    .dataframe thead th {\n",
       "        text-align: right;\n",
       "    }\n",
       "</style>\n",
       "<table border=\"1\" class=\"dataframe\">\n",
       "  <thead>\n",
       "    <tr style=\"text-align: right;\">\n",
       "      <th></th>\n",
       "      <th>user</th>\n",
       "      <th>trial</th>\n",
       "      <th>delay</th>\n",
       "      <th>input_method</th>\n",
       "      <th>target_radius</th>\n",
       "      <th>target_x</th>\n",
       "      <th>target_y</th>\n",
       "      <th>total_time</th>\n",
       "    </tr>\n",
       "  </thead>\n",
       "  <tbody>\n",
       "    <tr>\n",
       "      <th>0</th>\n",
       "      <td>1226</td>\n",
       "      <td>5</td>\n",
       "      <td>2.136719</td>\n",
       "      <td>0</td>\n",
       "      <td>6</td>\n",
       "      <td>-84</td>\n",
       "      <td>-84</td>\n",
       "      <td>3.607323</td>\n",
       "    </tr>\n",
       "    <tr>\n",
       "      <th>1</th>\n",
       "      <td>1226</td>\n",
       "      <td>6</td>\n",
       "      <td>3.540913</td>\n",
       "      <td>0</td>\n",
       "      <td>6</td>\n",
       "      <td>0</td>\n",
       "      <td>190</td>\n",
       "      <td>1.867664</td>\n",
       "    </tr>\n",
       "    <tr>\n",
       "      <th>2</th>\n",
       "      <td>1226</td>\n",
       "      <td>7</td>\n",
       "      <td>3.688381</td>\n",
       "      <td>0</td>\n",
       "      <td>6</td>\n",
       "      <td>-158</td>\n",
       "      <td>-158</td>\n",
       "      <td>1.645011</td>\n",
       "    </tr>\n",
       "    <tr>\n",
       "      <th>3</th>\n",
       "      <td>1226</td>\n",
       "      <td>8</td>\n",
       "      <td>2.823134</td>\n",
       "      <td>0</td>\n",
       "      <td>3</td>\n",
       "      <td>81</td>\n",
       "      <td>-81</td>\n",
       "      <td>1.776010</td>\n",
       "    </tr>\n",
       "    <tr>\n",
       "      <th>4</th>\n",
       "      <td>1226</td>\n",
       "      <td>9</td>\n",
       "      <td>3.690253</td>\n",
       "      <td>0</td>\n",
       "      <td>9</td>\n",
       "      <td>-157</td>\n",
       "      <td>157</td>\n",
       "      <td>1.567794</td>\n",
       "    </tr>\n",
       "  </tbody>\n",
       "</table>\n",
       "</div>"
      ],
      "text/plain": [
       "   user  trial     delay  input_method  target_radius  target_x  target_y  \\\n",
       "0  1226      5  2.136719             0              6       -84       -84   \n",
       "1  1226      6  3.540913             0              6         0       190   \n",
       "2  1226      7  3.688381             0              6      -158      -158   \n",
       "3  1226      8  2.823134             0              3        81       -81   \n",
       "4  1226      9  3.690253             0              9      -157       157   \n",
       "\n",
       "   total_time  \n",
       "0    3.607323  \n",
       "1    1.867664  \n",
       "2    1.645011  \n",
       "3    1.776010  \n",
       "4    1.567794  "
      ]
     },
     "execution_count": 78,
     "metadata": {},
     "output_type": "execute_result"
    }
   ],
   "source": [
    "#// BEGIN_TODO [HYP_5a] Create dataframe (1 point)\n",
    "\n",
    "df_regression = df_fitts[df_fitts['input_method'] == 0]\n",
    "\n",
    "#// END_TODO [HYP_5a]\n",
    "\n",
    "df_regression.head()"
   ]
  },
  {
   "cell_type": "markdown",
   "metadata": {},
   "source": [
    "To apply the Fitt's law we will need to construct additional features first. We start with computing the *target distance*, which we will then use together with the *target radius* to compute the *Index of Difficulty*."
   ]
  },
  {
   "cell_type": "markdown",
   "metadata": {},
   "source": [
    "### Exercise 5.b\n",
    "\n",
    "Each trajectory starts at the coordinates (0,0). Use this information to calculate the distance of the target from the starting point using the `'target_x'` and `'target_y'` columns. Store the target distance in a new column `'target_distance'`."
   ]
  },
  {
   "cell_type": "code",
   "execution_count": 79,
   "metadata": {},
   "outputs": [
    {
     "name": "stderr",
     "output_type": "stream",
     "text": [
      "<ipython-input-79-3d05a518b54a>:3: SettingWithCopyWarning: \n",
      "A value is trying to be set on a copy of a slice from a DataFrame.\n",
      "Try using .loc[row_indexer,col_indexer] = value instead\n",
      "\n",
      "See the caveats in the documentation: https://pandas.pydata.org/pandas-docs/stable/user_guide/indexing.html#returning-a-view-versus-a-copy\n",
      "  df_regression['target_distance'] = np.sqrt(df_regression['target_x']**2 + df_regression['target_y']**2)\n"
     ]
    },
    {
     "data": {
      "text/html": [
       "<div>\n",
       "<style scoped>\n",
       "    .dataframe tbody tr th:only-of-type {\n",
       "        vertical-align: middle;\n",
       "    }\n",
       "\n",
       "    .dataframe tbody tr th {\n",
       "        vertical-align: top;\n",
       "    }\n",
       "\n",
       "    .dataframe thead th {\n",
       "        text-align: right;\n",
       "    }\n",
       "</style>\n",
       "<table border=\"1\" class=\"dataframe\">\n",
       "  <thead>\n",
       "    <tr style=\"text-align: right;\">\n",
       "      <th></th>\n",
       "      <th>user</th>\n",
       "      <th>trial</th>\n",
       "      <th>delay</th>\n",
       "      <th>input_method</th>\n",
       "      <th>target_radius</th>\n",
       "      <th>target_x</th>\n",
       "      <th>target_y</th>\n",
       "      <th>total_time</th>\n",
       "      <th>target_distance</th>\n",
       "    </tr>\n",
       "  </thead>\n",
       "  <tbody>\n",
       "    <tr>\n",
       "      <th>0</th>\n",
       "      <td>1226</td>\n",
       "      <td>5</td>\n",
       "      <td>2.136719</td>\n",
       "      <td>0</td>\n",
       "      <td>6</td>\n",
       "      <td>-84</td>\n",
       "      <td>-84</td>\n",
       "      <td>3.607323</td>\n",
       "      <td>118.793939</td>\n",
       "    </tr>\n",
       "    <tr>\n",
       "      <th>1</th>\n",
       "      <td>1226</td>\n",
       "      <td>6</td>\n",
       "      <td>3.540913</td>\n",
       "      <td>0</td>\n",
       "      <td>6</td>\n",
       "      <td>0</td>\n",
       "      <td>190</td>\n",
       "      <td>1.867664</td>\n",
       "      <td>190.000000</td>\n",
       "    </tr>\n",
       "    <tr>\n",
       "      <th>2</th>\n",
       "      <td>1226</td>\n",
       "      <td>7</td>\n",
       "      <td>3.688381</td>\n",
       "      <td>0</td>\n",
       "      <td>6</td>\n",
       "      <td>-158</td>\n",
       "      <td>-158</td>\n",
       "      <td>1.645011</td>\n",
       "      <td>223.445743</td>\n",
       "    </tr>\n",
       "    <tr>\n",
       "      <th>3</th>\n",
       "      <td>1226</td>\n",
       "      <td>8</td>\n",
       "      <td>2.823134</td>\n",
       "      <td>0</td>\n",
       "      <td>3</td>\n",
       "      <td>81</td>\n",
       "      <td>-81</td>\n",
       "      <td>1.776010</td>\n",
       "      <td>114.551299</td>\n",
       "    </tr>\n",
       "    <tr>\n",
       "      <th>4</th>\n",
       "      <td>1226</td>\n",
       "      <td>9</td>\n",
       "      <td>3.690253</td>\n",
       "      <td>0</td>\n",
       "      <td>9</td>\n",
       "      <td>-157</td>\n",
       "      <td>157</td>\n",
       "      <td>1.567794</td>\n",
       "      <td>222.031529</td>\n",
       "    </tr>\n",
       "  </tbody>\n",
       "</table>\n",
       "</div>"
      ],
      "text/plain": [
       "   user  trial     delay  input_method  target_radius  target_x  target_y  \\\n",
       "0  1226      5  2.136719             0              6       -84       -84   \n",
       "1  1226      6  3.540913             0              6         0       190   \n",
       "2  1226      7  3.688381             0              6      -158      -158   \n",
       "3  1226      8  2.823134             0              3        81       -81   \n",
       "4  1226      9  3.690253             0              9      -157       157   \n",
       "\n",
       "   total_time  target_distance  \n",
       "0    3.607323       118.793939  \n",
       "1    1.867664       190.000000  \n",
       "2    1.645011       223.445743  \n",
       "3    1.776010       114.551299  \n",
       "4    1.567794       222.031529  "
      ]
     },
     "execution_count": 79,
     "metadata": {},
     "output_type": "execute_result"
    }
   ],
   "source": [
    "#// BEGIN_TODO [HYP_5b] Add distance column (1 point)\n",
    "\n",
    "df_regression['target_distance'] = np.sqrt(df_regression['target_x']**2 + df_regression['target_y']**2)\n",
    "\n",
    "#// END_TODO [HYP_5b]\n",
    "df_regression.head()"
   ]
  },
  {
   "cell_type": "markdown",
   "metadata": {},
   "source": [
    "### Exercise 5.c\n",
    "\n",
    "Recall that the *Index of Difficulty* $I$ is given by:\n",
    "\n",
    "$$I = \\log_2 \\left( \\frac{2 D}{R} \\right)$$\n",
    "\n",
    "where $D$ is the *target distance* and $R$ is the *target radius*.\n",
    "\n",
    "Add a column `'ID'` to the data frame containing the Index of Difficulty.\n",
    "\n",
    "<span class=\"t\">Hint<span class=\"c\">:</span></span>\n",
    "<span class=\"h\">\n",
    "Use the function `np.log2()`.\n",
    "</span>"
   ]
  },
  {
   "cell_type": "code",
   "execution_count": 80,
   "metadata": {},
   "outputs": [
    {
     "name": "stderr",
     "output_type": "stream",
     "text": [
      "<ipython-input-80-4d02f63b376d>:3: SettingWithCopyWarning: \n",
      "A value is trying to be set on a copy of a slice from a DataFrame.\n",
      "Try using .loc[row_indexer,col_indexer] = value instead\n",
      "\n",
      "See the caveats in the documentation: https://pandas.pydata.org/pandas-docs/stable/user_guide/indexing.html#returning-a-view-versus-a-copy\n",
      "  df_regression['ID'] = np.log2(2*df_regression['target_distance'] / df_regression['target_radius'])\n"
     ]
    },
    {
     "data": {
      "text/html": [
       "<div>\n",
       "<style scoped>\n",
       "    .dataframe tbody tr th:only-of-type {\n",
       "        vertical-align: middle;\n",
       "    }\n",
       "\n",
       "    .dataframe tbody tr th {\n",
       "        vertical-align: top;\n",
       "    }\n",
       "\n",
       "    .dataframe thead th {\n",
       "        text-align: right;\n",
       "    }\n",
       "</style>\n",
       "<table border=\"1\" class=\"dataframe\">\n",
       "  <thead>\n",
       "    <tr style=\"text-align: right;\">\n",
       "      <th></th>\n",
       "      <th>user</th>\n",
       "      <th>trial</th>\n",
       "      <th>delay</th>\n",
       "      <th>input_method</th>\n",
       "      <th>target_radius</th>\n",
       "      <th>target_x</th>\n",
       "      <th>target_y</th>\n",
       "      <th>total_time</th>\n",
       "      <th>target_distance</th>\n",
       "      <th>ID</th>\n",
       "    </tr>\n",
       "  </thead>\n",
       "  <tbody>\n",
       "    <tr>\n",
       "      <th>0</th>\n",
       "      <td>1226</td>\n",
       "      <td>5</td>\n",
       "      <td>2.136719</td>\n",
       "      <td>0</td>\n",
       "      <td>6</td>\n",
       "      <td>-84</td>\n",
       "      <td>-84</td>\n",
       "      <td>3.607323</td>\n",
       "      <td>118.793939</td>\n",
       "      <td>5.307355</td>\n",
       "    </tr>\n",
       "    <tr>\n",
       "      <th>1</th>\n",
       "      <td>1226</td>\n",
       "      <td>6</td>\n",
       "      <td>3.540913</td>\n",
       "      <td>0</td>\n",
       "      <td>6</td>\n",
       "      <td>0</td>\n",
       "      <td>190</td>\n",
       "      <td>1.867664</td>\n",
       "      <td>190.000000</td>\n",
       "      <td>5.984893</td>\n",
       "    </tr>\n",
       "    <tr>\n",
       "      <th>2</th>\n",
       "      <td>1226</td>\n",
       "      <td>7</td>\n",
       "      <td>3.688381</td>\n",
       "      <td>0</td>\n",
       "      <td>6</td>\n",
       "      <td>-158</td>\n",
       "      <td>-158</td>\n",
       "      <td>1.645011</td>\n",
       "      <td>223.445743</td>\n",
       "      <td>6.218818</td>\n",
       "    </tr>\n",
       "    <tr>\n",
       "      <th>3</th>\n",
       "      <td>1226</td>\n",
       "      <td>8</td>\n",
       "      <td>2.823134</td>\n",
       "      <td>0</td>\n",
       "      <td>3</td>\n",
       "      <td>81</td>\n",
       "      <td>-81</td>\n",
       "      <td>1.776010</td>\n",
       "      <td>114.551299</td>\n",
       "      <td>6.254888</td>\n",
       "    </tr>\n",
       "    <tr>\n",
       "      <th>4</th>\n",
       "      <td>1226</td>\n",
       "      <td>9</td>\n",
       "      <td>3.690253</td>\n",
       "      <td>0</td>\n",
       "      <td>9</td>\n",
       "      <td>-157</td>\n",
       "      <td>157</td>\n",
       "      <td>1.567794</td>\n",
       "      <td>222.031529</td>\n",
       "      <td>5.624696</td>\n",
       "    </tr>\n",
       "  </tbody>\n",
       "</table>\n",
       "</div>"
      ],
      "text/plain": [
       "   user  trial     delay  input_method  target_radius  target_x  target_y  \\\n",
       "0  1226      5  2.136719             0              6       -84       -84   \n",
       "1  1226      6  3.540913             0              6         0       190   \n",
       "2  1226      7  3.688381             0              6      -158      -158   \n",
       "3  1226      8  2.823134             0              3        81       -81   \n",
       "4  1226      9  3.690253             0              9      -157       157   \n",
       "\n",
       "   total_time  target_distance        ID  \n",
       "0    3.607323       118.793939  5.307355  \n",
       "1    1.867664       190.000000  5.984893  \n",
       "2    1.645011       223.445743  6.218818  \n",
       "3    1.776010       114.551299  6.254888  \n",
       "4    1.567794       222.031529  5.624696  "
      ]
     },
     "execution_count": 80,
     "metadata": {},
     "output_type": "execute_result"
    }
   ],
   "source": [
    "#// BEGIN_TODO [HYP_5c] Add ID column (1 point)\n",
    "\n",
    "df_regression['ID'] = np.log2(2*df_regression['target_distance'] / df_regression['target_radius'])\n",
    "\n",
    "#// END_TODO [HYP_5c]\n",
    "\n",
    "df_regression.head()"
   ]
  },
  {
   "cell_type": "markdown",
   "metadata": {},
   "source": [
    "### Exercise 5.d\n",
    "\n",
    "Plot a scatter diagram of the index of difficulty `'total_time'` vs. `'ID'`. Restrict the $y$-axis from $0$ to $5$ seconds and use a point size of `5`."
   ]
  },
  {
   "cell_type": "code",
   "execution_count": 81,
   "metadata": {},
   "outputs": [
    {
     "data": {
      "image/png": "[encoded data removed]",
      "text/plain": [
       "<Figure size 576x576 with 1 Axes>"
      ]
     },
     "metadata": {},
     "output_type": "display_data"
    }
   ],
   "source": [
    "#// BEGIN_TODO [HYP_5d] Create scatter diagram (1 point)\n",
    "\n",
    "ax5d = df_regression.plot(kind='scatter', x='ID', y='total_time', s=5, c='r')\n",
    "ax5d.set_ylim(0, 5);\n",
    "\n",
    "#// END_TODO [HYP_5d]"
   ]
  },
  {
   "cell_type": "markdown",
   "metadata": {},
   "source": [
    "### Exercise 5.e\n",
    "\n",
    "Fit the appropriate regression model. Assign the data for the independent variables to the dataframe `X_fitts`, the data for the dependent variable to the series `y_fitts`, and the model to `lm_fitts`."
   ]
  },
  {
   "cell_type": "code",
   "execution_count": 82,
   "metadata": {},
   "outputs": [
    {
     "data": {
      "text/plain": [
       "LinearRegression()"
      ]
     },
     "execution_count": 82,
     "metadata": {},
     "output_type": "execute_result"
    }
   ],
   "source": [
    "#// BEGIN_TODO [HYP_5e] Fit model (1 point)\n",
    "\n",
    "X_fitts = df_regression[['ID']].copy()\n",
    "y_fitts = df_regression['total_time'].copy()\n",
    "\n",
    "lm_fitts = LinearRegression()\n",
    "lm_fitts.fit(X_fitts, y_fitts)\n",
    "\n",
    "#// END_TODO [HYP_5e]"
   ]
  },
  {
   "cell_type": "markdown",
   "metadata": {},
   "source": [
    "### Exercise 5.f\n",
    "\n",
    "Plot the normalized residuals, with `'ID'` on the x-axis. Assign the normalized residuals to the variable `residuals_fitts`."
   ]
  },
  {
   "cell_type": "code",
   "execution_count": 83,
   "metadata": {},
   "outputs": [
    {
     "name": "stderr",
     "output_type": "stream",
     "text": [
      "<ipython-input-83-9ea4618c6f6c>:4: SettingWithCopyWarning: \n",
      "A value is trying to be set on a copy of a slice from a DataFrame.\n",
      "Try using .loc[row_indexer,col_indexer] = value instead\n",
      "\n",
      "See the caveats in the documentation: https://pandas.pydata.org/pandas-docs/stable/user_guide/indexing.html#returning-a-view-versus-a-copy\n",
      "  df_regression['residuals'] = residuals_fitts\n"
     ]
    },
    {
     "data": {
      "image/png": "[encoded data removed]",
      "text/plain": [
       "<Figure size 576x576 with 1 Axes>"
      ]
     },
     "metadata": {},
     "output_type": "display_data"
    }
   ],
   "source": [
    "#// BEGIN_TODO [HYP_5f] Create scatter diagram of residuals (1 point)\n",
    "\n",
    "residuals_fitts = scale(y_fitts - lm_fitts.predict(X_fitts))\n",
    "df_regression['residuals'] = residuals_fitts\n",
    "\n",
    "ax_5f = df_regression.plot(kind='scatter', x='ID', y='residuals', c='b')\n"
   ]
  },
  {
   "cell_type": "code",
   "execution_count": 85,
   "metadata": {},
   "outputs": [],
   "source": [
    "#// END_TODO [HYP_5f]"
   ]
  },
  {
   "cell_type": "markdown",
   "metadata": {},
   "source": [
    "### Exercise 5.g\n",
    "\n",
    "Are there any data points suspected to be outliers, because of a high normalized residual? Assign your (boolean) answer to `outlier_fitts`."
   ]
  },
  {
   "cell_type": "code",
   "execution_count": 84,
   "metadata": {},
   "outputs": [],
   "source": [
    "#// BEGIN_TODO [HYP_5g] Are there suspicious points? (1 point)\n",
    "\n",
    "outlier_fitts = True\n",
    "\n",
    "#// END_TODO [HYP_5g]"
   ]
  },
  {
   "cell_type": "markdown",
   "metadata": {},
   "source": [
    "# Feedback\n",
    "\n",
    "Please fill in this questionaire to help us improve this course for the next year. Your feedback will be anonymized and will not affect your grade in any way!"
   ]
  },
  {
   "cell_type": "markdown",
   "metadata": {},
   "source": [
    "### How many hours did you spend on these Exercises?\n",
    "\n",
    "Assign a number to `feedback_time`."
   ]
  },
  {
   "cell_type": "code",
   "execution_count": 85,
   "metadata": {},
   "outputs": [
    {
     "data": {
      "text/plain": [
       "3"
      ]
     },
     "execution_count": 85,
     "metadata": {},
     "output_type": "execute_result"
    }
   ],
   "source": [
    "#// BEGIN_FEEDBACK [Feedback_1] (0 point)\n",
    "\n",
    "feedback_time = 3\n",
    "\n",
    "#// END_FEEDBACK [Feedback_1] (0 point)\n",
    "\n",
    "import numbers\n",
    "assert isinstance(feedback_time, numbers.Number), \"Please assign a number to feedback_time\"\n",
    "feedback_time"
   ]
  },
  {
   "cell_type": "markdown",
   "metadata": {},
   "source": [
    "### How difficult did you find these Exercises?\n",
    "\n",
    "Assign an integer to `feedback_difficulty`, on a scale 0 - 10, with 0 being very easy, 5 being just right, and 10 being very difficult."
   ]
  },
  {
   "cell_type": "code",
   "execution_count": 86,
   "metadata": {},
   "outputs": [
    {
     "data": {
      "text/plain": [
       "4"
      ]
     },
     "execution_count": 86,
     "metadata": {},
     "output_type": "execute_result"
    }
   ],
   "source": [
    "#// BEGIN_FEEDBACK [Feedback_2] (0 point)\n",
    "\n",
    "feedback_difficulty = 4\n",
    "\n",
    "#// END_FEEDBACK [Feedback_2] (0 point)\n",
    "\n",
    "import numbers\n",
    "assert isinstance(feedback_difficulty, numbers.Number), \"Please assign a number to feedback_difficulty\"\n",
    "feedback_difficulty"
   ]
  },
  {
   "cell_type": "markdown",
   "metadata": {},
   "source": [
    "### (Optional) What did you like?\n",
    "\n",
    "Assign a string to `feedback_like`."
   ]
  },
  {
   "cell_type": "code",
   "execution_count": 89,
   "metadata": {},
   "outputs": [],
   "source": [
    "#// BEGIN_FEEDBACK [Feedback_3] (0 point)\n",
    "\n",
    "#// END_FEEDBACK [Feedback_3] (0 point)"
   ]
  },
  {
   "cell_type": "markdown",
   "metadata": {},
   "source": [
    "### (Optional) What can be improved?\n",
    "\n",
    "Assign a string to `feedback_improve`. Please be specific, so that we can act on your feedback. For example, mention the specific exercises and what was unclear."
   ]
  },
  {
   "cell_type": "code",
   "execution_count": 90,
   "metadata": {},
   "outputs": [],
   "source": [
    "#// BEGIN_FEEDBACK [Feedback_4] (0 point)\n",
    "\n",
    "#// END_FEEDBACK [Feedback_4] (0 point)"
   ]
  },
  {
   "cell_type": "markdown",
   "metadata": {},
   "source": [
    "\n",
    "\n",
    "\n",
    "## How to Submit Your Work\n",
    "\n",
    "1. **Before submitting**, you must run your notebook by doing **Kernel > Restart & Run All**.  \n",
    "   Make sure that your notebook runs without errors **in linear order**.\n",
    "1. Remember to rename the notebook, replacing `...-template.ipynb` with `...-yourIDnr.ipynb`, where `yourIDnr` is your TU/e identification number.\n",
    "1. Submit the executed notebook with your work\n",
    "   for the appropriate assignment in **Canvas**.\n",
    "1. In the **Momotor** tab in Canvas,\n",
    "  you can select that assignment again to find some feedback on your submitted work.\n",
    "  If there are any problems reported by _Momotor_,\n",
    "  then you need to fix those,\n",
    "  and **resubmit the fixed notebook**.\n",
    "\n",
    "In case of a high workload on our server\n",
    "(because many students submit close to the deadline),\n",
    "it may take longer to receive the feedback.\n",
    "\n",
    "\n"
   ]
  },
  {
   "cell_type": "markdown",
   "metadata": {},
   "source": [
    "---"
   ]
  },
  {
   "cell_type": "code",
   "execution_count": 91,
   "metadata": {},
   "outputs": [
    {
     "name": "stdout",
     "output_type": "stream",
     "text": [
      "Variable                       Type                Data/Info\n",
      "------------------------------------------------------------\n",
      "AUTHOR_DATE                    str                 2023-03-24\n",
      "AUTHOR_ID_NR                   str                 1819283\n",
      "AUTHOR_NAME                    str                 Daniel Tyukov\n",
      "CI_exam                        tuple               n=2\n",
      "HTML                           type                <class 'IPython.core.display.HTML'>\n",
      "H_0_cloud                      str                 mu_with=mu_without\n",
      "H_0_fitts                      str                 p_mouse=p_trackpad\n",
      "H_0_wafers                     str                 p_old=p_new\n",
      "H_a_cloud                      str                 mu_with>mu_without\n",
      "H_a_fitts                      str                 p_mouse!=p_trackpad\n",
      "H_a_wafers                     str                 p_old!=p_new\n",
      "LinearRegression               ABCMeta             <class 'sklearn.linear_mo<...>._base.LinearRegression'>\n",
      "X                              DataFrame                       bp\\n0    90.2<...>99.944444\\n16  100.111111\n",
      "X_fitts                        DataFrame                        ID\\n0      5<...>n[16822 rows x 1 columns]\n",
      "X_timber                       DataFrame               height  girth\\n1     <...>  18.0\\n31      87   20.6\n",
      "X_timber_est                   DataFrame               volume_est\\n1     2.6<...>14.323945\\n31   20.402404\n",
      "anderson_darling_with          tuple               n=2\n",
      "anderson_darling_with_log      tuple               n=2\n",
      "anderson_darling_without       tuple               n=2\n",
      "anderson_darling_without_log   tuple               n=2\n",
      "ax                             AxesSubplot         AxesSubplot(0.125,0.125;0.775x0.755)\n",
      "ax1                            AxesSubplot         AxesSubplot(0.125,0.125;0.775x0.755)\n",
      "ax1c                           AxesSubplot         AxesSubplot(0.125,0.125;0.775x0.755)\n",
      "ax1d                           ndarray             1x2: 2 elems, type `object`, 16 bytes\n",
      "ax1g                           ndarray             1x2: 2 elems, type `object`, 16 bytes\n",
      "ax3a                           AxesSubplot         AxesSubplot(0.125,0.125;0.775x0.755)\n",
      "ax3b                           AxesSubplot         AxesSubplot(0.125,0.125;0.775x0.755)\n",
      "ax3h                           AxesSubplot         AxesSubplot(0.125,0.125;0.775x0.755)\n",
      "ax3l                           AxesSubplot         AxesSubplot(0.125,0.125;0.775x0.755)\n",
      "ax5d                           AxesSubplot         AxesSubplot(0.125,0.125;0.775x0.755)\n",
      "ax_5f                          AxesSubplot         AxesSubplot(0.125,0.125;0.775x0.755)\n",
      "check_assump_wafers            bool                False\n",
      "check_normal_fitts             bool                False\n",
      "cm                             CompareMeans        <statsmodels.stats.weight<...>ct at 0x000001D87E387640>\n",
      "cm_cloud_log                   CompareMeans        <statsmodels.stats.weight<...>ct at 0x000001D805B587C0>\n",
      "d_michelson                    DescrStatsW         <statsmodels.stats.weight<...>ct at 0x000001D8058FE250>\n",
      "d_newcomb                      DescrStatsW         <statsmodels.stats.weight<...>ct at 0x000001D8058FEB80>\n",
      "d_with_log                     DescrStatsW         <statsmodels.stats.weight<...>ct at 0x000001D805B3FA30>\n",
      "d_without_log                  DescrStatsW         <statsmodels.stats.weight<...>ct at 0x000001D805BE3A90>\n",
      "data_fitts                     str                 two-sample\n",
      "df_3h                          DataFrame               girth  height  volume<...>    87    77.0   2.299860\n",
      "df_3l                          DataFrame               girth  height  volume<...>.0   20.402404  -0.469792\n",
      "df_clouds                      DataFrame               without    with  with<...>.1  1.410987     0.000000\n",
      "df_fitts                       DataFrame                  user  trial     de<...>n[33342 rows x 8 columns]\n",
      "df_forbes                      DataFrame                       bp   pres\\n0 <...>88\\n16  100.111111  30.06\n",
      "df_forbes_log_vis              DataFrame                       bp   pres  re<...>.111111  30.06  -0.135550\n",
      "df_forbes_vis                  DataFrame                       bp   pres  re<...>.111111  30.06   1.326742\n",
      "df_michelson                   DataFrame               Speed [km/s]\\n0      <...>n\\n[100 rows x 1 columns]\n",
      "df_newcomb                     DataFrame                Speed [km/s]\\n0   29<...>169568\\n55  299802.602425\n",
      "df_regression                  DataFrame                  user  trial     de<...>[16822 rows x 11 columns]\n",
      "df_timber                      DataFrame               girth  height  volume<...>   87    77.0   20.402404\n",
      "feedback_difficulty            int                 4\n",
      "feedback_time                  int                 3\n",
      "fig                            Figure              Figure(1152x576)\n",
      "linear_model                   LinearRegression    LinearRegression()\n",
      "linear_model_log               LinearRegression    LinearRegression()\n",
      "lm_fitts                       LinearRegression    LinearRegression()\n",
      "lm_timber                      LinearRegression    LinearRegression()\n",
      "lm_timber_est                  LinearRegression    LinearRegression()\n",
      "m_count                        int32               16520\n",
      "math                           module              <module 'math' (built-in)>\n",
      "mouse                          Series              15       1.045089\\n16    <...>th: 16520, dtype: float64\n",
      "normal_cloud_with              bool                True\n",
      "normal_cloud_without           bool                True\n",
      "normal_fitts                   bool                False\n",
      "np                             module              <module 'numpy' from 'c:\\<...>ges\\\\numpy\\\\__init__.py'>\n",
      "num_bad_wafers                 int                 13\n",
      "num_wafers                     int                 50\n",
      "numbers                        module              <module 'numbers' from 'c<...>conda3\\\\lib\\\\numbers.py'>\n",
      "outlier_fitts                  bool                True\n",
      "outliers                       bool                False\n",
      "over1_mouse                    int32               13000\n",
      "over1_trackpad                 int32               15864\n",
      "p_cloud_log                    float64             0.007041329483603202\n",
      "p_fitts                        float64             0.0\n",
      "p_wafers                       float64             0.07618378378160437\n",
      "passes                         int                 88\n",
      "passes_previous                int                 70\n",
      "pd                             module              <module 'pandas' from 'c:<...>es\\\\pandas\\\\__init__.py'>\n",
      "plt                            module              <module 'matplotlib.pyplo<...>\\\\matplotlib\\\\pyplot.py'>\n",
      "poly_order_timber              str                 a\n",
      "prop_bad_wafers_new            float               0.26\n",
      "prop_bad_wafers_old            float               0.15\n",
      "question_cloud                 str                 c\n",
      "question_fitts                 str                 b\n",
      "question_wafers                str                 a\n",
      "r_timber                       float64             0.9479500377816745\n",
      "rate                           float               0.88\n",
      "rate_previous                  float               0.7865168539325843\n",
      "reject_null_cloud_log          bool                True\n",
      "reject_null_fitts              bool                True\n",
      "reject_null_wafers             bool                False\n",
      "residual_log                   ndarray             17: 17 elems, type `float64`, 136 bytes\n",
      "residuals                      Series              0     0.169731\\n1     0.2<...>ame: pres, dtype: float64\n",
      "residuals_fitts                ndarray             16822: 16822 elems, type `float64`, 134576 bytes (131.421875 kb)\n",
      "residuals_norm                 ndarray             17: 17 elems, type `float64`, 136 bytes\n",
      "residuals_timber               ndarray             31: 31 elems, type `float64`, 248 bytes\n",
      "residuals_timber_est           ndarray             31: 31 elems, type `float64`, 248 bytes\n",
      "scale                          function            <function scale at 0x000001D8043A7E50>\n",
      "sm                             module              <module 'statsmodels.api'<...>es\\\\statsmodels\\\\api.py'>\n",
      "sns                            module              <module 'seaborn' from 'c<...>s\\\\seaborn\\\\__init__.py'>\n",
      "statsmodels                    module              <module 'statsmodels' fro<...>tatsmodels\\\\__init__.py'>\n",
      "students                       int                 100\n",
      "students_previous              int                 89\n",
      "t_count                        int32               16822\n",
      "test_fitts                     str                 two-sided\n",
      "trackpad                       Series              0        3.607323\\n1     <...>th: 16822, dtype: float64\n",
      "y                              Series              0     20.79\\n1     20.79\\<...>ame: pres, dtype: float64\n",
      "y_fitts                        Series              0        3.607323\\n1     <...>th: 16822, dtype: float64\n",
      "y_log                          Series              0     3.034472\\n1     3.0<...>ame: pres, dtype: float64\n",
      "y_log_pred                     ndarray             17: 17 elems, type `float64`, 136 bytes\n",
      "y_pred                         ndarray             17: 17 elems, type `float64`, 136 bytes\n",
      "y_timber                       Series              1     10.3\\n2     10.3\\n3<...>e: volume, dtype: float64\n",
      "ztest_exam                     tuple               n=2\n",
      "ztest_wafers                   tuple               n=2\n"
     ]
    }
   ],
   "source": [
    "# List all defined names\n",
    "%whos"
   ]
  }
 ],
 "metadata": {
  "hide_input": false,
  "kernelspec": {
   "display_name": "Python 3",
   "language": "python",
   "name": "python3"
  },
  "language_info": {
   "codemirror_mode": {
    "name": "ipython",
    "version": 3
   },
   "file_extension": ".py",
   "mimetype": "text/x-python",
   "name": "python",
   "nbconvert_exporter": "python",
   "pygments_lexer": "ipython3",
   "version": "3.8.8"
  },
  "toc": {
   "base_numbering": 1,
   "nav_menu": {},
   "number_sections": false,
   "sideBar": true,
   "skip_h1_title": false,
   "title_cell": "Table of Contents",
   "title_sidebar": "Contents",
   "toc_cell": true,
   "toc_position": {
    "height": "calc(100% - 180px)",
    "left": "10px",
    "top": "150px",
    "width": "268px"
   },
   "toc_section_display": true,
   "toc_window_display": true
  }
 },
 "nbformat": 4,
 "nbformat_minor": 4
}
