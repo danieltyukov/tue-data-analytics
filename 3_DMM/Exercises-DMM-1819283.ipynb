{
 "cells": [
  {
   "cell_type": "markdown",
   "metadata": {},
   "source": [
    "# Programming Lesson and Exercises - DMM\n",
    "\n",
    "The goal of these programming lesson and exercises is to teach you how to model data using Python.\n",
    "In particular, how to fit a regression, classification, and clustering model to a data set."
   ]
  },
  {
   "cell_type": "markdown",
   "metadata": {},
   "source": [
    "\n",
    "This notebook has the following structure:\n",
    "\n",
    "- The first part introduces the concepts for this week. The theory is interleaved with small exercises, which have the goal of letting you practice the concepts that were just intruduced.\n",
    "- At the end there are one or more larger exercises, which have the goal to test what you have learned earlier. These will be more difficult and will require more independent work than the exercises in the first part.\n",
    "\n",
    "All exercises can be solved with the concepts that were introduced earlier. Since there are often more than one correct way to solve a programming problem, we try to accept various correct anwers. However, many of the automatic tests in Momotor (see _How to submit your work_ below) assume that your answers are constructed using the concepts introduced in these notebooks. If you look for answers on the Internet (e.g. if you import other libraries) you run the risk that your answers will be rejected.\n",
    "\n",
    "Some of the small exercises can be solved by copy-pasting code from the examples. However, it is up to you to try to solve the exercises yourself, which will help you learn, before copy-pasting the answers. The ease of looking up answers is meant to provide guidance when you get stuck, especially for those of you who are new to programming.\n",
    "\n",
    "For your convenience, in the `support` directory you will find a summary of the Python methods introduced in this notebook.\n"
   ]
  },
  {
   "cell_type": "markdown",
   "metadata": {},
   "source": [
    "\n",
    "# Introduction to This Template Notebook\n",
    "\n",
    "* This is a **personal** notebook.\n",
    "* Make sure you work in a **copy** of `...-template.ipynb`,\n",
    "**renamed** to `...-yourIDnr.ipynb`,\n",
    "where `yourIDnr` is your TU/e identification number.\n",
    "\n",
    "<div class=\"alert alert-danger\" role=\"danger\">\n",
    "<h3>Integrity</h3>\n",
    "<ul>\n",
    "    <li>In this course you must act according to the rules of the TU/e code of scientific conduct.</li>\n",
    "    <li>All the exercises and the graded assignments are to be executed individually and independently.</li>\n",
    "    <li>You must not copy from the Internet, your friends, books... If you represent other people's work as your own, then that constitutes fraud and will be reported to the Examination Committee.</li>\n",
    "    <li>Making your work available to others (complicity) also constitutes fraud.</li>\n",
    "</ul>\n",
    "</div>\n",
    "\n",
    "You are expected to work with Python code in this notebook.\n",
    "\n",
    "The locations where you should write your solutions can be recognized by\n",
    "**marker lines**,\n",
    "which look like this:\n",
    "\n",
    ">`#//`\n",
    ">    `BEGIN_TODO [Label]` `Description` `(n points)`\n",
    ">\n",
    ">`#//`\n",
    ">    `END_TODO [Label]`\n",
    "\n",
    "<div class=\"alert alert-warning\" role=\"alert\">Do NOT modify or delete these marker lines.  Keep them as they are.<br/>\n",
    "NEVER write code <i>outside</i> the marked blocks.\n",
    "Such code cannot be evaluated.\n",
    "</div>\n",
    "\n",
    "Proceed in this notebook as follows:\n",
    "* **Read** the text.\n",
    "* **Fill in** your solutions between `BEGIN_TODO` and `END_TODO` marker lines.\n",
    "* **Run** _all_ code cells (also the ones _without_ your code),\n",
    "    _in linear order_ from the first code cell.\n",
    "\n",
    "**Personalize your notebook**:\n",
    "1. Copy the following three lines of code:\n",
    "\n",
    "  ```python\n",
    "  AUTHOR_NAME = 'Your Full Name'\n",
    "  AUTHOR_ID_NR = '1234567'\n",
    "  AUTHOR_DATE = 'YYYY-MM-DD'\n",
    "  ```\n",
    "1. Paste them between the marker lines in the next code cell.\n",
    "1. Fill in your _full name_, _identification number_, and the current _date_ (i.e. when you first modified this notebook, e.g. '2022-02-06') as strings between the `Author` markers.\n",
    "1. Run the code cell by putting the cursor there and typing **Control-Enter**.\n"
   ]
  },
  {
   "cell_type": "code",
   "execution_count": 1,
   "metadata": {},
   "outputs": [
    {
     "data": {
      "text/plain": [
       "('Daniel Tyukov', '1819283', '2023-02-23')"
      ]
     },
     "execution_count": 1,
     "metadata": {},
     "output_type": "execute_result"
    }
   ],
   "source": [
    "#// BEGIN_TODO [Author] Name, Id.nr., Date, as strings (1 point)\n",
    "\n",
    "AUTHOR_NAME = 'Daniel Tyukov'\n",
    "AUTHOR_ID_NR = '1819283'\n",
    "AUTHOR_DATE = '2023-02-23'\n",
    "\n",
    "#// END_TODO [Author]\n",
    "\n",
    "AUTHOR_NAME, AUTHOR_ID_NR, AUTHOR_DATE"
   ]
  },
  {
   "cell_type": "markdown",
   "metadata": {},
   "source": [
    "## Table of Contents\n",
    "\n",
    "- [Learning Objectives](#Learning-Objectives)\n",
    "- [Loading the Libraries](#Loading-the-Libraries)\n",
    "- [Data Sets](#Data-Sets) \n",
    "  - [Example Data Set](#Example-Data-Set) \n",
    "    - [Training and Test Data Set](#Training-and-Test-Data-Set)\n",
    "  - [Auto MPG Data Set](#Auto-MPG-Data-Set) \n",
    "    - [Training and Test Data Set](#Training-and-Test-Data-Set)\n",
    "  - [Wheat Seeds Data Set](#Wheat-Seeds-Data-Set)\n",
    "- [1. Linear Regression](#1.-Linear-Regression) \n",
    "  - [Step 1. Select the Data](#Step-1.-Select-the-Data)\n",
    "  - [Step 2. Create the Regression Object](#Step-2.-Create-the-Regression-Object)\n",
    "  - [Step 3. Fit the Model](#Step-3.-Fit-the-Model)\n",
    "  - [Step 4. Extract Model Parameters](#Step-4.-Extract-Model-Parameters)\n",
    "  - [Step 5. Visualze the Model](#Step-5.-Visualize-the-Model)\n",
    "  - [Step 6. Make Predictions](#Step-6.-Make-Predictions)\n",
    "  - [Step 7. Assess the Model's Quality](#Step-7.-Assess-the-Model's-Quality) \n",
    "    - [Step 7.a Goodness of Fit](#Step-7.a-Goodness-of-Fit)\n",
    "    - [Step 7.b Predictive Performance](#Step-7.b-Predictive-Performance)\n",
    "  - [Exercises on Linear Regression](#Exercises-on-Linear-Regression) \n",
    "    - [Exercise 1.a: Fit a Linear Model for `mpg`](#Exercise-1.a:-Fit-a-Linear-Model-for-mpg)\n",
    "    - [Exercise 1.b: Visualize the Model](#Exercise-1.b:-Visualize-the-Model)\n",
    "    - [Exercise 1.c: Interpret the Model](#Exercise-1.c:-Interpret-the-Model)\n",
    "    - [Exercise 1.d: Assess the Goodness of Fit](#Exercise-1.d:-Assess-the-Goodness-of-Fit)\n",
    "    - [Residual Plot](#Residual-Plot)\n",
    "    - [Exercise 1.e: Fit a Linear Model with a Quadratic Term](#Exercise-1.e:-Fit-a-Linear-Model-with-a-Quadratic-Term)\n",
    "    - [Exercise 1.f: Extract Model Parameters](#Exercise-1.f:-Extract-Model-Parameters)\n",
    "    - [Exercise 1.g: Visualize the Model with a Quadratic Term](#Exercise-1.g:-Visualize-the-Model-with-a-Quadratic-Term)\n",
    "    - [Exercise 1.h: Did the Goodness of Fit Improve?](#Exercise-1.h:-Did-the-Goodness-of-Fit-Improve?)\n",
    "    - [Exercise 1.i: Make Predictions](#Exercise-1.i:-Make-Predictions)\n",
    "    - [Exercise 1.j: Assess the Predictive Performance](#Exercise-1.j:-Assess-the-Predictive-Performance)\n",
    "- [2. Decision Tree Mining](#2.-Decision-Tree-Mining) \n",
    "  - [Step 1. Select the Data](#Step-1.-Select-the-Data)\n",
    "  - [Step 2. Create the Decision-tree Classifier](#Step-2.-Create-the-Decision--tree-Classifier)\n",
    "  - [Step 3. Do the Fitting](#Step-3.-Do-the-Fitting)\n",
    "  - [Step 4. Extract Model Parameters](#Step-4.-Extract-Model-Parameters)\n",
    "  - [Step 5. Visualze the Model](#Step-5.-Visualize-the-Model)\n",
    "  - [Step 6. Make Predictions](#Step-6.-Make-Predictions)\n",
    "  - [Step 7. Assess the Model's Quality](#Step-7.-Assess-the-Model's-Quality) \n",
    "    - [Step 7.a Goodness of Fit](#Step-7.a-Goodness-of-Fit)\n",
    "    - [Step 7.b Predictive Performance](#Step-7.b-Predictive-Performance)\n",
    "  - [Exercises on Decision Trees](#Exercises-on-Decision-Trees) \n",
    "    - [Exercise 2.a: Fit a Decision Tree for `origin`](#Exercise-2.a:-Fit-a-Decision-Tree-for-origin)\n",
    "    - [Exercise 2.b: Assess the Goodness of Fit](#Exercise-2.b:-Assess-the-Goodness-of-Fit)\n",
    "    - [Exercise 2.c: Visualize the Model](#Exercise-2.c:-Visualize-the-Model)\n",
    "    - [Exercise 2.d: Assess the Predictive Performance](#Exercise-2.d:-Assess-the-Predicitve-Performance)\n",
    "- [3. Clustering](#3.-Clustering) \n",
    "  - [Step 1. Select the Data](#Step-1.-Select-the-Data)\n",
    "  - [Step 2. Create the Cluster Object](#Step-2.-Create-the-Cluster-Object)\n",
    "  - [Step 3. Fit the Model](#Step-3.-Fit-the-Model)\n",
    "  - [Step 4. Extract Model Parameters](#Step-4.-Extract-Model-Parameters)\n",
    "  - [Step 5. Visualze the Model](#Step-5.-Visualize-the-Model)\n",
    "  - [Step 6. Make Predictions](#Step-6.-Make-Predictions)\n",
    "  - [Step 7. Assess the Model's Quality](#Step-7.-Assess-the-Model's-Quality) \n",
    "  - [Exercises on Clustering](#Exercises-on-Clustering) \n",
    "    - [Exercise 3.a: Cluster the Wheat Seeds](#Exercise-3.a:-Cluster-the-Wheat-Seeds)\n",
    "    - [Exercise 3.b: Visualize the Cluster](#Exercise-3.b:-Visualize-the-Cluster)\n",
    "    - [Exercise 3.c: Make Predictions](#Exercise-3.c-Make-Predictions)\n",
    "    - [Exercise 3.d: Assess the Model's Quality](#Exercise-3.d:-Assess-the-Model's-Quality)\n",
    "    - [Exercise 3.e: Compare with the Actual Seeds Varieties](#Exercise-3.e:-Compare-with-the-Actual-Seeds-Varieties)\n",
    "- [4. Exercise: Different Models for Linear Regression](#4.-Exercise:-Different-Models-for-Linear-Regression) \n",
    "  - [Exercise 4.a: Fit a Linear Model for `mpg` with a Cross Term and a Quadratic Term](#Exercise-4.a:-Fit-a-Linear-Model-for-mpg-with-a-Cross-Term-and-a-Quadratic-Term)\n",
    "  - [Exercise 4.b: Did the Goodness of Fit Improve](#Exercise-4.b:-Did-the-Goodness-of-Fit-Improve)\n",
    "  - [Exercise 4.c: Did the Predictive Performance Improve?](#Exercise-4.c:-Did-the-Predictive-Performance-Improve?)\n",
    "- [5. Exercise: Depths of Decision Trees](#5.-Exercise:-Depths-of-Decision-Trees) \n",
    "  - [Exercise 5.a: Fit a Decision Tree of Unbounded Maximum Depth](#Exercise-5.a:-Fit-a-Decision-Tree-of-Unbounded-Maximum-Depth)\n",
    "  - [Exercise 5.b: Extract Model Parameters](#Exercise-5.b:-Extract-Model-Parameters)\n",
    "  - [Exercise 5.c: Assess the Goodness of Fit](#Exercise-5.c:-Assess-the-Goodness-of-Fit)\n",
    "  - [Exercise 5.d: Assess the Predictive Performance](#Exercise-5.d:-Assess-the-Predictive-Performance)\n",
    "  - [Exercise 5.e: Which Tree is More Appropriate?](#Exercise-5.e:-Which-Tree-is-More-Appropriate?)"
   ]
  },
  {
   "cell_type": "markdown",
   "metadata": {},
   "source": [
    "## Learning Objectives\n",
    "\n",
    "After this lesson, you should\n",
    "\n",
    "* know how to do **linear regression** on data frames\n",
    "* know how to do **decision tree mining** on data frames\n",
    "* know how to do **k-means clustering** on data frames\n",
    "* know how to determine the **$R^2$** statistic of a linear regression model\n",
    "* know how to determine the **accuracy** of a classification model"
   ]
  },
  {
   "cell_type": "markdown",
   "metadata": {},
   "source": [
    "## Loading the Libraries\n",
    "\n",
    "Execute the following code cell to load and initialize the relevant data analytics libraries."
   ]
  },
  {
   "cell_type": "code",
   "execution_count": 2,
   "metadata": {},
   "outputs": [
    {
     "data": {
      "text/html": [
       "<style>.h,.c{display:none}.t{color:#296eaa}.t:active+.h{display:block;}</style>"
      ],
      "text/plain": [
       "<IPython.core.display.HTML object>"
      ]
     },
     "execution_count": 2,
     "metadata": {},
     "output_type": "execute_result"
    }
   ],
   "source": [
    "import numpy as np  # import auxiliary library, typical idiom\n",
    "import pandas as pd  # import the Pandas library, typical idiom\n",
    "\n",
    "# next command ensures that plots appear inside the notebook\n",
    "%matplotlib inline\n",
    "import matplotlib as mpl\n",
    "import matplotlib.pyplot as plt\n",
    "import seaborn as sns  # also improves the look of plots\n",
    "sns.set()\n",
    "plt.rcParams['figure.figsize'] = 10, 5  # default hor./vert. size of plots, in inches\n",
    "plt.rcParams['lines.markeredgewidth'] = 1  # to fix issue with seaborn box plots; needed after import seaborn\n",
    "\n",
    "# reveal a hint only while holding the mouse down\n",
    "from IPython.display import HTML\n",
    "HTML('<style>.h,.c{display:none}.t{color:#296eaa}.t:active+.h{display:block;}</style>')"
   ]
  },
  {
   "cell_type": "markdown",
   "metadata": {},
   "source": [
    "In these exercises, we will rely on `sklearn` (*SciKit Learn*), a Python library for machine learning. Now, we selectively import the relevant classes and functions from `sklearn`. Its documentation can be found here: http://scikit-learn.org/."
   ]
  },
  {
   "cell_type": "code",
   "execution_count": 3,
   "metadata": {},
   "outputs": [],
   "source": [
    "from sklearn.linear_model import LinearRegression  # for linear regression\n",
    "from sklearn.cluster import KMeans  # for clustering\n",
    "from sklearn.tree import DecisionTreeClassifier  # for decision tree mining\n",
    "from sklearn.metrics import mean_absolute_error, confusion_matrix\n",
    "from sklearn.model_selection import train_test_split\n",
    "from treeviz import tree_print  # to print decision tree"
   ]
  },
  {
   "cell_type": "markdown",
   "metadata": {},
   "source": [
    "> **Warning:** Data mining methods often include a random component and are therefore **non-deterministic**. This means that some of the data mining methods can return different answers every time they are executed, even when the same input data is used."
   ]
  },
  {
   "cell_type": "markdown",
   "metadata": {},
   "source": [
    "## Data Sets\n",
    "\n",
    "Throughout this notebook, we will use three data sets:\n",
    "- The **example data set** will be used to introduce the data mining techniques;\n",
    "- the **auto MPG data set** will be used in the exercises for linear regression and decision tree mining, and;\n",
    "- the **wheat seeds data set** will be used in the exercises for clustering."
   ]
  },
  {
   "cell_type": "markdown",
   "metadata": {},
   "source": [
    "### Example Data Set\n",
    "\n",
    "We will use a small idealized data set to demonstrate the use of the methods in the SciKit Learn library. The example data set has two numeric columns labeled `'a'` and `'b'`, one categorical column labeled `'c'`, and twelve rows."
   ]
  },
  {
   "cell_type": "code",
   "execution_count": 4,
   "metadata": {},
   "outputs": [
    {
     "data": {
      "text/html": [
       "<div>\n",
       "<style scoped>\n",
       "    .dataframe tbody tr th:only-of-type {\n",
       "        vertical-align: middle;\n",
       "    }\n",
       "\n",
       "    .dataframe tbody tr th {\n",
       "        vertical-align: top;\n",
       "    }\n",
       "\n",
       "    .dataframe thead th {\n",
       "        text-align: right;\n",
       "    }\n",
       "</style>\n",
       "<table border=\"1\" class=\"dataframe\">\n",
       "  <thead>\n",
       "    <tr style=\"text-align: right;\">\n",
       "      <th></th>\n",
       "      <th>a</th>\n",
       "      <th>b</th>\n",
       "      <th>c</th>\n",
       "    </tr>\n",
       "  </thead>\n",
       "  <tbody>\n",
       "    <tr>\n",
       "      <th>0</th>\n",
       "      <td>0</td>\n",
       "      <td>1</td>\n",
       "      <td>red</td>\n",
       "    </tr>\n",
       "    <tr>\n",
       "      <th>1</th>\n",
       "      <td>1</td>\n",
       "      <td>2</td>\n",
       "      <td>red</td>\n",
       "    </tr>\n",
       "    <tr>\n",
       "      <th>2</th>\n",
       "      <td>2</td>\n",
       "      <td>1</td>\n",
       "      <td>red</td>\n",
       "    </tr>\n",
       "    <tr>\n",
       "      <th>3</th>\n",
       "      <td>3</td>\n",
       "      <td>3</td>\n",
       "      <td>blue</td>\n",
       "    </tr>\n",
       "    <tr>\n",
       "      <th>4</th>\n",
       "      <td>4</td>\n",
       "      <td>2</td>\n",
       "      <td>blue</td>\n",
       "    </tr>\n",
       "    <tr>\n",
       "      <th>5</th>\n",
       "      <td>5</td>\n",
       "      <td>3</td>\n",
       "      <td>blue</td>\n",
       "    </tr>\n",
       "    <tr>\n",
       "      <th>6</th>\n",
       "      <td>4</td>\n",
       "      <td>7</td>\n",
       "      <td>orange</td>\n",
       "    </tr>\n",
       "    <tr>\n",
       "      <th>7</th>\n",
       "      <td>5</td>\n",
       "      <td>8</td>\n",
       "      <td>orange</td>\n",
       "    </tr>\n",
       "    <tr>\n",
       "      <th>8</th>\n",
       "      <td>6</td>\n",
       "      <td>7</td>\n",
       "      <td>orange</td>\n",
       "    </tr>\n",
       "    <tr>\n",
       "      <th>9</th>\n",
       "      <td>7</td>\n",
       "      <td>9</td>\n",
       "      <td>black</td>\n",
       "    </tr>\n",
       "    <tr>\n",
       "      <th>10</th>\n",
       "      <td>8</td>\n",
       "      <td>8</td>\n",
       "      <td>black</td>\n",
       "    </tr>\n",
       "    <tr>\n",
       "      <th>11</th>\n",
       "      <td>9</td>\n",
       "      <td>9</td>\n",
       "      <td>black</td>\n",
       "    </tr>\n",
       "  </tbody>\n",
       "</table>\n",
       "</div>"
      ],
      "text/plain": [
       "    a  b       c\n",
       "0   0  1     red\n",
       "1   1  2     red\n",
       "2   2  1     red\n",
       "3   3  3    blue\n",
       "4   4  2    blue\n",
       "5   5  3    blue\n",
       "6   4  7  orange\n",
       "7   5  8  orange\n",
       "8   6  7  orange\n",
       "9   7  9   black\n",
       "10  8  8   black\n",
       "11  9  9   black"
      ]
     },
     "execution_count": 4,
     "metadata": {},
     "output_type": "execute_result"
    }
   ],
   "source": [
    "df_example = pd.DataFrame([[0, 1, 'red'], [1, 2, 'red'], [2, 1, 'red'],\n",
    "                           [3, 3, 'blue'], [4, 2, 'blue'], [5, 3, 'blue'],\n",
    "                           [4, 7, 'orange'], [5, 8, 'orange'], [6, 7, 'orange'],\n",
    "                           [7, 9, 'black'], [8, 8, 'black'], [9, 9, 'black']],\n",
    "                        columns=['a', 'b', 'c'])\n",
    "df_example"
   ]
  },
  {
   "cell_type": "markdown",
   "metadata": {},
   "source": [
    "Here is a scatter plot of the example data set:"
   ]
  },
  {
   "cell_type": "code",
   "execution_count": 5,
   "metadata": {},
   "outputs": [
    {
     "data": {
      "image/png": "[encoded data removed]",
      "text/plain": [
       "<Figure size 720x360 with 1 Axes>"
      ]
     },
     "metadata": {},
     "output_type": "display_data"
    }
   ],
   "source": [
    "ax = df_example.plot(kind='scatter', x='a', y='b', s=50, c=df_example['c']);\n",
    "ax.set_title('Example Data Set');"
   ]
  },
  {
   "cell_type": "markdown",
   "metadata": {},
   "source": [
    "#### Training and Test Data Set\n",
    "\n",
    "For evaluating the predictive performance of a trained model we need a test set that is separate from the training set.\n",
    "For this purpose, we divide the whole data set into a _training set_ and a _test set_. The models are then fit using the _training set_ alone, and the predictions are evaluated using the *test set*.\n",
    "\n",
    "In the next code cell, we use the built-in `sklearn` function `train_test_split()` to split the data in `df_example` into data frames `df_example_train` and `df_example_test`."
   ]
  },
  {
   "cell_type": "code",
   "execution_count": 6,
   "metadata": {},
   "outputs": [],
   "source": [
    "df_example_train, df_example_test = train_test_split(df_example, test_size=0.2, random_state=7)"
   ]
  },
  {
   "cell_type": "markdown",
   "metadata": {},
   "source": [
    "Here is a scatter plot of the training and test data sets."
   ]
  },
  {
   "cell_type": "code",
   "execution_count": 7,
   "metadata": {},
   "outputs": [
    {
     "data": {
      "image/png": "[encoded data removed]",
      "text/plain": [
       "<Figure size 720x360 with 1 Axes>"
      ]
     },
     "metadata": {},
     "output_type": "display_data"
    }
   ],
   "source": [
    "ax = df_example_train.plot(kind='scatter', x='a', y='b', s=50, c='red')\n",
    "df_example_test.plot(kind='scatter', x='a', y='b', s=50, c='red', alpha=0.2, ax=ax)\n",
    "ax.legend(['Training set', 'Test set'])\n",
    "ax.set_title('Example Data Set');"
   ]
  },
  {
   "cell_type": "markdown",
   "metadata": {},
   "source": [
    "> **Important:** We will use the *training set* for training the models, and the *test set* for testing."
   ]
  },
  {
   "cell_type": "markdown",
   "metadata": {},
   "source": [
    "### Auto MPG Data Set\n",
    "\n",
    "The **Auto MPG** data set (see the file `auto-mpg.csv`) explores the fuel efficiency of cars, measured in Miles Per Gallon (MPG);\n",
    "the higher this number, the more efficient the car. In the following exercises, we will use this data set to make predictions about the fuel efficiency of a car based on its other properties. \n",
    "\n",
    "Find below a summary of the data set columns.\n",
    "\n",
    "|Column  | Type | Description | \n",
    "|:-------|:----|:----|\n",
    "|mpg|          continuous| fuel efficiency in miles per gallon; higher value is more efficient|\n",
    "|cylinders|     multi-valued discrete| number of cylinders|\n",
    "|displacement|  continuous| volume of cylinders; in cubic inches|\n",
    "|horsepower|    continuous| engine power; in hp|\n",
    "|weight|        continuous| car mass; in lbs|\n",
    "|acceleration|  continuous| time to accelerate from 0 to 60 mph; in s|\n",
    "|year|    multi-valued discrete| last two digits of the model year|\n",
    "|origin|        multi-valued discrete| 1. American, 2. European, 3. Japanese|\n",
    "|name|      string| make and model; not unique|\n",
    "\n",
    "#### Training and Test Data Set\n",
    "\n",
    "In the next code cell, we load the full data set into the data frame `df_mpg`. Next, we use the built-in `sklearn` function `train_test_split()` to split the data into data frames `df_mpg_train` and `df_mpg_test`.\n",
    "\n",
    "> **Important:** We will use the former for training the models, and the latter for testing."
   ]
  },
  {
   "cell_type": "code",
   "execution_count": 8,
   "metadata": {},
   "outputs": [
    {
     "data": {
      "text/html": [
       "<div>\n",
       "<style scoped>\n",
       "    .dataframe tbody tr th:only-of-type {\n",
       "        vertical-align: middle;\n",
       "    }\n",
       "\n",
       "    .dataframe tbody tr th {\n",
       "        vertical-align: top;\n",
       "    }\n",
       "\n",
       "    .dataframe thead th {\n",
       "        text-align: right;\n",
       "    }\n",
       "</style>\n",
       "<table border=\"1\" class=\"dataframe\">\n",
       "  <thead>\n",
       "    <tr style=\"text-align: right;\">\n",
       "      <th></th>\n",
       "      <th>mpg</th>\n",
       "      <th>cylinders</th>\n",
       "      <th>displacement</th>\n",
       "      <th>horsepower</th>\n",
       "      <th>weight</th>\n",
       "      <th>acceleration</th>\n",
       "      <th>year</th>\n",
       "      <th>origin</th>\n",
       "      <th>name</th>\n",
       "    </tr>\n",
       "  </thead>\n",
       "  <tbody>\n",
       "    <tr>\n",
       "      <th>338</th>\n",
       "      <td>27.2</td>\n",
       "      <td>4</td>\n",
       "      <td>135.0</td>\n",
       "      <td>84.0</td>\n",
       "      <td>2490.0</td>\n",
       "      <td>15.7</td>\n",
       "      <td>81</td>\n",
       "      <td>American</td>\n",
       "      <td>plymouth reliant</td>\n",
       "    </tr>\n",
       "    <tr>\n",
       "      <th>173</th>\n",
       "      <td>24.0</td>\n",
       "      <td>4</td>\n",
       "      <td>119.0</td>\n",
       "      <td>97.0</td>\n",
       "      <td>2545.0</td>\n",
       "      <td>17.0</td>\n",
       "      <td>75</td>\n",
       "      <td>Japanese</td>\n",
       "      <td>datsun 710</td>\n",
       "    </tr>\n",
       "    <tr>\n",
       "      <th>331</th>\n",
       "      <td>33.8</td>\n",
       "      <td>4</td>\n",
       "      <td>97.0</td>\n",
       "      <td>67.0</td>\n",
       "      <td>2145.0</td>\n",
       "      <td>18.0</td>\n",
       "      <td>80</td>\n",
       "      <td>Japanese</td>\n",
       "      <td>subaru dl</td>\n",
       "    </tr>\n",
       "    <tr>\n",
       "      <th>53</th>\n",
       "      <td>31.0</td>\n",
       "      <td>4</td>\n",
       "      <td>71.0</td>\n",
       "      <td>65.0</td>\n",
       "      <td>1773.0</td>\n",
       "      <td>19.0</td>\n",
       "      <td>71</td>\n",
       "      <td>Japanese</td>\n",
       "      <td>toyota corolla 1200</td>\n",
       "    </tr>\n",
       "    <tr>\n",
       "      <th>351</th>\n",
       "      <td>34.4</td>\n",
       "      <td>4</td>\n",
       "      <td>98.0</td>\n",
       "      <td>65.0</td>\n",
       "      <td>2045.0</td>\n",
       "      <td>16.2</td>\n",
       "      <td>81</td>\n",
       "      <td>American</td>\n",
       "      <td>ford escort 4w</td>\n",
       "    </tr>\n",
       "  </tbody>\n",
       "</table>\n",
       "</div>"
      ],
      "text/plain": [
       "      mpg  cylinders  displacement  horsepower  weight  acceleration  year  \\\n",
       "338  27.2          4         135.0        84.0  2490.0          15.7    81   \n",
       "173  24.0          4         119.0        97.0  2545.0          17.0    75   \n",
       "331  33.8          4          97.0        67.0  2145.0          18.0    80   \n",
       "53   31.0          4          71.0        65.0  1773.0          19.0    71   \n",
       "351  34.4          4          98.0        65.0  2045.0          16.2    81   \n",
       "\n",
       "       origin                 name  \n",
       "338  American     plymouth reliant  \n",
       "173  Japanese           datsun 710  \n",
       "331  Japanese            subaru dl  \n",
       "53   Japanese  toyota corolla 1200  \n",
       "351  American       ford escort 4w  "
      ]
     },
     "execution_count": 8,
     "metadata": {},
     "output_type": "execute_result"
    }
   ],
   "source": [
    "df_mpg = pd.read_csv('datasets/auto-mpg.csv')\n",
    "df_mpg_train, df_mpg_test = train_test_split(df_mpg, test_size=0.2, random_state=7)\n",
    "\n",
    "# create a copy(), in case train_test_split() returns a view\n",
    "df_mpg_train = df_mpg_train.copy()\n",
    "df_mpg_test = df_mpg_test.copy()\n",
    "\n",
    "df_mpg_train.head()"
   ]
  },
  {
   "cell_type": "markdown",
   "metadata": {},
   "source": [
    "Consider the following columns:\n",
    "\n",
    "* mpg, cylinders, displacement, horsepower, weight, acceleration\n",
    "\n",
    "Which correlations do you expect?\n",
    "\n",
    "You can check your expectations against the following scatter plots."
   ]
  },
  {
   "cell_type": "code",
   "execution_count": 9,
   "metadata": {},
   "outputs": [
    {
     "data": {
      "image/png": "[encoded data removed]",
      "text/plain": [
       "<Figure size 720x720 with 36 Axes>"
      ]
     },
     "metadata": {},
     "output_type": "display_data"
    }
   ],
   "source": [
    "pd.plotting.scatter_matrix(df_mpg_train[['mpg', 'cylinders', 'displacement', 'horsepower', 'weight', 'acceleration']],\n",
    "                           diagonal='kde', figsize=(10, 10));"
   ]
  },
  {
   "cell_type": "markdown",
   "metadata": {},
   "source": [
    "### Wheat Seeds Data Set\n",
    "\n",
    "The **wheat seeds** data set contains six geometrical measurements of 210 different seeds. Here is a summary of the columns:\n",
    "\n",
    "|Column  | Type | Description | \n",
    "|:-------|:----|:----|\n",
    "|area| continuous|area of the kernel in mm$^2$|\n",
    "|perimeter| continuous|perimeter of the kernel in mm|\n",
    "|kernel_length| continuous|length of the kernel in mm|\n",
    "|kernel_width| continuous|width of the kernel in mm|\n",
    "|asymmetry| continuous|asymmetry coefficient |\n",
    "|groove_length| continuous|length of the groove in the kernel in mm|\n",
    "\n",
    "We load the data into the data frame `df_seeds`."
   ]
  },
  {
   "cell_type": "code",
   "execution_count": 10,
   "metadata": {},
   "outputs": [
    {
     "data": {
      "text/html": [
       "<div>\n",
       "<style scoped>\n",
       "    .dataframe tbody tr th:only-of-type {\n",
       "        vertical-align: middle;\n",
       "    }\n",
       "\n",
       "    .dataframe tbody tr th {\n",
       "        vertical-align: top;\n",
       "    }\n",
       "\n",
       "    .dataframe thead th {\n",
       "        text-align: right;\n",
       "    }\n",
       "</style>\n",
       "<table border=\"1\" class=\"dataframe\">\n",
       "  <thead>\n",
       "    <tr style=\"text-align: right;\">\n",
       "      <th></th>\n",
       "      <th>area</th>\n",
       "      <th>perimeter</th>\n",
       "      <th>kernel_length</th>\n",
       "      <th>kernel_width</th>\n",
       "      <th>asymmetry</th>\n",
       "      <th>groove_length</th>\n",
       "    </tr>\n",
       "  </thead>\n",
       "  <tbody>\n",
       "    <tr>\n",
       "      <th>0</th>\n",
       "      <td>15.26</td>\n",
       "      <td>14.84</td>\n",
       "      <td>5.763</td>\n",
       "      <td>3.312</td>\n",
       "      <td>2.221</td>\n",
       "      <td>5.220</td>\n",
       "    </tr>\n",
       "    <tr>\n",
       "      <th>1</th>\n",
       "      <td>14.88</td>\n",
       "      <td>14.57</td>\n",
       "      <td>5.554</td>\n",
       "      <td>3.333</td>\n",
       "      <td>1.018</td>\n",
       "      <td>4.956</td>\n",
       "    </tr>\n",
       "    <tr>\n",
       "      <th>2</th>\n",
       "      <td>14.29</td>\n",
       "      <td>14.09</td>\n",
       "      <td>5.291</td>\n",
       "      <td>3.337</td>\n",
       "      <td>2.699</td>\n",
       "      <td>4.825</td>\n",
       "    </tr>\n",
       "    <tr>\n",
       "      <th>3</th>\n",
       "      <td>13.84</td>\n",
       "      <td>13.94</td>\n",
       "      <td>5.324</td>\n",
       "      <td>3.379</td>\n",
       "      <td>2.259</td>\n",
       "      <td>4.805</td>\n",
       "    </tr>\n",
       "    <tr>\n",
       "      <th>4</th>\n",
       "      <td>16.14</td>\n",
       "      <td>14.99</td>\n",
       "      <td>5.658</td>\n",
       "      <td>3.562</td>\n",
       "      <td>1.355</td>\n",
       "      <td>5.175</td>\n",
       "    </tr>\n",
       "  </tbody>\n",
       "</table>\n",
       "</div>"
      ],
      "text/plain": [
       "    area  perimeter  kernel_length  kernel_width  asymmetry  groove_length\n",
       "0  15.26      14.84          5.763         3.312      2.221          5.220\n",
       "1  14.88      14.57          5.554         3.333      1.018          4.956\n",
       "2  14.29      14.09          5.291         3.337      2.699          4.825\n",
       "3  13.84      13.94          5.324         3.379      2.259          4.805\n",
       "4  16.14      14.99          5.658         3.562      1.355          5.175"
      ]
     },
     "execution_count": 10,
     "metadata": {},
     "output_type": "execute_result"
    }
   ],
   "source": [
    "df_seeds = pd.read_csv('datasets/seeds.csv')\n",
    "df_seeds.head()"
   ]
  },
  {
   "cell_type": "markdown",
   "metadata": {},
   "source": [
    "# 1. Linear Regression\n",
    "\n",
    "The goal of _linear regression_ is to come up with a _linear model_ that best fits the data.\n",
    "It is a _supervised learning_ method\n",
    "that seeks to \"explain\" the dependent variable from the independent variables\n",
    "by a _linear model_.\n",
    "\n",
    "> **Note**:\n",
    "> The term _variable_ means something else in statistics than in programming.\n",
    "> A (statistical) variable is any characteristic,\n",
    "> number, or quantity that can be measured or counted.\n",
    "> Its value can vary from individual to individual in the population.\n",
    ">\n",
    "> In statistics, we distinguish _dependent_ variables (also referred to as output or response variables) and\n",
    "> _independent_ variables (also referred to as input or explanatory variables).\n",
    "> The values of the _dependent_ variables are considered to be influenced by the\n",
    "> values of the _independent_ variables.\n",
    "\n",
    "In this lesson,\n",
    "we will use the **Ordinary Least Squares** (OLS) algorithm for linear regression. If you are interested in more details,\n",
    "then you can consult the SciKit Learn documentation:\n",
    "\n",
    "* [Ordinary Least Squares algorithm](http://scikit-learn.org/stable/modules/linear_model.html)\n",
    "* [The `sklearn.linear_model.LinearRegression` object](http://scikit-learn.org/stable/modules/generated/sklearn.linear_model.LinearRegression.html)\n",
    "\n",
    "In the case of our example data set,\n",
    "we see a tendency that larger values of `a` correspond to larger values of `b`\n",
    "and vice versa. Can we quantify this relationship?"
   ]
  },
  {
   "cell_type": "markdown",
   "metadata": {},
   "source": [
    "### Step 1. Select the Data\n",
    "\n",
    "We first need to identify in the data the dependent variable and the independent variables.\n",
    "\n",
    "In this example, we (fairly arbitrarily) _choose_ `a` to be the _independent_ variable\n",
    "and `b` the _dependent_ variable. In real-life applications, it is often more obvious how to make that distinction.\n",
    "\n",
    "We select the data for training and testing a linear regression model as follows."
   ]
  },
  {
   "cell_type": "code",
   "execution_count": 11,
   "metadata": {},
   "outputs": [],
   "source": [
    "X_reg_train = df_example_train[['a']].copy()  # independent variable; just one column in this case\n",
    "y_reg_train = df_example_train[['b']].copy()  # dependent variable; just one column\n",
    "\n",
    "X_reg_test = df_example_test[['a']].copy()  # independent variable; just one column in this case\n",
    "y_reg_test = df_example_test[['b']].copy()  # dependent variable; just one column"
   ]
  },
  {
   "cell_type": "markdown",
   "metadata": {},
   "source": [
    "> **Notes:** \n",
    "> - It is good practice to copy the data (as we have done above). That way, when you start to play around with the selected data (e.g., to add new independent variables), you will not accidentally modify the original data.\n",
    "> - `X_reg_train` and  `y_reg_train` should be data frames, even if they contain only one column (therefore the double square brackets in `df_example[['a']]`).\n",
    "> - In case of **multiple independent variables**, the `X_reg_train` data frame will contain several columns, one for each variable (e.g. `X_reg_train = df[['a', 'b', 'c']]`)."
   ]
  },
  {
   "cell_type": "markdown",
   "metadata": {},
   "source": [
    "### Step 2. Create the Regression Object\n",
    "\n",
    "Next, we create the _regression object_ for **linear regression**\n",
    "and store it in the variable `reg`."
   ]
  },
  {
   "cell_type": "code",
   "execution_count": 12,
   "metadata": {},
   "outputs": [],
   "source": [
    "reg = LinearRegression()"
   ]
  },
  {
   "cell_type": "markdown",
   "metadata": {},
   "source": [
    "### Step 3. Fit the Model\n",
    "\n",
    "To fit a linear model to the data, we invoke the **`fit(x, y)`** function of the regression object, with `x` being the training data for the independent variables and `y` being the training data for the dependent variables:"
   ]
  },
  {
   "cell_type": "code",
   "execution_count": 13,
   "metadata": {},
   "outputs": [
    {
     "data": {
      "text/plain": [
       "LinearRegression()"
      ]
     },
     "execution_count": 13,
     "metadata": {},
     "output_type": "execute_result"
    }
   ],
   "source": [
    "# Only pass values without headers to avoid UserWarning\n",
    "reg.fit(X_reg_train.values, y_reg_train)"
   ]
  },
  {
   "cell_type": "markdown",
   "metadata": {},
   "source": [
    "The regression object `reg` is now fitted to the given data, modeling the values in `y_reg_train` in terms of the values in `X_reg_train`."
   ]
  },
  {
   "cell_type": "markdown",
   "metadata": {},
   "source": [
    "### Step 4. Extract Model Parameters\n",
    "\n",
    "The regression object stores the model parameters that it fitted in the previous step. These parameters can be accessed via attributes of the regression object:\n",
    "\n",
    "* **`reg.intercept_`**: a list containing a single *intercept*, that is, the constant term (additive offset)\n",
    "* **`reg.coef_`**: a \n",
    "list of *coefficients*, one for each of the independent variables\n",
    "\n",
    "Recall that a linear model with $m$ independent variables can be written as:\n",
    "\n",
    "$y = \\beta_0 + \\sum_{i = 1}^m \\beta_i x_i$\n",
    "\n",
    "where $\\beta_0$ and $\\beta_i$ are the fitted parameters, $y$ is the dependent variable and $x_i$ are the independent variables. The single element in `reg.intercept_` corresponds to the $\\beta_0$ parameter, and the elements in `reg.coef_` correspond to the parameters $\\beta_i$ for $1 \\leq i \\leq m$.\n",
    "\n",
    "For our example data, we get the following coefficient and intercept:"
   ]
  },
  {
   "cell_type": "code",
   "execution_count": 14,
   "metadata": {},
   "outputs": [
    {
     "data": {
      "text/plain": [
       "(array([0.60243056]), array([[0.96354167]]))"
      ]
     },
     "execution_count": 14,
     "metadata": {},
     "output_type": "execute_result"
    }
   ],
   "source": [
    "reg.intercept_, reg.coef_"
   ]
  },
  {
   "cell_type": "markdown",
   "metadata": {},
   "source": [
    "where $\\beta_0 = 0.60243056$ and $\\beta_1 = 0.96354167$."
   ]
  },
  {
   "cell_type": "markdown",
   "metadata": {},
   "source": [
    "### Step 5. Visualize the Model\n",
    "\n",
    "In the case of a linear model where we have one independent variable and one dependent variable,\n",
    "we can visualize that model as a _line_ in the scatter plot.\n",
    "\n",
    "For higher-dimensional linear models (with multiple independent variables), such a visualization is more complex and outside the scope of this lesson.\n",
    "\n",
    "Visualizing this line could be done based on the extracted _coefficient_ and _intercept_. However, for the specific case of a single independent variable and a single dependent variable,\n",
    "Seaborn offers the function **`regplot()`** that produces a **scatter plot with a regression line**."
   ]
  },
  {
   "cell_type": "code",
   "execution_count": 15,
   "metadata": {},
   "outputs": [
    {
     "data": {
      "image/png": "[encoded data removed]",
      "text/plain": [
       "<Figure size 720x360 with 1 Axes>"
      ]
     },
     "metadata": {},
     "output_type": "display_data"
    }
   ],
   "source": [
    "ax = sns.regplot(x=X_reg_train['a'], y=y_reg_train['b'], line_kws={'color': 'orange'}, ci=None);\n",
    "ax.legend(['trained model', 'training data'])\n",
    "ax.set_title(\"Linear Model Predicting 'b' from 'a' in the Example Data Set\");"
   ]
  },
  {
   "cell_type": "markdown",
   "metadata": {},
   "source": [
    "By providing the argument `line_kws={'color': 'orange'}`, we set the color of the line to orange.\n",
    "\n",
    "We also provided the argument `ci = None`, to indicate that Seaborn should not draw a confidence interval (confidence intervals will be covered later in the course). \n",
    "\n",
    "> **Note:** `sns.regplot()` does not use the regression object. Rather, Seaborn recomputes the parameters for the linear regression from the data."
   ]
  },
  {
   "cell_type": "markdown",
   "metadata": {},
   "source": [
    "### Step 6. Make Predictions\n",
    "\n",
    "Once you have fitted a model to the training data set, you can use it to predict the dependent values for given independent values, also outside the training set. For that purpose, the regression object provides a function **`predict()`**.\n",
    "\n",
    "Let us use it in our example to predict the outcomes for all given `a` values.\n",
    "We store the predictions in a new column labeled `'b_predicted'`."
   ]
  },
  {
   "cell_type": "code",
   "execution_count": 16,
   "metadata": {},
   "outputs": [
    {
     "data": {
      "text/html": [
       "<div>\n",
       "<style scoped>\n",
       "    .dataframe tbody tr th:only-of-type {\n",
       "        vertical-align: middle;\n",
       "    }\n",
       "\n",
       "    .dataframe tbody tr th {\n",
       "        vertical-align: top;\n",
       "    }\n",
       "\n",
       "    .dataframe thead th {\n",
       "        text-align: right;\n",
       "    }\n",
       "</style>\n",
       "<table border=\"1\" class=\"dataframe\">\n",
       "  <thead>\n",
       "    <tr style=\"text-align: right;\">\n",
       "      <th></th>\n",
       "      <th>b</th>\n",
       "      <th>b_predicted</th>\n",
       "    </tr>\n",
       "  </thead>\n",
       "  <tbody>\n",
       "    <tr>\n",
       "      <th>0</th>\n",
       "      <td>1</td>\n",
       "      <td>0.602431</td>\n",
       "    </tr>\n",
       "    <tr>\n",
       "      <th>1</th>\n",
       "      <td>2</td>\n",
       "      <td>1.565972</td>\n",
       "    </tr>\n",
       "    <tr>\n",
       "      <th>2</th>\n",
       "      <td>1</td>\n",
       "      <td>2.529514</td>\n",
       "    </tr>\n",
       "    <tr>\n",
       "      <th>3</th>\n",
       "      <td>3</td>\n",
       "      <td>3.493056</td>\n",
       "    </tr>\n",
       "    <tr>\n",
       "      <th>4</th>\n",
       "      <td>2</td>\n",
       "      <td>4.456597</td>\n",
       "    </tr>\n",
       "    <tr>\n",
       "      <th>5</th>\n",
       "      <td>3</td>\n",
       "      <td>5.420139</td>\n",
       "    </tr>\n",
       "    <tr>\n",
       "      <th>6</th>\n",
       "      <td>7</td>\n",
       "      <td>4.456597</td>\n",
       "    </tr>\n",
       "    <tr>\n",
       "      <th>7</th>\n",
       "      <td>8</td>\n",
       "      <td>5.420139</td>\n",
       "    </tr>\n",
       "    <tr>\n",
       "      <th>8</th>\n",
       "      <td>7</td>\n",
       "      <td>6.383681</td>\n",
       "    </tr>\n",
       "    <tr>\n",
       "      <th>9</th>\n",
       "      <td>9</td>\n",
       "      <td>7.347222</td>\n",
       "    </tr>\n",
       "    <tr>\n",
       "      <th>10</th>\n",
       "      <td>8</td>\n",
       "      <td>8.310764</td>\n",
       "    </tr>\n",
       "    <tr>\n",
       "      <th>11</th>\n",
       "      <td>9</td>\n",
       "      <td>9.274306</td>\n",
       "    </tr>\n",
       "  </tbody>\n",
       "</table>\n",
       "</div>"
      ],
      "text/plain": [
       "    b  b_predicted\n",
       "0   1     0.602431\n",
       "1   2     1.565972\n",
       "2   1     2.529514\n",
       "3   3     3.493056\n",
       "4   2     4.456597\n",
       "5   3     5.420139\n",
       "6   7     4.456597\n",
       "7   8     5.420139\n",
       "8   7     6.383681\n",
       "9   9     7.347222\n",
       "10  8     8.310764\n",
       "11  9     9.274306"
      ]
     },
     "execution_count": 16,
     "metadata": {},
     "output_type": "execute_result"
    }
   ],
   "source": [
    "# Only pass values without headers to avoid UserWarning\n",
    "df_example['b_predicted'] = reg.predict(df_example[['a']].values) \n",
    "df_example[['b', 'b_predicted']]"
   ]
  },
  {
   "cell_type": "markdown",
   "metadata": {},
   "source": [
    "> **Note**:\n",
    "> `reg.predict()` requires a two-dimensional structure as an argument,\n",
    "> such as a `DataFrame`, and it also returns a two-dimensional result.\n",
    "\n",
    "If you want a prediction for a single independent value, then you need to _wrap_ that value in a `DataFrame`."
   ]
  },
  {
   "cell_type": "code",
   "execution_count": 17,
   "metadata": {},
   "outputs": [
    {
     "data": {
      "text/plain": [
       "array([[4.93836806]])"
      ]
     },
     "execution_count": 17,
     "metadata": {},
     "output_type": "execute_result"
    }
   ],
   "source": [
    "reg.predict(pd.DataFrame([4.5]))"
   ]
  },
  {
   "cell_type": "markdown",
   "metadata": {},
   "source": [
    "To obtain the prediction as a single value,\n",
    "you can extract it from the result by *indexing*."
   ]
  },
  {
   "cell_type": "code",
   "execution_count": 18,
   "metadata": {},
   "outputs": [
    {
     "data": {
      "text/plain": [
       "4.938368055555555"
      ]
     },
     "execution_count": 18,
     "metadata": {},
     "output_type": "execute_result"
    }
   ],
   "source": [
    "reg.predict(pd.DataFrame([4.5]))[0, 0]"
   ]
  },
  {
   "cell_type": "markdown",
   "metadata": {},
   "source": [
    "### Step 7. Assess the Model's Quality\n",
    "\n",
    "There are various ways to assess the quality of a trained model.\n",
    "\n",
    "#### Step 7a. Goodness of Fit\n",
    "\n",
    "One way is to look at how well the model fits the **training set**. A common metric for the *goodness of fit* is $R^2$, also known as the _coefficient of determination_.\n",
    "$R^2$ typically takes values between 0 and 1, with 1 indicating a perfect fit and 0 indicating a fit that is as good as the horizontal line through the mean value of the dependent variable. Note that $R^2$ can also take on negative values, when the model is a poorer fit than the horizontal line through the mean.\n",
    "\n",
    "$R^2$ can be computed as follows."
   ]
  },
  {
   "cell_type": "code",
   "execution_count": 19,
   "metadata": {},
   "outputs": [
    {
     "data": {
      "text/plain": [
       "0.7285635217983651"
      ]
     },
     "execution_count": 19,
     "metadata": {},
     "output_type": "execute_result"
    }
   ],
   "source": [
    "# Only pass values without headers to avoid UserWarning\n",
    "reg.score(X_reg_train.values, y_reg_train)"
   ]
  },
  {
   "cell_type": "markdown",
   "metadata": {},
   "source": [
    "> **Note:** If you add more independent variables to the selected data,\n",
    "the value of $R^2$ stays the same or goes up (it never goes down).\n",
    "\n",
    "Another way to evaluate the goodness of fit is to use a **residual plot**, plotting the *residuals*. Residuals are computed by taking the difference between the dependent value and the predicted value:"
   ]
  },
  {
   "cell_type": "code",
   "execution_count": 20,
   "metadata": {},
   "outputs": [
    {
     "data": {
      "text/html": [
       "<div>\n",
       "<style scoped>\n",
       "    .dataframe tbody tr th:only-of-type {\n",
       "        vertical-align: middle;\n",
       "    }\n",
       "\n",
       "    .dataframe tbody tr th {\n",
       "        vertical-align: top;\n",
       "    }\n",
       "\n",
       "    .dataframe thead th {\n",
       "        text-align: right;\n",
       "    }\n",
       "</style>\n",
       "<table border=\"1\" class=\"dataframe\">\n",
       "  <thead>\n",
       "    <tr style=\"text-align: right;\">\n",
       "      <th></th>\n",
       "      <th>b</th>\n",
       "    </tr>\n",
       "  </thead>\n",
       "  <tbody>\n",
       "    <tr>\n",
       "      <th>5</th>\n",
       "      <td>-2.420139</td>\n",
       "    </tr>\n",
       "    <tr>\n",
       "      <th>0</th>\n",
       "      <td>0.397569</td>\n",
       "    </tr>\n",
       "    <tr>\n",
       "      <th>1</th>\n",
       "      <td>0.434028</td>\n",
       "    </tr>\n",
       "    <tr>\n",
       "      <th>11</th>\n",
       "      <td>-0.274306</td>\n",
       "    </tr>\n",
       "    <tr>\n",
       "      <th>8</th>\n",
       "      <td>0.616319</td>\n",
       "    </tr>\n",
       "    <tr>\n",
       "      <th>3</th>\n",
       "      <td>-0.493056</td>\n",
       "    </tr>\n",
       "    <tr>\n",
       "      <th>6</th>\n",
       "      <td>2.543403</td>\n",
       "    </tr>\n",
       "    <tr>\n",
       "      <th>9</th>\n",
       "      <td>1.652778</td>\n",
       "    </tr>\n",
       "    <tr>\n",
       "      <th>4</th>\n",
       "      <td>-2.456597</td>\n",
       "    </tr>\n",
       "  </tbody>\n",
       "</table>\n",
       "</div>"
      ],
      "text/plain": [
       "           b\n",
       "5  -2.420139\n",
       "0   0.397569\n",
       "1   0.434028\n",
       "11 -0.274306\n",
       "8   0.616319\n",
       "3  -0.493056\n",
       "6   2.543403\n",
       "9   1.652778\n",
       "4  -2.456597"
      ]
     },
     "execution_count": 20,
     "metadata": {},
     "output_type": "execute_result"
    }
   ],
   "source": [
    "# Only pass values without headers to avoid UserWarning\n",
    "residuals = y_reg_train - reg.predict(X_reg_train.values)\n",
    "residuals"
   ]
  },
  {
   "cell_type": "markdown",
   "metadata": {},
   "source": [
    "We can plot the residuals on the $y$ axis against an independent variable on the $x$ axis, to see if the model fits the independent variable well. A good fit is indicated by dots that are distributed randomly relative to the zero line:"
   ]
  },
  {
   "cell_type": "code",
   "execution_count": 21,
   "metadata": {},
   "outputs": [
    {
     "data": {
      "image/png": "[encoded data removed]",
      "text/plain": [
       "<Figure size 720x360 with 1 Axes>"
      ]
     },
     "metadata": {},
     "output_type": "display_data"
    }
   ],
   "source": [
    "plt.scatter(x=X_reg_train['a'], y=residuals, s=50)\n",
    "plt.axhline()\n",
    "plt.title(\"Residual Plot for the Linear Model Prediciting 'b' from 'a' in the Example Data Set\")\n",
    "plt.xlabel('a')\n",
    "plt.ylabel('Residual');"
   ]
  },
  {
   "cell_type": "markdown",
   "metadata": {},
   "source": [
    "A structure in the residuals (e.g. a V-shape or a trend) would indicate that the independent variable contains information about the dependent variable and that this information is not included in the model."
   ]
  },
  {
   "cell_type": "markdown",
   "metadata": {},
   "source": [
    "#### Step 7b. Predictive Performance\n",
    "\n",
    "We are often interested in how well a trained model generalizes, i.e. how well it will perform on data *outside of the training set*. We can try to measure how well a model generalizes by computing different metrics on a held-out **test set**. One such metric is the *mean absolute error*, which is the average absolute difference between the *true* value and the *predicted* value. It can be computed using SciKit Learn function `mean_absolute_error()`."
   ]
  },
  {
   "cell_type": "code",
   "execution_count": 22,
   "metadata": {},
   "outputs": [
    {
     "data": {
      "text/plain": [
       "1.4733796296296298"
      ]
     },
     "execution_count": 22,
     "metadata": {},
     "output_type": "execute_result"
    }
   ],
   "source": [
    "# Only pass values without headers to avoid UserWarning\n",
    "mean_absolute_error(y_reg_test, reg.predict(X_reg_test.values))"
   ]
  },
  {
   "cell_type": "markdown",
   "metadata": {},
   "source": [
    "where `y_reg_test` are the true values and `reg.predict(X_reg_test.values)` are the predicted values. This indicates that on average we can expect the prediction to be off by around 1.47."
   ]
  },
  {
   "cell_type": "markdown",
   "metadata": {},
   "source": [
    "## Exercises on Linear Regression\n",
    "\n",
    "Now apply this yourself to the Auto MPG data set."
   ]
  },
  {
   "cell_type": "markdown",
   "metadata": {},
   "source": [
    "### Exercise 1.a: Fit a Linear Model for `mpg`\n",
    "\n",
    "Fit a linear regression model for predicting the fuel efficiency of cars using the *training data set* `df_mpg_train`, with `'mpg'` as the _dependent variable_ and\n",
    "`'weight'` as the _independent variable_. Perform the following steps:\n",
    "\n",
    "**Step 1. Select the data**\n",
    "\n",
    "* Assign the training data for the independent variable to `X_mpg_train`.\n",
    "* Assign the training data for the dependent variable to `y_mpg_train`.\n",
    "* Assign the test data for the independent variable to `X_mpg_test`.\n",
    "* Assign the test data for the dependent variable to `y_mpg_test`.\n",
    "\n",
    "**Step 2. Create the regression object**\n",
    "\n",
    "* Assign the regression object to `reg_mpg`.\n",
    "\n",
    "**Step 3. Fit the regression model**\n",
    "\n",
    "**Step 4. Extract the regression parameters**\n",
    "\n",
    "* Assign the coefficient to `coef_mpg` (as an array).\n",
    "* Assign the intercept to `intercept_mpg` (as an array)."
   ]
  },
  {
   "cell_type": "code",
   "execution_count": 23,
   "metadata": {},
   "outputs": [
    {
     "data": {
      "text/plain": [
       "(array([[-0.00783247]]), array([46.95104442]))"
      ]
     },
     "execution_count": 23,
     "metadata": {},
     "output_type": "execute_result"
    }
   ],
   "source": [
    "#// BEGIN_TODO [DMM_1a] Linear regression (4 points)\n",
    "\n",
    "X_mpg_train = df_mpg_train[['weight']].copy()\n",
    "y_mpg_train = df_mpg_train[['mpg']].copy()\n",
    "\n",
    "X_mpg_test = df_mpg_test[['weight']].copy()\n",
    "y_mpg_test = df_mpg_test[['mpg']].copy()\n",
    "\n",
    "reg_mpg = LinearRegression()\n",
    "reg_mpg.fit(X_mpg_train, y_mpg_train)\n",
    "\n",
    "coef_mpg = reg_mpg.coef_\n",
    "intercept_mpg = reg_mpg.intercept_\n",
    "\n",
    "#// END_TODO [DMM_1a]\n",
    "\n",
    "coef_mpg, intercept_mpg"
   ]
  },
  {
   "cell_type": "markdown",
   "metadata": {},
   "source": [
    "### Exercise 1.b: Visualize the Model\n",
    "\n",
    "Create a scatter plot with a regression line for the linear model.  \n",
    "\n",
    "> **Hint:** Use `sns.regplot()`."
   ]
  },
  {
   "cell_type": "code",
   "execution_count": 24,
   "metadata": {},
   "outputs": [
    {
     "data": {
      "image/png": "[encoded data removed]",
      "text/plain": [
       "<Figure size 720x360 with 1 Axes>"
      ]
     },
     "metadata": {},
     "output_type": "display_data"
    }
   ],
   "source": [
    "#// BEGIN_TODO [DMM_1b] Scatter plot with regression line (2 points)\n",
    "\n",
    "ax = sns.regplot(x=X_mpg_train['weight'], y=y_mpg_train['mpg'])\n",
    "\n",
    "#// END_TODO [DMM_1b]"
   ]
  },
  {
   "cell_type": "markdown",
   "metadata": {},
   "source": [
    "### Exercise 1.c: Interpret the Model\n",
    "\n",
    "Does the fitted model suggest that a _higher_ weight corresponds to a _higher_ number of miles per gallon? Assign your (boolean) answer to `higher_weight_higher_mpg`."
   ]
  },
  {
   "cell_type": "code",
   "execution_count": 25,
   "metadata": {},
   "outputs": [
    {
     "data": {
      "text/plain": [
       "False"
      ]
     },
     "execution_count": 25,
     "metadata": {},
     "output_type": "execute_result"
    }
   ],
   "source": [
    "#// BEGIN_TODO [DMM_1c] Linear regression (1 point)\n",
    "\n",
    "higher_weight_higher_mpg = False\n",
    "\n",
    "#// END_TODO [DMM_1c]\n",
    "\n",
    "higher_weight_higher_mpg"
   ]
  },
  {
   "cell_type": "markdown",
   "metadata": {},
   "source": [
    "### Exercise 1.d: Assess the Goodness of Fit\n",
    "\n",
    "How well does the model fit the training data, i.e. what is the coefficient of determination $R^2$?\n",
    "Assign your (numeric) answer to `R2_mpg`."
   ]
  },
  {
   "cell_type": "code",
   "execution_count": 26,
   "metadata": {},
   "outputs": [
    {
     "data": {
      "text/plain": [
       "0.7080014802279737"
      ]
     },
     "execution_count": 26,
     "metadata": {},
     "output_type": "execute_result"
    }
   ],
   "source": [
    "#// BEGIN_TODO [DMM_1d] R squared (2 points)\n",
    "\n",
    "R2_mpg = reg_mpg.score(X_mpg_train, y_mpg_train)\n",
    "\n",
    "#// END_TODO [DMM_1d]\n",
    "\n",
    "R2_mpg"
   ]
  },
  {
   "cell_type": "markdown",
   "metadata": {},
   "source": [
    "### Residual Plot\n",
    "\n",
    "We can use a residual plot to see if there is any structure in the residuals, indicating that the training data can be modeled more accurately with a different model."
   ]
  },
  {
   "cell_type": "code",
   "execution_count": 27,
   "metadata": {},
   "outputs": [
    {
     "data": {
      "image/png": "[encoded data removed]",
      "text/plain": [
       "<Figure size 720x360 with 1 Axes>"
      ]
     },
     "metadata": {},
     "output_type": "display_data"
    }
   ],
   "source": [
    "plt.scatter(x=X_mpg_train['weight'], y=(y_mpg_train - reg_mpg.predict(X_mpg_train.values)), s=50)\n",
    "plt.axhline()\n",
    "plt.title(\"Residual Plot for the Linear Model Prediciting 'mpg' from 'weight'\")\n",
    "plt.xlabel('Weight')\n",
    "plt.ylabel('Residual');"
   ]
  },
  {
   "cell_type": "markdown",
   "metadata": {},
   "source": [
    "We can see that the residuals are not distributed randomly relative to the zero line (e.g. the variance of the residuals increases for lower `'weight'` values), suggesting that a more complex model in terms of `'weight'` may result in a better fit."
   ]
  },
  {
   "cell_type": "markdown",
   "metadata": {},
   "source": [
    "### Exercise 1.e: Fit a Linear Model with a Quadratic Term\n",
    "\n",
    "When we look at the initial plot of `mpg` versus `weight`,\n",
    "it does not look linear, but curved.\n",
    "This suggests including higher-order terms,\n",
    "such as the square of `weight`. In this exercise, we will try to find coefficients $a$, $b$ and $c$ such that\n",
    "\n",
    "  `mpg` $\\approx a$ `weight`$^2$ + $b$ `weight` + $c$\n",
    "\n",
    "To this end, create a new data frame named `X_mpg_qt_train` containing the `'weight'` column of `df_mpg_train`. Then add a column `'weight^2'` holding the values for `weight`$^2$ (i.e. `weight` squared).\n",
    "\n",
    "Next, fit a linear regression model with `mpg` as the dependent variable,\n",
    "and both `weight` and `weight`$^2$ as independent variables.\n",
    "\n",
    "Assign\n",
    "\n",
    "* the data for the independent variable (a data frame with the `'weight'` and `'weight^2'` columns) to `X_mpg_qt_train`,\n",
    "* the regression object to `reg_mpg_qt`,\n",
    "* the coefficients to `coef_mpg_qt` (as an array),\n",
    "* the intercept to `intercept_mpg_qt` (as an array), and\n",
    "* $R^2$ (for the training set `X_mpg_qt_train`) to `R2_mpg_qt`.\n",
    "\n",
    "> **Hint:** You can reuse the `y_mpg_train` created earlier as the dependent variable for fitting the model."
   ]
  },
  {
   "cell_type": "code",
   "execution_count": 28,
   "metadata": {},
   "outputs": [
    {
     "data": {
      "text/plain": [
       "(array([[-2.03771397e-02,  1.95324882e-06]]),\n",
       " array([65.55748333]),\n",
       " 0.7383397890274058)"
      ]
     },
     "execution_count": 28,
     "metadata": {},
     "output_type": "execute_result"
    }
   ],
   "source": [
    "#// BEGIN_TODO [DMM_1e] Model with quadratic term explaining mpg from weight (5 points)\n",
    "\n",
    "X_mpg_qt_train = df_mpg_train[['weight']].copy()\n",
    "X_mpg_qt_train['weight^2'] = df_mpg_train[['weight']]**2\n",
    "\n",
    "reg_mpg_qt = LinearRegression()\n",
    "reg_mpg_qt.fit(X_mpg_qt_train[['weight', 'weight^2']], y_mpg_train)\n",
    "\n",
    "coef_mpg_qt = reg_mpg_qt.coef_\n",
    "intercept_mpg_qt = reg_mpg_qt.intercept_\n",
    "\n",
    "R2_mpg_qt = reg_mpg_qt.score(X_mpg_qt_train[['weight', 'weight^2']], y_mpg_train)\n",
    "\n",
    "#// END_TODO [DMM_1e]\n",
    "\n",
    "coef_mpg_qt, intercept_mpg_qt, R2_mpg_qt"
   ]
  },
  {
   "cell_type": "markdown",
   "metadata": {},
   "source": [
    "### Exercise 1.f: Extract Model Parameters\n",
    "\n",
    "From the linear regression, we can extract coefficients $a$, $b$ and $c$ such that\n",
    "\n",
    "`mpg` $\\approx a$ `weight`${}^2$ + $b$ `weight` + $c$\n",
    "\n",
    "Assign the values of $a$, $b$, and $c$ to the Python variables `a`, `b`, and `c`. Use the equation to compute the predicted `mpg` when the `weight` is $4000$ lbs and assign it to `y_mpg_4000`.\n",
    "\n",
    "<span class=\"t\">Hint<span class=\"c\">:</span></span>\n",
    "<span class=\"h\">\n",
    "The coefficients are in the same order as the columns of the fitted data frame with independent variables, in this case `X_mpg_qt_train`.\n",
    "</span>"
   ]
  },
  {
   "cell_type": "code",
   "execution_count": 29,
   "metadata": {},
   "outputs": [
    {
     "data": {
      "text/plain": [
       "(1.953248819643504e-06,\n",
       " -0.020377139661973836,\n",
       " 65.55748332549413,\n",
       " 15.300905791894856)"
      ]
     },
     "execution_count": 29,
     "metadata": {},
     "output_type": "execute_result"
    }
   ],
   "source": [
    "#// BEGIN_TODO [DMM_1f] Extract model parameters for the quadratic model (2 points)\n",
    "\n",
    "a = coef_mpg_qt[0, 1]\n",
    "b = coef_mpg_qt[0, 0]\n",
    "c = intercept_mpg_qt[0]\n",
    "\n",
    "y_mpg_4000 = a*(4000**2) + b*4000 + c\n",
    "\n",
    "#// END_TODO [DMM_1f]\n",
    "\n",
    "a, b, c, y_mpg_4000"
   ]
  },
  {
   "cell_type": "markdown",
   "metadata": {},
   "source": [
    "### Exercise 1.g: Visualize the Model with a Quadratic Term\n",
    "\n",
    "Create a scatter plot with a regression line for this quadratic model (use `sns.regplot()` with argument `order=2` for a linear model with a quadratic term). Add the test data to the plot in a different color.\n",
    "\n",
    "> **Hint:** Use `X_mpg_train` as independent variable. Revisit superimposing plots in VIS exercises for adding the test data."
   ]
  },
  {
   "cell_type": "code",
   "execution_count": 30,
   "metadata": {},
   "outputs": [
    {
     "data": {
      "text/plain": [
       "<AxesSubplot:xlabel='weight', ylabel='mpg'>"
      ]
     },
     "execution_count": 30,
     "metadata": {},
     "output_type": "execute_result"
    },
    {
     "data": {
      "image/png": "[encoded data removed]",
      "text/plain": [
       "<Figure size 720x360 with 1 Axes>"
      ]
     },
     "metadata": {},
     "output_type": "display_data"
    }
   ],
   "source": [
    "#// BEGIN_TODO [DMM_1g] Scatter plot and quadratic model (2 points)\n",
    "\n",
    "ax_combined = sns.regplot(x=X_mpg_train['weight'], y=y_mpg_train['mpg'], ci=None, order=2)\n",
    "sns.regplot(x=X_mpg_test['weight'], y=y_mpg_test['mpg'], color='y', ci=None, ax=ax_combined)\n",
    "\n",
    "#// END_TODO [DMM_1g]"
   ]
  },
  {
   "cell_type": "markdown",
   "metadata": {},
   "source": [
    "### Exercise 1.h: Did the Goodness of Fit Improve?\n",
    "\n",
    "Is the value of $R^2$ for new model better than in [Exercise 1.d](#Exercise-1.d)? Assign your boolean answer to `R2_improved_for_qt`."
   ]
  },
  {
   "cell_type": "code",
   "execution_count": 31,
   "metadata": {},
   "outputs": [
    {
     "data": {
      "text/plain": [
       "True"
      ]
     },
     "execution_count": 31,
     "metadata": {},
     "output_type": "execute_result"
    }
   ],
   "source": [
    "#// BEGIN_TODO [DMM_1h] Is this better than the linear model from 1.a? (1 point)\n",
    "\n",
    "R2_improved_for_qt = True\n",
    "\n",
    "#// END_TODO [DMM_1h]\n",
    "\n",
    "R2_improved_for_qt"
   ]
  },
  {
   "attachments": {
    "mpg100.png": {
     "image/png": "[encoded data removed]"
    }
   },
   "cell_type": "markdown",
   "metadata": {},
   "source": [
    "> **Warning**: In fact, if you add more independent variables, the value of $R^2$ will _always_ increase. \n",
    "> This does not necessarily mean that the model gets better. If you add too many variables, the model will **overfit**, i.e. although predictions for seen data are good, predictions on new data will be poor.\n",
    ">\n",
    "> Below is an example of fitting a high-order polynomial. It is a plot of a linear regression model explaining `mpg` from `weight` of order 100. Note that the predictions of `mpg` for previously unseen weights (e.g. between 4500 and 5500 lbs) will be poor.\n",
    ">\n",
    "> ![mpg100.png](attachment:mpg100.png)"
   ]
  },
  {
   "cell_type": "markdown",
   "metadata": {},
   "source": [
    "### Exercise 1.i: Make Predictions\n",
    "\n",
    "Predict the fuel efficiency (in mpg) of the cars in the test set.\n",
    "To this end, create a new data frame `X_mpg_qt_test` containing the `'weight'` column of `df_mpg_test`. Then add a column `'weight^2'` holding the values for `weight`$^2$ (i.e. `weight` squared).\n",
    "\n",
    "Assign your answer as a new column labeled `'predicted_mpg'` to the data frame `df_mpg_test`. \n",
    "\n",
    "> **Hint:** Use `reg_mpg_qt.predict()`."
   ]
  },
  {
   "cell_type": "code",
   "execution_count": 32,
   "metadata": {},
   "outputs": [
    {
     "data": {
      "text/html": [
       "<div>\n",
       "<style scoped>\n",
       "    .dataframe tbody tr th:only-of-type {\n",
       "        vertical-align: middle;\n",
       "    }\n",
       "\n",
       "    .dataframe tbody tr th {\n",
       "        vertical-align: top;\n",
       "    }\n",
       "\n",
       "    .dataframe thead th {\n",
       "        text-align: right;\n",
       "    }\n",
       "</style>\n",
       "<table border=\"1\" class=\"dataframe\">\n",
       "  <thead>\n",
       "    <tr style=\"text-align: right;\">\n",
       "      <th></th>\n",
       "      <th>mpg</th>\n",
       "      <th>cylinders</th>\n",
       "      <th>displacement</th>\n",
       "      <th>horsepower</th>\n",
       "      <th>weight</th>\n",
       "      <th>acceleration</th>\n",
       "      <th>year</th>\n",
       "      <th>origin</th>\n",
       "      <th>name</th>\n",
       "      <th>mpg_predicted</th>\n",
       "    </tr>\n",
       "  </thead>\n",
       "  <tbody>\n",
       "    <tr>\n",
       "      <th>148</th>\n",
       "      <td>26.0</td>\n",
       "      <td>4</td>\n",
       "      <td>116.0</td>\n",
       "      <td>75.0</td>\n",
       "      <td>2246.0</td>\n",
       "      <td>14.0</td>\n",
       "      <td>74</td>\n",
       "      <td>European</td>\n",
       "      <td>fiat 124 tc</td>\n",
       "      <td>29.643623</td>\n",
       "    </tr>\n",
       "    <tr>\n",
       "      <th>389</th>\n",
       "      <td>22.0</td>\n",
       "      <td>6</td>\n",
       "      <td>232.0</td>\n",
       "      <td>112.0</td>\n",
       "      <td>2835.0</td>\n",
       "      <td>14.7</td>\n",
       "      <td>82</td>\n",
       "      <td>American</td>\n",
       "      <td>ford granada l</td>\n",
       "      <td>23.486993</td>\n",
       "    </tr>\n",
       "    <tr>\n",
       "      <th>350</th>\n",
       "      <td>34.7</td>\n",
       "      <td>4</td>\n",
       "      <td>105.0</td>\n",
       "      <td>63.0</td>\n",
       "      <td>2215.0</td>\n",
       "      <td>14.9</td>\n",
       "      <td>81</td>\n",
       "      <td>American</td>\n",
       "      <td>plymouth horizon 4</td>\n",
       "      <td>30.005197</td>\n",
       "    </tr>\n",
       "    <tr>\n",
       "      <th>52</th>\n",
       "      <td>30.0</td>\n",
       "      <td>4</td>\n",
       "      <td>88.0</td>\n",
       "      <td>76.0</td>\n",
       "      <td>2065.0</td>\n",
       "      <td>14.5</td>\n",
       "      <td>71</td>\n",
       "      <td>European</td>\n",
       "      <td>fiat 124b</td>\n",
       "      <td>31.807782</td>\n",
       "    </tr>\n",
       "    <tr>\n",
       "      <th>332</th>\n",
       "      <td>29.8</td>\n",
       "      <td>4</td>\n",
       "      <td>89.0</td>\n",
       "      <td>62.0</td>\n",
       "      <td>1845.0</td>\n",
       "      <td>15.3</td>\n",
       "      <td>80</td>\n",
       "      <td>European</td>\n",
       "      <td>vokswagen rabbit</td>\n",
       "      <td>34.610568</td>\n",
       "    </tr>\n",
       "  </tbody>\n",
       "</table>\n",
       "</div>"
      ],
      "text/plain": [
       "      mpg  cylinders  displacement  horsepower  weight  acceleration  year  \\\n",
       "148  26.0          4         116.0        75.0  2246.0          14.0    74   \n",
       "389  22.0          6         232.0       112.0  2835.0          14.7    82   \n",
       "350  34.7          4         105.0        63.0  2215.0          14.9    81   \n",
       "52   30.0          4          88.0        76.0  2065.0          14.5    71   \n",
       "332  29.8          4          89.0        62.0  1845.0          15.3    80   \n",
       "\n",
       "       origin                name  mpg_predicted  \n",
       "148  European         fiat 124 tc      29.643623  \n",
       "389  American      ford granada l      23.486993  \n",
       "350  American  plymouth horizon 4      30.005197  \n",
       "52   European           fiat 124b      31.807782  \n",
       "332  European    vokswagen rabbit      34.610568  "
      ]
     },
     "execution_count": 32,
     "metadata": {},
     "output_type": "execute_result"
    }
   ],
   "source": [
    "#// BEGIN_TODO [DMM_1i] Predict fuel efficiency (2 points)\n",
    "\n",
    "X_mpg_qt_test = df_mpg_test[['weight']].copy()\n",
    "X_mpg_qt_test['weight^2'] = df_mpg_test[['weight']]**2\n",
    "\n",
    "df_mpg_test['mpg_predicted'] = reg_mpg_qt.predict(X_mpg_qt_test[['weight', 'weight^2']])\n",
    "\n",
    "#// END_TODO [DMM_1i]\n",
    "\n",
    "df_mpg_test.head()"
   ]
  },
  {
   "cell_type": "markdown",
   "metadata": {},
   "source": [
    "### Exercise 1.j: Assess the Predictive Performance\n",
    "\n",
    "Let us see how good the predictions really are. Evaluate the mean absolute error on the **_test set_** and assign its value to the variable `MAE_mpg_qt`. \n",
    "\n",
    "> **Hint:** You can reuse `y_mpg_test` for the true values."
   ]
  },
  {
   "cell_type": "code",
   "execution_count": 33,
   "metadata": {},
   "outputs": [
    {
     "data": {
      "text/plain": [
       "3.227027516779438"
      ]
     },
     "execution_count": 33,
     "metadata": {},
     "output_type": "execute_result"
    }
   ],
   "source": [
    "#// BEGIN_TODO [DMM_1j] Prediction accuracy (1 point)\n",
    "\n",
    "MAE_mpg_qt = mean_absolute_error(y_mpg_test, reg_mpg_qt.predict(X_mpg_qt_test))\n",
    "\n",
    "#// END_TODO [DMM_1j]\n",
    "\n",
    "MAE_mpg_qt"
   ]
  },
  {
   "cell_type": "markdown",
   "metadata": {},
   "source": [
    "# 2. Decision Tree Mining\n",
    "\n",
    "The goal of _decision tree mining_ is to come up with a _decision tree_ that best fits the data. It is a _supervised learning_ method that seeks to predict a dependent variable from independent variables, where\n",
    "\n",
    "* each decision is based on the value of one variable, and\n",
    "* the tree has minimal depth\n",
    "  (each decision is most informative).\n",
    "\n",
    "In this lesson, we will use (an optimized version of) the **CART** algorithm\n",
    "for decision tree mining. It can be started with a bound on the tree depth.\n",
    "\n",
    "> **Note**: the decision tree implementation in sklearn is non-deterministic, i.e. it contains a random component. Consequently, the fitted model may differ each time you call the fitting function. You can see it by executing multiple times the cells with the code fitting the tree and extracting the model parameters.\n",
    "\n",
    "If you are interested in more details, you can consult the documentation at SciKit Learn:\n",
    "\n",
    "* [Decision Trees](http://scikit-learn.org/stable/modules/tree.html)\n",
    "* [The `sklearn.tree.DecisionTreeClassifier` decision-tree object](http://scikit-learn.org/stable/modules/generated/sklearn.tree.DecisionTreeClassifier.html)"
   ]
  },
  {
   "cell_type": "markdown",
   "metadata": {},
   "source": [
    "### Step 1. Select the Data\n",
    "\n",
    "We illustrate how to train a decision tree classifier, by using the data frame `df_example`. The following scatter plot visualizes the training set, using the dependent variable `'c'` to color the dots."
   ]
  },
  {
   "cell_type": "code",
   "execution_count": 34,
   "metadata": {},
   "outputs": [
    {
     "data": {
      "image/png": "[encoded data removed]",
      "text/plain": [
       "<Figure size 720x360 with 1 Axes>"
      ]
     },
     "metadata": {},
     "output_type": "display_data"
    }
   ],
   "source": [
    "ax = df_example_train.plot(kind='scatter', x='a', y='b', s=50, c=df_example_train['c'])\n",
    "ax.set_xlim(0, 10);\n",
    "ax.set_title('Training a Subset of the Example Data Set');"
   ]
  },
  {
   "cell_type": "markdown",
   "metadata": {},
   "source": [
    "We choose `'a'` and `'b'` to be the *independent* variables and `'c'` to be the *dependent* variable:."
   ]
  },
  {
   "cell_type": "code",
   "execution_count": 35,
   "metadata": {},
   "outputs": [],
   "source": [
    "X_dtc_train = df_example_train[['a', 'b']].copy()\n",
    "y_dtc_train = df_example_train['c'].copy()\n",
    "\n",
    "X_dtc_test = df_example_test[['a', 'b']].copy()\n",
    "y_dtc_test = df_example_test['c'].copy()"
   ]
  },
  {
   "cell_type": "markdown",
   "metadata": {},
   "source": [
    "### Step 2. Create the Decision-tree Classifier\n",
    "\n",
    "Next, we create the _decision-tree object_ for **decision tree mining**\n",
    "and store it in the variable `dtc`.\n",
    "We supply an upper bound on the tree depth as an argument."
   ]
  },
  {
   "cell_type": "code",
   "execution_count": 36,
   "metadata": {},
   "outputs": [],
   "source": [
    "dtc = DecisionTreeClassifier(max_depth=3)"
   ]
  },
  {
   "cell_type": "markdown",
   "metadata": {},
   "source": [
    "If you do not supply an upper bound,\n",
    "then the decision tree will grow as far as is \"necessary\" to get the best result.\n",
    "\n",
    "A larger tree is not necessarily better. Large trees may **overfit**: produce good results on training data but poor results on test data."
   ]
  },
  {
   "cell_type": "markdown",
   "metadata": {},
   "source": [
    "### Step 3. Do the Fitting\n",
    "\n",
    "Invoke the **`fit()`** function of the decision-tree object,\n",
    "supplying the selected data/"
   ]
  },
  {
   "cell_type": "code",
   "execution_count": 37,
   "metadata": {},
   "outputs": [
    {
     "data": {
      "text/plain": [
       "DecisionTreeClassifier(max_depth=3)"
      ]
     },
     "execution_count": 37,
     "metadata": {},
     "output_type": "execute_result"
    }
   ],
   "source": [
    "dtc.fit(X_dtc_train, y_dtc_train)"
   ]
  },
  {
   "cell_type": "markdown",
   "metadata": {},
   "source": [
    "### Step 4. Extract Model Parameters\n",
    "\n",
    "In the case of decision tree mining,\n",
    "the relevant attributes of the decision-tree classifier `dtc` are:\n",
    "\n",
    "* **`dtc.tree_`**: the _mined decision tree_.\n",
    "  * **`dtc.tree_.node_count`**: the _number of nodes_ in the tree.\n",
    "  * **`dtc.tree_.max_depth`**: the _depth_ of the tree, that is, the maximum distance from the root to any leaf.\n",
    "* **`dtc.feature_importances_`**: the _relative importance_ of each independent variable.\n",
    "* **`dtc.classes_`**: the _inferred dependent values_ for the dependent variable(s)  .\n",
    "\n",
    "It is convenient\n",
    "\n",
    "* to visualize the tree (see Step 5), and\n",
    "* to convert the feature importances to a data frame\n",
    "    with the same column labels as the original data."
   ]
  },
  {
   "cell_type": "code",
   "execution_count": 38,
   "metadata": {},
   "outputs": [
    {
     "data": {
      "text/plain": [
       "(7, 2)"
      ]
     },
     "execution_count": 38,
     "metadata": {},
     "output_type": "execute_result"
    }
   ],
   "source": [
    "dtc.tree_.node_count, dtc.tree_.max_depth"
   ]
  },
  {
   "cell_type": "code",
   "execution_count": 39,
   "metadata": {},
   "outputs": [
    {
     "data": {
      "text/html": [
       "<div>\n",
       "<style scoped>\n",
       "    .dataframe tbody tr th:only-of-type {\n",
       "        vertical-align: middle;\n",
       "    }\n",
       "\n",
       "    .dataframe tbody tr th {\n",
       "        vertical-align: top;\n",
       "    }\n",
       "\n",
       "    .dataframe thead th {\n",
       "        text-align: right;\n",
       "    }\n",
       "</style>\n",
       "<table border=\"1\" class=\"dataframe\">\n",
       "  <thead>\n",
       "    <tr style=\"text-align: right;\">\n",
       "      <th></th>\n",
       "      <th>a</th>\n",
       "      <th>b</th>\n",
       "    </tr>\n",
       "  </thead>\n",
       "  <tbody>\n",
       "    <tr>\n",
       "      <th>0</th>\n",
       "      <td>0.36</td>\n",
       "      <td>0.64</td>\n",
       "    </tr>\n",
       "  </tbody>\n",
       "</table>\n",
       "</div>"
      ],
      "text/plain": [
       "      a     b\n",
       "0  0.36  0.64"
      ]
     },
     "execution_count": 39,
     "metadata": {},
     "output_type": "execute_result"
    }
   ],
   "source": [
    "feature_importances = pd.DataFrame([dtc.feature_importances_], columns=X_dtc_train.columns)\n",
    "feature_importances"
   ]
  },
  {
   "cell_type": "code",
   "execution_count": 40,
   "metadata": {},
   "outputs": [
    {
     "data": {
      "text/plain": [
       "array(['black', 'blue', 'orange', 'red'], dtype=object)"
      ]
     },
     "execution_count": 40,
     "metadata": {},
     "output_type": "execute_result"
    }
   ],
   "source": [
    "dtc.classes_"
   ]
  },
  {
   "attachments": {
    "example-decision-tree.png": {
     "image/png": "[encoded data removed]"
    }
   },
   "cell_type": "markdown",
   "metadata": {},
   "source": [
    "### Step 5. Visualize the Model\n",
    "\n",
    "Unfortunately,\n",
    "creating a _graphical representation_ of a decision tree\n",
    "(as shown in the image below) is [outside the scope of these lessons](http://scikit-learn.org/stable/modules/tree.html).\n",
    "\n",
    "![example-decision-tree.png](attachment:example-decision-tree.png)\n",
    "\n",
    "Instead, we use a (third-party) function **`tree_print()`**,\n",
    "which is imported from `treeviz.py`\n",
    "to show a _textual representation_."
   ]
  },
  {
   "cell_type": "code",
   "execution_count": 41,
   "metadata": {},
   "outputs": [
    {
     "name": "stdout",
     "output_type": "stream",
     "text": [
      "if b =< 5.0: \n",
      "  |then if a =< 2.0: \n",
      "  |  |then red\n",
      "  |  |else blue\n",
      "  |else if b =< 8.0: \n",
      "  |  |then orange\n",
      "  |  |else black\n",
      "<---->\n",
      "Tree Depth:  2\n"
     ]
    }
   ],
   "source": [
    "tree_print(dtc, X_dtc_train)"
   ]
  },
  {
   "cell_type": "markdown",
   "metadata": {},
   "source": [
    "Recall that we set `max_depth=3` when creating the decision-tree object.\n",
    "Apparently, the dependent value can be predicted fully with a smaller tree,\n",
    "since the mined decision tree actually has only a depth of 2."
   ]
  },
  {
   "cell_type": "markdown",
   "metadata": {},
   "source": [
    "### Step 6. Make Predictions\n",
    "\n",
    "Once you have fitted a model to the training data set, you can use it to predict the dependent values for given independent values, also outside the training set. For that purpose, the regression object provides a function **`predict()`**.\n",
    "\n",
    "Let us use it in our example to predict the outcomes for `a` and `b` values in the training set:"
   ]
  },
  {
   "cell_type": "code",
   "execution_count": 42,
   "metadata": {},
   "outputs": [
    {
     "data": {
      "text/plain": [
       "array(['blue', 'red', 'red', 'black', 'orange', 'blue', 'orange', 'black',\n",
       "       'blue'], dtype=object)"
      ]
     },
     "execution_count": 42,
     "metadata": {},
     "output_type": "execute_result"
    }
   ],
   "source": [
    "y_dtc_pred = dtc.predict(X_dtc_train)\n",
    "y_dtc_pred"
   ]
  },
  {
   "cell_type": "markdown",
   "metadata": {},
   "source": [
    "We can compare these predictions to the real values in the training set."
   ]
  },
  {
   "cell_type": "code",
   "execution_count": 43,
   "metadata": {},
   "outputs": [
    {
     "data": {
      "text/html": [
       "<div>\n",
       "<style scoped>\n",
       "    .dataframe tbody tr th:only-of-type {\n",
       "        vertical-align: middle;\n",
       "    }\n",
       "\n",
       "    .dataframe tbody tr th {\n",
       "        vertical-align: top;\n",
       "    }\n",
       "\n",
       "    .dataframe thead th {\n",
       "        text-align: right;\n",
       "    }\n",
       "</style>\n",
       "<table border=\"1\" class=\"dataframe\">\n",
       "  <thead>\n",
       "    <tr style=\"text-align: right;\">\n",
       "      <th></th>\n",
       "      <th>real</th>\n",
       "      <th>predicted</th>\n",
       "    </tr>\n",
       "  </thead>\n",
       "  <tbody>\n",
       "    <tr>\n",
       "      <th>5</th>\n",
       "      <td>blue</td>\n",
       "      <td>blue</td>\n",
       "    </tr>\n",
       "    <tr>\n",
       "      <th>0</th>\n",
       "      <td>red</td>\n",
       "      <td>red</td>\n",
       "    </tr>\n",
       "    <tr>\n",
       "      <th>1</th>\n",
       "      <td>red</td>\n",
       "      <td>red</td>\n",
       "    </tr>\n",
       "    <tr>\n",
       "      <th>11</th>\n",
       "      <td>black</td>\n",
       "      <td>black</td>\n",
       "    </tr>\n",
       "    <tr>\n",
       "      <th>8</th>\n",
       "      <td>orange</td>\n",
       "      <td>orange</td>\n",
       "    </tr>\n",
       "    <tr>\n",
       "      <th>3</th>\n",
       "      <td>blue</td>\n",
       "      <td>blue</td>\n",
       "    </tr>\n",
       "    <tr>\n",
       "      <th>6</th>\n",
       "      <td>orange</td>\n",
       "      <td>orange</td>\n",
       "    </tr>\n",
       "    <tr>\n",
       "      <th>9</th>\n",
       "      <td>black</td>\n",
       "      <td>black</td>\n",
       "    </tr>\n",
       "    <tr>\n",
       "      <th>4</th>\n",
       "      <td>blue</td>\n",
       "      <td>blue</td>\n",
       "    </tr>\n",
       "  </tbody>\n",
       "</table>\n",
       "</div>"
      ],
      "text/plain": [
       "      real predicted\n",
       "5     blue      blue\n",
       "0      red       red\n",
       "1      red       red\n",
       "11   black     black\n",
       "8   orange    orange\n",
       "3     blue      blue\n",
       "6   orange    orange\n",
       "9    black     black\n",
       "4     blue      blue"
      ]
     },
     "execution_count": 43,
     "metadata": {},
     "output_type": "execute_result"
    }
   ],
   "source": [
    "pd.DataFrame({'real': y_dtc_train, 'predicted': y_dtc_pred})"
   ]
  },
  {
   "cell_type": "markdown",
   "metadata": {},
   "source": [
    "### Step 7. Assess the Model's Quality\n",
    "\n",
    "The quality of a decision tree can be expressed as its *accuracy*.\n",
    "\n",
    "#### Step 7a. Goodness of Fit\n",
    "\n",
    "One way is to look at how well the model fits the training set. The *goodness of fit* of a classification model, e.g. a decision tree, can be measured by computing the accuracy of the **training set** as follows."
   ]
  },
  {
   "cell_type": "code",
   "execution_count": 44,
   "metadata": {},
   "outputs": [
    {
     "data": {
      "text/plain": [
       "1.0"
      ]
     },
     "execution_count": 44,
     "metadata": {},
     "output_type": "execute_result"
    }
   ],
   "source": [
    "dtc.score(X_dtc_train, y_dtc_train)"
   ]
  },
  {
   "cell_type": "markdown",
   "metadata": {},
   "source": [
    "This score is at best 1.0 (100% correct)\n",
    "and will drop towards 0.0 with less accuracy.\n",
    "\n",
    "> **Note:** _Accuracy_ treats all errors in the same way.\n",
    "When not all types of errors have the same impact\n",
    "(think of _false positives_ versus *false negatives*),\n",
    "accuracy is not a good measure.\n",
    "In such cases, it is better to produce a *confusion matrix*, e.g. using the `confusion_matrix()` function in SciKit Learn.\n",
    "\n",
    "#### Step 7a. Predictive Performance\n",
    "\n",
    "We are often interested in how well a trained model generalizes, i.e. how well it will perform on data *outside of the training set*. We can try to measure how well a model generalizes by computing the accuracy of the **test set**."
   ]
  },
  {
   "cell_type": "code",
   "execution_count": 45,
   "metadata": {},
   "outputs": [
    {
     "data": {
      "text/plain": [
       "0.6666666666666666"
      ]
     },
     "execution_count": 45,
     "metadata": {},
     "output_type": "execute_result"
    }
   ],
   "source": [
    "dtc.score(X_dtc_test, y_dtc_test)"
   ]
  },
  {
   "cell_type": "markdown",
   "metadata": {},
   "source": [
    "Comparing the accuracy computed on the training and test sets we can see that the training accuracy is high and the test accuracy is low. This indicates that, despite the tree being shallow, it has overfitted the training data."
   ]
  },
  {
   "cell_type": "markdown",
   "metadata": {},
   "source": [
    "## Exercises on Decision Trees\n",
    "\n",
    "Let us see if we can learn a decision tree to predict the origin of the cars in the Auto MPG data set."
   ]
  },
  {
   "cell_type": "markdown",
   "metadata": {},
   "source": [
    "### Exercise 2.a: Fit a Decision Tree for `'origin'`\n",
    "\n",
    "Fit a decision tree with a **maximum depth of $3$** using the *training data set*, with `'origin'` as _dependent variable_ and the features\n",
    "`'mpg', 'cylinders', 'displacement', 'weight', 'acceleration', 'year'`\n",
    "as _independent variables_. Perform the following steps:\n",
    "\n",
    "**Step 1. Select the data**\n",
    "\n",
    "* Assign the following list of column labels to `features`: `'mpg', 'cylinders', 'displacement', 'weight', 'acceleration', 'year'`.\n",
    "* Assign the *training data* for the independent variable to a data frame `X_mpg_dtc_train`.\n",
    "* Assign the *training data* for the dependent variable to a series `y_mpg_dtc_train`.\n",
    "* Assign the *test data* for the independent variable to a data frame `X_mpg_dtc_test`.\n",
    "* Assign the *test data* for the dependent variable to a series `y_mpg_dtc_test`.\n",
    "\n",
    "**Step 2. Create the decision-tree object**\n",
    "\n",
    "* Assign the decision tree classifier to `dtc_depth_3`.\n",
    "\n",
    "**Step 3. Fit the model**\n",
    "\n",
    "**Step 4. Extract model parameters**\n",
    "\n",
    "* Create a data frame `feature_importances_depth_3` with the _relative importance_ of the feature."
   ]
  },
  {
   "cell_type": "code",
   "execution_count": 46,
   "metadata": {},
   "outputs": [
    {
     "data": {
      "text/html": [
       "<div>\n",
       "<style scoped>\n",
       "    .dataframe tbody tr th:only-of-type {\n",
       "        vertical-align: middle;\n",
       "    }\n",
       "\n",
       "    .dataframe tbody tr th {\n",
       "        vertical-align: top;\n",
       "    }\n",
       "\n",
       "    .dataframe thead th {\n",
       "        text-align: right;\n",
       "    }\n",
       "</style>\n",
       "<table border=\"1\" class=\"dataframe\">\n",
       "  <thead>\n",
       "    <tr style=\"text-align: right;\">\n",
       "      <th></th>\n",
       "      <th>mpg</th>\n",
       "      <th>cylinders</th>\n",
       "      <th>displacement</th>\n",
       "      <th>weight</th>\n",
       "      <th>acceleration</th>\n",
       "      <th>year</th>\n",
       "    </tr>\n",
       "  </thead>\n",
       "  <tbody>\n",
       "    <tr>\n",
       "      <th>0</th>\n",
       "      <td>0.0</td>\n",
       "      <td>0.0</td>\n",
       "      <td>0.843791</td>\n",
       "      <td>0.116268</td>\n",
       "      <td>0.039941</td>\n",
       "      <td>0.0</td>\n",
       "    </tr>\n",
       "  </tbody>\n",
       "</table>\n",
       "</div>"
      ],
      "text/plain": [
       "   mpg  cylinders  displacement    weight  acceleration  year\n",
       "0  0.0        0.0      0.843791  0.116268      0.039941   0.0"
      ]
     },
     "execution_count": 46,
     "metadata": {},
     "output_type": "execute_result"
    }
   ],
   "source": [
    "#// BEGIN_TODO [DMM_2a] Decision tree (4 points)\n",
    "\n",
    "features = df_mpg_train[['mpg', 'cylinders', 'displacement', 'weight', 'acceleration', 'year']].copy()\n",
    "\n",
    "X_mpg_dtc_train = df_mpg_train[['mpg', 'cylinders', 'displacement', 'weight', 'acceleration', 'year']].copy()\n",
    "y_mpg_dtc_train = df_mpg_train['origin'].copy()\n",
    "\n",
    "X_mpg_dtc_test = df_mpg_test[['mpg', 'cylinders', 'displacement', 'weight', 'acceleration', 'year']].copy()\n",
    "y_mpg_dtc_test = df_mpg_test['origin'].copy()\n",
    "\n",
    "dtc_depth_3 = DecisionTreeClassifier(max_depth=3)\n",
    "dtc_depth_3.fit(X_mpg_dtc_train, y_mpg_dtc_train)\n",
    "\n",
    "feature_importances_depth_3 = pd.DataFrame([dtc_depth_3.feature_importances_], columns=X_mpg_dtc_train.columns)\n",
    "\n",
    "#// END_TODO [DMM_2a]\n",
    "\n",
    "feature_importances_depth_3"
   ]
  },
  {
   "cell_type": "markdown",
   "metadata": {},
   "source": [
    "### Exercise 2.b: Assess the Goodness of Fit\n",
    "\n",
    "Assess the goodness fit of the decision tree by computing the accuracy on the training set. Assign your answer to the variable `acc_depth_3_train`."
   ]
  },
  {
   "cell_type": "code",
   "execution_count": 47,
   "metadata": {},
   "outputs": [
    {
     "data": {
      "text/plain": [
       "0.8050314465408805"
      ]
     },
     "execution_count": 47,
     "metadata": {},
     "output_type": "execute_result"
    }
   ],
   "source": [
    "#// BEGIN_TODO [DMM_2b] Training set accuracy for a decision tree of depth <= 3 (2 points)\n",
    "\n",
    "acc_depth_3_train = dtc_depth_3.score(X_mpg_dtc_train, y_mpg_dtc_train)\n",
    "\n",
    "#// END_TODO [DMM_2b]\n",
    "\n",
    "acc_depth_3_train"
   ]
  },
  {
   "cell_type": "markdown",
   "metadata": {},
   "source": [
    "### Exercise 2.c: Visualize the Model\n",
    "\n",
    "Show a textual representation of the decision tree."
   ]
  },
  {
   "cell_type": "code",
   "execution_count": 48,
   "metadata": {},
   "outputs": [
    {
     "name": "stdout",
     "output_type": "stream",
     "text": [
      "if displacement =< 134.5: \n",
      "  |then if displacement =< 97.25: \n",
      "  |  |then if acceleration =< 19.449999809265137: \n",
      "  |  |  |then Japanese\n",
      "  |  |  |else European\n",
      "  |  |else if displacement =< 99.0: \n",
      "  |  |  |then American\n",
      "  |  |  |else European\n",
      "  |else if displacement =< 190.5: \n",
      "  |  |then if weight =< 3071.5: \n",
      "  |  |  |then American\n",
      "  |  |  |else European\n",
      "  |  |else American\n",
      "<------->\n",
      "Tree Depth:  3\n"
     ]
    }
   ],
   "source": [
    "#// BEGIN_TODO [DMM_2c] Textual representation of decision tree (1 point)\n",
    "\n",
    "tree_print(dtc_depth_3, X_mpg_dtc_train)\n",
    "\n",
    "#// END_TODO [DMM_2c]"
   ]
  },
  {
   "cell_type": "markdown",
   "metadata": {},
   "source": [
    "### Exercise 2.d: Assess the Predictive Performance\n",
    "\n",
    "The obtained decision tree gives us a simple scheme to predict the origin of cars based on their features. Let us see how good these predictions are for the cars in the test set: assess the quality of the decision tree by computing its accuracy for the _test set_. Assign your answer to the variable `acc_depth_3_test`."
   ]
  },
  {
   "cell_type": "code",
   "execution_count": 49,
   "metadata": {},
   "outputs": [
    {
     "data": {
      "text/plain": [
       "0.7625"
      ]
     },
     "execution_count": 49,
     "metadata": {},
     "output_type": "execute_result"
    }
   ],
   "source": [
    "#// BEGIN_TODO [DMM_2d] Test set accuracy for a decision tree of depth <= 3 (1 point)\n",
    "\n",
    "acc_depth_3_test = dtc_depth_3.score(X_mpg_dtc_test, y_mpg_dtc_test)\n",
    "\n",
    "#// END_TODO [DMM_2d]\n",
    "\n",
    "acc_depth_3_test"
   ]
  },
  {
   "cell_type": "markdown",
   "metadata": {},
   "source": [
    "# 3. Clustering\n",
    "\n",
    "The goal of _clustering_ is to come up with a _collection of clusters_ that best fits the data.\n",
    "It is an _unsupervised learning_ method\n",
    "that seeks to group the data 'points' in coherent groups, where\n",
    "\n",
    "* distances _within_ (intra) groups are relatively *small*, and\n",
    "* distances _between_ (inter) groups are relatively _large_.\n",
    "\n",
    "In this lesson, we will use the **K-Means** algorithm for clustering.\n",
    "It is non-deterministic and must be started with the desired number of clusters.\n",
    "\n",
    "If you are interested in more details, you can consult the documentation at SciKit Learn:\n",
    "\n",
    "* [K-Means algorithm](http://scikit-learn.org/stable/modules/clustering.html#k-means)\n",
    "* [The `sklearn.cluster.KMeans` cluster object](http://scikit-learn.org/stable/modules/generated/sklearn.cluster.KMeans.html)"
   ]
  },
  {
   "cell_type": "markdown",
   "metadata": {},
   "source": [
    "### Step 1. Select the Data\n",
    "\n",
    "We select the `'a'` and `'b'` columns from `df_example`:"
   ]
  },
  {
   "cell_type": "code",
   "execution_count": 50,
   "metadata": {},
   "outputs": [],
   "source": [
    "X_km = df_example[['a', 'b']].copy()"
   ]
  },
  {
   "cell_type": "markdown",
   "metadata": {},
   "source": [
    "### Step 2. Create the Cluster Object\n",
    "\n",
    "Next, we create the _cluster object_ for **K-Means clustering**,\n",
    "supplying the desired number of clusters as an argument (**`n_clusters=...`**),\n",
    "and store it in the variable `km`.\n",
    "\n",
    "In this example, we go for four clusters."
   ]
  },
  {
   "cell_type": "code",
   "execution_count": 51,
   "metadata": {},
   "outputs": [],
   "source": [
    "km = KMeans(n_clusters=4)"
   ]
  },
  {
   "cell_type": "markdown",
   "metadata": {},
   "source": [
    "### Step 3. Fit the Model\n",
    "\n",
    "Invoke the **`fit()`** function of the cluster object,\n",
    "supplying the selected data."
   ]
  },
  {
   "cell_type": "code",
   "execution_count": 52,
   "metadata": {},
   "outputs": [
    {
     "data": {
      "text/plain": [
       "KMeans(n_clusters=4)"
      ]
     },
     "execution_count": 52,
     "metadata": {},
     "output_type": "execute_result"
    }
   ],
   "source": [
    "km.fit(X_km.values)"
   ]
  },
  {
   "cell_type": "markdown",
   "metadata": {},
   "source": [
    "### Step 4. Extract Model Parameters\n",
    "\n",
    "In the case of K-Means clustering,\n",
    "the relevant attributes of the cluster object `km` are:\n",
    "\n",
    "* **`km.cluster_centers_ `**: the _locations of the cluster centers_.\n",
    "* **`km.labels_`**: the _cluster labels_ for the data points (labels are in the range from $0$ through $k-1$, where $k = $ `n_clusters`).\n",
    "\n",
    "It is convenient\n",
    "\n",
    "* to convert the cluster centers to a data frame with the same column labels as the original data,\n",
    "    and\n",
    "* to add the labels as a new column to the data being clustered.\n",
    "\n",
    "In our example, we do this as follows."
   ]
  },
  {
   "cell_type": "code",
   "execution_count": 53,
   "metadata": {},
   "outputs": [
    {
     "data": {
      "text/html": [
       "<div>\n",
       "<style scoped>\n",
       "    .dataframe tbody tr th:only-of-type {\n",
       "        vertical-align: middle;\n",
       "    }\n",
       "\n",
       "    .dataframe tbody tr th {\n",
       "        vertical-align: top;\n",
       "    }\n",
       "\n",
       "    .dataframe thead th {\n",
       "        text-align: right;\n",
       "    }\n",
       "</style>\n",
       "<table border=\"1\" class=\"dataframe\">\n",
       "  <thead>\n",
       "    <tr style=\"text-align: right;\">\n",
       "      <th></th>\n",
       "      <th>a</th>\n",
       "      <th>b</th>\n",
       "    </tr>\n",
       "  </thead>\n",
       "  <tbody>\n",
       "    <tr>\n",
       "      <th>0</th>\n",
       "      <td>5.0</td>\n",
       "      <td>7.333333</td>\n",
       "    </tr>\n",
       "    <tr>\n",
       "      <th>1</th>\n",
       "      <td>4.0</td>\n",
       "      <td>2.666667</td>\n",
       "    </tr>\n",
       "    <tr>\n",
       "      <th>2</th>\n",
       "      <td>8.0</td>\n",
       "      <td>8.666667</td>\n",
       "    </tr>\n",
       "    <tr>\n",
       "      <th>3</th>\n",
       "      <td>1.0</td>\n",
       "      <td>1.333333</td>\n",
       "    </tr>\n",
       "  </tbody>\n",
       "</table>\n",
       "</div>"
      ],
      "text/plain": [
       "     a         b\n",
       "0  5.0  7.333333\n",
       "1  4.0  2.666667\n",
       "2  8.0  8.666667\n",
       "3  1.0  1.333333"
      ]
     },
     "execution_count": 53,
     "metadata": {},
     "output_type": "execute_result"
    }
   ],
   "source": [
    "centers = pd.DataFrame(km.cluster_centers_, columns=X_km.columns)\n",
    "centers"
   ]
  },
  {
   "cell_type": "code",
   "execution_count": 54,
   "metadata": {},
   "outputs": [
    {
     "data": {
      "text/html": [
       "<div>\n",
       "<style scoped>\n",
       "    .dataframe tbody tr th:only-of-type {\n",
       "        vertical-align: middle;\n",
       "    }\n",
       "\n",
       "    .dataframe tbody tr th {\n",
       "        vertical-align: top;\n",
       "    }\n",
       "\n",
       "    .dataframe thead th {\n",
       "        text-align: right;\n",
       "    }\n",
       "</style>\n",
       "<table border=\"1\" class=\"dataframe\">\n",
       "  <thead>\n",
       "    <tr style=\"text-align: right;\">\n",
       "      <th></th>\n",
       "      <th>a</th>\n",
       "      <th>b</th>\n",
       "      <th>cluster</th>\n",
       "    </tr>\n",
       "  </thead>\n",
       "  <tbody>\n",
       "    <tr>\n",
       "      <th>0</th>\n",
       "      <td>0</td>\n",
       "      <td>1</td>\n",
       "      <td>3</td>\n",
       "    </tr>\n",
       "    <tr>\n",
       "      <th>1</th>\n",
       "      <td>1</td>\n",
       "      <td>2</td>\n",
       "      <td>3</td>\n",
       "    </tr>\n",
       "    <tr>\n",
       "      <th>2</th>\n",
       "      <td>2</td>\n",
       "      <td>1</td>\n",
       "      <td>3</td>\n",
       "    </tr>\n",
       "    <tr>\n",
       "      <th>3</th>\n",
       "      <td>3</td>\n",
       "      <td>3</td>\n",
       "      <td>1</td>\n",
       "    </tr>\n",
       "    <tr>\n",
       "      <th>4</th>\n",
       "      <td>4</td>\n",
       "      <td>2</td>\n",
       "      <td>1</td>\n",
       "    </tr>\n",
       "    <tr>\n",
       "      <th>5</th>\n",
       "      <td>5</td>\n",
       "      <td>3</td>\n",
       "      <td>1</td>\n",
       "    </tr>\n",
       "    <tr>\n",
       "      <th>6</th>\n",
       "      <td>4</td>\n",
       "      <td>7</td>\n",
       "      <td>0</td>\n",
       "    </tr>\n",
       "    <tr>\n",
       "      <th>7</th>\n",
       "      <td>5</td>\n",
       "      <td>8</td>\n",
       "      <td>0</td>\n",
       "    </tr>\n",
       "    <tr>\n",
       "      <th>8</th>\n",
       "      <td>6</td>\n",
       "      <td>7</td>\n",
       "      <td>0</td>\n",
       "    </tr>\n",
       "    <tr>\n",
       "      <th>9</th>\n",
       "      <td>7</td>\n",
       "      <td>9</td>\n",
       "      <td>2</td>\n",
       "    </tr>\n",
       "    <tr>\n",
       "      <th>10</th>\n",
       "      <td>8</td>\n",
       "      <td>8</td>\n",
       "      <td>2</td>\n",
       "    </tr>\n",
       "    <tr>\n",
       "      <th>11</th>\n",
       "      <td>9</td>\n",
       "      <td>9</td>\n",
       "      <td>2</td>\n",
       "    </tr>\n",
       "  </tbody>\n",
       "</table>\n",
       "</div>"
      ],
      "text/plain": [
       "    a  b  cluster\n",
       "0   0  1        3\n",
       "1   1  2        3\n",
       "2   2  1        3\n",
       "3   3  3        1\n",
       "4   4  2        1\n",
       "5   5  3        1\n",
       "6   4  7        0\n",
       "7   5  8        0\n",
       "8   6  7        0\n",
       "9   7  9        2\n",
       "10  8  8        2\n",
       "11  9  9        2"
      ]
     },
     "execution_count": 54,
     "metadata": {},
     "output_type": "execute_result"
    }
   ],
   "source": [
    "X_km['cluster'] = km.labels_\n",
    "X_km"
   ]
  },
  {
   "cell_type": "markdown",
   "metadata": {},
   "source": [
    "### Step 5. Visualize the Model\n",
    "\n",
    "To visualize the clusters,\n",
    "we create a scatter plot,\n",
    "where we color each data point according to its cluster.\n",
    "\n",
    "Finally, we put in the centers marked by a cross."
   ]
  },
  {
   "cell_type": "code",
   "execution_count": 55,
   "metadata": {},
   "outputs": [
    {
     "data": {
      "image/png": "[encoded data removed]",
      "text/plain": [
       "<Figure size 720x360 with 1 Axes>"
      ]
     },
     "metadata": {},
     "output_type": "display_data"
    }
   ],
   "source": [
    "ax = X_km[X_km['cluster']==0].plot(kind='scatter', x='a', y='b', s=50, c='green')\n",
    "X_km[X_km['cluster']==1].plot(kind='scatter',x='a',y='b',s=50, c='orange', ax = ax)\n",
    "X_km[X_km['cluster']==2].plot(kind='scatter',x='a',y='b',s=50, c='purple', ax = ax)\n",
    "X_km[X_km['cluster']==3].plot(kind='scatter',x='a',y='b',s=50, c='blue', ax = ax)\n",
    "\n",
    "centers.plot(kind = 'scatter', x='a', y='b', c=['green','orange','purple','blue'], s=50, marker='x', ax=ax);"
   ]
  },
  {
   "cell_type": "markdown",
   "metadata": {},
   "source": [
    "### Step 6. Make Predictions\n",
    "\n",
    "Given one or more additional data points, you can find their clusters,\n",
    "that is, the label of the nearest cluster center, with the function **`predict()`**."
   ]
  },
  {
   "cell_type": "code",
   "execution_count": 56,
   "metadata": {},
   "outputs": [
    {
     "data": {
      "text/plain": [
       "array([3, 1, 0, 1, 0, 2])"
      ]
     },
     "execution_count": 56,
     "metadata": {},
     "output_type": "execute_result"
    }
   ],
   "source": [
    "test_km = [(1, 4), (2, 4), (4, 6), (5, 4), (7, 6), (8, 8)]\n",
    "km.predict(test_km)"
   ]
  },
  {
   "attachments": {
    "kmeans-regions.png": {
     "image/png": "[encoded data removed]"
    }
   },
   "cell_type": "markdown",
   "metadata": {},
   "source": [
    "Check these predictions. It may be helpful to consult the following plot\n",
    "(its creation is beyond the scope of these lessons),\n",
    "which shows the cluster (color) predicted by `km.predict()`\n",
    "for all points in the plot area.\n",
    "\n",
    "![kmeans-regions.png](attachment:kmeans-regions.png)"
   ]
  },
  {
   "cell_type": "markdown",
   "metadata": {},
   "source": [
    "### Step 7. Assess the Model's Quality\n",
    "\n",
    "For clustering, a quality measure is the _sum of squared distances_ of data points\n",
    "to their closest cluster center, also known as _inertia_.\n",
    "Its value is non-negative, and 0 is the best.\n",
    "\n",
    "It is obtained as follows."
   ]
  },
  {
   "cell_type": "code",
   "execution_count": 57,
   "metadata": {},
   "outputs": [
    {
     "data": {
      "text/plain": [
       "10.666666666666666"
      ]
     },
     "execution_count": 57,
     "metadata": {},
     "output_type": "execute_result"
    }
   ],
   "source": [
    "inertia = km.inertia_\n",
    "inertia"
   ]
  },
  {
   "cell_type": "markdown",
   "metadata": {},
   "source": [
    "> **Warning**: The inertia will always go down if you create more clusters, similarly to how the value of $R^2$ for linear regression always goes up if you add more independent variables. Again, this does _not_ mean that more clusters are always better: at some point, every point will just have its own cluster, and the clustering becomes meaningless."
   ]
  },
  {
   "cell_type": "markdown",
   "metadata": {},
   "source": [
    "## Exercises on Clustering\n",
    "\n",
    "In this exercise, we will attempt to identify different types of *wheat seeds*, by clustering on their geometrical properties. We will use the data in `df_seeds`."
   ]
  },
  {
   "cell_type": "markdown",
   "metadata": {},
   "source": [
    "### Exercise 3.a: Cluster the Wheat Seeds \n",
    "\n",
    "Cluster the wheat-seed data with the $k$-means algorithm with $k$ set to $3$. Perform the following steps:\n",
    "\n",
    "**Step 1. Select the data**\n",
    "\n",
    "* Copy the entire `df_seeds` data set to a data frame `X_seeds_train`.\n",
    "\n",
    "**Step 2. Create the cluster object**\n",
    "\n",
    "* Assign the cluster object to `km_seeds`.\n",
    "\n",
    "**Step 3. Fit the model**\n",
    "\n",
    "**Step 4. Extract the model parameters**\n",
    "\n",
    "* Assign the cluster centers to `centers_seeds`.\n",
    "* Add a new column named `'cluster'` with the cluster labels to the data frame `X_seeds_train`."
   ]
  },
  {
   "cell_type": "code",
   "execution_count": 58,
   "metadata": {},
   "outputs": [
    {
     "data": {
      "text/html": [
       "<div>\n",
       "<style scoped>\n",
       "    .dataframe tbody tr th:only-of-type {\n",
       "        vertical-align: middle;\n",
       "    }\n",
       "\n",
       "    .dataframe tbody tr th {\n",
       "        vertical-align: top;\n",
       "    }\n",
       "\n",
       "    .dataframe thead th {\n",
       "        text-align: right;\n",
       "    }\n",
       "</style>\n",
       "<table border=\"1\" class=\"dataframe\">\n",
       "  <thead>\n",
       "    <tr style=\"text-align: right;\">\n",
       "      <th></th>\n",
       "      <th>area</th>\n",
       "      <th>perimeter</th>\n",
       "      <th>kernel_length</th>\n",
       "      <th>kernel_width</th>\n",
       "      <th>asymmetry</th>\n",
       "      <th>groove_length</th>\n",
       "      <th>cluster</th>\n",
       "    </tr>\n",
       "  </thead>\n",
       "  <tbody>\n",
       "    <tr>\n",
       "      <th>0</th>\n",
       "      <td>15.26</td>\n",
       "      <td>14.84</td>\n",
       "      <td>5.763</td>\n",
       "      <td>3.312</td>\n",
       "      <td>2.221</td>\n",
       "      <td>5.220</td>\n",
       "      <td>2</td>\n",
       "    </tr>\n",
       "    <tr>\n",
       "      <th>1</th>\n",
       "      <td>14.88</td>\n",
       "      <td>14.57</td>\n",
       "      <td>5.554</td>\n",
       "      <td>3.333</td>\n",
       "      <td>1.018</td>\n",
       "      <td>4.956</td>\n",
       "      <td>2</td>\n",
       "    </tr>\n",
       "    <tr>\n",
       "      <th>2</th>\n",
       "      <td>14.29</td>\n",
       "      <td>14.09</td>\n",
       "      <td>5.291</td>\n",
       "      <td>3.337</td>\n",
       "      <td>2.699</td>\n",
       "      <td>4.825</td>\n",
       "      <td>2</td>\n",
       "    </tr>\n",
       "    <tr>\n",
       "      <th>3</th>\n",
       "      <td>13.84</td>\n",
       "      <td>13.94</td>\n",
       "      <td>5.324</td>\n",
       "      <td>3.379</td>\n",
       "      <td>2.259</td>\n",
       "      <td>4.805</td>\n",
       "      <td>2</td>\n",
       "    </tr>\n",
       "    <tr>\n",
       "      <th>4</th>\n",
       "      <td>16.14</td>\n",
       "      <td>14.99</td>\n",
       "      <td>5.658</td>\n",
       "      <td>3.562</td>\n",
       "      <td>1.355</td>\n",
       "      <td>5.175</td>\n",
       "      <td>2</td>\n",
       "    </tr>\n",
       "    <tr>\n",
       "      <th>5</th>\n",
       "      <td>14.38</td>\n",
       "      <td>14.21</td>\n",
       "      <td>5.386</td>\n",
       "      <td>3.312</td>\n",
       "      <td>2.462</td>\n",
       "      <td>4.956</td>\n",
       "      <td>2</td>\n",
       "    </tr>\n",
       "    <tr>\n",
       "      <th>6</th>\n",
       "      <td>14.69</td>\n",
       "      <td>14.49</td>\n",
       "      <td>5.563</td>\n",
       "      <td>3.259</td>\n",
       "      <td>3.586</td>\n",
       "      <td>5.219</td>\n",
       "      <td>2</td>\n",
       "    </tr>\n",
       "    <tr>\n",
       "      <th>7</th>\n",
       "      <td>14.11</td>\n",
       "      <td>14.10</td>\n",
       "      <td>5.420</td>\n",
       "      <td>3.302</td>\n",
       "      <td>2.700</td>\n",
       "      <td>5.000</td>\n",
       "      <td>2</td>\n",
       "    </tr>\n",
       "    <tr>\n",
       "      <th>8</th>\n",
       "      <td>16.63</td>\n",
       "      <td>15.46</td>\n",
       "      <td>6.053</td>\n",
       "      <td>3.465</td>\n",
       "      <td>2.040</td>\n",
       "      <td>5.877</td>\n",
       "      <td>2</td>\n",
       "    </tr>\n",
       "    <tr>\n",
       "      <th>9</th>\n",
       "      <td>16.44</td>\n",
       "      <td>15.25</td>\n",
       "      <td>5.884</td>\n",
       "      <td>3.505</td>\n",
       "      <td>1.969</td>\n",
       "      <td>5.533</td>\n",
       "      <td>2</td>\n",
       "    </tr>\n",
       "  </tbody>\n",
       "</table>\n",
       "</div>"
      ],
      "text/plain": [
       "    area  perimeter  kernel_length  kernel_width  asymmetry  groove_length  \\\n",
       "0  15.26      14.84          5.763         3.312      2.221          5.220   \n",
       "1  14.88      14.57          5.554         3.333      1.018          4.956   \n",
       "2  14.29      14.09          5.291         3.337      2.699          4.825   \n",
       "3  13.84      13.94          5.324         3.379      2.259          4.805   \n",
       "4  16.14      14.99          5.658         3.562      1.355          5.175   \n",
       "5  14.38      14.21          5.386         3.312      2.462          4.956   \n",
       "6  14.69      14.49          5.563         3.259      3.586          5.219   \n",
       "7  14.11      14.10          5.420         3.302      2.700          5.000   \n",
       "8  16.63      15.46          6.053         3.465      2.040          5.877   \n",
       "9  16.44      15.25          5.884         3.505      1.969          5.533   \n",
       "\n",
       "   cluster  \n",
       "0        2  \n",
       "1        2  \n",
       "2        2  \n",
       "3        2  \n",
       "4        2  \n",
       "5        2  \n",
       "6        2  \n",
       "7        2  \n",
       "8        2  \n",
       "9        2  "
      ]
     },
     "execution_count": 58,
     "metadata": {},
     "output_type": "execute_result"
    }
   ],
   "source": [
    "#// BEGIN_TODO [DMM_3a] Mine 3 clusters (3 points)\n",
    "\n",
    "X_seeds_train = df_seeds.copy()\n",
    "km_seeds = KMeans(n_clusters=3)\n",
    "km_seeds.fit(X_seeds_train)\n",
    "\n",
    "centers_seeds = pd.DataFrame(km_seeds.cluster_centers_, columns=X_seeds_train.columns)\n",
    "X_seeds_train['cluster'] = km_seeds.labels_\n",
    "\n",
    "#// END_TODO [DMM_3a]\n",
    "\n",
    "X_seeds_train.head(10)"
   ]
  },
  {
   "cell_type": "code",
   "execution_count": 59,
   "metadata": {},
   "outputs": [
    {
     "data": {
      "text/html": [
       "<div>\n",
       "<style scoped>\n",
       "    .dataframe tbody tr th:only-of-type {\n",
       "        vertical-align: middle;\n",
       "    }\n",
       "\n",
       "    .dataframe tbody tr th {\n",
       "        vertical-align: top;\n",
       "    }\n",
       "\n",
       "    .dataframe thead th {\n",
       "        text-align: right;\n",
       "    }\n",
       "</style>\n",
       "<table border=\"1\" class=\"dataframe\">\n",
       "  <thead>\n",
       "    <tr style=\"text-align: right;\">\n",
       "      <th></th>\n",
       "      <th>area</th>\n",
       "      <th>perimeter</th>\n",
       "      <th>kernel_length</th>\n",
       "      <th>kernel_width</th>\n",
       "      <th>asymmetry</th>\n",
       "      <th>groove_length</th>\n",
       "    </tr>\n",
       "  </thead>\n",
       "  <tbody>\n",
       "    <tr>\n",
       "      <th>0</th>\n",
       "      <td>11.964416</td>\n",
       "      <td>13.274805</td>\n",
       "      <td>5.229286</td>\n",
       "      <td>2.872922</td>\n",
       "      <td>4.759740</td>\n",
       "      <td>5.088519</td>\n",
       "    </tr>\n",
       "    <tr>\n",
       "      <th>1</th>\n",
       "      <td>18.721803</td>\n",
       "      <td>16.297377</td>\n",
       "      <td>6.208934</td>\n",
       "      <td>3.722672</td>\n",
       "      <td>3.603590</td>\n",
       "      <td>6.066098</td>\n",
       "    </tr>\n",
       "    <tr>\n",
       "      <th>2</th>\n",
       "      <td>14.648472</td>\n",
       "      <td>14.460417</td>\n",
       "      <td>5.563778</td>\n",
       "      <td>3.277903</td>\n",
       "      <td>2.648933</td>\n",
       "      <td>5.192319</td>\n",
       "    </tr>\n",
       "  </tbody>\n",
       "</table>\n",
       "</div>"
      ],
      "text/plain": [
       "        area  perimeter  kernel_length  kernel_width  asymmetry  groove_length\n",
       "0  11.964416  13.274805       5.229286      2.872922   4.759740       5.088519\n",
       "1  18.721803  16.297377       6.208934      3.722672   3.603590       6.066098\n",
       "2  14.648472  14.460417       5.563778      3.277903   2.648933       5.192319"
      ]
     },
     "execution_count": 59,
     "metadata": {},
     "output_type": "execute_result"
    }
   ],
   "source": [
    "centers_seeds"
   ]
  },
  {
   "cell_type": "markdown",
   "metadata": {},
   "source": [
    "### Exercise 3.b: Visualize the Clusters\n",
    "\n",
    "Plot the results in a scatter plot, with the `'asymmetry'` column on the $x$-axis, and the `'perimeter'` column on the $y$-axis. Display each cluster in a different color. In addition, put red markers at the cluster centers. "
   ]
  },
  {
   "cell_type": "code",
   "execution_count": 60,
   "metadata": {},
   "outputs": [
    {
     "data": {
      "text/plain": [
       "<AxesSubplot:xlabel='asymmetry', ylabel='perimeter'>"
      ]
     },
     "execution_count": 60,
     "metadata": {},
     "output_type": "execute_result"
    },
    {
     "data": {
      "image/png": "[encoded data removed]",
      "text/plain": [
       "<Figure size 720x360 with 1 Axes>"
      ]
     },
     "metadata": {},
     "output_type": "display_data"
    }
   ],
   "source": [
    "#// BEGIN_TODO [DMM_3b] Plot the clusters distinguished by color (2 points)\n",
    "\n",
    "ax = X_seeds_train[X_seeds_train['cluster']==0].plot(kind='scatter', x='asymmetry', y='perimeter', s=50, c='green')\n",
    "X_seeds_train[X_seeds_train['cluster']==1].plot(kind='scatter',x='asymmetry',y='perimeter',s=50, c='orange', ax = ax)\n",
    "X_seeds_train[X_seeds_train['cluster']==2].plot(kind='scatter',x='asymmetry',y='perimeter',s=50, c='purple', ax = ax)\n",
    "\n",
    "centers_seeds.plot(kind = 'scatter', x='asymmetry', y='perimeter', c='red', s=150, marker='x', ax=ax)\n",
    "\n",
    "#// END_TODO [DMM_3b]"
   ]
  },
  {
   "cell_type": "markdown",
   "metadata": {},
   "source": [
    "### Exercise 3.c: Make Predictions\n",
    "\n",
    "Predict the cluster for seeds with the following geometrical properties\n",
    "given in the data frame `X_seeds_test` below. Assign your answer to the new column `X_seeds_test['predicted_cluster']`."
   ]
  },
  {
   "cell_type": "code",
   "execution_count": 61,
   "metadata": {},
   "outputs": [
    {
     "data": {
      "text/html": [
       "<div>\n",
       "<style scoped>\n",
       "    .dataframe tbody tr th:only-of-type {\n",
       "        vertical-align: middle;\n",
       "    }\n",
       "\n",
       "    .dataframe tbody tr th {\n",
       "        vertical-align: top;\n",
       "    }\n",
       "\n",
       "    .dataframe thead th {\n",
       "        text-align: right;\n",
       "    }\n",
       "</style>\n",
       "<table border=\"1\" class=\"dataframe\">\n",
       "  <thead>\n",
       "    <tr style=\"text-align: right;\">\n",
       "      <th></th>\n",
       "      <th>area</th>\n",
       "      <th>perimeter</th>\n",
       "      <th>kernel_length</th>\n",
       "      <th>kernel_width</th>\n",
       "      <th>asymmetry</th>\n",
       "      <th>groove_length</th>\n",
       "      <th>predicted_cluster</th>\n",
       "    </tr>\n",
       "  </thead>\n",
       "  <tbody>\n",
       "    <tr>\n",
       "      <th>0</th>\n",
       "      <td>14.3</td>\n",
       "      <td>14.0</td>\n",
       "      <td>5.5</td>\n",
       "      <td>3.1</td>\n",
       "      <td>2.8</td>\n",
       "      <td>4.9</td>\n",
       "      <td>2</td>\n",
       "    </tr>\n",
       "    <tr>\n",
       "      <th>1</th>\n",
       "      <td>16.5</td>\n",
       "      <td>15.7</td>\n",
       "      <td>6.3</td>\n",
       "      <td>3.5</td>\n",
       "      <td>3.4</td>\n",
       "      <td>6.0</td>\n",
       "      <td>1</td>\n",
       "    </tr>\n",
       "    <tr>\n",
       "      <th>2</th>\n",
       "      <td>11.5</td>\n",
       "      <td>13.0</td>\n",
       "      <td>5.0</td>\n",
       "      <td>2.7</td>\n",
       "      <td>4.8</td>\n",
       "      <td>5.0</td>\n",
       "      <td>0</td>\n",
       "    </tr>\n",
       "  </tbody>\n",
       "</table>\n",
       "</div>"
      ],
      "text/plain": [
       "   area  perimeter  kernel_length  kernel_width  asymmetry  groove_length  \\\n",
       "0  14.3       14.0            5.5           3.1        2.8            4.9   \n",
       "1  16.5       15.7            6.3           3.5        3.4            6.0   \n",
       "2  11.5       13.0            5.0           2.7        4.8            5.0   \n",
       "\n",
       "   predicted_cluster  \n",
       "0                  2  \n",
       "1                  1  \n",
       "2                  0  "
      ]
     },
     "execution_count": 61,
     "metadata": {},
     "output_type": "execute_result"
    }
   ],
   "source": [
    "X_seeds_test = pd.DataFrame([[14.3, 14.0, 5.5, 3.1, 2.8, 4.9], \n",
    "                             [16.5, 15.7, 6.3, 3.5, 3.4, 6.0],\n",
    "                             [11.5, 13.0, 5.0, 2.7, 4.8, 5.0]], \n",
    "                            columns=df_seeds.columns )\n",
    "\n",
    "#// BEGIN_TODO [DMM_3c] Predict clusters (2 points)\n",
    "\n",
    "X_seeds_test['predicted_cluster'] = km_seeds.predict(X_seeds_test)\n",
    "\n",
    "#// END_TODO [DMM_3c]\n",
    "\n",
    "X_seeds_test"
   ]
  },
  {
   "cell_type": "markdown",
   "metadata": {},
   "source": [
    "### Exercise 3.d: Assess the Model's Quality\n",
    "\n",
    "Determine the model's _inertia_, and assign it to the variable `inertia_seeds`."
   ]
  },
  {
   "cell_type": "code",
   "execution_count": 62,
   "metadata": {},
   "outputs": [
    {
     "data": {
      "text/plain": [
       "587.2460383245345"
      ]
     },
     "execution_count": 62,
     "metadata": {},
     "output_type": "execute_result"
    }
   ],
   "source": [
    "#// BEGIN_TODO [DMM_3d] Model quality (1 point)\n",
    "\n",
    "inertia_seeds = km_seeds.inertia_\n",
    "\n",
    "#// END_TODO [DMM_3d]\n",
    "\n",
    "inertia_seeds"
   ]
  },
  {
   "cell_type": "markdown",
   "metadata": {},
   "source": [
    "### Exercise 3.e: Compare with the Actual Seed Varieties\n",
    "\n",
    "Using the $k$-means algorithm, we have identified our own types of wheat seeds. Clustering is an unsupervised learning technique, which is usually used when the data is not labeled. For this particular data set, however, the seeds actually come from three established wheat varieties. Let us see how our types compare to the varieties. \n",
    "\n",
    "The first seventy seeds in the data set were from the _Kama_ variety, the second seventy were _Rosa_ wheat seeds and the last seventy were _Canadian_ wheat seeds.\n",
    "\n",
    "Add this information as strings in a column `'variety'` to the data frame `X_seeds_train`. Afterwards, we will compare the clusters with the variety labels."
   ]
  },
  {
   "cell_type": "code",
   "execution_count": 63,
   "metadata": {},
   "outputs": [
    {
     "data": {
      "text/html": [
       "<div>\n",
       "<style scoped>\n",
       "    .dataframe tbody tr th:only-of-type {\n",
       "        vertical-align: middle;\n",
       "    }\n",
       "\n",
       "    .dataframe tbody tr th {\n",
       "        vertical-align: top;\n",
       "    }\n",
       "\n",
       "    .dataframe thead th {\n",
       "        text-align: right;\n",
       "    }\n",
       "</style>\n",
       "<table border=\"1\" class=\"dataframe\">\n",
       "  <thead>\n",
       "    <tr style=\"text-align: right;\">\n",
       "      <th></th>\n",
       "      <th>area</th>\n",
       "      <th>perimeter</th>\n",
       "      <th>kernel_length</th>\n",
       "      <th>kernel_width</th>\n",
       "      <th>asymmetry</th>\n",
       "      <th>groove_length</th>\n",
       "      <th>cluster</th>\n",
       "      <th>variety</th>\n",
       "    </tr>\n",
       "  </thead>\n",
       "  <tbody>\n",
       "    <tr>\n",
       "      <th>0</th>\n",
       "      <td>15.26</td>\n",
       "      <td>14.84</td>\n",
       "      <td>5.763</td>\n",
       "      <td>3.312</td>\n",
       "      <td>2.221</td>\n",
       "      <td>5.220</td>\n",
       "      <td>2</td>\n",
       "      <td>Kama</td>\n",
       "    </tr>\n",
       "    <tr>\n",
       "      <th>1</th>\n",
       "      <td>14.88</td>\n",
       "      <td>14.57</td>\n",
       "      <td>5.554</td>\n",
       "      <td>3.333</td>\n",
       "      <td>1.018</td>\n",
       "      <td>4.956</td>\n",
       "      <td>2</td>\n",
       "      <td>Kama</td>\n",
       "    </tr>\n",
       "    <tr>\n",
       "      <th>2</th>\n",
       "      <td>14.29</td>\n",
       "      <td>14.09</td>\n",
       "      <td>5.291</td>\n",
       "      <td>3.337</td>\n",
       "      <td>2.699</td>\n",
       "      <td>4.825</td>\n",
       "      <td>2</td>\n",
       "      <td>Kama</td>\n",
       "    </tr>\n",
       "    <tr>\n",
       "      <th>3</th>\n",
       "      <td>13.84</td>\n",
       "      <td>13.94</td>\n",
       "      <td>5.324</td>\n",
       "      <td>3.379</td>\n",
       "      <td>2.259</td>\n",
       "      <td>4.805</td>\n",
       "      <td>2</td>\n",
       "      <td>Kama</td>\n",
       "    </tr>\n",
       "    <tr>\n",
       "      <th>4</th>\n",
       "      <td>16.14</td>\n",
       "      <td>14.99</td>\n",
       "      <td>5.658</td>\n",
       "      <td>3.562</td>\n",
       "      <td>1.355</td>\n",
       "      <td>5.175</td>\n",
       "      <td>2</td>\n",
       "      <td>Kama</td>\n",
       "    </tr>\n",
       "    <tr>\n",
       "      <th>...</th>\n",
       "      <td>...</td>\n",
       "      <td>...</td>\n",
       "      <td>...</td>\n",
       "      <td>...</td>\n",
       "      <td>...</td>\n",
       "      <td>...</td>\n",
       "      <td>...</td>\n",
       "      <td>...</td>\n",
       "    </tr>\n",
       "    <tr>\n",
       "      <th>205</th>\n",
       "      <td>12.19</td>\n",
       "      <td>13.20</td>\n",
       "      <td>5.137</td>\n",
       "      <td>2.981</td>\n",
       "      <td>3.631</td>\n",
       "      <td>4.870</td>\n",
       "      <td>0</td>\n",
       "      <td>Canadian</td>\n",
       "    </tr>\n",
       "    <tr>\n",
       "      <th>206</th>\n",
       "      <td>11.23</td>\n",
       "      <td>12.88</td>\n",
       "      <td>5.140</td>\n",
       "      <td>2.795</td>\n",
       "      <td>4.325</td>\n",
       "      <td>5.003</td>\n",
       "      <td>0</td>\n",
       "      <td>Canadian</td>\n",
       "    </tr>\n",
       "    <tr>\n",
       "      <th>207</th>\n",
       "      <td>13.20</td>\n",
       "      <td>13.66</td>\n",
       "      <td>5.236</td>\n",
       "      <td>3.232</td>\n",
       "      <td>8.315</td>\n",
       "      <td>5.056</td>\n",
       "      <td>0</td>\n",
       "      <td>Canadian</td>\n",
       "    </tr>\n",
       "    <tr>\n",
       "      <th>208</th>\n",
       "      <td>11.84</td>\n",
       "      <td>13.21</td>\n",
       "      <td>5.175</td>\n",
       "      <td>2.836</td>\n",
       "      <td>3.598</td>\n",
       "      <td>5.044</td>\n",
       "      <td>0</td>\n",
       "      <td>Canadian</td>\n",
       "    </tr>\n",
       "    <tr>\n",
       "      <th>209</th>\n",
       "      <td>12.30</td>\n",
       "      <td>13.34</td>\n",
       "      <td>5.243</td>\n",
       "      <td>2.974</td>\n",
       "      <td>5.637</td>\n",
       "      <td>5.063</td>\n",
       "      <td>0</td>\n",
       "      <td>Canadian</td>\n",
       "    </tr>\n",
       "  </tbody>\n",
       "</table>\n",
       "<p>210 rows × 8 columns</p>\n",
       "</div>"
      ],
      "text/plain": [
       "      area  perimeter  kernel_length  kernel_width  asymmetry  groove_length  \\\n",
       "0    15.26      14.84          5.763         3.312      2.221          5.220   \n",
       "1    14.88      14.57          5.554         3.333      1.018          4.956   \n",
       "2    14.29      14.09          5.291         3.337      2.699          4.825   \n",
       "3    13.84      13.94          5.324         3.379      2.259          4.805   \n",
       "4    16.14      14.99          5.658         3.562      1.355          5.175   \n",
       "..     ...        ...            ...           ...        ...            ...   \n",
       "205  12.19      13.20          5.137         2.981      3.631          4.870   \n",
       "206  11.23      12.88          5.140         2.795      4.325          5.003   \n",
       "207  13.20      13.66          5.236         3.232      8.315          5.056   \n",
       "208  11.84      13.21          5.175         2.836      3.598          5.044   \n",
       "209  12.30      13.34          5.243         2.974      5.637          5.063   \n",
       "\n",
       "     cluster   variety  \n",
       "0          2      Kama  \n",
       "1          2      Kama  \n",
       "2          2      Kama  \n",
       "3          2      Kama  \n",
       "4          2      Kama  \n",
       "..       ...       ...  \n",
       "205        0  Canadian  \n",
       "206        0  Canadian  \n",
       "207        0  Canadian  \n",
       "208        0  Canadian  \n",
       "209        0  Canadian  \n",
       "\n",
       "[210 rows x 8 columns]"
      ]
     },
     "execution_count": 63,
     "metadata": {},
     "output_type": "execute_result"
    }
   ],
   "source": [
    "#// BEGIN_TODO [DMM_3e] Add variety column (1 point)\n",
    "\n",
    "X_seeds_train.loc[0:70, 'variety'] = \"Kama\"\n",
    "X_seeds_train.loc[70:140, 'variety'] = \"Rosa\"\n",
    "X_seeds_train.loc[140:210, 'variety'] = \"Canadian\"\n",
    "\n",
    "#// END_TODO [DMM_3e]\n",
    "\n",
    "X_seeds_train"
   ]
  },
  {
   "cell_type": "markdown",
   "metadata": {},
   "source": [
    "By executing the following cell, you can get some insight into how the clusters produced by the $k$-means algorithm compare to the established varieties."
   ]
  },
  {
   "cell_type": "code",
   "execution_count": 64,
   "metadata": {},
   "outputs": [
    {
     "data": {
      "text/html": [
       "<div>\n",
       "<style scoped>\n",
       "    .dataframe tbody tr th:only-of-type {\n",
       "        vertical-align: middle;\n",
       "    }\n",
       "\n",
       "    .dataframe tbody tr th {\n",
       "        vertical-align: top;\n",
       "    }\n",
       "\n",
       "    .dataframe thead th {\n",
       "        text-align: right;\n",
       "    }\n",
       "</style>\n",
       "<table border=\"1\" class=\"dataframe\">\n",
       "  <thead>\n",
       "    <tr style=\"text-align: right;\">\n",
       "      <th></th>\n",
       "      <th>count</th>\n",
       "      <th>unique</th>\n",
       "      <th>top</th>\n",
       "      <th>freq</th>\n",
       "    </tr>\n",
       "    <tr>\n",
       "      <th>cluster</th>\n",
       "      <th></th>\n",
       "      <th></th>\n",
       "      <th></th>\n",
       "      <th></th>\n",
       "    </tr>\n",
       "  </thead>\n",
       "  <tbody>\n",
       "    <tr>\n",
       "      <th>0</th>\n",
       "      <td>77</td>\n",
       "      <td>2</td>\n",
       "      <td>Canadian</td>\n",
       "      <td>68</td>\n",
       "    </tr>\n",
       "    <tr>\n",
       "      <th>1</th>\n",
       "      <td>61</td>\n",
       "      <td>2</td>\n",
       "      <td>Rosa</td>\n",
       "      <td>60</td>\n",
       "    </tr>\n",
       "    <tr>\n",
       "      <th>2</th>\n",
       "      <td>72</td>\n",
       "      <td>3</td>\n",
       "      <td>Kama</td>\n",
       "      <td>60</td>\n",
       "    </tr>\n",
       "  </tbody>\n",
       "</table>\n",
       "</div>"
      ],
      "text/plain": [
       "        count unique       top freq\n",
       "cluster                            \n",
       "0          77      2  Canadian   68\n",
       "1          61      2      Rosa   60\n",
       "2          72      3      Kama   60"
      ]
     },
     "execution_count": 64,
     "metadata": {},
     "output_type": "execute_result"
    }
   ],
   "source": [
    "X_seeds_train.groupby('cluster')['variety'].describe()"
   ]
  },
  {
   "cell_type": "markdown",
   "metadata": {},
   "source": [
    "If everything went well, you will see that there is actually quite a good correspondence!"
   ]
  },
  {
   "cell_type": "markdown",
   "metadata": {},
   "source": [
    "---"
   ]
  },
  {
   "cell_type": "markdown",
   "metadata": {},
   "source": [
    "# 4. Exercise: Different Models for Linear Regression\n",
    "\n",
    "\n",
    "In the earlier exercises you were closely guided. In the following exercises we will put your knowledge to the test.\n",
    "\n",
    "Note that these exercises may seem more difficult as you will need to work more indepedently. When you struggle with an exercise then go back to the corresponding earlier section and make sure you really understand the introduced concepts. Do not hesitate to experiment with your own code!\n",
    "\n",
    "\n",
    "In Exercise 1, we fitted a linear model \"explaining\" `mpg` from `weight`. In this exercise, we will add more independent variables, and see whether the predictions become more accurate. "
   ]
  },
  {
   "cell_type": "markdown",
   "metadata": {},
   "source": [
    "### Exercise 4.a: Fit a Linear Model for `'mpg'` with a Cross Term and a Quadratic Term\n",
    "\n",
    "The relationship between `mpg` and the `weight` may actually depend on the `horsepower`. Such dependencies can be captured with cross terms.\n",
    "\n",
    "Fit a model with `mpg` as the dependent variable,\n",
    "and four independent variables: `weight`, `horsepower`, `weight` $\\times$ `horsepower`, and `weight`$^2$.\n",
    "\n",
    "Which percentage of the variation in `mpg` is explained by the variation in these four factors?\n",
    "\n",
    "Assign\n",
    "\n",
    "* the training data for the independent variable to `X_mpg_ct_train`, with column names `'weight'`, `'horsepower'`, `'weight x hp'` and `'weight^2'`;\n",
    "* the test data for the independent variable to `X_mpg_ct_test`, with the same column names as `X_mpg_ct_train`;\n",
    "* the fitted regression object to `reg_mpg_ct`;\n",
    "* the coefficients to `coef_mpg_ct` (as an array);\n",
    "* the intercept to `intercept_mpg_ct` (as an array);\n",
    "* $R^2$ evaluated on the **training set** to `R2_mpg_ct`, and;\n",
    "* the mean absolute error evaluated on the **test set** to `MAE_mpg_ct`."
   ]
  },
  {
   "cell_type": "code",
   "execution_count": 65,
   "metadata": {},
   "outputs": [
    {
     "data": {
      "text/plain": [
       "(array([[-1.11731527e-02, -2.72359565e-01,  5.99467290e-05,\n",
       "         -7.79280143e-08]]),\n",
       " array([65.7241694]),\n",
       " 0.631126919198452,\n",
       " 2.876677885328248)"
      ]
     },
     "execution_count": 65,
     "metadata": {},
     "output_type": "execute_result"
    }
   ],
   "source": [
    "#// BEGIN_TODO [DMM_4a] Model with cross term and quadratic term (5 points)\n",
    "\n",
    "weight = df_mpg_train['weight']\n",
    "horsepower = df_mpg_train['horsepower']\n",
    "\n",
    "X_mpg_ct_train = df_mpg_train[['weight', 'horsepower']].copy()\n",
    "X_mpg_ct_train['weight x hp'] = weight * horsepower\n",
    "X_mpg_ct_train['weight^2'] = weight**2\n",
    "y_mpg_ct_train = df_mpg_train[['mpg']].copy()\n",
    "\n",
    "weight2 = df_mpg_test['weight']\n",
    "horsepower2 = df_mpg_test['horsepower']\n",
    "\n",
    "X_mpg_ct_test = df_mpg_test[['weight', 'horsepower']].copy()    \n",
    "X_mpg_ct_test['weight x hp'] = weight2 * horsepower2\n",
    "X_mpg_ct_test['weight^2'] = weight2**2\n",
    "y_mpg_ct_test = df_mpg_test[['mpg']].copy()\n",
    "\n",
    "reg_mpg_ct = LinearRegression()\n",
    "reg_mpg_ct.fit(X_mpg_ct_train, y_mpg_ct_train)\n",
    "\n",
    "coef_mpg_ct = reg_mpg_ct.coef_\n",
    "intercept_mpg_ct = reg_mpg_ct.intercept_\n",
    "\n",
    "R2_mpg_ct = reg_mpg_ct.score(X_mpg_ct_test, y_mpg_ct_test)\n",
    "\n",
    "MAE_mpg_ct = mean_absolute_error(y_mpg_ct_test, reg_mpg_ct.predict(X_mpg_ct_test))\n",
    "\n",
    "#// END_TODO [DMM_4a]\n",
    "\n",
    "coef_mpg_ct, intercept_mpg_ct, R2_mpg_ct, MAE_mpg_ct"
   ]
  },
  {
   "cell_type": "markdown",
   "metadata": {},
   "source": [
    "### Exercise 4.b: Did the Goodness of Fit Improve?\n",
    "\n",
    "Does this model have a better $R^2$ *on the training set* than the model with just the quadratic term? Assign your boolean answer to the variable `R2_improved_for_ct`."
   ]
  },
  {
   "cell_type": "code",
   "execution_count": 66,
   "metadata": {},
   "outputs": [
    {
     "data": {
      "text/plain": [
       "True"
      ]
     },
     "execution_count": 66,
     "metadata": {},
     "output_type": "execute_result"
    }
   ],
   "source": [
    "#// BEGIN_TODO [DMM_4b] Did R2 on the training set improve? (1 point)\n",
    "\n",
    "R2_improved_for_ct = True\n",
    "\n",
    "#// END_TODO [DMM_4b]\n",
    "\n",
    "R2_improved_for_ct"
   ]
  },
  {
   "cell_type": "markdown",
   "metadata": {},
   "source": [
    "### Exercise 4.c: Did the Predictive Performance Improve?\n",
    "\n",
    "Does this model have a better mean absolute error *on the test set* than the model with just the weight term? Assign your boolean answer to the variable `MAE_improved_for_ct`."
   ]
  },
  {
   "cell_type": "code",
   "execution_count": 67,
   "metadata": {},
   "outputs": [
    {
     "data": {
      "text/plain": [
       "True"
      ]
     },
     "execution_count": 67,
     "metadata": {},
     "output_type": "execute_result"
    }
   ],
   "source": [
    "#// BEGIN_TODO [DMM_4c] Did MAE on the test set improve? (2 points)\n",
    "\n",
    "MAE_improved_for_ct = True\n",
    "\n",
    "#// END_TODO [DMM_4c]\n",
    "\n",
    "MAE_improved_for_ct"
   ]
  },
  {
   "cell_type": "markdown",
   "metadata": {},
   "source": [
    "# 5. Exercise: Depths of Decision Trees\n",
    "\n",
    "In [Exercise 2.a](#Exercise-2.a), we have created a decision tree of depth 3 to classify cars into their origins. In this exercise, we will investigate what happens to the decision trees when we do not put a maximum on the depth of the tree.\n",
    "We can decide how deep we allow a decision tree to be\n",
    "by setting the appropriate parameter."
   ]
  },
  {
   "cell_type": "markdown",
   "metadata": {},
   "source": [
    "### Exercise 5.a: Fit a Decision Tree of Unbounded Maximum Depth\n",
    "\n",
    "Let us see what happens if we leave the decision tree unbounded. Fit a decision tree with unspecified maximum depth to predict the `origin`. Assign the decision tree classifier to `dtc_unbdd`.\n",
    "\n",
    "> **Hint:** Use the `features` and `y_mpg_dtc_train` you have defined earlier."
   ]
  },
  {
   "cell_type": "code",
   "execution_count": 68,
   "metadata": {},
   "outputs": [
    {
     "name": "stdout",
     "output_type": "stream",
     "text": [
      "if displacement =< 134.5: \n",
      "  |then if displacement =< 97.25: \n",
      "  |  |then if acceleration =< 19.449999809265137: \n",
      "  |  |  |then if acceleration =< 14.949999809265137: \n",
      "  |  |  |  |then if year =< 73.0: \n",
      "  |  |  |  |  |then Japanese\n",
      "  |  |  |  |  |else if mpg =< 40.94999885559082: \n",
      "  |  |  |  |  |  |then if year =< 74.5: \n",
      "  |  |  |  |  |  |  |then if mpg =< 27.0: \n",
      "  |  |  |  |  |  |  |  |then European\n",
      "  |  |  |  |  |  |  |  |else American\n",
      "  |  |  |  |  |  |  |else European\n",
      "  |  |  |  |  |  |else Japanese\n",
      "  |  |  |  |else if mpg =< 27.5: \n",
      "  |  |  |  |  |then if displacement =< 93.5: \n",
      "  |  |  |  |  |  |then European\n",
      "  |  |  |  |  |  |else if weight =< 1967.0: \n",
      "  |  |  |  |  |  |  |then European\n",
      "  |  |  |  |  |  |  |else Japanese\n",
      "  |  |  |  |  |else if weight =< 2179.5: \n",
      "  |  |  |  |  |  |then if weight =< 1910.0: \n",
      "  |  |  |  |  |  |  |then if weight =< 1810.0: \n",
      "  |  |  |  |  |  |  |  |then Japanese\n",
      "  |  |  |  |  |  |  |  |else if weight =< 1855.0: \n",
      "  |  |  |  |  |  |  |  |  |then European\n",
      "  |  |  |  |  |  |  |  |  |else American\n",
      "  |  |  |  |  |  |  |else if year =< 74.5: \n",
      "  |  |  |  |  |  |  |  |then European\n",
      "  |  |  |  |  |  |  |  |else Japanese\n",
      "  |  |  |  |  |  |else European\n",
      "  |  |  |else if displacement =< 87.5: \n",
      "  |  |  |  |then if mpg =< 30.5: \n",
      "  |  |  |  |  |then if year =< 74.5: \n",
      "  |  |  |  |  |  |then European\n",
      "  |  |  |  |  |  |else American\n",
      "  |  |  |  |  |else Japanese\n",
      "  |  |  |  |else European\n",
      "  |  |else if displacement =< 99.0: \n",
      "  |  |  |then if mpg =< 38.79999923706055: \n",
      "  |  |  |  |then if mpg =< 29.699999809265137: \n",
      "  |  |  |  |  |then if mpg =< 28.5: \n",
      "  |  |  |  |  |  |then American\n",
      "  |  |  |  |  |  |else if year =< 76.0: \n",
      "  |  |  |  |  |  |  |then European\n",
      "  |  |  |  |  |  |  |else Japanese\n",
      "  |  |  |  |  |else American\n",
      "  |  |  |  |else European\n",
      "  |  |  |else if weight =< 2757.5: \n",
      "  |  |  |  |then if acceleration =< 18.399999618530273: \n",
      "  |  |  |  |  |then if year =< 77.5: \n",
      "  |  |  |  |  |  |then if displacement =< 121.5: \n",
      "  |  |  |  |  |  |  |then if weight =< 2563.5: \n",
      "  |  |  |  |  |  |  |  |then if mpg =< 25.5: \n",
      "  |  |  |  |  |  |  |  |  |then if acceleration =< 17.5: \n",
      "  |  |  |  |  |  |  |  |  |  |then if year =< 70.5: \n",
      "  |  |  |  |  |  |  |  |  |  |  |then European\n",
      "  |  |  |  |  |  |  |  |  |  |  |else if year =< 75.5: \n",
      "  |  |  |  |  |  |  |  |  |  |  |  |then Japanese\n",
      "  |  |  |  |  |  |  |  |  |  |  |  |else European\n",
      "  |  |  |  |  |  |  |  |  |  |else European\n",
      "  |  |  |  |  |  |  |  |  |else European\n",
      "  |  |  |  |  |  |  |  |else European\n",
      "  |  |  |  |  |  |  |else if displacement =< 128.0: \n",
      "  |  |  |  |  |  |  |  |then American\n",
      "  |  |  |  |  |  |  |  |else Japanese\n",
      "  |  |  |  |  |  |else if displacement =< 106.0: \n",
      "  |  |  |  |  |  |  |then if year =< 80.0: \n",
      "  |  |  |  |  |  |  |  |then American\n",
      "  |  |  |  |  |  |  |  |else if mpg =< 37.0: \n",
      "  |  |  |  |  |  |  |  |  |then European\n",
      "  |  |  |  |  |  |  |  |  |else American\n",
      "  |  |  |  |  |  |  |else if weight =< 2372.5: \n",
      "  |  |  |  |  |  |  |  |then Japanese\n",
      "  |  |  |  |  |  |  |  |else if year =< 81.5: \n",
      "  |  |  |  |  |  |  |  |  |then if displacement =< 120.5: \n",
      "  |  |  |  |  |  |  |  |  |  |then Japanese\n",
      "  |  |  |  |  |  |  |  |  |  |else if displacement =< 128.0: \n",
      "  |  |  |  |  |  |  |  |  |  |  |then if weight =< 2585.0: \n",
      "  |  |  |  |  |  |  |  |  |  |  |  |then European\n",
      "  |  |  |  |  |  |  |  |  |  |  |  |else American\n",
      "  |  |  |  |  |  |  |  |  |  |  |else Japanese\n",
      "  |  |  |  |  |  |  |  |  |else American\n",
      "  |  |  |  |  |else American\n",
      "  |  |  |  |else European\n",
      "  |else if displacement =< 190.5: \n",
      "  |  |then if weight =< 3071.5: \n",
      "  |  |  |then if cylinders =< 5.0: \n",
      "  |  |  |  |then if mpg =< 30.199999809265137: \n",
      "  |  |  |  |  |then American\n",
      "  |  |  |  |  |else if mpg =< 32.75: \n",
      "  |  |  |  |  |  |then Japanese\n",
      "  |  |  |  |  |  |else American\n",
      "  |  |  |  |else if displacement =< 169.5: \n",
      "  |  |  |  |  |then if weight =< 2639.5: \n",
      "  |  |  |  |  |  |then American\n",
      "  |  |  |  |  |  |else Japanese\n",
      "  |  |  |  |  |else American\n",
      "  |  |  |else European\n",
      "  |  |else American\n",
      "<---------------------------------->\n",
      "Tree Depth:  12\n"
     ]
    }
   ],
   "source": [
    "#// BEGIN_TODO [DMM_5a] Unbounded decision tree (2 points)\n",
    "\n",
    "dtc_unbdd = DecisionTreeClassifier()\n",
    "dtc_unbdd.fit(X_mpg_dtc_train, y_mpg_dtc_train)\n",
    "\n",
    "#// END_TODO [DMM_5a]\n",
    "\n",
    "tree_print(dtc_unbdd, X_mpg_dtc_train)"
   ]
  },
  {
   "cell_type": "markdown",
   "metadata": {},
   "source": [
    "### Exercise 5.b: Extract Model Parameters\n",
    "\n",
    "Which depth level does the tree assume? Assign your integer answer to the variable `depth_level_tree`.\n",
    "\n",
    "> **Hint:** You may simply look at the tree and provide a number."
   ]
  },
  {
   "cell_type": "code",
   "execution_count": 69,
   "metadata": {},
   "outputs": [
    {
     "data": {
      "text/plain": [
       "12"
      ]
     },
     "execution_count": 69,
     "metadata": {},
     "output_type": "execute_result"
    }
   ],
   "source": [
    "#// BEGIN_TODO [DMM_5b] Depth of unbounded tree (1 point)\n",
    "\n",
    "depth_level_tree = 12\n",
    "\n",
    "#// END_TODO [DMM_5b]\n",
    "\n",
    "depth_level_tree"
   ]
  },
  {
   "cell_type": "markdown",
   "metadata": {},
   "source": [
    "### Exercise 5.c: Assess the Goodness of Fit\n",
    "\n",
    "Does the tree of [Exercise 5.a: Fit a Decision Tree of Unbounded Maximum Depth](#Exercise-5.a:-Fit-a-Decision-Tree-of-Unbounded-Maximum-Depth) make any mistakes on the training set?\n",
    "\n",
    "Assign\n",
    "\n",
    "* the predicted classification for all cars in the _training data set_ to the variable `y_pred_unbdd_train`, and;\n",
    "* the accuracy of the tree for the _training data set_ to `accuracy_unbdd_train`."
   ]
  },
  {
   "cell_type": "code",
   "execution_count": 70,
   "metadata": {},
   "outputs": [
    {
     "data": {
      "text/plain": [
       "1.0"
      ]
     },
     "execution_count": 70,
     "metadata": {},
     "output_type": "execute_result"
    }
   ],
   "source": [
    "#// BEGIN_TODO [DMM_5c] Training set accuracy for unbounded tree (3 points)\n",
    "\n",
    "y_pred_unbdd_train = dtc_unbdd.predict(X_mpg_dtc_train)\n",
    "accuracy_unbdd_train = dtc_unbdd.score(X_mpg_dtc_train, y_mpg_dtc_train)\n",
    "\n",
    "#// END_TODO [DMM_5c]\n",
    "\n",
    "accuracy_unbdd_train"
   ]
  },
  {
   "cell_type": "markdown",
   "metadata": {},
   "source": [
    "### Exercise 5.d: Assess the Predictive Performance\n",
    "\n",
    "The unbounded depth tree performs well on the training data set. But how good is it for predicting the origin of cars for data it has not seen before? \n",
    "\n",
    "Compute the accuracy of the predictions of the unbounded decision tree on the test set.\n",
    "\n",
    "Assign\n",
    "\n",
    "* the predicted classification for all cars in the _test data set_ to the variable `y_pred_unbdd_test`, and;\n",
    "* the accuracy of the tree for the _test data set_ to `accuracy_unbdd_test`."
   ]
  },
  {
   "cell_type": "code",
   "execution_count": 71,
   "metadata": {},
   "outputs": [
    {
     "data": {
      "text/plain": [
       "0.8"
      ]
     },
     "execution_count": 71,
     "metadata": {},
     "output_type": "execute_result"
    }
   ],
   "source": [
    "#// BEGIN_TODO [DMM_5d] Test set accuracy for unbounded tree (3 points)\n",
    "\n",
    "y_pred_unbdd_test = dtc_unbdd.predict(X_mpg_dtc_test)\n",
    "accuracy_unbdd_test = dtc_unbdd.score(X_mpg_dtc_test, y_mpg_dtc_test)\n",
    "\n",
    "#// END_TODO [DMM_5d]\n",
    "\n",
    "accuracy_unbdd_test"
   ]
  },
  {
   "cell_type": "markdown",
   "metadata": {},
   "source": [
    "### Exercise 5.e: Which Tree is More Appropriate?\n",
    "\n",
    "Which of the trees we have considered in this exercise, and Exercise 2, is more appropriate and why?\n",
    "\n",
    ">a. The unbounded tree, because it makes the least mistakes\n",
    ">\n",
    ">b. The tree of depth 3, because it has a better balance between accuracy and simplicity\n",
    "\n",
    "Assign your answer (string `'a'` or `'b'`) to the variable `more_appropriate_tree`."
   ]
  },
  {
   "cell_type": "code",
   "execution_count": 72,
   "metadata": {},
   "outputs": [
    {
     "data": {
      "text/plain": [
       "'b'"
      ]
     },
     "execution_count": 72,
     "metadata": {},
     "output_type": "execute_result"
    }
   ],
   "source": [
    "#// BEGIN_TODO [DMM_5e] Most appropriate tree? (1 point)\n",
    "\n",
    "more_appropriate_tree = \"b\"\n",
    "\n",
    "#// END_TODO [DMM_5e]\n",
    "\n",
    "more_appropriate_tree"
   ]
  },
  {
   "cell_type": "markdown",
   "metadata": {},
   "source": [
    "# Feedback\n",
    "\n",
    "Please fill in this questionaire to help us improve this course for the next year. Your feedback will be anonymized and will not affect your grade in any way!"
   ]
  },
  {
   "cell_type": "markdown",
   "metadata": {},
   "source": [
    "### How many hours did you spend on these Exercises?\n",
    "\n",
    "Assign a number to `feedback_time`."
   ]
  },
  {
   "cell_type": "code",
   "execution_count": 73,
   "metadata": {},
   "outputs": [
    {
     "ename": "NameError",
     "evalue": "name 'feedback_time' is not defined",
     "output_type": "error",
     "traceback": [
      "\u001b[1;31m---------------------------------------------------------------------------\u001b[0m",
      "\u001b[1;31mNameError\u001b[0m                                 Traceback (most recent call last)",
      "\u001b[1;32m<ipython-input-73-b8cf14d85888>\u001b[0m in \u001b[0;36m<module>\u001b[1;34m\u001b[0m\n\u001b[0;32m      4\u001b[0m \u001b[1;33m\u001b[0m\u001b[0m\n\u001b[0;32m      5\u001b[0m \u001b[1;32mimport\u001b[0m \u001b[0mnumbers\u001b[0m\u001b[1;33m\u001b[0m\u001b[1;33m\u001b[0m\u001b[0m\n\u001b[1;32m----> 6\u001b[1;33m \u001b[1;32massert\u001b[0m \u001b[0misinstance\u001b[0m\u001b[1;33m(\u001b[0m\u001b[0mfeedback_time\u001b[0m\u001b[1;33m,\u001b[0m \u001b[0mnumbers\u001b[0m\u001b[1;33m.\u001b[0m\u001b[0mNumber\u001b[0m\u001b[1;33m)\u001b[0m\u001b[1;33m,\u001b[0m \u001b[1;34m\"Please assign a number to feedback_time\"\u001b[0m\u001b[1;33m\u001b[0m\u001b[1;33m\u001b[0m\u001b[0m\n\u001b[0m\u001b[0;32m      7\u001b[0m \u001b[0mfeedback_time\u001b[0m\u001b[1;33m\u001b[0m\u001b[1;33m\u001b[0m\u001b[0m\n",
      "\u001b[1;31mNameError\u001b[0m: name 'feedback_time' is not defined"
     ]
    }
   ],
   "source": [
    "#// BEGIN_FEEDBACK [Feedback_1] (0 point)\n",
    "\n",
    "#// END_FEEDBACK [Feedback_1] (0 point)\n",
    "\n",
    "import numbers\n",
    "assert isinstance(feedback_time, numbers.Number), \"Please assign a number to feedback_time\"\n",
    "feedback_time"
   ]
  },
  {
   "cell_type": "markdown",
   "metadata": {},
   "source": [
    "### How difficult did you find these Exercises?\n",
    "\n",
    "Assign an integer to `feedback_difficulty`, on a scale 0 - 10, with 0 being very easy, 5 being just right, and 10 being very difficult."
   ]
  },
  {
   "cell_type": "code",
   "execution_count": null,
   "metadata": {},
   "outputs": [],
   "source": [
    "#// BEGIN_FEEDBACK [Feedback_2] (0 point)\n",
    "\n",
    "#// END_FEEDBACK [Feedback_2] (0 point)\n",
    "\n",
    "import numbers\n",
    "assert isinstance(feedback_difficulty, numbers.Number), \"Please assign a number to feedback_difficulty\"\n",
    "feedback_difficulty"
   ]
  },
  {
   "cell_type": "markdown",
   "metadata": {},
   "source": [
    "### (Optional) What did you like?\n",
    "\n",
    "Assign a string to `feedback_like`."
   ]
  },
  {
   "cell_type": "code",
   "execution_count": null,
   "metadata": {},
   "outputs": [],
   "source": [
    "#// BEGIN_FEEDBACK [Feedback_3] (0 point)\n",
    "\n",
    "#// END_FEEDBACK [Feedback_3] (0 point)"
   ]
  },
  {
   "cell_type": "markdown",
   "metadata": {},
   "source": [
    "### (Optional) What can be improved?\n",
    "\n",
    "Assign a string to `feedback_improve`. Please be specific, so that we can act on your feedback. For example, mention the specific exercises and what was unclear."
   ]
  },
  {
   "cell_type": "code",
   "execution_count": null,
   "metadata": {},
   "outputs": [],
   "source": [
    "#// BEGIN_FEEDBACK [Feedback_4] (0 point)\n",
    "\n",
    "#// END_FEEDBACK [Feedback_4] (0 point)"
   ]
  },
  {
   "cell_type": "markdown",
   "metadata": {},
   "source": [
    "\n",
    "\n",
    "\n",
    "## How to Submit Your Work\n",
    "\n",
    "1. **Before submitting**, you must run your notebook by doing **Kernel > Restart & Run All**.  \n",
    "   Make sure that your notebook runs without errors **in linear order**.\n",
    "1. Remember to rename the notebook, replacing `...-template.ipynb` with `...-yourIDnr.ipynb`, where `yourIDnr` is your TU/e identification number.\n",
    "1. Submit the executed notebook with your work\n",
    "   for the appropriate assignment in **Canvas**.\n",
    "1. In the **Momotor** tab in Canvas,\n",
    "  you can select that assignment again to find some feedback on your submitted work.\n",
    "  If there are any problems reported by _Momotor_,\n",
    "  then you need to fix those,\n",
    "  and **resubmit the fixed notebook**.\n",
    "\n",
    "In case of a high workload on our server\n",
    "(because many students submit close to the deadline),\n",
    "it may take longer to receive the feedback.\n",
    "\n",
    "\n"
   ]
  },
  {
   "cell_type": "markdown",
   "metadata": {},
   "source": [
    "---"
   ]
  },
  {
   "cell_type": "code",
   "execution_count": null,
   "metadata": {},
   "outputs": [],
   "source": [
    "# List all defined names\n",
    "%whos"
   ]
  },
  {
   "cell_type": "markdown",
   "metadata": {},
   "source": [
    "---\n",
    "\n",
    "# (End of Notebook) <span class=\"tocSkip\"></span>\n",
    "\n",
    "&copy; 2017-2023 - **TU/e** - Eindhoven University of Technology"
   ]
  }
 ],
 "metadata": {
  "hide_input": false,
  "kernelspec": {
   "display_name": "base",
   "language": "python",
   "name": "python3"
  },
  "language_info": {
   "codemirror_mode": {
    "name": "ipython",
    "version": 3
   },
   "file_extension": ".py",
   "mimetype": "text/x-python",
   "name": "python",
   "nbconvert_exporter": "python",
   "pygments_lexer": "ipython3",
   "version": "3.8.8"
  },
  "toc": {
   "base_numbering": 1,
   "nav_menu": {
    "height": "174px",
    "width": "252px"
   },
   "number_sections": false,
   "sideBar": true,
   "skip_h1_title": false,
   "title_cell": "Table of Contents",
   "title_sidebar": "Contents",
   "toc_cell": true,
   "toc_position": {
    "height": "652px",
    "left": "0px",
    "right": "1041px",
    "top": "107px",
    "width": "294px"
   },
   "toc_section_display": "block",
   "toc_window_display": true
  },
  "vscode": {
   "interpreter": {
    "hash": "7037e1eab089e7f6d22932143c49579c98d860afbaacae027f3a065a79e1591e"
   }
  }
 },
 "nbformat": 4,
 "nbformat_minor": 4
}
