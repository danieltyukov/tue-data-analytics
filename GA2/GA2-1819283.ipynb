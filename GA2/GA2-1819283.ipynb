{
 "cells": [
  {
   "cell_type": "markdown",
   "metadata": {},
   "source": [
    "# Graded Assignment 2 - Air Quality and Weather in the Netherlands"
   ]
  },
  {
   "cell_type": "markdown",
   "metadata": {},
   "source": [
    "\n",
    "# Introduction to This Template Notebook\n",
    "\n",
    "* This is a **personal** notebook.\n",
    "* Make sure you work in a **copy** of `...-template.ipynb`,\n",
    "**renamed** to `...-yourIDnr.ipynb`,\n",
    "where `yourIDnr` is your TU/e identification number.\n",
    "\n",
    "<div class=\"alert alert-danger\" role=\"danger\">\n",
    "<h3>Integrity</h3>\n",
    "<ul>\n",
    "    <li>In this course you must act according to the rules of the TU/e code of scientific conduct.</li>\n",
    "    <li>All the exercises and the graded assignments are to be executed individually and independently.</li>\n",
    "    <li>You must not copy from the Internet, your friends, books... If you represent other people's work as your own, then that constitutes fraud and will be reported to the Examination Committee.</li>\n",
    "    <li>Making your work available to others (complicity) also constitutes fraud.</li>\n",
    "</ul>\n",
    "</div>\n",
    "\n",
    "You are expected to work with Python code in this notebook.\n",
    "\n",
    "The locations where you should write your solutions can be recognized by\n",
    "**marker lines**,\n",
    "which look like this:\n",
    "\n",
    ">`#//`\n",
    ">    `BEGIN_TODO [Label]` `Description` `(n points)`\n",
    ">\n",
    ">`#//`\n",
    ">    `END_TODO [Label]`\n",
    "\n",
    "<div class=\"alert alert-warning\" role=\"alert\">Do NOT modify or delete these marker lines.  Keep them as they are.<br/>\n",
    "NEVER write code <i>outside</i> the marked blocks.\n",
    "Such code cannot be evaluated.\n",
    "</div>\n",
    "\n",
    "Proceed in this notebook as follows:\n",
    "* **Read** the text.\n",
    "* **Fill in** your solutions between `BEGIN_TODO` and `END_TODO` marker lines.\n",
    "* **Run** _all_ code cells (also the ones _without_ your code),\n",
    "    _in linear order_ from the first code cell.\n",
    "\n",
    "**Personalize your notebook**:\n",
    "1. Copy the following three lines of code:\n",
    "\n",
    "  ```python\n",
    "  AUTHOR_NAME = 'Your Full Name'\n",
    "  AUTHOR_ID_NR = '1234567'\n",
    "  AUTHOR_DATE = 'YYYY-MM-DD'\n",
    "  ```\n",
    "1. Paste them between the marker lines in the next code cell.\n",
    "1. Fill in your _full name_, _identification number_, and the current _date_ (i.e. when you first modified this notebook, e.g. '2022-02-06') as strings between the `Author` markers.\n",
    "1. Run the code cell by putting the cursor there and typing **Control-Enter**.\n"
   ]
  },
  {
   "cell_type": "markdown",
   "metadata": {},
   "source": [
    "<div class=\"alert-danger alert\" role=\"alert\">\n",
    "    <b>Important:</b> The use of external libraries, packages, or modules that have not been explicitly imported in the <a href=#Preparation>Preparation</a> part of this assignment is <b>forbidden</b>, with an exception for the final poster task (cf. <a href=#Step-7.-Create-Your-Poster>Step 7. Create Your Poster</a>).\n",
    "</div>"
   ]
  },
  {
   "cell_type": "code",
   "execution_count": null,
   "metadata": {},
   "outputs": [],
   "source": [
    "#// BEGIN_TODO [Author]\n",
    "\n",
    "# ===== =====> Replace this line by your code. <===== ===== #\n",
    "\n",
    "#// END_TODO [Author]"
   ]
  },
  {
   "cell_type": "markdown",
   "metadata": {},
   "source": [
    "---\n",
    "\n",
    "## Table of Contents\n",
    "\n",
    "- [Organizational Matters](#Organizational-Matters)\n",
    "- [Introduction](#Introduction)\n",
    "    - [Problem Statement](#Problem-Statement)\n",
    "    - [Development of a Hypothesis](#Development-of-a-Hypothesis)\n",
    "    - [Personalization of the Assignment](#Personalization-of-the-Assignment)\n",
    "- [Dataset](#Dataset)\n",
    "    - [Database Structure](#Database-Structure)\n",
    "    - [The df_aq and df_weather Data Frames](#The-df_aq-and-df_weather-Data-Frames)\n",
    "- [Preparation](#Preparation)\n",
    "    - [Load the Libraries](#Load-the-Libraries)\n",
    "- [Part 1](#Part-1)\n",
    "    - [Step 1. Hypothesize](#Step-1.-Hypothesize)\n",
    "    - [Step 2. Extract Data](#Step-2.-Extract-Data)\n",
    "    - [Step 3. Air Quality Data Cleaning](#Step-3.-Air-Quality-Data-Cleaning)\n",
    "    - [Step 4. Weather Data Cleaning](#Step-4.-Weather-Data-Cleaning)\n",
    "- [Part 2](#Part-2)\n",
    "    - [Step 5. Rate of Change of Weather Factors](#Step-5.-Rate-of-Change-of-Weather-Factors)\n",
    "    - [Step 6. Hypothesis Test](#Step-6.-Hypothesis-Test)\n",
    "- [Part 4](#Part-4)\n",
    "    - [Step 7. Create Your Poster](#Step-7.-Create-Your-Poster)"
   ]
  },
  {
   "cell_type": "markdown",
   "metadata": {},
   "source": [
    "---\n",
    "\n",
    "## Organizational Matters\n",
    "\n",
    "Welcome to the second graded assignment of the course Data Analytics\n",
    "for Engineers (2IAB0)! This assignment consists of three parts:\n",
    "\n",
    "- **Part 1.** The first part aims at preparing your analysis. First, you will sketch a hypothesis to evaluate and refine along the assignment. Then, you will *extract the data* from the database and will foresee how to *clean it* to perform the required analysis to keep or reject your hypothesis. \n",
    "\n",
    "- **Part 2.** In the second part of the assignment, you will investigate more closely the relationship between weather factors and air quality compounds. In particular, you will refine and test the *hypothesis* you formulated at the beginning of the assignment. \n",
    "\n",
    "- **Part 3.** In the this part of the assignment, you take the lessons that you have learned from the first two parts of the assignment to create a poster on which you report and discuss your findings.\n",
    "\n",
    "> **Note:** You are required to use the template provided on Canvas for the poster.\n",
    "\n",
    "The deadline for the graded assignment, involving both the submission of this notebook and your poster, is **Friday, March 31, 2023, at 21:00**.\n",
    "\n",
    "Your assignment will be graded on three components: \n",
    "1. the work in this notebook, graded by Momotor, \n",
    "1. your poster, and \n",
    "1. the peer review. \n",
    "\n",
    "For the precise assessment criteria, see the [study guide on Canvas](https://canvas.tue.nl/courses/21788/pages/study-guide-2iab0-data-analytics-for-engineers).\n",
    "\n",
    "<div class=\"alert alert-block alert-danger\">\n",
    "<b>Three very important remarks:</b> <br>\n",
    "    \n",
    "1. Ensure that the **visualizations that you include in your poster** are also produced by your notebook and that they follow suggested best practices. **Double-check** if the visualizations are produced correctly on Momotor under the **Running submitted notebook** tab, i.e., make sure that every visualization on your poster can also be seen under that tab.\n",
    "2. Submit your notebook already before the deadline and make sure **Momotor does not give any errors in any tab**.\n",
    "3. **Do not write anything _outside_ marker lines `BEGIN_TODO ... END_TODO`**.\n",
    "</div>"
   ]
  },
  {
   "cell_type": "markdown",
   "metadata": {},
   "source": [
    "---\n",
    "\n",
    "## Introduction\n",
    "\n",
    "In the graded assignments of the course, we investigate how concentrations of certain air compounds are influenced by weather factors.\n",
    "In the previous graded assignment, GA1, we explored the air quality and weather data to define some initial hypotheses. \n",
    "In this graded assignment, we will focus on shaping such hypotheses, testing them, and providing insightful conclusions that correlate the concentrations of an air compound with a subset of weather factors. \n",
    "To do so, we make use of air quality data coming from the Dutch website [luchtmeetnet](https://www.luchtmeetnet.nl/) and [climatologic data](https://www.knmi.nl/nederland-nu/klimatologie/uurgegevens) collected by the Royal Netherlands Meteorological Institute—a.k.a. Koninklijk Nederlands Meteorologisch Instituut (KNMI).\n",
    "For more information about these sources, please consult the Introduction of GA1."
   ]
  },
  {
   "cell_type": "markdown",
   "metadata": {},
   "source": [
    "### Problem Statement\n",
    "How do certain weather factors impact air quality? \n",
    "Is there a correlation between weather factors and air compounds?\n",
    "These and other questions are to be answered by the analysis we will perform on the air quality and weather data sources.\n",
    "Formulating a well-founded hypothesis, testing it, and deriving insightful conclusions from real data is the main goal of this assignment.\n",
    "\n",
    "**Problem:** Is the concentration of a given air compound in a specific location of the Netherlands influenced by a subset of weather factors?"
   ]
  },
  {
   "cell_type": "markdown",
   "metadata": {},
   "source": [
    "### Development of a Hypothesis\n",
    "\n",
    "The work in this assignment will be focused on defining and testing a hypothesis where air quality and weather data are linked. \n",
    "In this assignment, you will be asked to formulate your current hypothesis about the relationship between air quality and weather, test it, and provide insightful conclusions."
   ]
  },
  {
   "cell_type": "markdown",
   "metadata": {},
   "source": [
    "### Personalization of the Assignment\n",
    "This assignment is personalized. \n",
    "You will focus on the measurements of one air compound from one particular air quality station, and of weather data from the nearest weather station. \n",
    "You should have received an **e-mail** at the beginning of GA1 containing:\n",
    "\n",
    "- the **air quality station code**, which you should store in the variable `aq_station_code` (as a string), and;\n",
    "- the names of two **air compounds** measuring air quality. You must choose **only one** of those compounds and store it in the variable `compound` (as a string). You are advised to choose the air compound you found most interesting, e.g. the one with the strongest relation to (a) weather factor(s)."
   ]
  },
  {
   "cell_type": "code",
   "execution_count": null,
   "metadata": {},
   "outputs": [],
   "source": [
    "#// BEGIN_TODO [Personalization]\n",
    "\n",
    "# ===== =====> Replace this line by your code. <===== ===== #\n",
    "\n",
    "#// END_TODO [Personalization]\n",
    "\n",
    "aq_station_code, compound"
   ]
  },
  {
   "cell_type": "markdown",
   "metadata": {
    "tags": []
   },
   "source": [
    "---\n",
    "\n",
    "## Dataset \n",
    "In this assignment, we will continue using the air quality and weather datasets.\n",
    "Hereafter, we describe the main tables of the database that contains both datasets as well as the structure of the data frame you need to generate in Part 1 of the assignment.\n",
    "\n",
    "### Database Structure\n",
    "The database containing the air quality and weather data is an SQLite database that contains five main tables: the `air_quality_stations`, `air_quality_data`, `weather stations`, `weather_data`, and `close_stations` tables.\n",
    "We describe the content of each table below.\n",
    "In particular, we list the table's columns, and for each one of them, we mention its name, type as defined in SQLite, and expected content.\n",
    "For more information about SQLite types please refer to the [official documentation](https://www.sqlite.org/datatype3.html).\n",
    "\n",
    "<br>\n",
    "\n",
    "- **The `air_quality_stations` table:** It contains data about the stations in charge of collecting air quality metrics and their corresponding measures.\n",
    "\n",
    "    | Column | Type | Description |\n",
    "    |--------|------|-------------|\n",
    "    | code | Text | Code of the air quality station. It is the **primary key** of the table. |\n",
    "    | name | Text | Name of the air quality station. |\n",
    "    | latitude  | Real | Latitude at which the air quality station is located. |\n",
    "    | longitude | Real | Longitude at which the air quality station is located. |\n",
    "\n",
    "<br>\n",
    "\n",
    "- **The `air_quality_data` table:** It contains data about the air quality measurements collected at the different air quality stations.\n",
    "\n",
    "    | Column | Type | Description |\n",
    "    |--------|------|-------------|\n",
    "    | id   | Integer | Automatically generated identifier of the measurement. It is the **primary key** of the table. |\n",
    "    | station_code | Text | Code of the air quality station where the measurement was collected. It is a **foreign key** pointing to the `code` column of the `air_quality_stations` table. |\n",
    "    | datetime     | Timestamp | The Amsterdam winter time when the measurement was collected (UTC+1). |\n",
    "    | bc   | Real | Black carbon ($\\mathrm{C}$) concentration in $\\mu \\mathrm{g / m}^3$. |\n",
    "    | co   | Real | Carbon monoxide ($\\mathrm{CO}$) concentration in $\\mu \\mathrm{g / m}^3$. |\n",
    "    | nh_3 | Real | Ammonia ($\\mathrm{NH_3}$) concentration in $\\mu \\mathrm{g / m}^3$. |\n",
    "    | no   | Real | Nitrogen monoxide ($\\mathrm{NO}$) concentration in $\\mu \\mathrm{g / m}^3$. |\n",
    "    | no_2 | Real | Nitrogen dioxide ($\\mathrm{NO_2}$) concentration in $\\mu \\mathrm{g / m}^3$. |\n",
    "    | no_x | Real | Nitrogen oxides ($\\mathrm{NO_x}$) concentration in $\\mu \\mathrm{g / m}^3$. |\n",
    "    | o_3  | Real | Ground-level ozone ($\\mathrm{O_3}$) concentration in $\\mu \\mathrm{g / m}^3$. |\n",
    "    | pm10 | Real | Particle matter 10, i.e., particles less than 10 µm in diameter ($\\mathrm{PM10}$) concentration in $\\mu \\mathrm{g / m}^3$. |\n",
    "    | pm25 | Real | Particle matter, i.e., particles less than 2.5 µm in diameter ($\\mathrm{PM2.5}$) concentration in $\\mu \\mathrm{g / m}^3$. |\n",
    "    | so_2 | Real | Sulfur dioxide ($\\mathrm{SO_2}$) concentration in $\\mu \\mathrm{g / m}^3$. |\n",
    "\n",
    "<br>\n",
    "\n",
    "- **The `weather_stations` table:** It contains data about the stations in charge of collecting weather metrics and their corresponding measures.\n",
    "\n",
    "    | Column | Type | Description |\n",
    "    |--------|------|-------------|\n",
    "    | code | Text | Code of the weather station. It is the **primary key** of the table. |\n",
    "    | name | Text | Name of the weather station. |\n",
    "    | latitude  | Real | Latitude at which the weather station is located. |\n",
    "    | longitude | Real | Longitude at which the weather station is located. |\n",
    "\n",
    "<br>\n",
    "\n",
    "- **The `weather_data` table:** It contains data about the weather measurements collected at the different weather stations.\n",
    "\n",
    "    | Column | Type | Description |\n",
    "    |--------|------|-------------|\n",
    "    | id   | Integer | Automatically generated identifier of the measurement. It is the **primary key** of the table. |\n",
    "    | station_code | Text | Code of the weather station where the measurement was collected. It is a **foreign key** pointing to the `code` column of the `weather_stations` table. |\n",
    "    | datetime | Timestamp | The Amsterdam winter time when the measurement was collected (UTC+1). |\n",
    "    | wind_direction | Integer | Mean wind direction (in degrees) during the 10 minutes preceding the time of observation (360=north, 90=east, 180=south, 270=west, 0=calm 990=variable). |\n",
    "    | wind_speed | Real | Mean wind speed (in m/s) during the 10 minutes preceding the time of observation. |\n",
    "    | wind_gust | Real | Maximum wind gust (in m/s) during the hourly division. |\n",
    "    | temperature | Real | Temperature (in degrees Celsius) at 1.50 m above the ground at the time of observation. | \n",
    "    | sunshine_duration | Real | Sunshine duration (in hours) during the hourly division, calculated from global radiation (-1 for <0.05 hour). |\n",
    "    | global_radiation | Real | Global radiation (in J/cm2) during the hourly division. |\n",
    "    | precipitation | Real | Hourly precipitation amount (in mm) (-1 for <0.05 mm). |\n",
    "    | air_pressure | Real | Air pressure (in hPa) reduced to mean sea level, at the time of observation. |\n",
    "    | visibility | Integer | Horizontal visibility at the time of observation (0=less than 100m, 1=100-200m, 2=200-300m,..., 49=4900-5000m, 50=5-6km, 56=6-7km, 57=7-8km, ..., 79=29-30km, 80=30-35km, 81=35-40km,..., 89=more than 70km). |\n",
    "    | cloud_cover | Real | Cloud cover (in octants), at the time of observation (0=sky completely clear, ..., 4=sky half cloudy, ..., 8=sky completely cloudy, 9=sky invisible). |\n",
    "    | humidity | Real | Relative atmospheric humidity (in percentages) at 1.50 m above the ground at the time of observation. |\n",
    "    | fog | Integer | Fog 0=no occurrence, 1=occurred during the preceding hour and/or at the time of observation. |\n",
    "    | rainfall | Integer | Rainfall 0=no occurrence, 1=occurred during the preceding hour and/or at the time of observation. |\n",
    "    | snow | Integer | Snow 0=no occurrence, 1=occurred during the preceding hour and/or at the time of observation. |\n",
    "    | thunder | Integer | Thunder  0=no occurrence, 1=occurred during the preceding hour and/or at the time of observation. |\n",
    "    | ice_formation | Integer | Ice formation 0=no occurrence, 1=occurred during the preceding hour and/or at the time of observation. |\n",
    "\n",
    "<br>\n",
    "\n",
    "- **The `close_stations` table:** It contains data about the distance in kilometers between an air quality station and its closest weather station.\n",
    "\n",
    "    | Column | Type | Description |\n",
    "    |--------|------|-------------|\n",
    "    | aq_station_code      | Text | Code of the air quality station where the measurement was collected. It is a **foreign key** pointing to the `code` column of the `air_quality_stations` table. |\n",
    "    | weather_station_code | Text | Code of the weather station where the measurement was collected. It is a **foreign key** pointing to the `code` column of the `weather_stations` table. |\n",
    "    | distance | Real | Distance in kilometers between the air quality and weather station. |\n",
    "\n",
    "<br>\n",
    "\n",
    "### The `df_aq` and `df_weather` Data Frames\n",
    "In this assignment, you will be in charge of creating the two main data frames `df_aq` and `df_weather` from the previously described database.\n",
    "These data frames are derived from the intermediary data frames `df_aq_raw` and `df_weather_raw`.\n",
    "The former ones will be later combined into the `df_data` data frame.\n",
    "The `df_aq` data frame is expected to store relevant data about your air compound, while the `df_weather` data frame is expected to contain weather data collected by the closest weather station to your air quality station—as defined in the personalization part of the assignment.\n",
    "In this section, we aim at introducing the initial structure of such data frames by listing the data frames' columns together with their Python types.\n",
    "Notice that this structure might be modified along the assignment.\n",
    "\n",
    "<br>\n",
    "\n",
    "- **The `df_aq` data frame:** It contains the concentration measurement of the chosen air compound in your assigned air quality station. \n",
    "\n",
    "| Column | Type |\n",
    "|--------|------|\n",
    "| datetime | datetime |\n",
    "| `compound` | float |\n",
    "\n",
    "<br>\n",
    "\n",
    "- **The `df_weather` data frame:** It contains the weather data of a subset of weather factors collected from the closest weather station to your air quality station.\n",
    "\n",
    "| Column | Type |\n",
    "|--------|------|\n",
    "| datetime | datetime |\n",
    "| temperature | float |\n",
    "| global_radiation | float |\n",
    "| precipitation | float |\n",
    "| air_pressure | float |\n",
    "| visibility | int |\n",
    "| wind_direction | int |\n",
    "| wind_speed | float |"
   ]
  },
  {
   "cell_type": "markdown",
   "metadata": {},
   "source": [
    "---\n",
    "\n",
    "## Preparation\n",
    "\n",
    "This section introduces the steps and tasks that you need to perform for the assignment.\n",
    "It also includes introductory code to set up your development and data environments.\n",
    "\n",
    "### Load the Libraries\n",
    "\n",
    "We load the necessary libraries."
   ]
  },
  {
   "cell_type": "code",
   "execution_count": null,
   "metadata": {},
   "outputs": [],
   "source": [
    "import numpy as np\n",
    "import pandas as pd\n",
    "\n",
    "import sqlite3                                            # to interact with the database\n",
    "import statsmodels.api as sm\n",
    "from statsmodels.distributions.empirical_distribution import ECDF\n",
    "\n",
    "%matplotlib inline                                 \n",
    "import matplotlib as mpl\n",
    "import matplotlib.pyplot as plt\n",
    "import seaborn as sns                                     # also improves the look of plots\n",
    "sns.set()\n",
    "plt.rcParams['figure.figsize'] = 10, 5                    # default hor./vert. size of plots, in inches\n",
    "plt.rcParams['lines.markeredgewidth'] = 1                 # to fix issue with seaborn box plots; needed after import seaborn\n",
    "\n",
    "from IPython.display import HTML\n",
    "HTML(\"<style>.h,.c{display:none}.t{color:#296eaa}.t:active+.h{display:block;}</style>\")"
   ]
  },
  {
   "cell_type": "markdown",
   "metadata": {},
   "source": [
    "---\n",
    "\n",
    "## Part 1"
   ]
  },
  {
   "cell_type": "markdown",
   "metadata": {
    "tags": []
   },
   "source": [
    "### Step 1. Hypothesize\n",
    "\n",
    "#### Task 1. Sketch a hypothesis\n",
    "\n",
    "We want to investigate whether the concentration of your air compound at your air quality measurement station is different under particular weather conditions. \n",
    "To do so, formulate a hypothesis about the concentration of your compound at your measurement station in relation to **one** weather factor. \n",
    "Choose this weather factor from the following list:\n",
    "- `temperature`,\n",
    "- `global_radiation`,\n",
    "- `precipitation`,\n",
    "- `air_pressure`,\n",
    "- `visibility`, \n",
    "- `wind_direction`, or\n",
    "- `wind_speed`.\n",
    "\n",
    "Your hypothesis must be defined based on your own research and analyses.\n",
    "For instance, you can leverage analyses performed in GA1 to provide a more robust hypothesis.\n",
    "Assign your hypothesis to a variable named `H_draft`.\n",
    "This hypothesis will guide the development of the following task and will be refined later in the assignment."
   ]
  },
  {
   "cell_type": "code",
   "execution_count": null,
   "metadata": {},
   "outputs": [],
   "source": [
    "#// BEGIN_TODO [Hypothesis_Draft] (1 point)\n",
    "\n",
    "# ===== =====> Replace this line by your code. <===== ===== #\n"
   ]
  },
  {
   "cell_type": "code",
   "execution_count": null,
   "metadata": {},
   "outputs": [],
   "source": [
    "#// END_TODO [Hypothesis_Draft]"
   ]
  },
  {
   "cell_type": "markdown",
   "metadata": {
    "tags": []
   },
   "source": [
    "### Step 2. Extract Data\n",
    "\n",
    "#### Task 1. Extract air quality data\n",
    "Extract the concentrations of **only** your chosen air compound at your air quality measurement station from the database. To do so, follow the steps below:\n",
    "1. Connect to the SQLite database `aqw.db` located in the `files` folder. \n",
    "1. Define an SQL query to extract the concentrations of your compound at your air quality station from the `air_quality_data` table. In particular, the query should retrieve the timestamp at which the measurement was taken (`datetime`) and the concentrations of the chosen compound (`compound`). Store such a query in the variable `QUERY_AQ`.\n",
    "1. Use Pandas to run the SQL query on the database and store the data as a data frame in the variable `df_aq_raw`. Keep the names of the columns as they are originally defined in the database, and ensure the `datetime` values are parsed as dates. Ensure the data frame is indexed by the `datetime` column. \n",
    "\n",
    ">**Notes:**\n",
    ">- You can use the `read_sql_query` and its keyword parameter `parse_dates` to read the `datetime` values as dates. The official documentation can be found [here](https://pandas.pydata.org/pandas-docs/stable/reference/api/pandas.read_sql_query.html).\n",
    ">- Dates in the database are set to the Amsterdam winter timezone—that is, UTC+1. No winter-summer time changes are reflected in the database as this might bring inconsistencies when analyzing the data. Thus, there is no need to perform any kind of timezone or UTC conversion."
   ]
  },
  {
   "cell_type": "code",
   "execution_count": null,
   "metadata": {},
   "outputs": [],
   "source": [
    "#// BEGIN_TODO [Extract_AQ] (3 points)\n",
    "\n",
    "# ===== =====> Replace this line by your code. <===== ===== #\n"
   ]
  },
  {
   "cell_type": "code",
   "execution_count": null,
   "metadata": {},
   "outputs": [],
   "source": [
    "#// END_TODO [Extract_AQ]"
   ]
  },
  {
   "cell_type": "markdown",
   "metadata": {},
   "source": [
    "#### Task 2. Extract weather data\n",
    "\n",
    "Extract the relevant weather data from the database. To do so, follow the steps below:\n",
    "1. Reconnect to the SQLite database `aqw.db` located in the `files` folder.\n",
    "1. Write **one** SQL query to extract weather data from the `weather_data` table for the weather station paired with your air quality station in the `close_stations` table. In the `close_stations` table there is only one weather station associated with each air quality station, namely the closest one. Extract **only** the measurements of the following weather factors from the `weather_data` table:\n",
    "    - `temperature`,\n",
    "    - `global_radiation`,\n",
    "    - `precipitation`,\n",
    "    - `air_pressure`,\n",
    "    - `visibility`, \n",
    "    - `wind_direction`, and\n",
    "    - `wind_speed`.\n",
    "\n",
    "    Store the used SQL query as a string in `QUERY_WEATHER`.\n",
    "1. Store the extracted data as a data frame in the `df_weather_raw` variable. Keep the names of the columns as they are originally defined in the database, and ensure the `datetime` values are parsed as dates. Index the data frame by the `datetime` column.\n",
    "\n",
    ">**Notes:**\n",
    ">- To deal with the `datetime` column consider the Step 1 Task 1 **Notes**.\n",
    ">- You can also use one SQL query to extract the weather station paired with your air quality station from the `close_stations` table, and a second separate SQL query to obtain the required weather data from the `weather_data` table. However, you can then obtain at most 3 points for this task."
   ]
  },
  {
   "cell_type": "code",
   "execution_count": null,
   "metadata": {},
   "outputs": [],
   "source": [
    "#// BEGIN_TODO [Extract_Weather] (4 points)\n",
    "\n",
    "# ===== =====> Replace this line by your code. <===== ===== #\n"
   ]
  },
  {
   "cell_type": "code",
   "execution_count": null,
   "metadata": {},
   "outputs": [],
   "source": [
    "#// END_TODO [Extract_Weather]"
   ]
  },
  {
   "cell_type": "markdown",
   "metadata": {},
   "source": [
    "### Step 3. Air Quality Data Cleaning\n",
    "\n",
    "In GA1, the air quality and weather data you used had already been cleaned. \n",
    "However, this time you are in charge of cleaning the data before it can be analyzed. \n",
    "We will start with the cleaning of the air quality data stored in `df_aq_raw`.\n",
    "\n",
    "Before the air quality data gets published on [luchtmeetnet](https://www.luchtmeetnet.nl), it is [validated](https://www.luchtmeetnet.nl/informatie/overige/validatie-data). \n",
    "That means that the data is most likely clean, except there can still be missing or negative values. While the latter is nonsensical, there is a good statistical reason for this, which is explained [here](https://www.luchtmeetnet.nl/informatie/overige/negatieve-waarden) (unfortunately in Dutch only). \n",
    "Therefore, we choose to keep these values."
   ]
  },
  {
   "cell_type": "markdown",
   "metadata": {},
   "source": [
    "#### Task 1. Identify missing data\n",
    "Determine for how many hours (rows) there are missing values for your `compound` in the air quality data (`df_aq_raw`). \n",
    "A missing value is represented in Pandas data frames with the value `NaN` (Not a Number). \n",
    "Store your answer in the variable `nr_aq_missing`."
   ]
  },
  {
   "cell_type": "code",
   "execution_count": null,
   "metadata": {},
   "outputs": [],
   "source": [
    "#// BEGIN_TODO [Clean_AQ_Missing] (2 points)\n",
    "\n",
    "# ===== =====> Replace this line by your code. <===== ===== #\n"
   ]
  },
  {
   "cell_type": "code",
   "execution_count": null,
   "metadata": {},
   "outputs": [],
   "source": [
    "#// END_TODO [Clean_AQ_Missing]"
   ]
  },
  {
   "cell_type": "markdown",
   "metadata": {},
   "source": [
    "#### Task 2. Replace missing data\n",
    "Remove the interior missing values by applying linear interpolation to the air quality data (`df_aq_raw`). \n",
    "Limit the number of consecutive missing values to be filled by 2 (i.e. 2 hours), which means leaving gaps larger than 2 as they are.\n",
    "Store the interpolated data as a single-column data frame in `df_aq` with the name of your air compound. \n",
    "`df_aq_raw` should remain unchanged!\n",
    "\n",
    ">**Note:**\n",
    "Further investigate the `interpolate` method to perform the linear interpolation. To restrict the linear interpolation have a look at the `limit` keyword parameter."
   ]
  },
  {
   "cell_type": "code",
   "execution_count": null,
   "metadata": {},
   "outputs": [],
   "source": [
    "#// BEGIN_TODO [Clean_AQ_Replace] (2 points)\n",
    "\n",
    "# ===== =====> Replace this line by your code. <===== ===== #\n"
   ]
  },
  {
   "cell_type": "code",
   "execution_count": null,
   "metadata": {},
   "outputs": [],
   "source": [
    "#// END_TODO [Clean_AQ_Replace]"
   ]
  },
  {
   "cell_type": "markdown",
   "metadata": {},
   "source": [
    "#### Task 3. Evaluate interpolated data\n",
    "Now that the linear interpolation has been performed, count the number of missing values in the interpolated data in the same way you did in Task 1. \n",
    "Assign the result to `nr_aq_missing_interpolated`. \n",
    "Compute how many missing values were replaced by the interpolation, and store it in the `nr_aq_replaced` variable. \n",
    "Did the interpolation replace the majority of the missing values? \n",
    "For the missing values that remain (if any), why were they not replaced? \n",
    "Store your answers to these questions in the string variable `interpolation_observation`."
   ]
  },
  {
   "cell_type": "code",
   "execution_count": null,
   "metadata": {},
   "outputs": [],
   "source": [
    "#// BEGIN_TODO [Clean_AQ_Eval_Interpolation] (3 points)\n",
    "\n",
    "# ===== =====> Replace this line by your code. <===== ===== #\n"
   ]
  },
  {
   "cell_type": "code",
   "execution_count": null,
   "metadata": {},
   "outputs": [],
   "source": [
    "#// END_TODO [Clean_AQ_Eval_Interpolation]"
   ]
  },
  {
   "cell_type": "markdown",
   "metadata": {},
   "source": [
    "#### Task 4. Remove the remaining missing data\n",
    "\n",
    "If there are still missing values amongst the interpolated data, remove these rows from `df_aq` data frame. \n",
    "Ensure you modify the `df_aq` data frame directly."
   ]
  },
  {
   "cell_type": "code",
   "execution_count": null,
   "metadata": {},
   "outputs": [],
   "source": [
    "#// BEGIN_TODO [Clean_AQ_Finalize] (2 points)\n",
    "\n",
    "# ===== =====> Replace this line by your code. <===== ===== #\n"
   ]
  },
  {
   "cell_type": "code",
   "execution_count": null,
   "metadata": {},
   "outputs": [],
   "source": [
    "#// END_TODO [Clean_AQ_Finalize]"
   ]
  },
  {
   "cell_type": "markdown",
   "metadata": {},
   "source": [
    "### Step 4. Weather Data Cleaning\n",
    "\n",
    "In contrast to the air quality data, the weather data should already be (almost) clean in terms of missing values. Therefore, we investigate whether the values make sense in this step."
   ]
  },
  {
   "cell_type": "markdown",
   "metadata": {},
   "source": [
    "#### Task 1. Analyze weather data\n",
    "Create a data frame `df_weather_summary` that, for every column in `df_weather_raw`, contains **only** the mean, the median, the maximum, and the minimum value of the weather factor of that column. \n",
    "The `df_weather_summary` data frame should be indexed by `min`, `mean`, `median` and `max`.\n",
    "Examine the output by printing the data frame.\n",
    "\n",
    "Do you observe any strange values in `df_weather_summary`? Assign your answer to `weather_summary_observations`.\n",
    "Consult the dataset explanation for the weather data at the start of this notebook to provide meaningful observations. \n",
    "\n",
    "**Note:** You can also create boxplots to observe the distributions of the weather factors and support your observation."
   ]
  },
  {
   "cell_type": "code",
   "execution_count": null,
   "metadata": {},
   "outputs": [],
   "source": [
    "#// BEGIN_TODO [Clean_Weather_Analyze] (2 points)\n",
    "\n",
    "# ===== =====> Replace this line by your code. <===== ===== #\n"
   ]
  },
  {
   "cell_type": "code",
   "execution_count": null,
   "metadata": {},
   "outputs": [],
   "source": [
    "#// END_TODO [Clean_Weather_Analyze]"
   ]
  },
  {
   "cell_type": "markdown",
   "metadata": {},
   "source": [
    "#### Task 2. Replace values\n",
    "\n",
    "As you might have noticed in the previous task, thanks to the official documentation describing the weather data, we know that:\n",
    "1. For the `wind_direction` weather factor, a value of `990` represents a variable or unknown direction.\n",
    "2. The `precipitation` weather factor can have negative reported values.\n",
    "\n",
    "We want to replace these measurements with either zero or `NaN`, depending on the documentation of the weather factor in question. \n",
    "In particular, `990` must be replaced with `NaN` values (`np.nan`) in the `wind_direction` column, and negative numbers must be replaced with zero (`0`) in the `precipitation` column.\n",
    "Do not alter `df_weather_raw` itself, instead, store the cleaned data frame in the `df_weather` variable."
   ]
  },
  {
   "cell_type": "code",
   "execution_count": null,
   "metadata": {},
   "outputs": [],
   "source": [
    "#// BEGIN_TODO [Clean_Weather_Replace] (4 points)\n",
    "\n",
    "# ===== =====> Replace this line by your code. <===== ===== #\n"
   ]
  },
  {
   "cell_type": "code",
   "execution_count": null,
   "metadata": {},
   "outputs": [],
   "source": [
    "#// END_TODO [Clean_Weather_Replace]"
   ]
  },
  {
   "cell_type": "markdown",
   "metadata": {},
   "source": [
    "---\n",
    "\n",
    "## Part 2"
   ]
  },
  {
   "cell_type": "markdown",
   "metadata": {},
   "source": [
    "### Step 5. Rate of Change of Weather Factors\n",
    "Now that the data has been cleaned, we can start performing some analyses on it to understand better the data and refine our hypothesis. \n",
    "In this step, we will examine the rate of change of the weather factors in the `df_weather` data frame. \n",
    "We will do so by using numerical differentiation.\n",
    "\n",
    ">**Note:** Exclusively use `df_weather` and `df_aq` in this step, so **not** the original data."
   ]
  },
  {
   "cell_type": "markdown",
   "metadata": {},
   "source": [
    "#### Task 1. Approximate derivatives\n",
    "For every weather factor in the `df_weather` data frame, compute a numerical approximation of its derivative using the central difference method:\n",
    "    $$p'(t_i) \\approx \\frac{p_{i+1} - p_{i-1}}{t_{i+1} - t_{i-1}},$$\n",
    "where $t_i$ is the time **in hours** of the $i\\text{th}$ measurement and $p_i$ is the value of a weather factor at time $t_i$.\n",
    "\n",
    "You should assume that the time difference between all consecutive rows in the `df_weather` data frame is one hour. \n",
    "Assign the results to columns labeled `d_{weather_factor}` (e.g `d_wind_direction`) in the `df_weather` data frame.\n",
    "\n",
    ">**Hint:**\n",
    "To get the previous or next value of a given row of a `Series` or `DataFrame` object, you can use the `shift` method. \n",
    "Concretely, to get the **next row** value(s) you either use `<column_name>.shift(-1)` to act only on one column or `<dataframe_name>.shift(-1)` to act on the whole data frame, and;\n",
    "to get the **previous row** value(s) you use `<column_name>.shift(1)` or `<dataframe_name>.shift(1)` in the same way as described before."
   ]
  },
  {
   "cell_type": "code",
   "execution_count": null,
   "metadata": {},
   "outputs": [],
   "source": [
    "#// BEGIN_TODO [RoC_Derivatives] (4 points)\n",
    "\n",
    "# ===== =====> Replace this line by your code. <===== ===== #\n"
   ]
  },
  {
   "cell_type": "code",
   "execution_count": null,
   "metadata": {},
   "outputs": [],
   "source": [
    "#// END_TODO [RoC_Derivatives]"
   ]
  },
  {
   "cell_type": "markdown",
   "metadata": {
    "tags": []
   },
   "source": [
    "#### Task 2. Visualize numerical derivatives\n",
    "For the 1st of April 2019 up to and including the 7th of April 2019, plot your air compound concentration and the numerical derivatives of three weather factors of choice.\n",
    "The figure must consist of four stacked (**not** superimposed) line plots sharing the $x$-axis.\n",
    "\n",
    "We have chosen the aforementioned dates for the following reasons:\n",
    "- We only want to consider one week of data to better identify daily patterns.\n",
    "- April is a transitional month when considering seasons, meaning that extreme weather conditions are not to be expected during this month.\n",
    "- 2019 is the most recent year that is not impacted by COVID-19 influence on the behavior of people.\n",
    "\n",
    "Do the numerical derivatives you plotted communicate relevant insights to you? \n",
    "Can you discern any trends or relations between the weather factors? \n",
    "Store your observations as a string in the `derivatives_observations` variable.\n",
    "\n",
    "> **Note:** Don't forget to follow the best practices for visualizations. This applies to **all** visualizations in this notebook. For instance:\n",
    "> - Include a descriptive **title**.\n",
    "> - Add **labels** to the **axes** and include the **units** of the quantities on the axes if applicable.\n",
    "> - Ensure that the plot is **readable** and **understandable** (also for somebody who is color-blind).\n",
    "> - Choose appropriate **ranges** for the plot **axes**.\n",
    "> - Include a **legend**, in particular when combining several plots."
   ]
  },
  {
   "cell_type": "code",
   "execution_count": null,
   "metadata": {},
   "outputs": [],
   "source": [
    "#// BEGIN_TODO [RoC_Visualization] (4 points)\n",
    "\n",
    "# ===== =====> Replace this line by your code. <===== ===== #\n"
   ]
  },
  {
   "cell_type": "code",
   "execution_count": null,
   "metadata": {},
   "outputs": [],
   "source": [
    "#// END_TODO [RoC_Visualization]"
   ]
  },
  {
   "cell_type": "markdown",
   "metadata": {},
   "source": [
    "### Step 6. Hypothesis Test\n",
    "\n",
    "You have previously defined a hypothesis about the relationship between the concentration of your air compound at your air quality measurement station and specific weather factors. \n",
    "After extracting and cleaning the data and performing additional analyses, it is time to to refine this hypothesis so that it can be tested. But first, we create the dataset on which this test will be performed.\n",
    "\n",
    "#### Task 1. Restrict data\n",
    "\n",
    "We will need to be a bit careful however in designing a good test. \n",
    "The hypothesis tests that we have seen in class assume independent data, and with the time series data that we currently have, such an assumption is not justified. \n",
    "One option to make the data a bit more independent is to prune the data first (only consider a subset of the data). \n",
    "(As an alternative to restriction, we could also have used a form of data grouping.)\n",
    "Moreover, there may (or may not) be seasonal effects on your compound concentration.\n",
    "\n",
    "To reduce the influence of such effects (and other confounding factors) on our hypothesis test, we want to restrict the data to a shorter time span.\n",
    "In particular, you have to restrict the data to **only** the measurements recorded in **April or May**—which also happen to be season-transitional months—**at 12:00**. Proceed as follows:\n",
    "1. Create the data frame `df_data_full`, which contains both the cleaned air quality from `df_aq` and the cleaned weather data from `df_weather`. The index of `df_data_full` should be the **intersection** of the indices of `df_aq` and `df_weather`. That is, a datetime should only appear in the index of `df_data_full` if it is present in both `df_aq` and `df_weather`.\n",
    "\n",
    "    >**Note:** the `DataFrame.join` method with keyword `how` might be useful.\n",
    "\n",
    "1. Create a boolean mask called `restriction_mask`, that contains for every datetime in the index of `df_data_full` whether it is 12:00 (in the Europe/Amsterdam winter timezone) of a day from either April or May (both months must be considered).\n",
    "\n",
    "1. Create the data frame `df_data` by applying `restriction_mask` to `df_data_full`. This is the data frame on which you will be performing your hypothesis test."
   ]
  },
  {
   "cell_type": "code",
   "execution_count": null,
   "metadata": {},
   "outputs": [],
   "source": [
    "#// BEGIN_TODO [Hypothesis_Restrict] (3 points)\n",
    "\n",
    "# ===== =====> Replace this line by your code. <===== ===== #\n"
   ]
  },
  {
   "cell_type": "code",
   "execution_count": null,
   "metadata": {},
   "outputs": [],
   "source": [
    "#// END_TODO [Hypothesis_Restrict]"
   ]
  },
  {
   "cell_type": "markdown",
   "metadata": {},
   "source": [
    "#### Task 2. Hypothesize\n",
    "Refine the hypothesis you defined at the beginning of the assignment about the concentration of your compound at your measurement station in relation to **one** weather factor. You can now also formulate the hypothesis based on the derivative of one of the weather factors. For instance, you might suspect that the concentration of your compound is influenced more by the rate of change of a weather factor than by the value of that weather factor.\n",
    "\n",
    "Remember that you should choose the weather factor from the following list (or its derivative):\n",
    "- `temperature`,\n",
    "- `global_radiation`,\n",
    "- `precipitation`\n",
    "- `air_pressure`,\n",
    "- `visibility`,\n",
    "- `wind_direction`, or\n",
    "- `wind_speed`.\n",
    "\n",
    "Store the weather factor or the weather factor derivative (prefixed with `d_` as in Step 5, Task 1) on which you base your hypotheses in `chosen_weather_variable` as a string. \n",
    "\n",
    "Formulate the hypothesis in terms of a null and a one- or two-sided alternative hypothesis in such a way that it can be tested either with a hypothesis test for equality of means or proportions, where the concentration data of your compound is divided into two samples based on a threshold for `chosen_weather_variable` (see next task).\n",
    "\n",
    ">**Example** of null and alternative hypotheses for testing for equality of means based on temperature:  \n",
    ">$H_0$ : The average concentration of `compound` is the same regardless of whether it is hot or cold.  \n",
    ">$H_a$ : The average concentration of `compound` is the higher when it is hot.\n",
    "\n",
    "Store your null hypothesis as a string in the variable `H_0` and store the alternative hypothesis in the variable `H_a`.\n",
    "\n",
    "> **Notes:** \n",
    "> - For inspiration, you can consult some of the visualizations you created in GA1, for instance, the heatmap.\n",
    "> - Only consider the type of hypothesis you have seen in your lectures."
   ]
  },
  {
   "cell_type": "code",
   "execution_count": null,
   "metadata": {},
   "outputs": [],
   "source": [
    "#// BEGIN_TODO [Hypothesis_Final] (1 point)\n",
    "\n",
    "# ===== =====> Replace this line by your code. <===== ===== #\n"
   ]
  },
  {
   "cell_type": "code",
   "execution_count": null,
   "metadata": {},
   "outputs": [],
   "source": [
    "#// END_TODO [Hypothesis_Final]"
   ]
  },
  {
   "cell_type": "markdown",
   "metadata": {},
   "source": [
    "#### Task 3. Discretize weather factors\n",
    "To use the chosen weather factor (derivative) for a hypothesis test, we need to be able to divide the data into two samples based on that variable. We will do this using a threshold value.\n",
    "\n",
    "1. To determine what a good threshold value is, create a kernel density plot of your `chosen_weather_variable` using the restricted data from `df_data`. The threshold should be chosen in such a way that it meaningfully splits the data into two parts.\n",
    "1. Once you have determined a threshold, store it in the variable `weather_threshold`. \n",
    "1. Add a Boolean column called `threshold_exceeded` to `df_data`, indicating for all rows whether `weather_threshold` is (strictly) exceeded by  `chosen_weather_variable`.\n",
    "1. Why did you choose that threshold? Provide the rationale and assign your answer to `weather_threshold_observations`."
   ]
  },
  {
   "cell_type": "code",
   "execution_count": null,
   "metadata": {},
   "outputs": [],
   "source": [
    "#// BEGIN_TODO [Hypothesis_Discretize] (5 points)\n",
    "\n",
    "# ===== =====> Replace this line by your code. <===== ===== #\n"
   ]
  },
  {
   "cell_type": "code",
   "execution_count": null,
   "metadata": {},
   "outputs": [],
   "source": [
    "#// END_TODO [Hypothesis_Discretize]"
   ]
  },
  {
   "cell_type": "markdown",
   "metadata": {},
   "source": [
    "#### Task 4. Test for normality\n",
    "To choose an adequate method to test your hypothesis, you might need to create two normally distributed data samples of your **air compound concentration**, where such samples are created based on the threshold from the previous task. Test whether this is the case using the Anderson-Darling test. To do so, perform the following steps:\n",
    "1. Create two data frames. The first data frame must be named `df_threshold_ex` and must contain all the data for which the threshold chosen in Task 2 has been exceeded. \n",
    "On the contrary, the second data frame must be named `df_threshold_not_ex` and must contain the remainder of the data points. Do not remove any column coming from `df_data` from your data frames.\n",
    "\n",
    "    >**Note:** you can use the column `threshold_exceeded` you created in the previous task to do this.\n",
    "1. Compute the number of data points in each data frame and store their values in `threshold_ex_num` and `threshold_not_ex_num`, respectively.\n",
    "1. Create two separate kernel density plots of your **air compound concentration**, one for each sample (i.e. `df_threshold_ex` and `df_threshold_not_ex`), to visually verify if the data is normally distributed.\n",
    "1. Perform the Anderson-Darling test for both samples of your **air compound concentration**.\n",
    "Provide the $p$-values for both samples and store them in the `p_exceeded` and `p_not_exceeded`, respectively. \n",
    "Note that you may need to drop the `NaN` values first before you can apply this normality test (this can be done with the method `dropna`).\n",
    "1. Compare the computed $p$-values (i.e. `p_exceeded` and `p_not_exceeded`) against a significance level of 0.05 to determine whether or not the two samples are normally distributed, and store the Boolean results in the `exceeded_normal` and `not_exceeded_normal` variables."
   ]
  },
  {
   "cell_type": "code",
   "execution_count": null,
   "metadata": {},
   "outputs": [],
   "source": [
    "#// BEGIN_TODO [Hypothesis_Normality] (5 points)\n",
    "\n",
    "# ===== =====> Replace this line by your code. <===== ===== #\n"
   ]
  },
  {
   "cell_type": "code",
   "execution_count": null,
   "metadata": {},
   "outputs": [],
   "source": [
    "#// END_TODO [Hypothesis_Normality]"
   ]
  },
  {
   "cell_type": "markdown",
   "metadata": {},
   "source": [
    "#### Task 5. Test hypothesis\n",
    "It is time to test your hypothesis using the t-test or the proportions z-test, depending on whether your hypothesis concerns means or proportions.\n",
    "However, do you need the air compound data samples to be normally distributed in order to use this test? \n",
    "Provide your answer as a Boolean in the variable `need_normality` and provide an argumentation as a string in the variable `need_normality_considerations`.\n",
    "\n",
    "Regardless of whether or not you need normality, and whether or not the samples are normal (cf. Task 4), conduct your hypothesis test.\n",
    "Store the $p$-value of your hypothesis test in the variable `p_value`. \n",
    "Provide a confidence interval as a tuple in the variable `conf_int` for the difference in means or proportions of the two samples (which are based on exceeding or not exceeding `weather_threshold`) of your compound.\n",
    "You should use a significance level of 0.05.\n",
    "\n",
    "Finally, discuss your hypothesis test. \n",
    "For instance, to what extent is it reasonable to assume that the measurement data is independently distributed? \n",
    "Store your answer as a string in the variable `hypothesis_test_discussion`."
   ]
  },
  {
   "cell_type": "code",
   "execution_count": null,
   "metadata": {},
   "outputs": [],
   "source": [
    "#// BEGIN_TODO [Hypothesis_Test] (5 points)\n",
    "\n",
    "# ===== =====> Replace this line by your code. <===== ===== #\n"
   ]
  },
  {
   "cell_type": "code",
   "execution_count": null,
   "metadata": {},
   "outputs": [],
   "source": [
    "#// END_TODO [Hypothesis_Test]"
   ]
  },
  {
   "cell_type": "markdown",
   "metadata": {},
   "source": [
    "---\n",
    "\n",
    "## Part 3"
   ]
  },
  {
   "cell_type": "markdown",
   "metadata": {},
   "source": [
    "### Step 7. Create Your Poster\n",
    "Finally, create a poster on which you present and discuss your results. \n",
    "You can find more information on how to create your poster on Canvas. \n",
    "Ensure you include (paraphrased) some of the discussion strings you wrote for this notebook (such as the `reflection` above).\n",
    "We encourage you to use the space below to create extra visualizations and possibly perform extra computations for your poster.\n",
    "For example, you can change the analyzed air quality station to verify if your conclusions hold for other stations in the dataset.\n",
    "(Beware that it might be the case that other stations do not measure your chosen compound.)\n",
    "Ensure you set the `aq_station_code` variable back to the station we provided you for the personalization part of the assignment!\n",
    "\n",
    "<div class=\"alert alert-block alert-danger\">\n",
    "Also, ensure:\n",
    "    <ol>\n",
    "        <li>You include supporting empirical evidence for your hypothesis in your poster.</li>\n",
    "        <li><b>The visualizations that you include in your poster, are also produced by your notebook.</b></li>\n",
    "        <li>Double-check if the visualizations are produced correctly on Momotor under the <b>Running submitted notebook</b> tab.</li>\n",
    "    </ol>\n",
    "</div>\n",
    "\n",
    "> **Note:** You are allowed to import additional libraries for this task, but make sure they do not cause errors in Momotor."
   ]
  },
  {
   "cell_type": "code",
   "execution_count": null,
   "metadata": {},
   "outputs": [],
   "source": [
    "#// BEGIN_TODO [Poster]\n",
    "\n",
    "# ===== =====> Replace this line by your code. <===== ===== #\n"
   ]
  },
  {
   "cell_type": "code",
   "execution_count": null,
   "metadata": {},
   "outputs": [],
   "source": [
    "#// END_TODO [Poster]"
   ]
  },
  {
   "cell_type": "markdown",
   "metadata": {},
   "source": [
    "# Feedback\n",
    "\n",
    "Please fill in this questionaire to help us improve this course for the next year. Your feedback will be anonymized and will not affect your grade in any way!"
   ]
  },
  {
   "cell_type": "markdown",
   "metadata": {},
   "source": [
    "### How many hours did you spend on these Exercises?\n",
    "\n",
    "Assign a number to `feedback_time`."
   ]
  },
  {
   "cell_type": "code",
   "execution_count": null,
   "metadata": {},
   "outputs": [],
   "source": [
    "#// BEGIN_FEEDBACK [Feedback_1] (0 point)\n",
    "\n",
    "#// END_FEEDBACK [Feedback_1] (0 point)\n",
    "\n",
    "import numbers\n",
    "assert isinstance(feedback_time, numbers.Number), \"Please assign a number to feedback_time\"\n",
    "feedback_time"
   ]
  },
  {
   "cell_type": "markdown",
   "metadata": {},
   "source": [
    "### How difficult did you find these Exercises?\n",
    "\n",
    "Assign an integer to `feedback_difficulty`, on a scale 0 - 10, with 0 being very easy, 5 being just right, and 10 being very difficult."
   ]
  },
  {
   "cell_type": "code",
   "execution_count": null,
   "metadata": {},
   "outputs": [],
   "source": [
    "#// BEGIN_FEEDBACK [Feedback_2] (0 point)\n",
    "\n",
    "#// END_FEEDBACK [Feedback_2] (0 point)\n",
    "\n",
    "import numbers\n",
    "assert isinstance(feedback_difficulty, numbers.Number), \"Please assign a number to feedback_difficulty\"\n",
    "feedback_difficulty"
   ]
  },
  {
   "cell_type": "markdown",
   "metadata": {},
   "source": [
    "### (Optional) What did you like?\n",
    "\n",
    "Assign a string to `feedback_like`."
   ]
  },
  {
   "cell_type": "code",
   "execution_count": null,
   "metadata": {},
   "outputs": [],
   "source": [
    "#// BEGIN_FEEDBACK [Feedback_3] (0 point)\n",
    "\n",
    "#// END_FEEDBACK [Feedback_3] (0 point)"
   ]
  },
  {
   "cell_type": "markdown",
   "metadata": {},
   "source": [
    "### (Optional) What can be improved?\n",
    "\n",
    "Assign a string to `feedback_improve`. Please be specific, so that we can act on your feedback. For example, mention the specific exercises and what was unclear."
   ]
  },
  {
   "cell_type": "code",
   "execution_count": null,
   "metadata": {},
   "outputs": [],
   "source": [
    "#// BEGIN_FEEDBACK [Feedback_4] (0 point)\n",
    "\n",
    "#// END_FEEDBACK [Feedback_4] (0 point)"
   ]
  },
  {
   "cell_type": "markdown",
   "metadata": {},
   "source": [
    "\n",
    "\n",
    "\n",
    "## How to Submit Your Work\n",
    "\n",
    "1. **Before submitting**, you must run your notebook by doing **Kernel > Restart & Run All**.  \n",
    "   Make sure that your notebook runs without errors **in linear order**.\n",
    "1. Remember to rename the notebook, replacing `...-template.ipynb` with `...-yourIDnr.ipynb`, where `yourIDnr` is your TU/e identification number.\n",
    "1. Submit the executed notebook with your work\n",
    "   for the appropriate assignment in **Canvas**.\n",
    "1. In the **Momotor** tab in Canvas,\n",
    "  you can select that assignment again to find some feedback on your submitted work.\n",
    "  If there are any problems reported by _Momotor_,\n",
    "  then you need to fix those,\n",
    "  and **resubmit the fixed notebook**.\n",
    "\n",
    "In case of a high workload on our server\n",
    "(because many students submit close to the deadline),\n",
    "it may take longer to receive the feedback.\n",
    "\n",
    "\n"
   ]
  },
  {
   "cell_type": "markdown",
   "metadata": {},
   "source": [
    "---"
   ]
  },
  {
   "cell_type": "code",
   "execution_count": null,
   "metadata": {},
   "outputs": [],
   "source": [
    "# List all defined names\n",
    "%whos"
   ]
  },
  {
   "cell_type": "markdown",
   "metadata": {},
   "source": [
    "---\n",
    "\n",
    "# (End of Notebook) <span class=\"tocSkip\"></span>\n",
    "\n",
    "&copy; 2017-2023 - **TU/e** - Eindhoven University of Technology"
   ]
  }
 ],
 "metadata": {
  "hide_input": false,
  "kernelspec": {
   "display_name": "Python 3",
   "language": "python",
   "name": "python3"
  },
  "language_info": {
   "codemirror_mode": {
    "name": "ipython",
    "version": 3
   },
   "file_extension": ".py",
   "mimetype": "text/x-python",
   "name": "python",
   "nbconvert_exporter": "python",
   "pygments_lexer": "ipython3",
   "version": "3.9.7"
  },
  "toc": {
   "base_numbering": 1,
   "nav_menu": {},
   "number_sections": true,
   "sideBar": true,
   "skip_h1_title": false,
   "title_cell": "Table of Contents",
   "title_sidebar": "Contents",
   "toc_cell": false,
   "toc_position": {},
   "toc_section_display": true,
   "toc_window_display": false
  },
  "vscode": {
   "interpreter": {
    "hash": "60e5673dee0b20898bfa4f3c497959fb0c8d0d39a7f6ea9d7f166a7012267d3f"
   }
  }
 },
 "nbformat": 4,
 "nbformat_minor": 4
}
