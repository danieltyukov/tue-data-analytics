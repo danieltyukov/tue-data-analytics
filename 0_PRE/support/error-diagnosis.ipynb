{
 "cells": [
  {
   "cell_type": "markdown",
   "metadata": {},
   "source": [
    "\n",
    "# Error Reporting and Diagnosis\n",
    "\n",
    "While programming, you will encounter various situations where programs do not work as intended or expected. We say that an **error** occurs.\n",
    "\n",
    "Common causes of errors:\n",
    "\n",
    "* **Typo**: a mistake while typing in the program text.\n",
    "* **Mistaken translation** of your computational idea into a (Python) program,\n",
    "    possibly caused by misunderstanding the programming language.\n",
    "* **Thinko** (look it up!): a mental mistake while understanding or analyzing the problem to be solved.\n",
    "\n",
    "## Errors and Their Reporting in Python\n",
    "\n",
    "Whenever an error is encountered,\n",
    "a so-called **exception is _raised_**.\n",
    "Unless this exception is _caught_ in the code,\n",
    "execution is immediately interrupted,\n",
    "and a so-called **traceback** is generated.\n",
    "This traceback shows you _where_ the error occurred,\n",
    "and _what_ kind of error it is.\n",
    "\n",
    "For error diagnosis, it is useful to enable **verbose error reporting**\n",
    "through the command `%xmode verbose`.\n",
    "In verbose mode, some additional information is shown.\n",
    "Note that this command is _not_ Python code,\n",
    "but a so-called _magic command_ to the **kernel**—that is, to the Python execution engine."
   ]
  },
  {
   "cell_type": "code",
   "execution_count": 1,
   "metadata": {},
   "outputs": [
    {
     "name": "stdout",
     "output_type": "stream",
     "text": [
      "Exception reporting mode: Verbose\n"
     ]
    }
   ],
   "source": [
    "%xmode verbose"
   ]
  },
  {
   "cell_type": "markdown",
   "metadata": {},
   "source": [
    "Here is an example of a syntax error:"
   ]
  },
  {
   "cell_type": "code",
   "execution_count": 2,
   "metadata": {},
   "outputs": [
    {
     "ename": "SyntaxError",
     "evalue": "unmatched ')' (<ipython-input-2-a35077a93b18>, line 1)",
     "output_type": "error",
     "traceback": [
      "\u001b[1;36m  File \u001b[1;32m\"<ipython-input-2-a35077a93b18>\"\u001b[1;36m, line \u001b[1;32m1\u001b[0m\n\u001b[1;33m    )\u001b[0m\n\u001b[1;37m    ^\u001b[0m\n\u001b[1;31mSyntaxError\u001b[0m\u001b[1;31m:\u001b[0m unmatched ')'\n"
     ]
    }
   ],
   "source": [
    ")"
   ]
  },
  {
   "cell_type": "markdown",
   "metadata": {},
   "source": [
    "## Error Diagnosis\n",
    "\n",
    "Error diagnosis is the process of finding the cause that underlies a reported error. You may encounter different types of errors.\n",
    "\n",
    "### Syntax Errors\n",
    "\n",
    "The first thing to understand about error reports in programming\n",
    "is that the location where an error is **detected** does not need to be\n",
    "where the error was **caused**. For example:"
   ]
  },
  {
   "cell_type": "code",
   "execution_count": null,
   "metadata": {},
   "outputs": [],
   "source": [
    "[3 ** 2 +\n",
    " 4 ** 2) ** 0.5"
   ]
  },
  {
   "cell_type": "markdown",
   "metadata": {},
   "source": [
    "The error is reported at the closing parenthesis,\n",
    "but the cause of this **syntax error** is (most likely) the *typo* in the opening parenthesis,\n",
    "which appears one line earlier.\n",
    "\n",
    "So, when you encounter an error and want to fix it,\n",
    "the actual cause doe snot need to be at the location where the error was reported.\n",
    "It could be located *elsewhere* in the program.\n",
    "\n",
    "* For a `SyntaxError`,\n",
    "    elsewhere means at a **preceding location in the code**,\n",
    "    either on the same line, or a preceding line.  \n",
    "    You do know that the cause must be in the *same code cell*\n",
    "    where the error was reported.\n",
    "\n",
    "* For *other errors*, elsewhere means at a **preceding step in the execution**.\n",
    "    \n",
    "    Note that the cause of an error could even be located in *another code cell* that has been executed earlier. If you followed the advice that code cells are executed in linear order, then this means that it can only be located in the same code cell or a code cell that appears _before_ the code cell where the error was reported."
   ]
  },
  {
   "cell_type": "markdown",
   "metadata": {},
   "source": [
    "### Semantic Errors\n",
    "\n",
    "The following assignment statement looks fine."
   ]
  },
  {
   "cell_type": "code",
   "execution_count": null,
   "metadata": {},
   "outputs": [],
   "source": [
    "a, b = 1, 42 - 6 * 7"
   ]
  },
  {
   "cell_type": "markdown",
   "metadata": {},
   "source": [
    "But the following expression gives rise to a **semantic error**:"
   ]
  },
  {
   "cell_type": "code",
   "execution_count": null,
   "metadata": {},
   "outputs": [
    {
     "ename": "ZeroDivisionError",
     "evalue": "division by zero",
     "output_type": "error",
     "traceback": [
      "\u001b[1;31m---------------------------------------------------------------------------\u001b[0m",
      "\u001b[1;31mZeroDivisionError\u001b[0m                         Traceback (most recent call last)",
      "\u001b[1;32m<ipython-input-4-d8e10abd5ab6>\u001b[0m in \u001b[0;36m<module>\u001b[1;34m\u001b[0m\n\u001b[1;32m----> 1\u001b[1;33m \u001b[0ma\u001b[0m \u001b[1;33m/\u001b[0m \u001b[0mb\u001b[0m\u001b[1;33m\u001b[0m\u001b[1;33m\u001b[0m\u001b[0m\n\u001b[0m        \u001b[1;36mglobal\u001b[0m \u001b[0;36ma\u001b[0m \u001b[1;34m= 1\u001b[0m\u001b[1;34m\n        \u001b[0m\u001b[1;36mglobal\u001b[0m \u001b[0;36mb\u001b[0m \u001b[1;34m= 0\u001b[0m\n",
      "\u001b[1;31mZeroDivisionError\u001b[0m: division by zero"
     ]
    }
   ],
   "source": [
    "a / b"
   ]
  },
  {
   "cell_type": "markdown",
   "metadata": {},
   "source": [
    "The expression itself looks fine.\n",
    "The problem is in the combination of the operator and the variable values,\n",
    "defined in an earlier code cell:\n",
    "a number cannot be divided by zero (cf. `ZeroDivsionError`).\n",
    "\n",
    "Another example of a semantic error would be trying to add a string to a number:"
   ]
  },
  {
   "cell_type": "code",
   "execution_count": null,
   "metadata": {},
   "outputs": [],
   "source": [
    "'one thousand' + 1"
   ]
  },
  {
   "cell_type": "markdown",
   "metadata": {},
   "source": [
    "or trying to access a list element by specifying an index outside the list's range:"
   ]
  },
  {
   "cell_type": "code",
   "execution_count": null,
   "metadata": {},
   "outputs": [],
   "source": [
    "u = ['a','b','c','d','e']\n",
    "u[10]"
   ]
  },
  {
   "cell_type": "markdown",
   "metadata": {},
   "source": [
    "Note that when verbose error reporting is enabled,\n",
    "the error report includes the values of variables in the offending line of code."
   ]
  },
  {
   "cell_type": "markdown",
   "metadata": {},
   "source": [
    "### Logical Errors\n",
    "\n",
    "Which of these two program fragments is correct?\n",
    "* `x = a / b`\n",
    "* `x = b / a`\n",
    "\n",
    "This is a tricky question. It depends on what the programmer wants to accomplish. Maybe neither is correct, or both are.\n",
    "\n",
    "Logical errors are not—and generally cannot be—reported automatically. One reason for this is that such errors depend on the purpose of the code.\n",
    "\n",
    "That is why you always need to explain assumptions and desired effects and results (explain them in program comments or text cells).\n",
    "They define what it means for a program to be correct.\n",
    "\n",
    "Furthermore, you should always\n",
    "be suspicious of results computed by programs:\n",
    "\n",
    "* Always ask yourself why you would trust programs and their results.\n",
    "\n",
    "* When you obtain results from a computer program, you should inspect them with a critical eye. Do the results make sense?\n",
    "\n",
    "* Whenever a result deviates from expectation, you might have made **a logical error**.\n",
    "\n",
    "Unfortunately,\n",
    "detecting a logical error by observing a bad result\n",
    "does not give you much of a clue _where_ a mistake could be located in your program."
   ]
  },
  {
   "cell_type": "markdown",
   "metadata": {},
   "source": [
    "## Locating Mistakes\n",
    "\n",
    "When trying to localize the cause of a detected error,\n",
    "there are a couple of things you can do:\n",
    "\n",
    "* Restart the kernel and try again\n",
    "    (**Kernel > Restart & Run All**). Maybe the problem occurred because of bad values in variables, or out-of-order execution of code cells.\n",
    "* Read all the code that was executed, and try to spot a mistake that could have caused the error.\n",
    "* Explain your code to someone else. Even if the other does not understand this, you may yourself have an 'aha' moment.\n",
    "* Comment out parts of the code to identify the part where the problem occurs.\n",
    "* Split the code cell that reported the error, and execute the parts separately. After executing a part, inspect variables to see if their _values_ and _types_ are as expected.\n",
    "* Try the same code with different starting values, and observe for which values the code work and for which it does not.\n",
    "* Ask for assistance from someone else. When asking someone else, make sure your notebook is well organized."
   ]
  },
  {
   "cell_type": "markdown",
   "metadata": {},
   "source": [
    "## Exercises\n",
    "\n",
    "The following exercises are optional, they are there for you to practice. You do not need to submit this notebook to Momotor."
   ]
  },
  {
   "cell_type": "markdown",
   "metadata": {},
   "source": [
    "### Exercise <span class=\"exercise\">1</span>\n",
    "\n",
    "Set *verbose error reporting*,\n",
    "by writing and executing the appropriate **magic command** in the following code cell."
   ]
  },
  {
   "cell_type": "code",
   "execution_count": null,
   "metadata": {},
   "outputs": [
    {
     "name": "stdout",
     "output_type": "stream",
     "text": [
      "Exception reporting mode: Verbose\n"
     ]
    }
   ],
   "source": [
    "#// BEGIN_TODO [ERR_1] Set verbose error reporting\n",
    "\n",
    "%xmode verbose\n",
    "\n",
    "#// END_TODO [ERR_1]"
   ]
  },
  {
   "cell_type": "markdown",
   "metadata": {},
   "source": [
    "### Exercise <span class=\"exercise\">2</span>\n",
    "\n",
    "Let us define a list of persons:"
   ]
  },
  {
   "cell_type": "code",
   "execution_count": null,
   "metadata": {},
   "outputs": [],
   "source": [
    "persons = ['Bob', 'Alice', 'Eve', 'John']"
   ]
  },
  {
   "cell_type": "markdown",
   "metadata": {},
   "source": [
    "We would like to assign to the variable `last_person` the last element in the list `persons`. There is an error in the line `last_person = persons[4]` below. Read the code and (without running it) try to spot the error."
   ]
  },
  {
   "cell_type": "code",
   "execution_count": null,
   "metadata": {},
   "outputs": [],
   "source": [
    "last_person = persons[3]"
   ]
  },
  {
   "cell_type": "markdown",
   "metadata": {},
   "source": [
    "Now fix it (placing the corrected line between the `BEGIN_TODO` and `END_TODO` markers) and run the cell."
   ]
  },
  {
   "cell_type": "code",
   "execution_count": null,
   "metadata": {},
   "outputs": [
    {
     "data": {
      "text/plain": [
       "'John'"
      ]
     },
     "execution_count": 4,
     "metadata": {},
     "output_type": "execute_result"
    }
   ],
   "source": [
    "#// BEGIN_TODO [ERR_2] Fix a syntax error\n",
    "\n",
    "last_person\n",
    "\n",
    "#// END_TODO [ERR_2]"
   ]
  },
  {
   "cell_type": "markdown",
   "metadata": {},
   "source": [
    "---"
   ]
  },
  {
   "cell_type": "code",
   "execution_count": null,
   "metadata": {},
   "outputs": [
    {
     "name": "stdout",
     "output_type": "stream",
     "text": [
      "Variable      Type      Data/Info\n",
      "---------------------------------\n",
      "last_person   str       John\n",
      "os            module    <module 'os' from 'c:\\\\Us<...>\\\\anaconda3\\\\lib\\\\os.py'>\n",
      "persons       list      n=4\n",
      "sys           module    <module 'sys' (built-in)>\n"
     ]
    }
   ],
   "source": [
    "# List all defined names\n",
    "%whos"
   ]
  },
  {
   "cell_type": "markdown",
   "metadata": {},
   "source": [
    "---\n",
    "\n",
    "# (End of Notebook) <span class=\"tocSkip\"></span>\n",
    "\n",
    "&copy; 2017-2023 - **TU/e** - Eindhoven University of Technology"
   ]
  }
 ],
 "metadata": {
  "kernelspec": {
   "display_name": "base",
   "language": "python",
   "name": "python3"
  },
  "language_info": {
   "codemirror_mode": {
    "name": "ipython",
    "version": 3
   },
   "file_extension": ".py",
   "mimetype": "text/x-python",
   "name": "python",
   "nbconvert_exporter": "python",
   "pygments_lexer": "ipython3",
   "version": "3.8.8"
  },
  "toc": {
   "base_numbering": 1,
   "nav_menu": {},
   "number_sections": false,
   "sideBar": true,
   "skip_h1_title": false,
   "title_cell": "Table of Contents",
   "title_sidebar": "Contents",
   "toc_cell": false,
   "toc_position": {},
   "toc_section_display": true,
   "toc_window_display": true
  },
  "vscode": {
   "interpreter": {
    "hash": "7037e1eab089e7f6d22932143c49579c98d860afbaacae027f3a065a79e1591e"
   }
  }
 },
 "nbformat": 4,
 "nbformat_minor": 4
}
